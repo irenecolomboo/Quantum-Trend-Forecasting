{
 "cells": [
  {
   "cell_type": "code",
   "execution_count": 1,
   "id": "a805d373-0ced-4f7f-84cb-e0bdbeeeac5a",
   "metadata": {},
   "outputs": [],
   "source": [
    "import pandas as pd"
   ]
  },
  {
   "cell_type": "code",
   "execution_count": 2,
   "id": "dfe8ad7a-13cc-4eca-a0a9-b5fba058132c",
   "metadata": {},
   "outputs": [],
   "source": [
    "data = pd.read_csv(r\"C:\\Users\\alext\\Desktop\\quantum_research\\data\\cleaned_patents(not_labeled).csv\",\n",
    "                   on_bad_lines='skip')"
   ]
  },
  {
   "cell_type": "code",
   "execution_count": 3,
   "id": "0f16f74a-c470-4405-9cd2-d466ae838b3d",
   "metadata": {},
   "outputs": [
    {
     "data": {
      "text/html": [
       "<div>\n",
       "<style scoped>\n",
       "    .dataframe tbody tr th:only-of-type {\n",
       "        vertical-align: middle;\n",
       "    }\n",
       "\n",
       "    .dataframe tbody tr th {\n",
       "        vertical-align: top;\n",
       "    }\n",
       "\n",
       "    .dataframe thead th {\n",
       "        text-align: right;\n",
       "    }\n",
       "</style>\n",
       "<table border=\"1\" class=\"dataframe\">\n",
       "  <thead>\n",
       "    <tr style=\"text-align: right;\">\n",
       "      <th></th>\n",
       "      <th>#</th>\n",
       "      <th>Publication Year</th>\n",
       "      <th>Title</th>\n",
       "      <th>Abstract</th>\n",
       "      <th>Applicants</th>\n",
       "      <th>Inventors</th>\n",
       "      <th>Country</th>\n",
       "    </tr>\n",
       "  </thead>\n",
       "  <tbody>\n",
       "    <tr>\n",
       "      <th>0</th>\n",
       "      <td>1</td>\n",
       "      <td>2023</td>\n",
       "      <td>QUANTUM COMPUTING PROGRAM, QUANTUM COMPUTING A...</td>\n",
       "      <td>to obtain a solution even when the coefficient...</td>\n",
       "      <td>['NAT UNIV YOKOHAMA']</td>\n",
       "      <td>['ISHIKAWA NAOKI', 'NORIMOTO MASAYA']</td>\n",
       "      <td>Japan</td>\n",
       "    </tr>\n",
       "    <tr>\n",
       "      <th>1</th>\n",
       "      <td>2</td>\n",
       "      <td>2023</td>\n",
       "      <td>QUANTUM CIRCUIT, QUANTUM COMPUTING ELEMENT, QU...</td>\n",
       "      <td>provided are a quantum circuit a quantum compu...</td>\n",
       "      <td>['AIST']</td>\n",
       "      <td>['SAIDA DAISUKE']</td>\n",
       "      <td>Wipo (International - Pct)</td>\n",
       "    </tr>\n",
       "    <tr>\n",
       "      <th>2</th>\n",
       "      <td>3</td>\n",
       "      <td>2024</td>\n",
       "      <td>QUANTUM CIRCUIT, QUANTUM COMPUTING ELEMENT, QU...</td>\n",
       "      <td>provided is a quantum circuit a quantum comput...</td>\n",
       "      <td>['AIST']</td>\n",
       "      <td>['SAIDA DAISUKE']</td>\n",
       "      <td>United States</td>\n",
       "    </tr>\n",
       "    <tr>\n",
       "      <th>3</th>\n",
       "      <td>4</td>\n",
       "      <td>2023</td>\n",
       "      <td>QUANTUM COMPUTING DEVICE, QUANTUM COMPUTING SY...</td>\n",
       "      <td>this quantum computing device in a quantum com...</td>\n",
       "      <td>['NIPPON TELEGRAPH &amp; TELEPHONE']</td>\n",
       "      <td>['MISHCHENKO PETR', 'KUSAGAWA KEITA']</td>\n",
       "      <td>Wipo (International - Pct)</td>\n",
       "    </tr>\n",
       "    <tr>\n",
       "      <th>4</th>\n",
       "      <td>5</td>\n",
       "      <td>2024</td>\n",
       "      <td>QUANTUM COMPUTING SYSTEM, QUANTUM COMPUTING DE...</td>\n",
       "      <td>a quantum computing system according to one as...</td>\n",
       "      <td>['NIPPON TELEGRAPH &amp; TELEPHONE']</td>\n",
       "      <td>['YAMAMOTO KAORU', 'ENDO SUGURU', 'SUZUKI YASU...</td>\n",
       "      <td>Wipo (International - Pct)</td>\n",
       "    </tr>\n",
       "  </tbody>\n",
       "</table>\n",
       "</div>"
      ],
      "text/plain": [
       "   #  Publication Year                                              Title  \\\n",
       "0  1              2023  QUANTUM COMPUTING PROGRAM, QUANTUM COMPUTING A...   \n",
       "1  2              2023  QUANTUM CIRCUIT, QUANTUM COMPUTING ELEMENT, QU...   \n",
       "2  3              2024  QUANTUM CIRCUIT, QUANTUM COMPUTING ELEMENT, QU...   \n",
       "3  4              2023  QUANTUM COMPUTING DEVICE, QUANTUM COMPUTING SY...   \n",
       "4  5              2024  QUANTUM COMPUTING SYSTEM, QUANTUM COMPUTING DE...   \n",
       "\n",
       "                                            Abstract  \\\n",
       "0  to obtain a solution even when the coefficient...   \n",
       "1  provided are a quantum circuit a quantum compu...   \n",
       "2  provided is a quantum circuit a quantum comput...   \n",
       "3  this quantum computing device in a quantum com...   \n",
       "4  a quantum computing system according to one as...   \n",
       "\n",
       "                         Applicants  \\\n",
       "0             ['NAT UNIV YOKOHAMA']   \n",
       "1                          ['AIST']   \n",
       "2                          ['AIST']   \n",
       "3  ['NIPPON TELEGRAPH & TELEPHONE']   \n",
       "4  ['NIPPON TELEGRAPH & TELEPHONE']   \n",
       "\n",
       "                                           Inventors  \\\n",
       "0              ['ISHIKAWA NAOKI', 'NORIMOTO MASAYA']   \n",
       "1                                  ['SAIDA DAISUKE']   \n",
       "2                                  ['SAIDA DAISUKE']   \n",
       "3              ['MISHCHENKO PETR', 'KUSAGAWA KEITA']   \n",
       "4  ['YAMAMOTO KAORU', 'ENDO SUGURU', 'SUZUKI YASU...   \n",
       "\n",
       "                      Country  \n",
       "0                       Japan  \n",
       "1  Wipo (International - Pct)  \n",
       "2               United States  \n",
       "3  Wipo (International - Pct)  \n",
       "4  Wipo (International - Pct)  "
      ]
     },
     "execution_count": 3,
     "metadata": {},
     "output_type": "execute_result"
    }
   ],
   "source": [
    "data.head()"
   ]
  },
  {
   "cell_type": "code",
   "execution_count": 6,
   "id": "8315c14b-994e-429a-af04-c1fef6502c3a",
   "metadata": {},
   "outputs": [],
   "source": [
    "\n",
    "labels = [\n",
    "    \"quantum optimization\",\n",
    "    \"quantum algorithms\",\n",
    "    \"quantum computing theory\",\n",
    "    \"quantum resource theory\",\n",
    "    \"quantum coherence\",\n",
    "    \"quantum control\",\n",
    "    \"quantum security tools\",\n",
    "    \"quantum communication\",\n",
    "    \"quantum cryptography\",\n",
    "    \"quantum sensing\",\n",
    "    \"quantum compilation\",\n",
    "    \"quantum data structures\",\n",
    "    \"quantum signal processing\",\n",
    "    \"quantum distributed computing\",\n",
    "    \"quantum simulation\",\n",
    "    \"quantum error correction\",\n",
    "    \"quantum software tools\",\n",
    "    \"quantum computational complexity\",\n",
    "    \"quantum error mitigation\",\n",
    "    \"quantum state tomography\",\n",
    "    \"quantum computing\",\n",
    "    \"quantum surface codes\",\n",
    "    \"quantum computing applications\",\n",
    "    \"quantum hardware\",\n",
    "    \"quantum thermodynamics\",\n",
    "    \"quantum computing foundations\",\n",
    "    \"quantum image processing\",\n",
    "    \"quantum information theory\",\n",
    "    \"quantum visualization tools\",\n",
    "    \"quantum computing hardware (hybrid)\",\n",
    "    \"quantum machine learning\",\n",
    "    \"quantum workforce development\",\n",
    "    \"quantum computing in ai\",\n",
    "    \"quantum metrology\",\n",
    "    \"quantum noise spectroscopy\",\n",
    "    \"quantum conversion\",\n",
    "    \"quantum logic gates\",\n",
    "    \"quantum reinforcement learning\",\n",
    "    \"quantum fidelity estimation\"\n",
    "]\n"
   ]
  },
  {
   "cell_type": "code",
   "execution_count": 7,
   "id": "9dbec225-26ef-449c-b7ae-6bc25c6352ec",
   "metadata": {},
   "outputs": [],
   "source": [
    "import pandas as pd\n",
    "import requests\n",
    "import json\n",
    "from tqdm import tqdm\n",
    "import time"
   ]
  },
  {
   "cell_type": "code",
   "execution_count": 8,
   "id": "2c5b4552-813b-40fe-8da6-95633d949b64",
   "metadata": {},
   "outputs": [],
   "source": [
    "API_KEY = \"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\"\n",
    "MODEL = \"anthropic/claude-3-haiku\"\n",
    "\n",
    "headers = {\n",
    "    \"Authorization\": f\"Bearer {API_KEY}\",\n",
    "    \"HTTP-Referer\": \"https://openrouter.ai\",\n",
    "    \"Content-Type\": \"application/json\"\n",
    "}"
   ]
  },
  {
   "cell_type": "code",
   "execution_count": 9,
   "id": "a55c00e3-4026-4e15-b7a1-82cabdfccadd",
   "metadata": {},
   "outputs": [],
   "source": [
    "prompt_template = \"\"\"\n",
    "You are an expert in quantum computing.\n",
    "Classify the following paper by choosing **exactly one** label from the list below.\n",
    "Only output the label itself—no punctuation, quotes, or extra text.\n",
    "\n",
    "Available labels:\n",
    "{}\n",
    "\n",
    "Title: {}\n",
    "Abstract: {}\n",
    "\"\"\""
   ]
  },
  {
   "cell_type": "code",
   "execution_count": 13,
   "id": "11ff072c-b134-4e56-ba32-53668af37706",
   "metadata": {},
   "outputs": [],
   "source": [
    "import requests, json, time\n",
    "predicted_labels = []\n",
    "checkpoint_interval = 4000"
   ]
  },
  {
   "cell_type": "code",
   "execution_count": 14,
   "id": "f2b633f8-932a-48e4-9f58-a36c7b8d75e1",
   "metadata": {},
   "outputs": [
    {
     "name": "stderr",
     "output_type": "stream",
     "text": [
      "Classifying:   0%|                                                               | 18/47871 [00:23<16:40:46,  1.25s/it]"
     ]
    },
    {
     "name": "stdout",
     "output_type": "stream",
     "text": [
      "Warning: Unexpected label at index 18: 'quantum computing cloud platform'\n"
     ]
    },
    {
     "name": "stderr",
     "output_type": "stream",
     "text": [
      "Classifying:   0%|                                                               | 56/47871 [01:26<19:13:02,  1.45s/it]"
     ]
    },
    {
     "name": "stdout",
     "output_type": "stream",
     "text": [
      "Warning: Unexpected label at index 56: 'quantum accuracy score'\n"
     ]
    },
    {
     "name": "stderr",
     "output_type": "stream",
     "text": [
      "Classifying:   0%|                                                               | 89/47871 [02:16<19:15:43,  1.45s/it]"
     ]
    },
    {
     "name": "stdout",
     "output_type": "stream",
     "text": [
      "Warning: Unexpected label at index 89: 'quantum monitoring'\n"
     ]
    },
    {
     "name": "stderr",
     "output_type": "stream",
     "text": [
      "Classifying:   1%|▎                                                             | 258/47871 [07:19<14:40:20,  1.11s/it]"
     ]
    },
    {
     "name": "stdout",
     "output_type": "stream",
     "text": [
      "Warning: Unexpected label at index 258: 'quantum computing and artificial intelligence'\n"
     ]
    },
    {
     "name": "stderr",
     "output_type": "stream",
     "text": [
      "Classifying:   1%|▎                                                             | 265/47871 [07:35<22:03:57,  1.67s/it]"
     ]
    },
    {
     "name": "stdout",
     "output_type": "stream",
     "text": [
      "Warning: Unexpected label at index 265: 'quantum fault tolerance'\n"
     ]
    },
    {
     "name": "stderr",
     "output_type": "stream",
     "text": [
      "Classifying:   1%|▍                                                             | 316/47871 [08:58<15:00:00,  1.14s/it]"
     ]
    },
    {
     "name": "stdout",
     "output_type": "stream",
     "text": [
      "Warning: Unexpected label at index 316: 'quantum preprocessing'\n"
     ]
    },
    {
     "name": "stderr",
     "output_type": "stream",
     "text": [
      "Classifying:   1%|▌                                                             | 433/47871 [12:07<14:58:38,  1.14s/it]"
     ]
    },
    {
     "name": "stdout",
     "output_type": "stream",
     "text": [
      "Warning: Unexpected label at index 433: 'quantum computing architecture'\n"
     ]
    },
    {
     "name": "stderr",
     "output_type": "stream",
     "text": [
      "Classifying:   1%|▌                                                             | 475/47871 [13:24<42:16:49,  3.21s/it]"
     ]
    },
    {
     "name": "stdout",
     "output_type": "stream",
     "text": [
      "Warning: Unexpected label at index 475: 'quantum computing (hybrid)'\n"
     ]
    },
    {
     "name": "stderr",
     "output_type": "stream",
     "text": [
      "Classifying:   1%|▌                                                             | 481/47871 [13:33<24:41:01,  1.88s/it]"
     ]
    },
    {
     "name": "stdout",
     "output_type": "stream",
     "text": [
      "Warning: Unexpected label at index 481: 'quantum consensus'\n"
     ]
    },
    {
     "name": "stderr",
     "output_type": "stream",
     "text": [
      "Classifying:   1%|▋                                                             | 502/47871 [14:12<18:50:04,  1.43s/it]"
     ]
    },
    {
     "name": "stdout",
     "output_type": "stream",
     "text": [
      "Warning: Unexpected label at index 502: 'quantum computing (hybrid)'\n"
     ]
    },
    {
     "name": "stderr",
     "output_type": "stream",
     "text": [
      "Classifying:   1%|▋                                                             | 530/47871 [15:03<27:54:21,  2.12s/it]"
     ]
    },
    {
     "name": "stdout",
     "output_type": "stream",
     "text": [
      "Warning: Unexpected label at index 530: 'quantum calibration'\n"
     ]
    },
    {
     "name": "stderr",
     "output_type": "stream",
     "text": [
      "Classifying:   1%|▋                                                             | 534/47871 [15:08<18:00:28,  1.37s/it]"
     ]
    },
    {
     "name": "stdout",
     "output_type": "stream",
     "text": [
      "Warning: Unexpected label at index 534: 'quantum calibration'\n"
     ]
    },
    {
     "name": "stderr",
     "output_type": "stream",
     "text": [
      "Classifying:   1%|▋                                                             | 551/47871 [15:33<18:17:51,  1.39s/it]"
     ]
    },
    {
     "name": "stdout",
     "output_type": "stream",
     "text": [
      "Warning: Unexpected label at index 551: 'quantum computing (hybrid)'\n"
     ]
    },
    {
     "name": "stderr",
     "output_type": "stream",
     "text": [
      "Classifying:   1%|▋                                                             | 557/47871 [15:40<15:55:00,  1.21s/it]"
     ]
    },
    {
     "name": "stdout",
     "output_type": "stream",
     "text": [
      "Warning: Unexpected label at index 557: 'quantum calibration'\n"
     ]
    },
    {
     "name": "stderr",
     "output_type": "stream",
     "text": [
      "Classifying:   1%|▋                                                             | 569/47871 [15:58<13:49:56,  1.05s/it]"
     ]
    },
    {
     "name": "stdout",
     "output_type": "stream",
     "text": [
      "Warning: Unexpected label at index 569: 'quantum calibration'\n"
     ]
    },
    {
     "name": "stderr",
     "output_type": "stream",
     "text": [
      "Classifying:   1%|▊                                                             | 625/47871 [17:38<26:07:23,  1.99s/it]"
     ]
    },
    {
     "name": "stdout",
     "output_type": "stream",
     "text": [
      "Warning: Unexpected label at index 625: 'quantum resources theory'\n"
     ]
    },
    {
     "name": "stderr",
     "output_type": "stream",
     "text": [
      "Classifying:   1%|▊                                                             | 654/47871 [18:26<22:33:23,  1.72s/it]"
     ]
    },
    {
     "name": "stdout",
     "output_type": "stream",
     "text": [
      "Warning: Unexpected label at index 654: 'quantum sampling'\n"
     ]
    },
    {
     "name": "stderr",
     "output_type": "stream",
     "text": [
      "Classifying:   1%|▊                                                             | 663/47871 [18:37<15:17:40,  1.17s/it]"
     ]
    },
    {
     "name": "stdout",
     "output_type": "stream",
     "text": [
      "Warning: Unexpected label at index 663: 'quantum computing simulation'\n"
     ]
    },
    {
     "name": "stderr",
     "output_type": "stream",
     "text": [
      "Classifying:   1%|▉                                                             | 698/47871 [19:23<15:05:06,  1.15s/it]"
     ]
    },
    {
     "name": "stdout",
     "output_type": "stream",
     "text": [
      "Warning: Unexpected label at index 698: 'quantum gradient operation'\n"
     ]
    },
    {
     "name": "stderr",
     "output_type": "stream",
     "text": [
      "Classifying:   1%|▉                                                             | 707/47871 [19:38<19:31:07,  1.49s/it]"
     ]
    },
    {
     "name": "stdout",
     "output_type": "stream",
     "text": [
      "Warning: Unexpected label at index 707: 'quantum gradient operation'\n"
     ]
    },
    {
     "name": "stderr",
     "output_type": "stream",
     "text": [
      "Classifying:   2%|▉                                                             | 719/47871 [19:56<19:24:10,  1.48s/it]"
     ]
    },
    {
     "name": "stdout",
     "output_type": "stream",
     "text": [
      "Warning: Unexpected label at index 719: 'quantum gradient operation'\n"
     ]
    },
    {
     "name": "stderr",
     "output_type": "stream",
     "text": [
      "Classifying:   2%|█▏                                                            | 875/47871 [23:54<20:58:58,  1.61s/it]"
     ]
    },
    {
     "name": "stdout",
     "output_type": "stream",
     "text": [
      "Warning: Unexpected label at index 875: 'quantum error detection'\n"
     ]
    },
    {
     "name": "stderr",
     "output_type": "stream",
     "text": [
      "Classifying:   2%|█▏                                                            | 964/47871 [26:14<17:25:28,  1.34s/it]"
     ]
    },
    {
     "name": "stdout",
     "output_type": "stream",
     "text": [
      "Warning: Unexpected label at index 964: 'quantum computational chemistry'\n"
     ]
    },
    {
     "name": "stderr",
     "output_type": "stream",
     "text": [
      "Classifying:   2%|█▎                                                           | 1013/47871 [27:41<16:57:31,  1.30s/it]"
     ]
    },
    {
     "name": "stdout",
     "output_type": "stream",
     "text": [
      "Warning: Unexpected label at index 1013: 'quantum computational chemistry'\n"
     ]
    },
    {
     "name": "stderr",
     "output_type": "stream",
     "text": [
      "Classifying:   2%|█▍                                                           | 1117/47871 [30:18<13:08:30,  1.01s/it]"
     ]
    },
    {
     "name": "stdout",
     "output_type": "stream",
     "text": [
      "Warning: Unexpected label at index 1117: 'quantum isolation zones'\n"
     ]
    },
    {
     "name": "stderr",
     "output_type": "stream",
     "text": [
      "Classifying:   2%|█▍                                                           | 1162/47871 [31:22<18:48:48,  1.45s/it]"
     ]
    },
    {
     "name": "stdout",
     "output_type": "stream",
     "text": [
      "Warning: Unexpected label at index 1162: 'quantum computing noise research'\n"
     ]
    },
    {
     "name": "stderr",
     "output_type": "stream",
     "text": [
      "Classifying:   3%|█▌                                                           | 1240/47871 [33:36<25:31:47,  1.97s/it]"
     ]
    },
    {
     "name": "stdout",
     "output_type": "stream",
     "text": [
      "Warning: Unexpected label at index 1240: 'quantum gate calibration'\n"
     ]
    },
    {
     "name": "stderr",
     "output_type": "stream",
     "text": [
      "Classifying:   3%|█▌                                                           | 1249/47871 [33:51<21:40:29,  1.67s/it]"
     ]
    },
    {
     "name": "stdout",
     "output_type": "stream",
     "text": [
      "Warning: Unexpected label at index 1249: 'quantum compression'\n"
     ]
    },
    {
     "name": "stderr",
     "output_type": "stream",
     "text": [
      "Classifying:   3%|█▋                                                           | 1278/47871 [34:42<21:17:07,  1.64s/it]"
     ]
    },
    {
     "name": "stdout",
     "output_type": "stream",
     "text": [
      "Warning: Unexpected label at index 1278: 'quantum sampling'\n"
     ]
    },
    {
     "name": "stderr",
     "output_type": "stream",
     "text": [
      "Classifying:   3%|█▋                                                           | 1306/47871 [35:31<21:26:24,  1.66s/it]"
     ]
    },
    {
     "name": "stdout",
     "output_type": "stream",
     "text": [
      "Warning: Unexpected label at index 1306: 'quantum sampling'\n"
     ]
    },
    {
     "name": "stderr",
     "output_type": "stream",
     "text": [
      "Classifying:   3%|█▋                                                           | 1335/47871 [36:16<17:04:47,  1.32s/it]"
     ]
    },
    {
     "name": "stdout",
     "output_type": "stream",
     "text": [
      "Warning: Unexpected label at index 1335: 'quantum networking'\n"
     ]
    },
    {
     "name": "stderr",
     "output_type": "stream",
     "text": [
      "Classifying:   3%|█▋                                                           | 1339/47871 [36:21<17:12:42,  1.33s/it]"
     ]
    },
    {
     "name": "stdout",
     "output_type": "stream",
     "text": [
      "Warning: Unexpected label at index 1339: 'quantum sampling'\n"
     ]
    },
    {
     "name": "stderr",
     "output_type": "stream",
     "text": [
      "Classifying:   3%|█▋                                                           | 1363/47871 [37:05<41:17:53,  3.20s/it]"
     ]
    },
    {
     "name": "stdout",
     "output_type": "stream",
     "text": [
      "Error at index 1363: 'choices'\n"
     ]
    },
    {
     "name": "stderr",
     "output_type": "stream",
     "text": [
      "Classifying:   3%|█▋                                                           | 1364/47871 [37:11<52:55:06,  4.10s/it]"
     ]
    },
    {
     "name": "stdout",
     "output_type": "stream",
     "text": [
      "Warning: Unexpected label at index 1364: 'quantum secure computation'\n"
     ]
    },
    {
     "name": "stderr",
     "output_type": "stream",
     "text": [
      "Classifying:   3%|█▊                                                           | 1422/47871 [38:48<39:39:19,  3.07s/it]"
     ]
    },
    {
     "name": "stdout",
     "output_type": "stream",
     "text": [
      "Warning: Unexpected label at index 1422: 'quantum circuit optimization'\n"
     ]
    },
    {
     "name": "stderr",
     "output_type": "stream",
     "text": [
      "Classifying:   3%|█▊                                                           | 1464/47871 [39:52<19:28:18,  1.51s/it]"
     ]
    },
    {
     "name": "stdout",
     "output_type": "stream",
     "text": [
      "Warning: Unexpected label at index 1464: 'quantum data synchronization'\n"
     ]
    },
    {
     "name": "stderr",
     "output_type": "stream",
     "text": [
      "Classifying:   3%|█▉                                                           | 1544/47871 [41:59<17:50:15,  1.39s/it]"
     ]
    },
    {
     "name": "stdout",
     "output_type": "stream",
     "text": [
      "Warning: Unexpected label at index 1544: 'quantum measurement'\n"
     ]
    },
    {
     "name": "stderr",
     "output_type": "stream",
     "text": [
      "Classifying:   3%|██                                                           | 1643/47871 [44:31<18:51:11,  1.47s/it]"
     ]
    },
    {
     "name": "stdout",
     "output_type": "stream",
     "text": [
      "Warning: Unexpected label at index 1643: 'quantum compression'\n"
     ]
    },
    {
     "name": "stderr",
     "output_type": "stream",
     "text": [
      "Classifying:   4%|██▏                                                          | 1676/47871 [45:14<15:23:02,  1.20s/it]"
     ]
    },
    {
     "name": "stdout",
     "output_type": "stream",
     "text": [
      "Warning: Unexpected label at index 1676: 'quantum computation'\n"
     ]
    },
    {
     "name": "stderr",
     "output_type": "stream",
     "text": [
      "Classifying:   4%|██▍                                                          | 1927/47871 [52:46<24:02:20,  1.88s/it]"
     ]
    },
    {
     "name": "stdout",
     "output_type": "stream",
     "text": [
      "Warning: Unexpected label at index 1927: 'quantum erasure'\n"
     ]
    },
    {
     "name": "stderr",
     "output_type": "stream",
     "text": [
      "Classifying:   4%|██▌                                                          | 1967/47871 [53:58<24:48:39,  1.95s/it]"
     ]
    },
    {
     "name": "stdout",
     "output_type": "stream",
     "text": [
      "Warning: Unexpected label at index 1967: 'quantum service definitions'\n"
     ]
    },
    {
     "name": "stderr",
     "output_type": "stream",
     "text": [
      "Classifying:   4%|██▌                                                          | 1995/47871 [54:36<16:48:02,  1.32s/it]"
     ]
    },
    {
     "name": "stdout",
     "output_type": "stream",
     "text": [
      "Warning: Unexpected label at index 1995: 'quantum service definitions'\n"
     ]
    },
    {
     "name": "stderr",
     "output_type": "stream",
     "text": [
      "Classifying:   4%|██▌                                                          | 2042/47871 [55:46<17:28:29,  1.37s/it]"
     ]
    },
    {
     "name": "stdout",
     "output_type": "stream",
     "text": [
      "Warning: Unexpected label at index 2042: 'quantum state preparation'\n"
     ]
    },
    {
     "name": "stderr",
     "output_type": "stream",
     "text": [
      "Classifying:   5%|██▊                                                          | 2215/47871 [59:37<18:53:09,  1.49s/it]"
     ]
    },
    {
     "name": "stdout",
     "output_type": "stream",
     "text": [
      "Warning: Unexpected label at index 2215: 'quantum computation'\n"
     ]
    },
    {
     "name": "stderr",
     "output_type": "stream",
     "text": [
      "Classifying:   5%|██▊                                                        | 2239/47871 [1:00:10<17:14:19,  1.36s/it]"
     ]
    },
    {
     "name": "stdout",
     "output_type": "stream",
     "text": [
      "Warning: Unexpected label at index 2239: 'quantum networking'\n"
     ]
    },
    {
     "name": "stderr",
     "output_type": "stream",
     "text": [
      "Classifying:   5%|██▊                                                        | 2240/47871 [1:00:11<17:53:11,  1.41s/it]"
     ]
    },
    {
     "name": "stdout",
     "output_type": "stream",
     "text": [
      "Warning: Unexpected label at index 2240: 'quantum networking'\n"
     ]
    },
    {
     "name": "stderr",
     "output_type": "stream",
     "text": [
      "Classifying:   5%|██▊                                                        | 2299/47871 [1:01:29<15:29:25,  1.22s/it]"
     ]
    },
    {
     "name": "stdout",
     "output_type": "stream",
     "text": [
      "Warning: Unexpected label at index 2299: 'quantum measurement'\n"
     ]
    },
    {
     "name": "stderr",
     "output_type": "stream",
     "text": [
      "Classifying:   5%|██▊                                                        | 2303/47871 [1:01:35<19:38:00,  1.55s/it]"
     ]
    },
    {
     "name": "stdout",
     "output_type": "stream",
     "text": [
      "Warning: Unexpected label at index 2303: 'quantum measurement'\n"
     ]
    },
    {
     "name": "stderr",
     "output_type": "stream",
     "text": [
      "Classifying:   5%|██▉                                                        | 2359/47871 [1:03:04<42:58:13,  3.40s/it]"
     ]
    },
    {
     "name": "stdout",
     "output_type": "stream",
     "text": [
      "Warning: Unexpected label at index 2359: 'quantum networking'\n"
     ]
    },
    {
     "name": "stderr",
     "output_type": "stream",
     "text": [
      "Classifying:   5%|███                                                        | 2508/47871 [1:06:37<17:36:05,  1.40s/it]"
     ]
    },
    {
     "name": "stdout",
     "output_type": "stream",
     "text": [
      "Warning: Unexpected label at index 2508: 'quantum estimation'\n"
     ]
    },
    {
     "name": "stderr",
     "output_type": "stream",
     "text": [
      "Classifying:   5%|███▏                                                       | 2543/47871 [1:07:24<17:00:45,  1.35s/it]"
     ]
    },
    {
     "name": "stdout",
     "output_type": "stream",
     "text": [
      "Warning: Unexpected label at index 2543: 'quantum gates'\n"
     ]
    },
    {
     "name": "stderr",
     "output_type": "stream",
     "text": [
      "Classifying:   5%|███▏                                                       | 2549/47871 [1:07:32<20:44:15,  1.65s/it]"
     ]
    },
    {
     "name": "stdout",
     "output_type": "stream",
     "text": [
      "Warning: Unexpected label at index 2549: 'quantum circuit mapping'\n"
     ]
    },
    {
     "name": "stderr",
     "output_type": "stream",
     "text": [
      "Classifying:   5%|███▏                                                       | 2600/47871 [1:08:43<12:18:32,  1.02it/s]"
     ]
    },
    {
     "name": "stdout",
     "output_type": "stream",
     "text": [
      "Warning: Unexpected label at index 2600: 'quantum dot devices'\n"
     ]
    },
    {
     "name": "stderr",
     "output_type": "stream",
     "text": [
      "Classifying:   5%|███▏                                                       | 2605/47871 [1:08:50<15:24:32,  1.23s/it]"
     ]
    },
    {
     "name": "stdout",
     "output_type": "stream",
     "text": [
      "Warning: Unexpected label at index 2605: 'quantum state preparation'\n"
     ]
    },
    {
     "name": "stderr",
     "output_type": "stream",
     "text": [
      "Classifying:   5%|███▏                                                       | 2608/47871 [1:08:54<16:24:00,  1.30s/it]"
     ]
    },
    {
     "name": "stdout",
     "output_type": "stream",
     "text": [
      "Warning: Unexpected label at index 2608: 'quantum random number generation'\n"
     ]
    },
    {
     "name": "stderr",
     "output_type": "stream",
     "text": [
      "Classifying:   5%|███▏                                                       | 2614/47871 [1:09:01<15:46:03,  1.25s/it]"
     ]
    },
    {
     "name": "stdout",
     "output_type": "stream",
     "text": [
      "Warning: Unexpected label at index 2614: 'quantum computing device'\n"
     ]
    },
    {
     "name": "stderr",
     "output_type": "stream",
     "text": [
      "Classifying:   6%|███▎                                                       | 2664/47871 [1:10:07<15:50:29,  1.26s/it]"
     ]
    },
    {
     "name": "stdout",
     "output_type": "stream",
     "text": [
      "Warning: Unexpected label at index 2664: 'quantum circuits'\n"
     ]
    },
    {
     "name": "stderr",
     "output_type": "stream",
     "text": [
      "Classifying:   6%|███▎                                                       | 2678/47871 [1:10:26<14:30:57,  1.16s/it]"
     ]
    },
    {
     "name": "stdout",
     "output_type": "stream",
     "text": [
      "Warning: Unexpected label at index 2678: 'quantum entanglement detection'\n"
     ]
    },
    {
     "name": "stderr",
     "output_type": "stream",
     "text": [
      "Classifying:   6%|███▎                                                       | 2713/47871 [1:11:23<16:41:19,  1.33s/it]"
     ]
    },
    {
     "name": "stdout",
     "output_type": "stream",
     "text": [
      "Warning: Unexpected label at index 2713: 'quantum measurement'\n"
     ]
    },
    {
     "name": "stderr",
     "output_type": "stream",
     "text": [
      "Classifying:   6%|███▍                                                       | 2792/47871 [1:13:17<15:34:34,  1.24s/it]"
     ]
    },
    {
     "name": "stdout",
     "output_type": "stream",
     "text": [
      "Warning: Unexpected label at index 2792: 'quantum debugging'\n"
     ]
    },
    {
     "name": "stderr",
     "output_type": "stream",
     "text": [
      "Classifying:   6%|███▌                                                       | 2874/47871 [1:15:18<13:55:06,  1.11s/it]"
     ]
    },
    {
     "name": "stdout",
     "output_type": "stream",
     "text": [
      "Warning: Unexpected label at index 2874: 'quantum circuit design assistance'\n"
     ]
    },
    {
     "name": "stderr",
     "output_type": "stream",
     "text": [
      "Classifying:   6%|███▌                                                       | 2877/47871 [1:15:21<13:46:55,  1.10s/it]"
     ]
    },
    {
     "name": "stdout",
     "output_type": "stream",
     "text": [
      "Warning: Unexpected label at index 2877: 'quantum database'\n"
     ]
    },
    {
     "name": "stderr",
     "output_type": "stream",
     "text": [
      "Classifying:   6%|███▌                                                       | 2898/47871 [1:15:47<15:44:34,  1.26s/it]"
     ]
    },
    {
     "name": "stdout",
     "output_type": "stream",
     "text": [
      "Warning: Unexpected label at index 2898: 'quantum networking'\n"
     ]
    },
    {
     "name": "stderr",
     "output_type": "stream",
     "text": [
      "Classifying:   6%|███▌                                                       | 2902/47871 [1:15:52<16:23:41,  1.31s/it]"
     ]
    },
    {
     "name": "stdout",
     "output_type": "stream",
     "text": [
      "Warning: Unexpected label at index 2902: 'quantum file copying'\n"
     ]
    },
    {
     "name": "stderr",
     "output_type": "stream",
     "text": [
      "Classifying:   6%|███▋                                                       | 2969/47871 [1:17:37<12:58:02,  1.04s/it]"
     ]
    },
    {
     "name": "stdout",
     "output_type": "stream",
     "text": [
      "Warning: Unexpected label at index 2969: 'quantum networking'\n"
     ]
    },
    {
     "name": "stderr",
     "output_type": "stream",
     "text": [
      "Classifying:   6%|███▋                                                       | 2987/47871 [1:17:57<16:27:26,  1.32s/it]"
     ]
    },
    {
     "name": "stdout",
     "output_type": "stream",
     "text": [
      "Warning: Unexpected label at index 2987: 'quantum entanglement detection'\n"
     ]
    },
    {
     "name": "stderr",
     "output_type": "stream",
     "text": [
      "Classifying:   6%|███▋                                                       | 2997/47871 [1:18:09<14:20:05,  1.15s/it]"
     ]
    },
    {
     "name": "stdout",
     "output_type": "stream",
     "text": [
      "Warning: Unexpected label at index 2997: 'quantum topology'\n"
     ]
    },
    {
     "name": "stderr",
     "output_type": "stream",
     "text": [
      "Classifying:   6%|███▋                                                       | 3027/47871 [1:18:45<16:02:33,  1.29s/it]"
     ]
    },
    {
     "name": "stdout",
     "output_type": "stream",
     "text": [
      "Warning: Unexpected label at index 3027: 'quantum tomography'\n"
     ]
    },
    {
     "name": "stderr",
     "output_type": "stream",
     "text": [
      "Classifying:   6%|███▊                                                       | 3090/47871 [1:20:17<12:48:38,  1.03s/it]"
     ]
    },
    {
     "name": "stdout",
     "output_type": "stream",
     "text": [
      "Warning: Unexpected label at index 3090: 'quantum dot devices'\n"
     ]
    },
    {
     "name": "stderr",
     "output_type": "stream",
     "text": [
      "Classifying:   7%|███▊                                                       | 3121/47871 [1:20:54<14:36:20,  1.17s/it]"
     ]
    },
    {
     "name": "stdout",
     "output_type": "stream",
     "text": [
      "Warning: Unexpected label at index 3121: 'quantum shadow'\n"
     ]
    },
    {
     "name": "stderr",
     "output_type": "stream",
     "text": [
      "Classifying:   7%|███▊                                                       | 3124/47871 [1:20:57<14:03:54,  1.13s/it]"
     ]
    },
    {
     "name": "stdout",
     "output_type": "stream",
     "text": [
      "Warning: Unexpected label at index 3124: 'quantum chemistry'\n"
     ]
    },
    {
     "name": "stderr",
     "output_type": "stream",
     "text": [
      "Classifying:   7%|███▊                                                       | 3142/47871 [1:21:23<12:32:17,  1.01s/it]"
     ]
    },
    {
     "name": "stdout",
     "output_type": "stream",
     "text": [
      "Warning: Unexpected label at index 3142: 'quantum voting'\n"
     ]
    },
    {
     "name": "stderr",
     "output_type": "stream",
     "text": [
      "Classifying:   7%|███▉                                                       | 3205/47871 [1:22:48<17:19:28,  1.40s/it]"
     ]
    },
    {
     "name": "stdout",
     "output_type": "stream",
     "text": [
      "Warning: Unexpected label at index 3205: 'quantum calibration'\n"
     ]
    },
    {
     "name": "stderr",
     "output_type": "stream",
     "text": [
      "Classifying:   7%|███▉                                                       | 3245/47871 [1:23:36<14:39:29,  1.18s/it]"
     ]
    },
    {
     "name": "stdout",
     "output_type": "stream",
     "text": [
      "Warning: Unexpected label at index 3245: 'quantum attention mechanism'\n"
     ]
    },
    {
     "name": "stderr",
     "output_type": "stream",
     "text": [
      "Classifying:   7%|████                                                       | 3282/47871 [1:24:27<12:15:08,  1.01it/s]"
     ]
    },
    {
     "name": "stdout",
     "output_type": "stream",
     "text": [
      "Warning: Unexpected label at index 3282: 'quantum phase estimation'\n"
     ]
    },
    {
     "name": "stderr",
     "output_type": "stream",
     "text": [
      "Classifying:   7%|████                                                       | 3330/47871 [1:25:30<27:29:16,  2.22s/it]"
     ]
    },
    {
     "name": "stdout",
     "output_type": "stream",
     "text": [
      "Warning: Unexpected label at index 3330: 'quantum entanglement detection'\n"
     ]
    },
    {
     "name": "stderr",
     "output_type": "stream",
     "text": [
      "Classifying:   7%|████▏                                                      | 3429/47871 [1:27:47<13:03:42,  1.06s/it]"
     ]
    },
    {
     "name": "stdout",
     "output_type": "stream",
     "text": [
      "Warning: Unexpected label at index 3429: 'quantum entanglement'\n"
     ]
    },
    {
     "name": "stderr",
     "output_type": "stream",
     "text": [
      "Classifying:   7%|████▏                                                      | 3435/47871 [1:27:55<17:09:52,  1.39s/it]"
     ]
    },
    {
     "name": "stdout",
     "output_type": "stream",
     "text": [
      "Error at index 3435: HTTPSConnectionPool(host='openrouter.ai', port=443): Max retries exceeded with url: /api/v1/chat/completions (Caused by SSLError(SSLEOFError(8, '[SSL: UNEXPECTED_EOF_WHILE_READING] EOF occurred in violation of protocol (_ssl.c:1017)')))\n"
     ]
    },
    {
     "name": "stderr",
     "output_type": "stream",
     "text": [
      "Classifying:   7%|████▎                                                      | 3516/47871 [1:29:48<16:12:55,  1.32s/it]"
     ]
    },
    {
     "name": "stdout",
     "output_type": "stream",
     "text": [
      "Warning: Unexpected label at index 3516: 'quantum compression'\n"
     ]
    },
    {
     "name": "stderr",
     "output_type": "stream",
     "text": [
      "Classifying:   7%|████▎                                                      | 3517/47871 [1:29:49<16:48:36,  1.36s/it]"
     ]
    },
    {
     "name": "stdout",
     "output_type": "stream",
     "text": [
      "Warning: Unexpected label at index 3517: 'quantum random number generation'\n"
     ]
    },
    {
     "name": "stderr",
     "output_type": "stream",
     "text": [
      "Classifying:   7%|████▎                                                      | 3528/47871 [1:30:04<18:31:53,  1.50s/it]"
     ]
    },
    {
     "name": "stdout",
     "output_type": "stream",
     "text": [
      "Warning: Unexpected label at index 3528: 'quantum calibration'\n"
     ]
    },
    {
     "name": "stderr",
     "output_type": "stream",
     "text": [
      "Classifying:   7%|████▍                                                      | 3552/47871 [1:30:31<12:15:38,  1.00it/s]"
     ]
    },
    {
     "name": "stdout",
     "output_type": "stream",
     "text": [
      "Warning: Unexpected label at index 3552: 'quantum compression'\n"
     ]
    },
    {
     "name": "stderr",
     "output_type": "stream",
     "text": [
      "Classifying:   7%|████▍                                                      | 3557/47871 [1:30:37<14:48:24,  1.20s/it]"
     ]
    },
    {
     "name": "stdout",
     "output_type": "stream",
     "text": [
      "Warning: Unexpected label at index 3557: 'quantum version control'\n"
     ]
    },
    {
     "name": "stderr",
     "output_type": "stream",
     "text": [
      "Classifying:   7%|████▍                                                      | 3558/47871 [1:30:38<14:33:56,  1.18s/it]"
     ]
    },
    {
     "name": "stdout",
     "output_type": "stream",
     "text": [
      "Warning: Unexpected label at index 3558: 'quantum memory management'\n"
     ]
    },
    {
     "name": "stderr",
     "output_type": "stream",
     "text": [
      "Classifying:   8%|████▍                                                      | 3617/47871 [1:32:03<13:51:06,  1.13s/it]"
     ]
    },
    {
     "name": "stdout",
     "output_type": "stream",
     "text": [
      "Warning: Unexpected label at index 3617: 'quantum compression'\n"
     ]
    },
    {
     "name": "stderr",
     "output_type": "stream",
     "text": [
      "Classifying:   8%|████▍                                                      | 3640/47871 [1:32:39<13:34:24,  1.10s/it]"
     ]
    },
    {
     "name": "stdout",
     "output_type": "stream",
     "text": [
      "Warning: Unexpected label at index 3640: 'quantum circuit'\n"
     ]
    },
    {
     "name": "stderr",
     "output_type": "stream",
     "text": [
      "Classifying:   8%|████▌                                                      | 3684/47871 [1:33:46<15:34:56,  1.27s/it]"
     ]
    },
    {
     "name": "stdout",
     "output_type": "stream",
     "text": [
      "Warning: Unexpected label at index 3684: 'quantum measurement'\n"
     ]
    },
    {
     "name": "stderr",
     "output_type": "stream",
     "text": [
      "Classifying:   8%|████▌                                                      | 3690/47871 [1:33:53<14:32:28,  1.18s/it]"
     ]
    },
    {
     "name": "stdout",
     "output_type": "stream",
     "text": [
      "Warning: Unexpected label at index 3690: 'quantum reservoir computing'\n"
     ]
    },
    {
     "name": "stderr",
     "output_type": "stream",
     "text": [
      "Classifying:   8%|████▌                                                      | 3699/47871 [1:34:10<17:54:29,  1.46s/it]"
     ]
    },
    {
     "name": "stdout",
     "output_type": "stream",
     "text": [
      "Warning: Unexpected label at index 3698: 'quantum topology'\n"
     ]
    },
    {
     "name": "stderr",
     "output_type": "stream",
     "text": [
      "Classifying:   8%|████▋                                                      | 3826/47871 [1:37:01<16:58:02,  1.39s/it]"
     ]
    },
    {
     "name": "stdout",
     "output_type": "stream",
     "text": [
      "Warning: Unexpected label at index 3826: 'quantum security'\n"
     ]
    },
    {
     "name": "stderr",
     "output_type": "stream",
     "text": [
      "Classifying:   8%|████▋                                                      | 3845/47871 [1:37:29<15:02:51,  1.23s/it]"
     ]
    },
    {
     "name": "stdout",
     "output_type": "stream",
     "text": [
      "Warning: Unexpected label at index 3845: 'quantum gates'\n"
     ]
    },
    {
     "name": "stderr",
     "output_type": "stream",
     "text": [
      "Classifying:   8%|████▊                                                      | 3946/47871 [1:39:46<13:49:12,  1.13s/it]"
     ]
    },
    {
     "name": "stdout",
     "output_type": "stream",
     "text": [
      "Warning: Unexpected label at index 3946: 'quantum applications'\n"
     ]
    },
    {
     "name": "stderr",
     "output_type": "stream",
     "text": [
      "Classifying:   8%|████▉                                                      | 3970/47871 [1:40:28<22:37:20,  1.86s/it]"
     ]
    },
    {
     "name": "stdout",
     "output_type": "stream",
     "text": [
      "Warning: Unexpected label at index 3970: 'quantum topology'\n"
     ]
    },
    {
     "name": "stderr",
     "output_type": "stream",
     "text": [
      "Classifying:   8%|████▉                                                      | 3996/47871 [1:41:13<29:14:15,  2.40s/it]"
     ]
    },
    {
     "name": "stdout",
     "output_type": "stream",
     "text": [
      "Warning: Unexpected label at index 3996: 'quantum state preparation method'\n"
     ]
    },
    {
     "name": "stderr",
     "output_type": "stream",
     "text": [
      "Classifying:   8%|████▉                                                      | 3999/47871 [1:41:17<19:58:37,  1.64s/it]"
     ]
    },
    {
     "name": "stdout",
     "output_type": "stream",
     "text": [
      "→ Saved checkpoint for rows 0–4000\n"
     ]
    },
    {
     "name": "stderr",
     "output_type": "stream",
     "text": [
      "Classifying:   8%|████▉                                                      | 4032/47871 [1:42:01<12:23:31,  1.02s/it]"
     ]
    },
    {
     "name": "stdout",
     "output_type": "stream",
     "text": [
      "Warning: Unexpected label at index 4032: 'quantum circuits'\n"
     ]
    },
    {
     "name": "stderr",
     "output_type": "stream",
     "text": [
      "Classifying:   8%|████▉                                                      | 4043/47871 [1:42:15<13:47:29,  1.13s/it]"
     ]
    },
    {
     "name": "stdout",
     "output_type": "stream",
     "text": [
      "Warning: Unexpected label at index 4043: 'quantum division operation'\n"
     ]
    },
    {
     "name": "stderr",
     "output_type": "stream",
     "text": [
      "Classifying:   9%|█████                                                      | 4102/47871 [1:43:25<29:20:39,  2.41s/it]"
     ]
    },
    {
     "name": "stdout",
     "output_type": "stream",
     "text": [
      "Warning: Unexpected label at index 4102: 'quantum version control'\n"
     ]
    },
    {
     "name": "stderr",
     "output_type": "stream",
     "text": [
      "Classifying:   9%|█████                                                      | 4122/47871 [1:43:56<31:40:20,  2.61s/it]"
     ]
    },
    {
     "name": "stdout",
     "output_type": "stream",
     "text": [
      "Warning: Unexpected label at index 4122: 'quantum amplitude amplification'\n"
     ]
    },
    {
     "name": "stderr",
     "output_type": "stream",
     "text": [
      "Classifying:   9%|█████▏                                                     | 4205/47871 [1:46:05<26:23:06,  2.18s/it]"
     ]
    },
    {
     "name": "stdout",
     "output_type": "stream",
     "text": [
      "Warning: Unexpected label at index 4205: 'quantum entanglement'\n"
     ]
    },
    {
     "name": "stderr",
     "output_type": "stream",
     "text": [
      "Classifying:   9%|█████▏                                                     | 4248/47871 [1:47:06<15:02:40,  1.24s/it]"
     ]
    },
    {
     "name": "stdout",
     "output_type": "stream",
     "text": [
      "Warning: Unexpected label at index 4248: 'quantum storage'\n"
     ]
    },
    {
     "name": "stderr",
     "output_type": "stream",
     "text": [
      "Classifying:   9%|█████▎                                                     | 4341/47871 [1:49:29<16:47:29,  1.39s/it]"
     ]
    },
    {
     "name": "stdout",
     "output_type": "stream",
     "text": [
      "Warning: Unexpected label at index 4341: 'quantum security'\n"
     ]
    },
    {
     "name": "stderr",
     "output_type": "stream",
     "text": [
      "Classifying:   9%|█████▎                                                     | 4357/47871 [1:49:46<13:01:51,  1.08s/it]"
     ]
    },
    {
     "name": "stdout",
     "output_type": "stream",
     "text": [
      "Warning: Unexpected label at index 4357: 'quantum gate calibration'\n"
     ]
    },
    {
     "name": "stderr",
     "output_type": "stream",
     "text": [
      "Classifying:   9%|█████▍                                                     | 4401/47871 [1:50:45<17:44:11,  1.47s/it]"
     ]
    },
    {
     "name": "stdout",
     "output_type": "stream",
     "text": [
      "Warning: Unexpected label at index 4401: 'quantum imaging'\n"
     ]
    },
    {
     "name": "stderr",
     "output_type": "stream",
     "text": [
      "Classifying:   9%|█████▍                                                     | 4430/47871 [1:51:21<13:08:30,  1.09s/it]"
     ]
    },
    {
     "name": "stdout",
     "output_type": "stream",
     "text": [
      "Warning: Unexpected label at index 4430: 'quantum recommendation system'\n"
     ]
    },
    {
     "name": "stderr",
     "output_type": "stream",
     "text": [
      "Classifying:   9%|█████▍                                                     | 4438/47871 [1:51:29<12:08:04,  1.01s/it]"
     ]
    },
    {
     "name": "stdout",
     "output_type": "stream",
     "text": [
      "Warning: Unexpected label at index 4438: 'quantum entanglement entropy'\n"
     ]
    },
    {
     "name": "stderr",
     "output_type": "stream",
     "text": [
      "Classifying:   9%|█████▌                                                     | 4509/47871 [1:52:55<15:18:38,  1.27s/it]"
     ]
    },
    {
     "name": "stdout",
     "output_type": "stream",
     "text": [
      "Warning: Unexpected label at index 4509: 'quantum imaging'\n"
     ]
    },
    {
     "name": "stderr",
     "output_type": "stream",
     "text": [
      "Classifying:   9%|█████▌                                                     | 4519/47871 [1:53:23<29:04:55,  2.42s/it]"
     ]
    },
    {
     "name": "stdout",
     "output_type": "stream",
     "text": [
      "Warning: Unexpected label at index 4519: 'quantum well structure'\n"
     ]
    },
    {
     "name": "stderr",
     "output_type": "stream",
     "text": [
      "Classifying:   9%|█████▌                                                     | 4522/47871 [1:53:26<16:54:09,  1.40s/it]"
     ]
    },
    {
     "name": "stdout",
     "output_type": "stream",
     "text": [
      "Warning: Unexpected label at index 4522: 'quantum compression'\n"
     ]
    },
    {
     "name": "stderr",
     "output_type": "stream",
     "text": [
      "Classifying:   9%|█████▌                                                     | 4536/47871 [1:53:47<12:49:38,  1.07s/it]"
     ]
    },
    {
     "name": "stdout",
     "output_type": "stream",
     "text": [
      "Warning: Unexpected label at index 4536: 'quantum entanglement'\n"
     ]
    },
    {
     "name": "stderr",
     "output_type": "stream",
     "text": [
      "Classifying:  10%|█████▋                                                     | 4590/47871 [1:54:55<17:08:52,  1.43s/it]"
     ]
    },
    {
     "name": "stdout",
     "output_type": "stream",
     "text": [
      "Warning: Unexpected label at index 4590: 'quantum measurement and control'\n"
     ]
    },
    {
     "name": "stderr",
     "output_type": "stream",
     "text": [
      "Classifying:  10%|█████▋                                                     | 4616/47871 [1:55:30<23:02:47,  1.92s/it]"
     ]
    },
    {
     "name": "stdout",
     "output_type": "stream",
     "text": [
      "Warning: Unexpected label at index 4616: 'quantum random number'\n"
     ]
    },
    {
     "name": "stderr",
     "output_type": "stream",
     "text": [
      "Classifying:  10%|█████▋                                                     | 4623/47871 [1:55:39<13:35:07,  1.13s/it]"
     ]
    },
    {
     "name": "stdout",
     "output_type": "stream",
     "text": [
      "Warning: Unexpected label at index 4623: 'quantum random number generation'\n"
     ]
    },
    {
     "name": "stderr",
     "output_type": "stream",
     "text": [
      "Classifying:  10%|█████▋                                                     | 4638/47871 [1:56:03<19:57:35,  1.66s/it]"
     ]
    },
    {
     "name": "stdout",
     "output_type": "stream",
     "text": [
      "Warning: Unexpected label at index 4638: 'quantum circuits'\n"
     ]
    },
    {
     "name": "stderr",
     "output_type": "stream",
     "text": [
      "Classifying:  10%|█████▋                                                     | 4646/47871 [1:56:14<19:49:08,  1.65s/it]"
     ]
    },
    {
     "name": "stdout",
     "output_type": "stream",
     "text": [
      "Warning: Unexpected label at index 4646: 'quantum delegation'\n"
     ]
    },
    {
     "name": "stderr",
     "output_type": "stream",
     "text": [
      "Classifying:  10%|█████▊                                                     | 4673/47871 [1:56:45<13:28:55,  1.12s/it]"
     ]
    },
    {
     "name": "stdout",
     "output_type": "stream",
     "text": [
      "Warning: Unexpected label at index 4673: 'quantum clustering'\n"
     ]
    },
    {
     "name": "stderr",
     "output_type": "stream",
     "text": [
      "Classifying:  10%|█████▊                                                     | 4695/47871 [1:57:11<12:27:05,  1.04s/it]"
     ]
    },
    {
     "name": "stdout",
     "output_type": "stream",
     "text": [
      "Warning: Unexpected label at index 4695: 'quantum collaboration'\n"
     ]
    },
    {
     "name": "stderr",
     "output_type": "stream",
     "text": [
      "Classifying:  10%|██████                                                     | 4895/47871 [2:02:15<37:28:10,  3.14s/it]"
     ]
    },
    {
     "name": "stdout",
     "output_type": "stream",
     "text": [
      "Warning: Unexpected label at index 4895: 'quantum state preparation'\n"
     ]
    },
    {
     "name": "stderr",
     "output_type": "stream",
     "text": [
      "Classifying:  10%|██████▏                                                    | 4983/47871 [2:04:13<16:15:21,  1.36s/it]"
     ]
    },
    {
     "name": "stdout",
     "output_type": "stream",
     "text": [
      "Warning: Unexpected label at index 4983: 'quantum entropy determination'\n"
     ]
    },
    {
     "name": "stderr",
     "output_type": "stream",
     "text": [
      "Classifying:  11%|██████▏                                                    | 5051/47871 [2:05:46<17:24:56,  1.46s/it]"
     ]
    },
    {
     "name": "stdout",
     "output_type": "stream",
     "text": [
      "Warning: Unexpected label at index 5051: 'quantum memory'\n"
     ]
    },
    {
     "name": "stderr",
     "output_type": "stream",
     "text": [
      "Classifying:  11%|██████▏                                                    | 5052/47871 [2:05:47<16:08:47,  1.36s/it]"
     ]
    },
    {
     "name": "stdout",
     "output_type": "stream",
     "text": [
      "Warning: Unexpected label at index 5052: 'quantum circuit synthesis'\n"
     ]
    },
    {
     "name": "stderr",
     "output_type": "stream",
     "text": [
      "Classifying:  11%|██████▎                                                    | 5081/47871 [2:06:29<11:53:05,  1.00it/s]"
     ]
    },
    {
     "name": "stdout",
     "output_type": "stream",
     "text": [
      "Warning: Unexpected label at index 5081: 'quantum cloud computing'\n"
     ]
    },
    {
     "name": "stderr",
     "output_type": "stream",
     "text": [
      "Classifying:  11%|██████▎                                                    | 5086/47871 [2:06:34<11:31:49,  1.03it/s]"
     ]
    },
    {
     "name": "stdout",
     "output_type": "stream",
     "text": [
      "Warning: Unexpected label at index 5086: 'quantum thermal dynamics'\n"
     ]
    },
    {
     "name": "stderr",
     "output_type": "stream",
     "text": [
      "Classifying:  11%|██████▎                                                    | 5126/47871 [2:07:40<15:13:32,  1.28s/it]"
     ]
    },
    {
     "name": "stdout",
     "output_type": "stream",
     "text": [
      "Warning: Unexpected label at index 5126: 'quantum recommendation systems'\n"
     ]
    },
    {
     "name": "stderr",
     "output_type": "stream",
     "text": [
      "Classifying:  11%|██████▎                                                    | 5138/47871 [2:07:55<14:01:40,  1.18s/it]"
     ]
    },
    {
     "name": "stdout",
     "output_type": "stream",
     "text": [
      "Warning: Unexpected label at index 5138: 'quantum state generation'\n"
     ]
    },
    {
     "name": "stderr",
     "output_type": "stream",
     "text": [
      "Classifying:  11%|██████▎                                                    | 5139/47871 [2:07:56<12:48:56,  1.08s/it]"
     ]
    },
    {
     "name": "stdout",
     "output_type": "stream",
     "text": [
      "Warning: Unexpected label at index 5139: 'quantum imaging'\n"
     ]
    },
    {
     "name": "stderr",
     "output_type": "stream",
     "text": [
      "Classifying:  11%|██████▍                                                    | 5177/47871 [2:08:41<12:26:55,  1.05s/it]"
     ]
    },
    {
     "name": "stdout",
     "output_type": "stream",
     "text": [
      "Warning: Unexpected label at index 5177: 'quantum entanglement'\n"
     ]
    },
    {
     "name": "stderr",
     "output_type": "stream",
     "text": [
      "Classifying:  11%|██████▍                                                    | 5182/47871 [2:08:46<13:08:20,  1.11s/it]"
     ]
    },
    {
     "name": "stdout",
     "output_type": "stream",
     "text": [
      "Warning: Unexpected label at index 5182: 'quantum analog-digital interconversion'\n"
     ]
    },
    {
     "name": "stderr",
     "output_type": "stream",
     "text": [
      "Classifying:  11%|██████▍                                                    | 5244/47871 [2:10:13<14:52:06,  1.26s/it]"
     ]
    },
    {
     "name": "stdout",
     "output_type": "stream",
     "text": [
      "Warning: Unexpected label at index 5244: 'quantum entropy determination'\n"
     ]
    },
    {
     "name": "stderr",
     "output_type": "stream",
     "text": [
      "Classifying:  11%|██████▍                                                    | 5257/47871 [2:10:30<18:42:42,  1.58s/it]"
     ]
    },
    {
     "name": "stdout",
     "output_type": "stream",
     "text": [
      "Warning: Unexpected label at index 5257: 'quantum clustering'\n"
     ]
    },
    {
     "name": "stderr",
     "output_type": "stream",
     "text": [
      "Classifying:  11%|██████▍                                                    | 5267/47871 [2:10:40<11:26:07,  1.03it/s]"
     ]
    },
    {
     "name": "stdout",
     "output_type": "stream",
     "text": [
      "Warning: Unexpected label at index 5267: 'quantum phase estimation'\n"
     ]
    },
    {
     "name": "stderr",
     "output_type": "stream",
     "text": [
      "Classifying:  11%|██████▍                                                    | 5269/47871 [2:10:42<12:46:11,  1.08s/it]"
     ]
    },
    {
     "name": "stdout",
     "output_type": "stream",
     "text": [
      "Warning: Unexpected label at index 5269: 'quantum key resource allocation'\n"
     ]
    },
    {
     "name": "stderr",
     "output_type": "stream",
     "text": [
      "Classifying:  11%|██████▌                                                    | 5275/47871 [2:10:51<15:34:38,  1.32s/it]"
     ]
    },
    {
     "name": "stdout",
     "output_type": "stream",
     "text": [
      "Warning: Unexpected label at index 5275: 'quantum clustering'\n"
     ]
    },
    {
     "name": "stderr",
     "output_type": "stream",
     "text": [
      "Classifying:  11%|██████▌                                                    | 5292/47871 [2:11:16<14:54:09,  1.26s/it]"
     ]
    },
    {
     "name": "stdout",
     "output_type": "stream",
     "text": [
      "Warning: Unexpected label at index 5292: 'quantum illumination'\n"
     ]
    },
    {
     "name": "stderr",
     "output_type": "stream",
     "text": [
      "Classifying:  11%|██████▋                                                    | 5428/47871 [2:14:21<13:30:35,  1.15s/it]"
     ]
    },
    {
     "name": "stdout",
     "output_type": "stream",
     "text": [
      "Warning: Unexpected label at index 5428: 'quantum cloud computing'\n"
     ]
    },
    {
     "name": "stderr",
     "output_type": "stream",
     "text": [
      "Classifying:  11%|██████▊                                                    | 5499/47871 [2:16:00<20:33:12,  1.75s/it]"
     ]
    },
    {
     "name": "stdout",
     "output_type": "stream",
     "text": [
      "Warning: Unexpected label at index 5499: 'quantum amplitude amplification'\n"
     ]
    },
    {
     "name": "stderr",
     "output_type": "stream",
     "text": [
      "Classifying:  12%|██████▊                                                    | 5540/47871 [2:17:04<21:52:41,  1.86s/it]"
     ]
    },
    {
     "name": "stdout",
     "output_type": "stream",
     "text": [
      "Warning: Unexpected label at index 5540: 'quantum computing simulation'\n"
     ]
    },
    {
     "name": "stderr",
     "output_type": "stream",
     "text": [
      "Classifying:  12%|██████▉                                                    | 5591/47871 [2:18:05<13:51:55,  1.18s/it]"
     ]
    },
    {
     "name": "stdout",
     "output_type": "stream",
     "text": [
      "Warning: Unexpected label at index 5590: 'quantum circuit design'\n"
     ]
    },
    {
     "name": "stderr",
     "output_type": "stream",
     "text": [
      "Classifying:  12%|██████▉                                                    | 5624/47871 [2:19:02<20:00:17,  1.70s/it]"
     ]
    },
    {
     "name": "stdout",
     "output_type": "stream",
     "text": [
      "Warning: Unexpected label at index 5624: 'quantum random number generation'\n"
     ]
    },
    {
     "name": "stderr",
     "output_type": "stream",
     "text": [
      "Classifying:  12%|██████▉                                                    | 5625/47871 [2:19:02<16:58:14,  1.45s/it]"
     ]
    },
    {
     "name": "stdout",
     "output_type": "stream",
     "text": [
      "Warning: Unexpected label at index 5625: 'quantum random number generation'\n"
     ]
    },
    {
     "name": "stderr",
     "output_type": "stream",
     "text": [
      "Classifying:  12%|██████▉                                                    | 5635/47871 [2:19:14<15:29:58,  1.32s/it]"
     ]
    },
    {
     "name": "stdout",
     "output_type": "stream",
     "text": [
      "Warning: Unexpected label at index 5635: 'quantum recommendation systems'\n"
     ]
    },
    {
     "name": "stderr",
     "output_type": "stream",
     "text": [
      "Classifying:  12%|██████▉                                                    | 5671/47871 [2:20:06<14:31:47,  1.24s/it]"
     ]
    },
    {
     "name": "stdout",
     "output_type": "stream",
     "text": [
      "Warning: Unexpected label at index 5671: 'quantum measurement and control'\n"
     ]
    },
    {
     "name": "stderr",
     "output_type": "stream",
     "text": [
      "Classifying:  12%|███████                                                    | 5691/47871 [2:20:33<13:29:43,  1.15s/it]"
     ]
    },
    {
     "name": "stdout",
     "output_type": "stream",
     "text": [
      "Warning: Unexpected label at index 5691: 'quantum random number generation'\n"
     ]
    },
    {
     "name": "stderr",
     "output_type": "stream",
     "text": [
      "Classifying:  12%|███████                                                    | 5697/47871 [2:20:38<11:05:47,  1.06it/s]"
     ]
    },
    {
     "name": "stdout",
     "output_type": "stream",
     "text": [
      "Warning: Unexpected label at index 5697: 'quantum networks'\n"
     ]
    },
    {
     "name": "stderr",
     "output_type": "stream",
     "text": [
      "Classifying:  12%|███████                                                    | 5712/47871 [2:21:00<16:07:15,  1.38s/it]"
     ]
    },
    {
     "name": "stdout",
     "output_type": "stream",
     "text": [
      "Warning: Unexpected label at index 5712: 'quantum authentication'\n"
     ]
    },
    {
     "name": "stderr",
     "output_type": "stream",
     "text": [
      "Classifying:  12%|███████                                                    | 5742/47871 [2:21:36<11:44:37,  1.00s/it]"
     ]
    },
    {
     "name": "stdout",
     "output_type": "stream",
     "text": [
      "Warning: Unexpected label at index 5742: 'quantum variables implementation'\n"
     ]
    },
    {
     "name": "stderr",
     "output_type": "stream",
     "text": [
      "Classifying:  12%|███████▏                                                   | 5816/47871 [2:23:20<13:15:53,  1.14s/it]"
     ]
    },
    {
     "name": "stdout",
     "output_type": "stream",
     "text": [
      "Warning: Unexpected label at index 5816: 'quantum measurement'\n"
     ]
    },
    {
     "name": "stderr",
     "output_type": "stream",
     "text": [
      "Classifying:  12%|███████▎                                                   | 5973/47871 [2:26:53<15:40:24,  1.35s/it]"
     ]
    },
    {
     "name": "stdout",
     "output_type": "stream",
     "text": [
      "Warning: Unexpected label at index 5973: 'quantum analog-digital interconversion'\n"
     ]
    },
    {
     "name": "stderr",
     "output_type": "stream",
     "text": [
      "Classifying:  13%|███████▌                                                   | 6115/47871 [2:30:12<13:01:44,  1.12s/it]"
     ]
    },
    {
     "name": "stdout",
     "output_type": "stream",
     "text": [
      "Warning: Unexpected label at index 6115: 'quantum random number generator'\n"
     ]
    },
    {
     "name": "stderr",
     "output_type": "stream",
     "text": [
      "Classifying:  13%|███████▌                                                   | 6117/47871 [2:30:15<14:01:01,  1.21s/it]"
     ]
    },
    {
     "name": "stdout",
     "output_type": "stream",
     "text": [
      "Warning: Unexpected label at index 6117: 'quantum random number generation'\n"
     ]
    },
    {
     "name": "stderr",
     "output_type": "stream",
     "text": [
      "Classifying:  13%|███████▌                                                   | 6158/47871 [2:31:12<14:16:33,  1.23s/it]"
     ]
    },
    {
     "name": "stdout",
     "output_type": "stream",
     "text": [
      "Warning: Unexpected label at index 6158: 'quantum clustering'\n"
     ]
    },
    {
     "name": "stderr",
     "output_type": "stream",
     "text": [
      "Classifying:  13%|███████▋                                                   | 6220/47871 [2:32:26<18:43:29,  1.62s/it]"
     ]
    },
    {
     "name": "stdout",
     "output_type": "stream",
     "text": [
      "Warning: Unexpected label at index 6220: 'quantum estimation'\n"
     ]
    },
    {
     "name": "stderr",
     "output_type": "stream",
     "text": [
      "Classifying:  13%|███████▊                                                   | 6320/47871 [2:34:37<20:49:24,  1.80s/it]"
     ]
    },
    {
     "name": "stdout",
     "output_type": "stream",
     "text": [
      "Warning: Unexpected label at index 6320: 'quantum random number generator'\n"
     ]
    },
    {
     "name": "stderr",
     "output_type": "stream",
     "text": [
      "Classifying:  13%|███████▊                                                   | 6372/47871 [2:35:45<14:11:28,  1.23s/it]"
     ]
    },
    {
     "name": "stdout",
     "output_type": "stream",
     "text": [
      "Warning: Unexpected label at index 6372: 'quantum amplitude estimation'\n"
     ]
    },
    {
     "name": "stderr",
     "output_type": "stream",
     "text": [
      "Classifying:  13%|███████▊                                                   | 6383/47871 [2:36:07<29:18:59,  2.54s/it]"
     ]
    },
    {
     "name": "stdout",
     "output_type": "stream",
     "text": [
      "Warning: Unexpected label at index 6383: 'quantum amplitude estimation'\n"
     ]
    },
    {
     "name": "stderr",
     "output_type": "stream",
     "text": [
      "Classifying:  14%|████████▏                                                  | 6671/47871 [2:42:54<23:22:03,  2.04s/it]"
     ]
    },
    {
     "name": "stdout",
     "output_type": "stream",
     "text": [
      "Warning: Unexpected label at index 6671: 'quantum feature map encoding'\n"
     ]
    },
    {
     "name": "stderr",
     "output_type": "stream",
     "text": [
      "Classifying:  14%|████████▎                                                  | 6771/47871 [2:45:03<11:56:04,  1.05s/it]"
     ]
    },
    {
     "name": "stdout",
     "output_type": "stream",
     "text": [
      "Warning: Unexpected label at index 6771: 'quantum memory'\n"
     ]
    },
    {
     "name": "stderr",
     "output_type": "stream",
     "text": [
      "Classifying:  14%|████████▍                                                  | 6796/47871 [2:45:28<11:20:46,  1.01it/s]"
     ]
    },
    {
     "name": "stdout",
     "output_type": "stream",
     "text": [
      "Warning: Unexpected label at index 6796: 'quantum computation'\n"
     ]
    },
    {
     "name": "stderr",
     "output_type": "stream",
     "text": [
      "Classifying:  14%|████████▍                                                  | 6817/47871 [2:46:03<26:51:36,  2.36s/it]"
     ]
    },
    {
     "name": "stdout",
     "output_type": "stream",
     "text": [
      "Warning: Unexpected label at index 6817: 'quantum analog-digital interconversion'\n"
     ]
    },
    {
     "name": "stderr",
     "output_type": "stream",
     "text": [
      "Classifying:  14%|████████▍                                                  | 6819/47871 [2:46:05<20:17:46,  1.78s/it]"
     ]
    },
    {
     "name": "stdout",
     "output_type": "stream",
     "text": [
      "Warning: Unexpected label at index 6819: 'quantum probability distribution'\n"
     ]
    },
    {
     "name": "stderr",
     "output_type": "stream",
     "text": [
      "Classifying:  14%|████████▍                                                  | 6828/47871 [2:46:15<12:08:07,  1.06s/it]"
     ]
    },
    {
     "name": "stdout",
     "output_type": "stream",
     "text": [
      "Warning: Unexpected label at index 6828: 'quantum estimation'\n"
     ]
    },
    {
     "name": "stderr",
     "output_type": "stream",
     "text": [
      "Classifying:  14%|████████▍                                                  | 6830/47871 [2:46:17<11:24:35,  1.00s/it]"
     ]
    },
    {
     "name": "stdout",
     "output_type": "stream",
     "text": [
      "Error at index 6830: HTTPSConnectionPool(host='openrouter.ai', port=443): Max retries exceeded with url: /api/v1/chat/completions (Caused by SSLError(SSLEOFError(8, '[SSL: UNEXPECTED_EOF_WHILE_READING] EOF occurred in violation of protocol (_ssl.c:1017)')))\n"
     ]
    },
    {
     "name": "stderr",
     "output_type": "stream",
     "text": [
      "Classifying:  14%|████████▌                                                  | 6921/47871 [2:48:15<12:38:07,  1.11s/it]"
     ]
    },
    {
     "name": "stdout",
     "output_type": "stream",
     "text": [
      "Warning: Unexpected label at index 6921: 'quantum frequency conversion'\n"
     ]
    },
    {
     "name": "stderr",
     "output_type": "stream",
     "text": [
      "Classifying:  15%|████████▌                                                  | 6953/47871 [2:48:50<11:46:34,  1.04s/it]"
     ]
    },
    {
     "name": "stdout",
     "output_type": "stream",
     "text": [
      "Warning: Unexpected label at index 6953: 'quantum random number generator'\n"
     ]
    },
    {
     "name": "stderr",
     "output_type": "stream",
     "text": [
      "Classifying:  15%|████████▌                                                  | 6957/47871 [2:48:53<10:26:23,  1.09it/s]"
     ]
    },
    {
     "name": "stdout",
     "output_type": "stream",
     "text": [
      "Warning: Unexpected label at index 6957: 'quantum chemistry'\n"
     ]
    },
    {
     "name": "stderr",
     "output_type": "stream",
     "text": [
      "Classifying:  15%|████████▋                                                  | 7054/47871 [2:50:53<14:06:15,  1.24s/it]"
     ]
    },
    {
     "name": "stdout",
     "output_type": "stream",
     "text": [
      "Warning: Unexpected label at index 7054: 'quantum optics'\n"
     ]
    },
    {
     "name": "stderr",
     "output_type": "stream",
     "text": [
      "Classifying:  15%|████████▋                                                  | 7085/47871 [2:51:32<14:27:30,  1.28s/it]"
     ]
    },
    {
     "name": "stdout",
     "output_type": "stream",
     "text": [
      "Warning: Unexpected label at index 7085: 'quantum nondemolition measurement'\n"
     ]
    },
    {
     "name": "stderr",
     "output_type": "stream",
     "text": [
      "Classifying:  15%|████████▊                                                  | 7119/47871 [2:52:31<16:04:47,  1.42s/it]"
     ]
    },
    {
     "name": "stdout",
     "output_type": "stream",
     "text": [
      "Warning: Unexpected label at index 7119: 'quantum random number generation'\n"
     ]
    },
    {
     "name": "stderr",
     "output_type": "stream",
     "text": [
      "Classifying:  15%|████████▊                                                  | 7142/47871 [2:52:57<14:10:35,  1.25s/it]"
     ]
    },
    {
     "name": "stdout",
     "output_type": "stream",
     "text": [
      "Warning: Unexpected label at index 7142: 'quantum random number'\n"
     ]
    },
    {
     "name": "stderr",
     "output_type": "stream",
     "text": [
      "Classifying:  15%|████████▊                                                  | 7169/47871 [2:53:28<12:26:13,  1.10s/it]"
     ]
    },
    {
     "name": "stdout",
     "output_type": "stream",
     "text": [
      "Warning: Unexpected label at index 7169: 'quantum materials'\n"
     ]
    },
    {
     "name": "stderr",
     "output_type": "stream",
     "text": [
      "Classifying:  15%|████████▊                                                  | 7194/47871 [2:53:58<12:07:02,  1.07s/it]"
     ]
    },
    {
     "name": "stdout",
     "output_type": "stream",
     "text": [
      "Warning: Unexpected label at index 7194: 'quantum chemistry'\n"
     ]
    },
    {
     "name": "stderr",
     "output_type": "stream",
     "text": [
      "Classifying:  15%|████████▉                                                  | 7203/47871 [2:54:08<12:27:28,  1.10s/it]"
     ]
    },
    {
     "name": "stdout",
     "output_type": "stream",
     "text": [
      "Warning: Unexpected label at index 7203: 'quantum random number generation'\n"
     ]
    },
    {
     "name": "stderr",
     "output_type": "stream",
     "text": [
      "Classifying:  15%|████████▉                                                  | 7208/47871 [2:54:14<13:27:57,  1.19s/it]"
     ]
    },
    {
     "name": "stdout",
     "output_type": "stream",
     "text": [
      "Warning: Unexpected label at index 7208: 'quantum streaming'\n"
     ]
    },
    {
     "name": "stderr",
     "output_type": "stream",
     "text": [
      "Classifying:  15%|████████▉                                                  | 7298/47871 [2:56:23<14:12:31,  1.26s/it]"
     ]
    },
    {
     "name": "stdout",
     "output_type": "stream",
     "text": [
      "Warning: Unexpected label at index 7298: 'quantum random number generation'\n"
     ]
    },
    {
     "name": "stderr",
     "output_type": "stream",
     "text": [
      "Classifying:  15%|█████████                                                  | 7370/47871 [2:58:15<16:04:14,  1.43s/it]"
     ]
    },
    {
     "name": "stdout",
     "output_type": "stream",
     "text": [
      "Warning: Unexpected label at index 7370: 'quantum interaction gates'\n"
     ]
    },
    {
     "name": "stderr",
     "output_type": "stream",
     "text": [
      "Classifying:  16%|█████████▎                                                 | 7529/47871 [3:01:43<13:16:40,  1.18s/it]"
     ]
    },
    {
     "name": "stdout",
     "output_type": "stream",
     "text": [
      "Warning: Unexpected label at index 7529: 'quantum measurement'\n"
     ]
    },
    {
     "name": "stderr",
     "output_type": "stream",
     "text": [
      "Classifying:  16%|█████████▎                                                 | 7605/47871 [3:03:38<22:34:31,  2.02s/it]"
     ]
    },
    {
     "name": "stdout",
     "output_type": "stream",
     "text": [
      "Warning: Unexpected label at index 7605: 'quantum random number generation'\n"
     ]
    },
    {
     "name": "stderr",
     "output_type": "stream",
     "text": [
      "Classifying:  16%|█████████▍                                                 | 7610/47871 [3:03:58<41:31:02,  3.71s/it]"
     ]
    },
    {
     "name": "stdout",
     "output_type": "stream",
     "text": [
      "Warning: Unexpected label at index 7610: 'quantum chemistry'\n"
     ]
    },
    {
     "name": "stderr",
     "output_type": "stream",
     "text": [
      "Classifying:  16%|█████████▍                                                 | 7618/47871 [3:04:06<13:04:46,  1.17s/it]"
     ]
    },
    {
     "name": "stdout",
     "output_type": "stream",
     "text": [
      "Warning: Unexpected label at index 7618: 'quantum bit readout'\n"
     ]
    },
    {
     "name": "stderr",
     "output_type": "stream",
     "text": [
      "Classifying:  16%|█████████▍                                                 | 7633/47871 [3:04:30<17:22:43,  1.55s/it]"
     ]
    },
    {
     "name": "stdout",
     "output_type": "stream",
     "text": [
      "Warning: Unexpected label at index 7633: 'quantum imaging'\n"
     ]
    },
    {
     "name": "stderr",
     "output_type": "stream",
     "text": [
      "Classifying:  16%|█████████▍                                                 | 7652/47871 [3:04:55<10:43:36,  1.04it/s]"
     ]
    },
    {
     "name": "stdout",
     "output_type": "stream",
     "text": [
      "Warning: Unexpected label at index 7652: 'quantum optics'\n"
     ]
    },
    {
     "name": "stderr",
     "output_type": "stream",
     "text": [
      "Classifying:  16%|█████████▍                                                 | 7673/47871 [3:05:25<13:09:32,  1.18s/it]"
     ]
    },
    {
     "name": "stdout",
     "output_type": "stream",
     "text": [
      "Warning: Unexpected label at index 7673: 'quantum similarity'\n"
     ]
    },
    {
     "name": "stderr",
     "output_type": "stream",
     "text": [
      "Classifying:  16%|█████████▌                                                 | 7776/47871 [3:07:46<12:35:35,  1.13s/it]"
     ]
    },
    {
     "name": "stdout",
     "output_type": "stream",
     "text": [
      "Warning: Unexpected label at index 7776: 'quantum entanglement'\n"
     ]
    },
    {
     "name": "stderr",
     "output_type": "stream",
     "text": [
      "Classifying:  16%|█████████▋                                                 | 7872/47871 [3:09:50<18:09:22,  1.63s/it]"
     ]
    },
    {
     "name": "stdout",
     "output_type": "stream",
     "text": [
      "Warning: Unexpected label at index 7872: 'quantum optics'\n"
     ]
    },
    {
     "name": "stderr",
     "output_type": "stream",
     "text": [
      "Classifying:  16%|█████████▋                                                 | 7874/47871 [3:09:54<19:13:44,  1.73s/it]"
     ]
    },
    {
     "name": "stdout",
     "output_type": "stream",
     "text": [
      "Warning: Unexpected label at index 7874: 'quantum optics'\n"
     ]
    },
    {
     "name": "stderr",
     "output_type": "stream",
     "text": [
      "Classifying:  17%|█████████▋                                                 | 7904/47871 [3:10:36<12:50:14,  1.16s/it]"
     ]
    },
    {
     "name": "stdout",
     "output_type": "stream",
     "text": [
      "Warning: Unexpected label at index 7904: 'quantum phase modulation'\n"
     ]
    },
    {
     "name": "stderr",
     "output_type": "stream",
     "text": [
      "Classifying:  17%|█████████▋                                                 | 7906/47871 [3:10:39<13:21:15,  1.20s/it]"
     ]
    },
    {
     "name": "stdout",
     "output_type": "stream",
     "text": [
      "Warning: Unexpected label at index 7906: 'quantum random number generation'\n"
     ]
    },
    {
     "name": "stderr",
     "output_type": "stream",
     "text": [
      "Classifying:  17%|█████████▋                                                 | 7908/47871 [3:10:48<27:55:48,  2.52s/it]"
     ]
    },
    {
     "name": "stdout",
     "output_type": "stream",
     "text": [
      "Warning: Unexpected label at index 7908: 'quantum chemistry'\n"
     ]
    },
    {
     "name": "stderr",
     "output_type": "stream",
     "text": [
      "Classifying:  17%|█████████▊                                                 | 7920/47871 [3:11:02<14:57:01,  1.35s/it]"
     ]
    },
    {
     "name": "stdout",
     "output_type": "stream",
     "text": [
      "Warning: Unexpected label at index 7920: 'quantum state generation'\n"
     ]
    },
    {
     "name": "stderr",
     "output_type": "stream",
     "text": [
      "Classifying:  17%|█████████▊                                                 | 7999/47871 [3:13:39<21:54:01,  1.98s/it]"
     ]
    },
    {
     "name": "stdout",
     "output_type": "stream",
     "text": [
      "→ Saved checkpoint for rows 0–8000\n"
     ]
    },
    {
     "name": "stderr",
     "output_type": "stream",
     "text": [
      "Classifying:  17%|█████████▊                                                 | 8012/47871 [3:14:03<22:37:23,  2.04s/it]"
     ]
    },
    {
     "name": "stdout",
     "output_type": "stream",
     "text": [
      "Warning: Unexpected label at index 8012: 'quantum calibration'\n"
     ]
    },
    {
     "name": "stderr",
     "output_type": "stream",
     "text": [
      "Classifying:  17%|█████████▉                                                 | 8041/47871 [3:14:50<18:17:34,  1.65s/it]"
     ]
    },
    {
     "name": "stdout",
     "output_type": "stream",
     "text": [
      "Warning: Unexpected label at index 8041: 'quantum optics'\n"
     ]
    },
    {
     "name": "stderr",
     "output_type": "stream",
     "text": [
      "Classifying:  17%|█████████▉                                                 | 8042/47871 [3:14:51<16:49:24,  1.52s/it]"
     ]
    },
    {
     "name": "stdout",
     "output_type": "stream",
     "text": [
      "Warning: Unexpected label at index 8042: 'quantum random number generation'\n"
     ]
    },
    {
     "name": "stderr",
     "output_type": "stream",
     "text": [
      "Classifying:  17%|█████████▉                                                 | 8077/47871 [3:15:51<15:31:45,  1.40s/it]"
     ]
    },
    {
     "name": "stdout",
     "output_type": "stream",
     "text": [
      "Warning: Unexpected label at index 8077: 'quantum bit routing'\n"
     ]
    },
    {
     "name": "stderr",
     "output_type": "stream",
     "text": [
      "Classifying:  17%|█████████▉                                                 | 8085/47871 [3:16:02<13:44:28,  1.24s/it]"
     ]
    },
    {
     "name": "stdout",
     "output_type": "stream",
     "text": [
      "Warning: Unexpected label at index 8085: 'quantum frequency standards'\n"
     ]
    },
    {
     "name": "stderr",
     "output_type": "stream",
     "text": [
      "Classifying:  17%|██████████▏                                                | 8218/47871 [3:19:22<13:45:08,  1.25s/it]"
     ]
    },
    {
     "name": "stdout",
     "output_type": "stream",
     "text": [
      "Warning: Unexpected label at index 8218: 'quantum estimation'\n"
     ]
    },
    {
     "name": "stderr",
     "output_type": "stream",
     "text": [
      "Classifying:  17%|██████████▏                                                | 8252/47871 [3:20:11<15:53:05,  1.44s/it]"
     ]
    },
    {
     "name": "stdout",
     "output_type": "stream",
     "text": [
      "Warning: Unexpected label at index 8252: 'quantum random number generation'\n"
     ]
    },
    {
     "name": "stderr",
     "output_type": "stream",
     "text": [
      "Classifying:  17%|██████████▏                                                | 8254/47871 [3:20:13<13:41:56,  1.24s/it]"
     ]
    },
    {
     "name": "stdout",
     "output_type": "stream",
     "text": [
      "Warning: Unexpected label at index 8254: 'quantum computing resistance'\n"
     ]
    },
    {
     "name": "stderr",
     "output_type": "stream",
     "text": [
      "Classifying:  17%|██████████▎                                                | 8342/47871 [3:22:12<13:05:34,  1.19s/it]"
     ]
    },
    {
     "name": "stdout",
     "output_type": "stream",
     "text": [
      "Warning: Unexpected label at index 8342: 'quantum optics'\n"
     ]
    },
    {
     "name": "stderr",
     "output_type": "stream",
     "text": [
      "Classifying:  18%|██████████▍                                                | 8464/47871 [3:24:59<14:13:51,  1.30s/it]"
     ]
    },
    {
     "name": "stdout",
     "output_type": "stream",
     "text": [
      "Warning: Unexpected label at index 8464: 'quantum imaging'\n"
     ]
    },
    {
     "name": "stderr",
     "output_type": "stream",
     "text": [
      "Classifying:  18%|██████████▍                                                | 8511/47871 [3:26:19<27:12:59,  2.49s/it]"
     ]
    },
    {
     "name": "stdout",
     "output_type": "stream",
     "text": [
      "Warning: Unexpected label at index 8511: 'quantum filtering'\n"
     ]
    },
    {
     "name": "stderr",
     "output_type": "stream",
     "text": [
      "Classifying:  18%|██████████▌                                                | 8541/47871 [3:27:08<18:33:38,  1.70s/it]"
     ]
    },
    {
     "name": "stdout",
     "output_type": "stream",
     "text": [
      "Warning: Unexpected label at index 8541: 'quantum optics'\n"
     ]
    },
    {
     "name": "stderr",
     "output_type": "stream",
     "text": [
      "Classifying:  18%|██████████▌                                                | 8607/47871 [3:28:39<12:52:04,  1.18s/it]"
     ]
    },
    {
     "name": "stdout",
     "output_type": "stream",
     "text": [
      "Warning: Unexpected label at index 8607: 'quantum random number generation'\n"
     ]
    },
    {
     "name": "stderr",
     "output_type": "stream",
     "text": [
      "Classifying:  18%|██████████▋                                                | 8679/47871 [3:30:27<13:33:01,  1.24s/it]"
     ]
    },
    {
     "name": "stdout",
     "output_type": "stream",
     "text": [
      "Warning: Unexpected label at index 8679: 'quantum imaging'\n"
     ]
    },
    {
     "name": "stderr",
     "output_type": "stream",
     "text": [
      "Classifying:  18%|██████████▋                                                | 8710/47871 [3:31:09<11:54:34,  1.09s/it]"
     ]
    },
    {
     "name": "stdout",
     "output_type": "stream",
     "text": [
      "Warning: Unexpected label at index 8710: 'quantum color'\n"
     ]
    },
    {
     "name": "stderr",
     "output_type": "stream",
     "text": [
      "Classifying:  18%|██████████▊                                                | 8728/47871 [3:31:36<16:43:43,  1.54s/it]"
     ]
    },
    {
     "name": "stdout",
     "output_type": "stream",
     "text": [
      "Warning: Unexpected label at index 8728: 'quantum optics'\n"
     ]
    },
    {
     "name": "stderr",
     "output_type": "stream",
     "text": [
      "Classifying:  18%|██████████▊                                                | 8732/47871 [3:31:42<16:09:17,  1.49s/it]"
     ]
    },
    {
     "name": "stdout",
     "output_type": "stream",
     "text": [
      "Warning: Unexpected label at index 8732: 'quantum optics'\n"
     ]
    },
    {
     "name": "stderr",
     "output_type": "stream",
     "text": [
      "Classifying:  18%|██████████▉                                                | 8841/47871 [3:34:07<15:19:10,  1.41s/it]"
     ]
    },
    {
     "name": "stdout",
     "output_type": "stream",
     "text": [
      "Warning: Unexpected label at index 8841: 'quantum color theory'\n"
     ]
    },
    {
     "name": "stderr",
     "output_type": "stream",
     "text": [
      "Classifying:  19%|███████████                                                | 8950/47871 [3:36:57<16:31:13,  1.53s/it]"
     ]
    },
    {
     "name": "stdout",
     "output_type": "stream",
     "text": [
      "Warning: Unexpected label at index 8950: 'quantum approximation'\n"
     ]
    },
    {
     "name": "stderr",
     "output_type": "stream",
     "text": [
      "Classifying:  19%|███████████                                                | 8973/47871 [3:37:27<13:02:52,  1.21s/it]"
     ]
    },
    {
     "name": "stdout",
     "output_type": "stream",
     "text": [
      "Warning: Unexpected label at index 8973: 'quantum random number generator'\n"
     ]
    },
    {
     "name": "stderr",
     "output_type": "stream",
     "text": [
      "Classifying:  19%|███████████                                                | 9010/47871 [3:38:26<25:57:54,  2.41s/it]"
     ]
    },
    {
     "name": "stdout",
     "output_type": "stream",
     "text": [
      "Warning: Unexpected label at index 9010: 'quantum optoelectronics'\n"
     ]
    },
    {
     "name": "stderr",
     "output_type": "stream",
     "text": [
      "Classifying:  19%|███████████▏                                               | 9073/47871 [3:39:39<12:40:04,  1.18s/it]"
     ]
    },
    {
     "name": "stdout",
     "output_type": "stream",
     "text": [
      "Warning: Unexpected label at index 9073: 'semiconductor fabrication'\n"
     ]
    },
    {
     "name": "stderr",
     "output_type": "stream",
     "text": [
      "Classifying:  19%|███████████▏                                               | 9093/47871 [3:40:04<14:27:41,  1.34s/it]"
     ]
    },
    {
     "name": "stdout",
     "output_type": "stream",
     "text": [
      "Warning: Unexpected label at index 9093: 'quantum random number generation'\n"
     ]
    },
    {
     "name": "stderr",
     "output_type": "stream",
     "text": [
      "Classifying:  19%|███████████▏                                               | 9100/47871 [3:40:12<12:06:28,  1.12s/it]"
     ]
    },
    {
     "name": "stdout",
     "output_type": "stream",
     "text": [
      "Warning: Unexpected label at index 9100: 'quantum random number generation'\n"
     ]
    },
    {
     "name": "stderr",
     "output_type": "stream",
     "text": [
      "Classifying:  19%|███████████▎                                               | 9162/47871 [3:41:38<11:44:10,  1.09s/it]"
     ]
    },
    {
     "name": "stdout",
     "output_type": "stream",
     "text": [
      "Warning: Unexpected label at index 9162: 'quantum imaging'\n"
     ]
    },
    {
     "name": "stderr",
     "output_type": "stream",
     "text": [
      "Classifying:  19%|███████████▎                                               | 9179/47871 [3:42:02<22:52:42,  2.13s/it]"
     ]
    },
    {
     "name": "stdout",
     "output_type": "stream",
     "text": [
      "Warning: Unexpected label at index 9179: 'quantum display'\n"
     ]
    },
    {
     "name": "stderr",
     "output_type": "stream",
     "text": [
      "Classifying:  19%|███████████▎                                               | 9202/47871 [3:42:53<24:46:37,  2.31s/it]"
     ]
    },
    {
     "name": "stdout",
     "output_type": "stream",
     "text": [
      "Warning: Unexpected label at index 9202: 'quantum transduction'\n"
     ]
    },
    {
     "name": "stderr",
     "output_type": "stream",
     "text": [
      "Classifying:  19%|███████████▍                                               | 9293/47871 [3:45:59<24:58:22,  2.33s/it]"
     ]
    },
    {
     "name": "stdout",
     "output_type": "stream",
     "text": [
      "Warning: Unexpected label at index 9293: 'quantum secure delegation'\n"
     ]
    },
    {
     "name": "stderr",
     "output_type": "stream",
     "text": [
      "Classifying:  20%|███████████▌                                               | 9371/47871 [3:47:59<11:06:46,  1.04s/it]"
     ]
    },
    {
     "name": "stdout",
     "output_type": "stream",
     "text": [
      "Warning: Unexpected label at index 9371: 'quantum computing device'\n"
     ]
    },
    {
     "name": "stderr",
     "output_type": "stream",
     "text": [
      "Classifying:  20%|███████████▌                                               | 9379/47871 [3:48:09<13:35:19,  1.27s/it]"
     ]
    },
    {
     "name": "stdout",
     "output_type": "stream",
     "text": [
      "Warning: Unexpected label at index 9379: 'quantum readout'\n"
     ]
    },
    {
     "name": "stderr",
     "output_type": "stream",
     "text": [
      "Classifying:  20%|███████████▌                                               | 9381/47871 [3:48:11<12:59:09,  1.21s/it]"
     ]
    },
    {
     "name": "stdout",
     "output_type": "stream",
     "text": [
      "Warning: Unexpected label at index 9381: 'quantum imaging'\n"
     ]
    },
    {
     "name": "stderr",
     "output_type": "stream",
     "text": [
      "Classifying:  20%|███████████▋                                               | 9439/47871 [3:49:27<11:18:42,  1.06s/it]"
     ]
    },
    {
     "name": "stdout",
     "output_type": "stream",
     "text": [
      "Warning: Unexpected label at index 9439: 'quantum memory'\n"
     ]
    },
    {
     "name": "stderr",
     "output_type": "stream",
     "text": [
      "Classifying:  20%|███████████▋                                               | 9455/47871 [3:49:49<15:31:38,  1.46s/it]"
     ]
    },
    {
     "name": "stdout",
     "output_type": "stream",
     "text": [
      "Warning: Unexpected label at index 9455: 'quantum calibration'\n"
     ]
    },
    {
     "name": "stderr",
     "output_type": "stream",
     "text": [
      "Classifying:  20%|███████████▋                                               | 9487/47871 [3:50:30<16:04:13,  1.51s/it]"
     ]
    },
    {
     "name": "stdout",
     "output_type": "stream",
     "text": [
      "Warning: Unexpected label at index 9487: 'quantum optics'\n"
     ]
    },
    {
     "name": "stderr",
     "output_type": "stream",
     "text": [
      "Classifying:  20%|███████████▋                                               | 9497/47871 [3:50:41<11:44:56,  1.10s/it]"
     ]
    },
    {
     "name": "stdout",
     "output_type": "stream",
     "text": [
      "Warning: Unexpected label at index 9497: 'quantum optics'\n"
     ]
    },
    {
     "name": "stderr",
     "output_type": "stream",
     "text": [
      "Classifying:  20%|███████████▊                                               | 9569/47871 [3:52:11<10:56:27,  1.03s/it]"
     ]
    },
    {
     "name": "stdout",
     "output_type": "stream",
     "text": [
      "Warning: Unexpected label at index 9569: 'quantum imaging'\n"
     ]
    },
    {
     "name": "stderr",
     "output_type": "stream",
     "text": [
      "Classifying:  20%|███████████▊                                               | 9585/47871 [3:52:28<10:36:56,  1.00it/s]"
     ]
    },
    {
     "name": "stdout",
     "output_type": "stream",
     "text": [
      "Warning: Unexpected label at index 9585: 'quantum optics'\n"
     ]
    },
    {
     "name": "stderr",
     "output_type": "stream",
     "text": [
      "Classifying:  20%|███████████▉                                               | 9647/47871 [3:53:45<10:32:00,  1.01it/s]"
     ]
    },
    {
     "name": "stdout",
     "output_type": "stream",
     "text": [
      "Warning: Unexpected label at index 9647: 'quantum computation'\n"
     ]
    },
    {
     "name": "stderr",
     "output_type": "stream",
     "text": [
      "Classifying:  20%|███████████▉                                               | 9660/47871 [3:54:09<12:32:53,  1.18s/it]"
     ]
    },
    {
     "name": "stdout",
     "output_type": "stream",
     "text": [
      "Warning: Unexpected label at index 9660: 'quantum applications'\n"
     ]
    },
    {
     "name": "stderr",
     "output_type": "stream",
     "text": [
      "Classifying:  20%|███████████▉                                               | 9689/47871 [3:54:49<10:43:37,  1.01s/it]"
     ]
    },
    {
     "name": "stdout",
     "output_type": "stream",
     "text": [
      "Warning: Unexpected label at index 9689: 'quantum amplification'\n"
     ]
    },
    {
     "name": "stderr",
     "output_type": "stream",
     "text": [
      "Classifying:  20%|███████████▉                                               | 9693/47871 [3:54:53<11:17:33,  1.06s/it]"
     ]
    },
    {
     "name": "stdout",
     "output_type": "stream",
     "text": [
      "Warning: Unexpected label at index 9693: 'quantum optics'\n"
     ]
    },
    {
     "name": "stderr",
     "output_type": "stream",
     "text": [
      "Classifying:  20%|████████████                                               | 9738/47871 [3:55:46<11:50:22,  1.12s/it]"
     ]
    },
    {
     "name": "stdout",
     "output_type": "stream",
     "text": [
      "Warning: Unexpected label at index 9738: 'quantum state preparation'\n"
     ]
    },
    {
     "name": "stderr",
     "output_type": "stream",
     "text": [
      "Classifying:  20%|████████████                                               | 9765/47871 [3:56:24<11:16:49,  1.07s/it]"
     ]
    },
    {
     "name": "stdout",
     "output_type": "stream",
     "text": [
      "Warning: Unexpected label at index 9765: 'quantum amplitude estimation'\n"
     ]
    },
    {
     "name": "stderr",
     "output_type": "stream",
     "text": [
      "Classifying:  20%|████████████                                               | 9774/47871 [3:56:36<12:44:08,  1.20s/it]"
     ]
    },
    {
     "name": "stdout",
     "output_type": "stream",
     "text": [
      "Warning: Unexpected label at index 9774: 'quantum control system'\n"
     ]
    },
    {
     "name": "stderr",
     "output_type": "stream",
     "text": [
      "Classifying:  20%|████████████                                               | 9787/47871 [3:56:53<20:51:32,  1.97s/it]"
     ]
    },
    {
     "name": "stdout",
     "output_type": "stream",
     "text": [
      "Warning: Unexpected label at index 9787: 'quantum circuit cutting'\n"
     ]
    },
    {
     "name": "stderr",
     "output_type": "stream",
     "text": [
      "Classifying:  20%|████████████                                               | 9798/47871 [3:57:09<17:59:41,  1.70s/it]"
     ]
    },
    {
     "name": "stdout",
     "output_type": "stream",
     "text": [
      "Warning: Unexpected label at index 9798: 'quantum amplifier'\n"
     ]
    },
    {
     "name": "stderr",
     "output_type": "stream",
     "text": [
      "Classifying:  20%|████████████                                               | 9803/47871 [3:57:15<14:33:52,  1.38s/it]"
     ]
    },
    {
     "name": "stdout",
     "output_type": "stream",
     "text": [
      "Warning: Unexpected label at index 9803: 'quantum state conversion'\n"
     ]
    },
    {
     "name": "stderr",
     "output_type": "stream",
     "text": [
      "Classifying:  21%|████████████                                               | 9817/47871 [3:57:31<11:09:08,  1.06s/it]"
     ]
    },
    {
     "name": "stdout",
     "output_type": "stream",
     "text": [
      "Warning: Unexpected label at index 9817: 'quantum imaging'\n"
     ]
    },
    {
     "name": "stderr",
     "output_type": "stream",
     "text": [
      "Classifying:  21%|████████████▏                                              | 9847/47871 [3:58:07<11:37:19,  1.10s/it]"
     ]
    },
    {
     "name": "stdout",
     "output_type": "stream",
     "text": [
      "Warning: Unexpected label at index 9847: 'quantum amplifier'\n"
     ]
    },
    {
     "name": "stderr",
     "output_type": "stream",
     "text": [
      "Classifying:  21%|████████████▏                                              | 9848/47871 [3:58:07<10:51:15,  1.03s/it]"
     ]
    },
    {
     "name": "stdout",
     "output_type": "stream",
     "text": [
      "Warning: Unexpected label at index 9848: 'quantum measurement and control system'\n"
     ]
    },
    {
     "name": "stderr",
     "output_type": "stream",
     "text": [
      "Classifying:  21%|████████████▏                                              | 9871/47871 [3:58:35<15:12:38,  1.44s/it]"
     ]
    },
    {
     "name": "stdout",
     "output_type": "stream",
     "text": [
      "Warning: Unexpected label at index 9871: 'quantum measurement'\n"
     ]
    },
    {
     "name": "stderr",
     "output_type": "stream",
     "text": [
      "Classifying:  21%|████████████▏                                              | 9877/47871 [3:58:44<12:30:48,  1.19s/it]"
     ]
    },
    {
     "name": "stdout",
     "output_type": "stream",
     "text": [
      "Warning: Unexpected label at index 9877: 'quantum control system'\n"
     ]
    },
    {
     "name": "stderr",
     "output_type": "stream",
     "text": [
      "Classifying:  21%|████████████▏                                              | 9898/47871 [3:59:24<34:48:35,  3.30s/it]"
     ]
    },
    {
     "name": "stdout",
     "output_type": "stream",
     "text": [
      "Warning: Unexpected label at index 9898: 'quantum state transformation'\n"
     ]
    },
    {
     "name": "stderr",
     "output_type": "stream",
     "text": [
      "Classifying:  21%|████████████▏                                              | 9903/47871 [3:59:30<15:28:05,  1.47s/it]"
     ]
    },
    {
     "name": "stdout",
     "output_type": "stream",
     "text": [
      "Warning: Unexpected label at index 9903: 'quantum microwave engineering'\n"
     ]
    },
    {
     "name": "stderr",
     "output_type": "stream",
     "text": [
      "Classifying:  21%|████████████▏                                              | 9922/47871 [3:59:55<19:25:41,  1.84s/it]"
     ]
    },
    {
     "name": "stdout",
     "output_type": "stream",
     "text": [
      "Warning: Unexpected label at index 9922: 'quantum amplifier'\n"
     ]
    },
    {
     "name": "stderr",
     "output_type": "stream",
     "text": [
      "Classifying:  21%|████████████▎                                              | 9957/47871 [4:00:34<15:23:20,  1.46s/it]"
     ]
    },
    {
     "name": "stdout",
     "output_type": "stream",
     "text": [
      "Warning: Unexpected label at index 9957: 'quantum measurement and control'\n"
     ]
    },
    {
     "name": "stderr",
     "output_type": "stream",
     "text": [
      "Classifying:  21%|████████████                                              | 10006/47871 [4:01:34<10:34:15,  1.01s/it]"
     ]
    },
    {
     "name": "stdout",
     "output_type": "stream",
     "text": [
      "Warning: Unexpected label at index 10006: 'quantum measurement'\n"
     ]
    },
    {
     "name": "stderr",
     "output_type": "stream",
     "text": [
      "Classifying:  21%|████████████▏                                             | 10041/47871 [4:02:22<16:14:52,  1.55s/it]"
     ]
    },
    {
     "name": "stdout",
     "output_type": "stream",
     "text": [
      "Warning: Unexpected label at index 10040: 'quantum generative adversarial network'\n"
     ]
    },
    {
     "name": "stderr",
     "output_type": "stream",
     "text": [
      "Classifying:  21%|████████████▏                                             | 10046/47871 [4:02:30<15:40:30,  1.49s/it]"
     ]
    },
    {
     "name": "stdout",
     "output_type": "stream",
     "text": [
      "Warning: Unexpected label at index 10046: 'quantum amplitude estimation'\n"
     ]
    },
    {
     "name": "stderr",
     "output_type": "stream",
     "text": [
      "Classifying:  21%|████████████▏                                             | 10057/47871 [4:02:46<12:18:01,  1.17s/it]"
     ]
    },
    {
     "name": "stdout",
     "output_type": "stream",
     "text": [
      "Warning: Unexpected label at index 10057: 'quantum circuit query method'\n"
     ]
    },
    {
     "name": "stderr",
     "output_type": "stream",
     "text": [
      "Classifying:  21%|████████████▏                                             | 10073/47871 [4:03:18<21:57:41,  2.09s/it]"
     ]
    },
    {
     "name": "stdout",
     "output_type": "stream",
     "text": [
      "Warning: Unexpected label at index 10073: 'quantum comparison operation'\n"
     ]
    },
    {
     "name": "stderr",
     "output_type": "stream",
     "text": [
      "Classifying:  21%|████████████▏                                             | 10088/47871 [4:03:42<21:14:01,  2.02s/it]"
     ]
    },
    {
     "name": "stdout",
     "output_type": "stream",
     "text": [
      "Warning: Unexpected label at index 10088: 'quantum similarity'\n"
     ]
    },
    {
     "name": "stderr",
     "output_type": "stream",
     "text": [
      "Classifying:  21%|████████████▎                                             | 10112/47871 [4:04:24<14:25:19,  1.38s/it]"
     ]
    },
    {
     "name": "stdout",
     "output_type": "stream",
     "text": [
      "Warning: Unexpected label at index 10112: 'quantum amplification'\n"
     ]
    },
    {
     "name": "stderr",
     "output_type": "stream",
     "text": [
      "Classifying:  21%|████████████▎                                             | 10119/47871 [4:04:32<13:48:31,  1.32s/it]"
     ]
    },
    {
     "name": "stdout",
     "output_type": "stream",
     "text": [
      "Warning: Unexpected label at index 10119: 'quantum chemistry'\n"
     ]
    },
    {
     "name": "stderr",
     "output_type": "stream",
     "text": [
      "Classifying:  21%|████████████▎                                             | 10199/47871 [4:06:16<12:46:31,  1.22s/it]"
     ]
    },
    {
     "name": "stdout",
     "output_type": "stream",
     "text": [
      "Warning: Unexpected label at index 10199: 'quantum amplifier'\n"
     ]
    },
    {
     "name": "stderr",
     "output_type": "stream",
     "text": [
      "Classifying:  21%|████████████▎                                             | 10212/47871 [4:06:39<16:41:44,  1.60s/it]"
     ]
    },
    {
     "name": "stdout",
     "output_type": "stream",
     "text": [
      "Warning: Unexpected label at index 10212: 'quantum clustering'\n"
     ]
    },
    {
     "name": "stderr",
     "output_type": "stream",
     "text": [
      "Classifying:  21%|████████████▍                                             | 10229/47871 [4:07:04<11:50:22,  1.13s/it]"
     ]
    },
    {
     "name": "stdout",
     "output_type": "stream",
     "text": [
      "Warning: Unexpected label at index 10229: 'quantum preprocessing'\n"
     ]
    },
    {
     "name": "stderr",
     "output_type": "stream",
     "text": [
      "Classifying:  22%|████████████▍                                             | 10294/47871 [4:08:34<11:16:39,  1.08s/it]"
     ]
    },
    {
     "name": "stdout",
     "output_type": "stream",
     "text": [
      "Warning: Unexpected label at index 10294: 'quantum control system'\n"
     ]
    },
    {
     "name": "stderr",
     "output_type": "stream",
     "text": [
      "Classifying:  22%|████████████▌                                             | 10345/47871 [4:09:42<13:25:31,  1.29s/it]"
     ]
    },
    {
     "name": "stdout",
     "output_type": "stream",
     "text": [
      "Warning: Unexpected label at index 10345: 'quantum computation'\n"
     ]
    },
    {
     "name": "stderr",
     "output_type": "stream",
     "text": [
      "Classifying:  22%|████████████▌                                             | 10370/47871 [4:10:24<12:54:38,  1.24s/it]"
     ]
    },
    {
     "name": "stdout",
     "output_type": "stream",
     "text": [
      "Warning: Unexpected label at index 10370: 'quantum diagnostic'\n"
     ]
    },
    {
     "name": "stderr",
     "output_type": "stream",
     "text": [
      "Classifying:  22%|████████████▌                                             | 10375/47871 [4:10:30<12:35:36,  1.21s/it]"
     ]
    },
    {
     "name": "stdout",
     "output_type": "stream",
     "text": [
      "Warning: Unexpected label at index 10375: 'quantum imaging'\n"
     ]
    },
    {
     "name": "stderr",
     "output_type": "stream",
     "text": [
      "Classifying:  22%|████████████▌                                             | 10405/47871 [4:11:07<14:00:11,  1.35s/it]"
     ]
    },
    {
     "name": "stdout",
     "output_type": "stream",
     "text": [
      "Warning: Unexpected label at index 10405: 'quantum optics'\n"
     ]
    },
    {
     "name": "stderr",
     "output_type": "stream",
     "text": [
      "Classifying:  22%|████████████▌                                             | 10407/47871 [4:11:09<12:57:59,  1.25s/it]"
     ]
    },
    {
     "name": "stdout",
     "output_type": "stream",
     "text": [
      "Warning: Unexpected label at index 10407: 'quantum optics'\n"
     ]
    },
    {
     "name": "stderr",
     "output_type": "stream",
     "text": [
      "Classifying:  22%|████████████▌                                             | 10409/47871 [4:11:11<12:02:26,  1.16s/it]"
     ]
    },
    {
     "name": "stdout",
     "output_type": "stream",
     "text": [
      "Warning: Unexpected label at index 10409: 'quantum imaging'\n"
     ]
    },
    {
     "name": "stderr",
     "output_type": "stream",
     "text": [
      "Classifying:  22%|████████████▌                                             | 10417/47871 [4:11:19<10:15:29,  1.01it/s]"
     ]
    },
    {
     "name": "stdout",
     "output_type": "stream",
     "text": [
      "Warning: Unexpected label at index 10417: 'quantum computation'\n"
     ]
    },
    {
     "name": "stderr",
     "output_type": "stream",
     "text": [
      "Classifying:  22%|████████████▋                                             | 10507/47871 [4:13:17<15:04:37,  1.45s/it]"
     ]
    },
    {
     "name": "stdout",
     "output_type": "stream",
     "text": [
      "Warning: Unexpected label at index 10507: 'quantum imaging'\n"
     ]
    },
    {
     "name": "stderr",
     "output_type": "stream",
     "text": [
      "Classifying:  22%|████████████▋                                             | 10523/47871 [4:13:36<13:32:01,  1.30s/it]"
     ]
    },
    {
     "name": "stdout",
     "output_type": "stream",
     "text": [
      "Warning: Unexpected label at index 10523: 'quantum optics'\n"
     ]
    },
    {
     "name": "stderr",
     "output_type": "stream",
     "text": [
      "Classifying:  22%|████████████▊                                             | 10545/47871 [4:14:06<12:03:33,  1.16s/it]"
     ]
    },
    {
     "name": "stdout",
     "output_type": "stream",
     "text": [
      "Warning: Unexpected label at index 10545: 'quantum optics'\n"
     ]
    },
    {
     "name": "stderr",
     "output_type": "stream",
     "text": [
      "Classifying:  22%|████████████▊                                             | 10555/47871 [4:14:17<12:12:15,  1.18s/it]"
     ]
    },
    {
     "name": "stdout",
     "output_type": "stream",
     "text": [
      "Warning: Unexpected label at index 10555: 'quantum spectroscopy'\n"
     ]
    },
    {
     "name": "stderr",
     "output_type": "stream",
     "text": [
      "Classifying:  22%|████████████▊                                             | 10561/47871 [4:14:23<11:32:22,  1.11s/it]"
     ]
    },
    {
     "name": "stdout",
     "output_type": "stream",
     "text": [
      "Warning: Unexpected label at index 10561: 'quantum chemistry'\n"
     ]
    },
    {
     "name": "stderr",
     "output_type": "stream",
     "text": [
      "Classifying:  22%|████████████▊                                             | 10569/47871 [4:14:31<10:54:58,  1.05s/it]"
     ]
    },
    {
     "name": "stdout",
     "output_type": "stream",
     "text": [
      "Warning: Unexpected label at index 10569: 'quantum key distribution'\n"
     ]
    },
    {
     "name": "stderr",
     "output_type": "stream",
     "text": [
      "Classifying:  22%|████████████▉                                             | 10631/47871 [4:16:02<23:42:35,  2.29s/it]"
     ]
    },
    {
     "name": "stdout",
     "output_type": "stream",
     "text": [
      "Warning: Unexpected label at index 10631: 'quantum measurement'\n"
     ]
    },
    {
     "name": "stderr",
     "output_type": "stream",
     "text": [
      "Classifying:  22%|████████████▉                                             | 10651/47871 [4:16:28<16:30:39,  1.60s/it]"
     ]
    },
    {
     "name": "stdout",
     "output_type": "stream",
     "text": [
      "Warning: Unexpected label at index 10651: 'quantum optics'\n"
     ]
    },
    {
     "name": "stderr",
     "output_type": "stream",
     "text": [
      "Classifying:  22%|████████████▉                                             | 10661/47871 [4:16:39<10:40:41,  1.03s/it]"
     ]
    },
    {
     "name": "stdout",
     "output_type": "stream",
     "text": [
      "Warning: Unexpected label at index 10661: 'quantum control system'\n"
     ]
    },
    {
     "name": "stderr",
     "output_type": "stream",
     "text": [
      "Classifying:  22%|████████████▉                                             | 10686/47871 [4:17:19<17:48:37,  1.72s/it]"
     ]
    },
    {
     "name": "stdout",
     "output_type": "stream",
     "text": [
      "Warning: Unexpected label at index 10686: 'quantum measurement'\n"
     ]
    },
    {
     "name": "stderr",
     "output_type": "stream",
     "text": [
      "Classifying:  22%|████████████▉                                             | 10688/47871 [4:17:21<14:03:54,  1.36s/it]"
     ]
    },
    {
     "name": "stdout",
     "output_type": "stream",
     "text": [
      "Warning: Unexpected label at index 10688: 'quantum control system'\n"
     ]
    },
    {
     "name": "stderr",
     "output_type": "stream",
     "text": [
      "Classifying:  22%|████████████▉                                             | 10709/47871 [4:17:47<12:52:27,  1.25s/it]"
     ]
    },
    {
     "name": "stdout",
     "output_type": "stream",
     "text": [
      "Warning: Unexpected label at index 10709: 'quantum control system'\n"
     ]
    },
    {
     "name": "stderr",
     "output_type": "stream",
     "text": [
      "Classifying:  22%|█████████████                                             | 10736/47871 [4:18:18<11:32:07,  1.12s/it]"
     ]
    },
    {
     "name": "stdout",
     "output_type": "stream",
     "text": [
      "Warning: Unexpected label at index 10736: 'quantum state preparation'\n"
     ]
    },
    {
     "name": "stderr",
     "output_type": "stream",
     "text": [
      "Classifying:  22%|█████████████                                             | 10750/47871 [4:18:35<14:13:45,  1.38s/it]"
     ]
    },
    {
     "name": "stdout",
     "output_type": "stream",
     "text": [
      "Warning: Unexpected label at index 10750: 'quantum control system'\n"
     ]
    },
    {
     "name": "stderr",
     "output_type": "stream",
     "text": [
      "Classifying:  22%|█████████████                                             | 10767/47871 [4:18:58<11:34:25,  1.12s/it]"
     ]
    },
    {
     "name": "stdout",
     "output_type": "stream",
     "text": [
      "Warning: Unexpected label at index 10767: 'quantum state preparation'\n"
     ]
    },
    {
     "name": "stderr",
     "output_type": "stream",
     "text": [
      "Classifying:  23%|█████████████                                             | 10795/47871 [4:19:35<12:20:26,  1.20s/it]"
     ]
    },
    {
     "name": "stdout",
     "output_type": "stream",
     "text": [
      "Warning: Unexpected label at index 10794: 'quantum measurement and control system'\n"
     ]
    },
    {
     "name": "stderr",
     "output_type": "stream",
     "text": [
      "Classifying:  23%|█████████████                                             | 10804/47871 [4:19:49<16:14:33,  1.58s/it]"
     ]
    },
    {
     "name": "stdout",
     "output_type": "stream",
     "text": [
      "Warning: Unexpected label at index 10804: 'quantum control system'\n"
     ]
    },
    {
     "name": "stderr",
     "output_type": "stream",
     "text": [
      "Classifying:  23%|█████████████▏                                            | 10850/47871 [4:20:46<10:58:34,  1.07s/it]"
     ]
    },
    {
     "name": "stdout",
     "output_type": "stream",
     "text": [
      "Warning: Unexpected label at index 10850: 'quantum annealing'\n"
     ]
    },
    {
     "name": "stderr",
     "output_type": "stream",
     "text": [
      "Classifying:  23%|█████████████▏                                            | 10871/47871 [4:21:26<15:45:17,  1.53s/it]"
     ]
    },
    {
     "name": "stdout",
     "output_type": "stream",
     "text": [
      "Warning: Unexpected label at index 10871: 'quantum memory'\n"
     ]
    },
    {
     "name": "stderr",
     "output_type": "stream",
     "text": [
      "Classifying:  23%|█████████████▏                                            | 10893/47871 [4:22:01<16:29:13,  1.61s/it]"
     ]
    },
    {
     "name": "stdout",
     "output_type": "stream",
     "text": [
      "Warning: Unexpected label at index 10893: 'quantum measurement and control'\n"
     ]
    },
    {
     "name": "stderr",
     "output_type": "stream",
     "text": [
      "Classifying:  23%|█████████████▏                                            | 10907/47871 [4:22:19<12:46:31,  1.24s/it]"
     ]
    },
    {
     "name": "stdout",
     "output_type": "stream",
     "text": [
      "Warning: Unexpected label at index 10907: 'quantum state preparation'\n"
     ]
    },
    {
     "name": "stderr",
     "output_type": "stream",
     "text": [
      "Classifying:  23%|█████████████▏                                            | 10909/47871 [4:22:22<12:41:15,  1.24s/it]"
     ]
    },
    {
     "name": "stdout",
     "output_type": "stream",
     "text": [
      "Warning: Unexpected label at index 10909: 'quantum measurement and control system'\n"
     ]
    },
    {
     "name": "stderr",
     "output_type": "stream",
     "text": [
      "Classifying:  23%|█████████████▎                                            | 10966/47871 [4:23:34<17:19:04,  1.69s/it]"
     ]
    },
    {
     "name": "stdout",
     "output_type": "stream",
     "text": [
      "Warning: Unexpected label at index 10966: 'quantum control system'\n"
     ]
    },
    {
     "name": "stderr",
     "output_type": "stream",
     "text": [
      "Classifying:  23%|█████████████▎                                            | 10969/47871 [4:23:37<14:21:43,  1.40s/it]"
     ]
    },
    {
     "name": "stdout",
     "output_type": "stream",
     "text": [
      "Warning: Unexpected label at index 10969: 'quantum amplitude estimation'\n"
     ]
    },
    {
     "name": "stderr",
     "output_type": "stream",
     "text": [
      "Classifying:  23%|█████████████▎                                            | 11014/47871 [4:24:39<10:20:17,  1.01s/it]"
     ]
    },
    {
     "name": "stdout",
     "output_type": "stream",
     "text": [
      "Warning: Unexpected label at index 11014: 'quantum circuit construction'\n"
     ]
    },
    {
     "name": "stderr",
     "output_type": "stream",
     "text": [
      "Classifying:  23%|█████████████▎                                            | 11015/47871 [4:24:40<10:19:52,  1.01s/it]"
     ]
    },
    {
     "name": "stdout",
     "output_type": "stream",
     "text": [
      "Warning: Unexpected label at index 11015: 'quantum control system'\n"
     ]
    },
    {
     "name": "stderr",
     "output_type": "stream",
     "text": [
      "Classifying:  23%|█████████████▎                                            | 11039/47871 [4:25:14<11:50:42,  1.16s/it]"
     ]
    },
    {
     "name": "stdout",
     "output_type": "stream",
     "text": [
      "Warning: Unexpected label at index 11039: 'quantum parameter amplifier'\n"
     ]
    },
    {
     "name": "stderr",
     "output_type": "stream",
     "text": [
      "Classifying:  23%|█████████████▍                                            | 11065/47871 [4:25:45<11:31:25,  1.13s/it]"
     ]
    },
    {
     "name": "stdout",
     "output_type": "stream",
     "text": [
      "Warning: Unexpected label at index 11065: 'quantum sensor calibration'\n"
     ]
    },
    {
     "name": "stderr",
     "output_type": "stream",
     "text": [
      "Classifying:  23%|█████████████▋                                             | 11073/47871 [4:25:53<9:49:00,  1.04it/s]"
     ]
    },
    {
     "name": "stdout",
     "output_type": "stream",
     "text": [
      "Warning: Unexpected label at index 11073: 'quantum process chromatography'\n"
     ]
    },
    {
     "name": "stderr",
     "output_type": "stream",
     "text": [
      "Classifying:  23%|█████████████▍                                            | 11104/47871 [4:26:33<13:27:17,  1.32s/it]"
     ]
    },
    {
     "name": "stdout",
     "output_type": "stream",
     "text": [
      "Warning: Unexpected label at index 11104: 'quantum gate operation information'\n"
     ]
    },
    {
     "name": "stderr",
     "output_type": "stream",
     "text": [
      "Classifying:  23%|█████████████▍                                            | 11112/47871 [4:26:43<12:00:06,  1.18s/it]"
     ]
    },
    {
     "name": "stdout",
     "output_type": "stream",
     "text": [
      "Warning: Unexpected label at index 11112: 'quantum measurement'\n"
     ]
    },
    {
     "name": "stderr",
     "output_type": "stream",
     "text": [
      "Classifying:  23%|█████████████▍                                            | 11114/47871 [4:26:46<13:52:41,  1.36s/it]"
     ]
    },
    {
     "name": "stdout",
     "output_type": "stream",
     "text": [
      "Warning: Unexpected label at index 11114: 'quantum circuits'\n"
     ]
    },
    {
     "name": "stderr",
     "output_type": "stream",
     "text": [
      "Classifying:  23%|█████████████▌                                            | 11153/47871 [4:27:35<11:28:57,  1.13s/it]"
     ]
    },
    {
     "name": "stdout",
     "output_type": "stream",
     "text": [
      "Warning: Unexpected label at index 11153: 'quantum device evaluation'\n"
     ]
    },
    {
     "name": "stderr",
     "output_type": "stream",
     "text": [
      "Classifying:  23%|█████████████▌                                            | 11165/47871 [4:27:47<10:17:06,  1.01s/it]"
     ]
    },
    {
     "name": "stdout",
     "output_type": "stream",
     "text": [
      "Warning: Unexpected label at index 11165: 'quantum kernel method'\n"
     ]
    },
    {
     "name": "stderr",
     "output_type": "stream",
     "text": [
      "Classifying:  23%|█████████████▌                                            | 11203/47871 [4:28:50<13:32:40,  1.33s/it]"
     ]
    },
    {
     "name": "stdout",
     "output_type": "stream",
     "text": [
      "Warning: Unexpected label at index 11202: 'quantum measurement'\n"
     ]
    },
    {
     "name": "stderr",
     "output_type": "stream",
     "text": [
      "Classifying:  24%|█████████████▋                                            | 11277/47871 [4:30:28<11:47:36,  1.16s/it]"
     ]
    },
    {
     "name": "stdout",
     "output_type": "stream",
     "text": [
      "Warning: Unexpected label at index 11277: 'quantum measurement'\n"
     ]
    },
    {
     "name": "stderr",
     "output_type": "stream",
     "text": [
      "Classifying:  24%|█████████████▋                                            | 11280/47871 [4:30:30<10:13:01,  1.01s/it]"
     ]
    },
    {
     "name": "stdout",
     "output_type": "stream",
     "text": [
      "Warning: Unexpected label at index 11280: 'quantum control system'\n"
     ]
    },
    {
     "name": "stderr",
     "output_type": "stream",
     "text": [
      "Classifying:  24%|█████████████▋                                            | 11295/47871 [4:30:50<11:07:04,  1.09s/it]"
     ]
    },
    {
     "name": "stdout",
     "output_type": "stream",
     "text": [
      "Warning: Unexpected label at index 11295: 'quantum control system'\n"
     ]
    },
    {
     "name": "stderr",
     "output_type": "stream",
     "text": [
      "Classifying:  24%|█████████████▊                                            | 11365/47871 [4:32:22<14:24:50,  1.42s/it]"
     ]
    },
    {
     "name": "stdout",
     "output_type": "stream",
     "text": [
      "Warning: Unexpected label at index 11365: 'quantum bus'\n"
     ]
    },
    {
     "name": "stderr",
     "output_type": "stream",
     "text": [
      "Classifying:  24%|█████████████▊                                            | 11388/47871 [4:32:52<20:28:58,  2.02s/it]"
     ]
    },
    {
     "name": "stdout",
     "output_type": "stream",
     "text": [
      "Warning: Unexpected label at index 11388: 'quantum coding'\n"
     ]
    },
    {
     "name": "stderr",
     "output_type": "stream",
     "text": [
      "Classifying:  24%|█████████████▊                                            | 11422/47871 [4:33:34<11:43:28,  1.16s/it]"
     ]
    },
    {
     "name": "stdout",
     "output_type": "stream",
     "text": [
      "Warning: Unexpected label at index 11422: 'quantum entanglement'\n"
     ]
    },
    {
     "name": "stderr",
     "output_type": "stream",
     "text": [
      "Classifying:  24%|█████████████▉                                            | 11470/47871 [4:34:34<15:22:19,  1.52s/it]"
     ]
    },
    {
     "name": "stdout",
     "output_type": "stream",
     "text": [
      "Warning: Unexpected label at index 11470: 'quantum optics'\n"
     ]
    },
    {
     "name": "stderr",
     "output_type": "stream",
     "text": [
      "Classifying:  24%|██████████████▏                                            | 11530/47871 [4:35:55<9:31:41,  1.06it/s]"
     ]
    },
    {
     "name": "stdout",
     "output_type": "stream",
     "text": [
      "Warning: Unexpected label at index 11530: 'quantum remote sensing'\n"
     ]
    },
    {
     "name": "stderr",
     "output_type": "stream",
     "text": [
      "Classifying:  24%|█████████████▉                                            | 11540/47871 [4:36:08<13:06:29,  1.30s/it]"
     ]
    },
    {
     "name": "stdout",
     "output_type": "stream",
     "text": [
      "Warning: Unexpected label at index 11540: 'quantum computation'\n"
     ]
    },
    {
     "name": "stderr",
     "output_type": "stream",
     "text": [
      "Classifying:  24%|██████████████                                            | 11577/47871 [4:37:00<14:20:17,  1.42s/it]"
     ]
    },
    {
     "name": "stdout",
     "output_type": "stream",
     "text": [
      "Warning: Unexpected label at index 11577: 'quantum key distribution'\n"
     ]
    },
    {
     "name": "stderr",
     "output_type": "stream",
     "text": [
      "Classifying:  24%|██████████████                                            | 11582/47871 [4:37:05<10:30:16,  1.04s/it]"
     ]
    },
    {
     "name": "stdout",
     "output_type": "stream",
     "text": [
      "Warning: Unexpected label at index 11582: 'quantum imaging'\n"
     ]
    },
    {
     "name": "stderr",
     "output_type": "stream",
     "text": [
      "Classifying:  24%|██████████████                                            | 11608/47871 [4:37:37<15:14:19,  1.51s/it]"
     ]
    },
    {
     "name": "stdout",
     "output_type": "stream",
     "text": [
      "Warning: Unexpected label at index 11608: 'quantum imaging'\n"
     ]
    },
    {
     "name": "stderr",
     "output_type": "stream",
     "text": [
      "Classifying:  24%|██████████████                                            | 11612/47871 [4:37:43<15:40:04,  1.56s/it]"
     ]
    },
    {
     "name": "stdout",
     "output_type": "stream",
     "text": [
      "Warning: Unexpected label at index 11612: 'quantum imaging'\n"
     ]
    },
    {
     "name": "stderr",
     "output_type": "stream",
     "text": [
      "Classifying:  24%|██████████████▏                                           | 11663/47871 [4:38:43<10:40:28,  1.06s/it]"
     ]
    },
    {
     "name": "stdout",
     "output_type": "stream",
     "text": [
      "Warning: Unexpected label at index 11663: 'quantum optics'\n"
     ]
    },
    {
     "name": "stderr",
     "output_type": "stream",
     "text": [
      "Classifying:  24%|██████████████▍                                            | 11666/47871 [4:38:46<9:58:11,  1.01it/s]"
     ]
    },
    {
     "name": "stdout",
     "output_type": "stream",
     "text": [
      "Warning: Unexpected label at index 11666: 'quantum dots'\n"
     ]
    },
    {
     "name": "stderr",
     "output_type": "stream",
     "text": [
      "Classifying:  24%|██████████████▏                                           | 11676/47871 [4:38:58<10:44:19,  1.07s/it]"
     ]
    },
    {
     "name": "stdout",
     "output_type": "stream",
     "text": [
      "Warning: Unexpected label at index 11676: 'quantum compression'\n"
     ]
    },
    {
     "name": "stderr",
     "output_type": "stream",
     "text": [
      "Classifying:  24%|██████████████▏                                           | 11680/47871 [4:39:02<11:18:29,  1.12s/it]"
     ]
    },
    {
     "name": "stdout",
     "output_type": "stream",
     "text": [
      "Warning: Unexpected label at index 11680: 'quantum optics'\n"
     ]
    },
    {
     "name": "stderr",
     "output_type": "stream",
     "text": [
      "Classifying:  25%|██████████████▏                                           | 11747/47871 [4:40:29<10:17:28,  1.03s/it]"
     ]
    },
    {
     "name": "stdout",
     "output_type": "stream",
     "text": [
      "Warning: Unexpected label at index 11747: 'quantum dots'\n"
     ]
    },
    {
     "name": "stderr",
     "output_type": "stream",
     "text": [
      "Classifying:  25%|██████████████▏                                           | 11751/47871 [4:40:33<10:28:08,  1.04s/it]"
     ]
    },
    {
     "name": "stdout",
     "output_type": "stream",
     "text": [
      "Warning: Unexpected label at index 11751: 'quantum dots'\n"
     ]
    },
    {
     "name": "stderr",
     "output_type": "stream",
     "text": [
      "Classifying:  25%|██████████████▏                                           | 11761/47871 [4:40:45<11:11:19,  1.12s/it]"
     ]
    },
    {
     "name": "stdout",
     "output_type": "stream",
     "text": [
      "Warning: Unexpected label at index 11761: 'quantum calibration'\n"
     ]
    },
    {
     "name": "stderr",
     "output_type": "stream",
     "text": [
      "Classifying:  25%|██████████████▎                                           | 11775/47871 [4:41:06<12:19:30,  1.23s/it]"
     ]
    },
    {
     "name": "stdout",
     "output_type": "stream",
     "text": [
      "Warning: Unexpected label at index 11775: 'quantum color conversion'\n"
     ]
    },
    {
     "name": "stderr",
     "output_type": "stream",
     "text": [
      "Classifying:  25%|██████████████▎                                           | 11778/47871 [4:41:10<11:06:48,  1.11s/it]"
     ]
    },
    {
     "name": "stdout",
     "output_type": "stream",
     "text": [
      "Warning: Unexpected label at index 11778: 'quantum imaging'\n"
     ]
    },
    {
     "name": "stderr",
     "output_type": "stream",
     "text": [
      "Classifying:  25%|██████████████▎                                           | 11808/47871 [4:41:44<11:10:08,  1.11s/it]"
     ]
    },
    {
     "name": "stdout",
     "output_type": "stream",
     "text": [
      "Warning: Unexpected label at index 11808: 'quantum measurement'\n"
     ]
    },
    {
     "name": "stderr",
     "output_type": "stream",
     "text": [
      "Classifying:  25%|██████████████▎                                           | 11812/47871 [4:41:55<19:07:20,  1.91s/it]"
     ]
    },
    {
     "name": "stdout",
     "output_type": "stream",
     "text": [
      "Warning: Unexpected label at index 11812: 'quantum streaming'\n"
     ]
    },
    {
     "name": "stderr",
     "output_type": "stream",
     "text": [
      "Classifying:  25%|██████████████▎                                           | 11827/47871 [4:42:20<14:30:09,  1.45s/it]"
     ]
    },
    {
     "name": "stdout",
     "output_type": "stream",
     "text": [
      "Warning: Unexpected label at index 11827: 'quantum circuit generation'\n"
     ]
    },
    {
     "name": "stderr",
     "output_type": "stream",
     "text": [
      "Classifying:  25%|██████████████▎                                           | 11842/47871 [4:42:36<11:03:41,  1.11s/it]"
     ]
    },
    {
     "name": "stdout",
     "output_type": "stream",
     "text": [
      "Warning: Unexpected label at index 11842: 'quantum amplitude estimation'\n"
     ]
    },
    {
     "name": "stderr",
     "output_type": "stream",
     "text": [
      "Classifying:  25%|██████████████▎                                           | 11856/47871 [4:42:51<13:15:15,  1.32s/it]"
     ]
    },
    {
     "name": "stdout",
     "output_type": "stream",
     "text": [
      "Warning: Unexpected label at index 11856: 'classical artificial intelligence'\n"
     ]
    },
    {
     "name": "stderr",
     "output_type": "stream",
     "text": [
      "Classifying:  25%|██████████████▋                                            | 11877/47871 [4:43:15<9:52:42,  1.01it/s]"
     ]
    },
    {
     "name": "stdout",
     "output_type": "stream",
     "text": [
      "Warning: Unexpected label at index 11877: 'quantum circuits'\n"
     ]
    },
    {
     "name": "stderr",
     "output_type": "stream",
     "text": [
      "Classifying:  25%|██████████████▋                                            | 11893/47871 [4:43:33<9:55:17,  1.01it/s]"
     ]
    },
    {
     "name": "stdout",
     "output_type": "stream",
     "text": [
      "Warning: Unexpected label at index 11893: 'quantum circuit'\n"
     ]
    },
    {
     "name": "stderr",
     "output_type": "stream",
     "text": [
      "Classifying:  25%|██████████████▍                                           | 11914/47871 [4:43:59<10:20:52,  1.04s/it]"
     ]
    },
    {
     "name": "stdout",
     "output_type": "stream",
     "text": [
      "Warning: Unexpected label at index 11914: 'quantum gates'\n"
     ]
    },
    {
     "name": "stderr",
     "output_type": "stream",
     "text": [
      "Classifying:  25%|██████████████▍                                           | 11927/47871 [4:44:12<10:06:47,  1.01s/it]"
     ]
    },
    {
     "name": "stdout",
     "output_type": "stream",
     "text": [
      "Warning: Unexpected label at index 11927: 'quantum coating'\n"
     ]
    },
    {
     "name": "stderr",
     "output_type": "stream",
     "text": [
      "Classifying:  25%|██████████████▍                                           | 11947/47871 [4:44:34<11:22:06,  1.14s/it]"
     ]
    },
    {
     "name": "stdout",
     "output_type": "stream",
     "text": [
      "Warning: Unexpected label at index 11947: 'quantum circuits'\n"
     ]
    },
    {
     "name": "stderr",
     "output_type": "stream",
     "text": [
      "Classifying:  25%|██████████████▌                                           | 11977/47871 [4:45:17<13:51:14,  1.39s/it]"
     ]
    },
    {
     "name": "stdout",
     "output_type": "stream",
     "text": [
      "Warning: Unexpected label at index 11977: 'quantum clustering'\n"
     ]
    },
    {
     "name": "stderr",
     "output_type": "stream",
     "text": [
      "Classifying:  25%|██████████████▌                                           | 11982/47871 [4:45:23<10:53:40,  1.09s/it]"
     ]
    },
    {
     "name": "stdout",
     "output_type": "stream",
     "text": [
      "Warning: Unexpected label at index 11982: 'quantum error detection'\n"
     ]
    },
    {
     "name": "stderr",
     "output_type": "stream",
     "text": [
      "Classifying:  25%|██████████████▌                                           | 11987/47871 [4:45:41<36:39:25,  3.68s/it]"
     ]
    },
    {
     "name": "stdout",
     "output_type": "stream",
     "text": [
      "Warning: Unexpected label at index 11987: 'quantum error detection'\n"
     ]
    },
    {
     "name": "stderr",
     "output_type": "stream",
     "text": [
      "Classifying:  25%|██████████████▌                                           | 11994/47871 [4:45:48<12:47:22,  1.28s/it]"
     ]
    },
    {
     "name": "stdout",
     "output_type": "stream",
     "text": [
      "Warning: Unexpected label at index 11994: 'quantum circuit synthesis'\n"
     ]
    },
    {
     "name": "stderr",
     "output_type": "stream",
     "text": [
      "Classifying:  25%|██████████████▌                                           | 11998/47871 [4:45:52<10:58:23,  1.10s/it]"
     ]
    },
    {
     "name": "stdout",
     "output_type": "stream",
     "text": [
      "Warning: Unexpected label at index 11998: 'quantum random number generation'\n"
     ]
    },
    {
     "name": "stderr",
     "output_type": "stream",
     "text": [
      "Classifying:  25%|██████████████▌                                           | 11999/47871 [4:45:53<10:41:26,  1.07s/it]"
     ]
    },
    {
     "name": "stdout",
     "output_type": "stream",
     "text": [
      "→ Saved checkpoint for rows 0–12000\n"
     ]
    },
    {
     "name": "stderr",
     "output_type": "stream",
     "text": [
      "Classifying:  25%|██████████████▌                                           | 12029/47871 [4:46:42<11:38:36,  1.17s/it]"
     ]
    },
    {
     "name": "stdout",
     "output_type": "stream",
     "text": [
      "Warning: Unexpected label at index 12029: 'quantum state preparation'\n"
     ]
    },
    {
     "name": "stderr",
     "output_type": "stream",
     "text": [
      "Classifying:  25%|██████████████▌                                           | 12035/47871 [4:46:48<11:19:50,  1.14s/it]"
     ]
    },
    {
     "name": "stdout",
     "output_type": "stream",
     "text": [
      "Warning: Unexpected label at index 12035: 'quantum transduction'\n"
     ]
    },
    {
     "name": "stderr",
     "output_type": "stream",
     "text": [
      "Classifying:  25%|██████████████▌                                           | 12041/47871 [4:46:55<10:31:41,  1.06s/it]"
     ]
    },
    {
     "name": "stdout",
     "output_type": "stream",
     "text": [
      "Warning: Unexpected label at index 12041: 'quantum gate benchmarking'\n"
     ]
    },
    {
     "name": "stderr",
     "output_type": "stream",
     "text": [
      "Classifying:  25%|██████████████▌                                           | 12066/47871 [4:47:22<10:24:32,  1.05s/it]"
     ]
    },
    {
     "name": "stdout",
     "output_type": "stream",
     "text": [
      "Warning: Unexpected label at index 12065: 'quantum dot'\n"
     ]
    },
    {
     "name": "stderr",
     "output_type": "stream",
     "text": [
      "Classifying:  25%|██████████████▋                                           | 12092/47871 [4:48:10<11:38:20,  1.17s/it]"
     ]
    },
    {
     "name": "stdout",
     "output_type": "stream",
     "text": [
      "Warning: Unexpected label at index 12092: 'quantum feature kernel estimation'\n"
     ]
    },
    {
     "name": "stderr",
     "output_type": "stream",
     "text": [
      "Classifying:  25%|██████████████▋                                           | 12113/47871 [4:48:44<12:42:01,  1.28s/it]"
     ]
    },
    {
     "name": "stdout",
     "output_type": "stream",
     "text": [
      "Warning: Unexpected label at index 12113: 'quantum transduction'\n"
     ]
    },
    {
     "name": "stderr",
     "output_type": "stream",
     "text": [
      "Classifying:  25%|██████████████▉                                            | 12132/47871 [4:49:06<9:28:17,  1.05it/s]"
     ]
    },
    {
     "name": "stdout",
     "output_type": "stream",
     "text": [
      "Warning: Unexpected label at index 12132: 'quantum transducers'\n"
     ]
    },
    {
     "name": "stderr",
     "output_type": "stream",
     "text": [
      "Classifying:  25%|██████████████▋                                           | 12166/47871 [4:49:50<12:29:02,  1.26s/it]"
     ]
    },
    {
     "name": "stdout",
     "output_type": "stream",
     "text": [
      "Warning: Unexpected label at index 12166: 'quantum state preparation'\n"
     ]
    },
    {
     "name": "stderr",
     "output_type": "stream",
     "text": [
      "Classifying:  25%|██████████████▊                                           | 12188/47871 [4:50:22<13:59:26,  1.41s/it]"
     ]
    },
    {
     "name": "stdout",
     "output_type": "stream",
     "text": [
      "Warning: Unexpected label at index 12188: 'quantum scheduling'\n"
     ]
    },
    {
     "name": "stderr",
     "output_type": "stream",
     "text": [
      "Classifying:  26%|██████████████▊                                           | 12256/47871 [4:51:55<15:10:21,  1.53s/it]"
     ]
    },
    {
     "name": "stdout",
     "output_type": "stream",
     "text": [
      "Warning: Unexpected label at index 12256: 'quantum error detection'\n"
     ]
    },
    {
     "name": "stderr",
     "output_type": "stream",
     "text": [
      "Classifying:  26%|██████████████▊                                           | 12269/47871 [4:52:13<17:41:27,  1.79s/it]"
     ]
    },
    {
     "name": "stdout",
     "output_type": "stream",
     "text": [
      "Warning: Unexpected label at index 12269: 'quantum interference'\n"
     ]
    },
    {
     "name": "stderr",
     "output_type": "stream",
     "text": [
      "Classifying:  26%|██████████████▉                                           | 12291/47871 [4:52:38<10:37:30,  1.08s/it]"
     ]
    },
    {
     "name": "stdout",
     "output_type": "stream",
     "text": [
      "Warning: Unexpected label at index 12291: 'quantum error detection'\n"
     ]
    },
    {
     "name": "stderr",
     "output_type": "stream",
     "text": [
      "Classifying:  26%|███████████████▏                                           | 12294/47871 [4:52:41<9:51:02,  1.00it/s]"
     ]
    },
    {
     "name": "stdout",
     "output_type": "stream",
     "text": [
      "Warning: Unexpected label at index 12294: 'quantum consensus'\n"
     ]
    },
    {
     "name": "stderr",
     "output_type": "stream",
     "text": [
      "Classifying:  26%|██████████████▉                                           | 12329/47871 [4:53:32<11:02:45,  1.12s/it]"
     ]
    },
    {
     "name": "stdout",
     "output_type": "stream",
     "text": [
      "Warning: Unexpected label at index 12329: 'quantum interference'\n"
     ]
    },
    {
     "name": "stderr",
     "output_type": "stream",
     "text": [
      "Classifying:  26%|███████████████                                           | 12401/47871 [4:55:07<11:39:43,  1.18s/it]"
     ]
    },
    {
     "name": "stdout",
     "output_type": "stream",
     "text": [
      "Warning: Unexpected label at index 12401: 'quantum amplification'\n"
     ]
    },
    {
     "name": "stderr",
     "output_type": "stream",
     "text": [
      "Classifying:  26%|███████████████▏                                          | 12522/47871 [4:57:43<10:26:31,  1.06s/it]"
     ]
    },
    {
     "name": "stdout",
     "output_type": "stream",
     "text": [
      "Warning: Unexpected label at index 12522: 'quantum random number generation'\n"
     ]
    },
    {
     "name": "stderr",
     "output_type": "stream",
     "text": [
      "Classifying:  26%|███████████████▏                                          | 12558/47871 [4:58:34<14:07:11,  1.44s/it]"
     ]
    },
    {
     "name": "stdout",
     "output_type": "stream",
     "text": [
      "Warning: Unexpected label at index 12558: 'quantum computing tools'\n"
     ]
    },
    {
     "name": "stderr",
     "output_type": "stream",
     "text": [
      "Classifying:  26%|███████████████▎                                          | 12608/47871 [4:59:33<11:45:36,  1.20s/it]"
     ]
    },
    {
     "name": "stdout",
     "output_type": "stream",
     "text": [
      "Warning: Unexpected label at index 12608: 'quantum spin hall insulator'\n"
     ]
    },
    {
     "name": "stderr",
     "output_type": "stream",
     "text": [
      "Classifying:  26%|███████████████▎                                          | 12625/47871 [4:59:54<13:59:42,  1.43s/it]"
     ]
    },
    {
     "name": "stdout",
     "output_type": "stream",
     "text": [
      "Warning: Unexpected label at index 12625: 'quantum optics'\n"
     ]
    },
    {
     "name": "stderr",
     "output_type": "stream",
     "text": [
      "Classifying:  26%|███████████████▎                                          | 12647/47871 [5:00:22<15:36:54,  1.60s/it]"
     ]
    },
    {
     "name": "stdout",
     "output_type": "stream",
     "text": [
      "Warning: Unexpected label at index 12647: 'quantum random number generation'\n"
     ]
    },
    {
     "name": "stderr",
     "output_type": "stream",
     "text": [
      "Classifying:  26%|███████████████▎                                          | 12668/47871 [5:00:45<10:10:43,  1.04s/it]"
     ]
    },
    {
     "name": "stdout",
     "output_type": "stream",
     "text": [
      "Warning: Unexpected label at index 12668: 'quantum random number generation'\n"
     ]
    },
    {
     "name": "stderr",
     "output_type": "stream",
     "text": [
      "Classifying:  26%|███████████████▎                                          | 12674/47871 [5:00:51<10:11:15,  1.04s/it]"
     ]
    },
    {
     "name": "stdout",
     "output_type": "stream",
     "text": [
      "Warning: Unexpected label at index 12674: 'quantum spin hall insulator'\n"
     ]
    },
    {
     "name": "stderr",
     "output_type": "stream",
     "text": [
      "Classifying:  27%|███████████████▍                                          | 12728/47871 [5:01:51<10:48:57,  1.11s/it]"
     ]
    },
    {
     "name": "stdout",
     "output_type": "stream",
     "text": [
      "Warning: Unexpected label at index 12728: 'quantum random number generation'\n"
     ]
    },
    {
     "name": "stderr",
     "output_type": "stream",
     "text": [
      "Classifying:  27%|███████████████▋                                           | 12730/47871 [5:01:53<9:59:51,  1.02s/it]"
     ]
    },
    {
     "name": "stdout",
     "output_type": "stream",
     "text": [
      "Warning: Unexpected label at index 12730: 'quantum spin hall insulator'\n"
     ]
    },
    {
     "name": "stderr",
     "output_type": "stream",
     "text": [
      "Classifying:  27%|███████████████▋                                           | 12741/47871 [5:02:04<9:26:41,  1.03it/s]"
     ]
    },
    {
     "name": "stdout",
     "output_type": "stream",
     "text": [
      "Warning: Unexpected label at index 12741: 'quantum state preparation'\n"
     ]
    },
    {
     "name": "stderr",
     "output_type": "stream",
     "text": [
      "Classifying:  27%|███████████████▋                                           | 12746/47871 [5:02:10<9:52:08,  1.01s/it]"
     ]
    },
    {
     "name": "stdout",
     "output_type": "stream",
     "text": [
      "Warning: Unexpected label at index 12746: 'quantum optics'\n"
     ]
    },
    {
     "name": "stderr",
     "output_type": "stream",
     "text": [
      "Classifying:  27%|███████████████▌                                          | 12799/47871 [5:03:18<14:10:16,  1.45s/it]"
     ]
    },
    {
     "name": "stdout",
     "output_type": "stream",
     "text": [
      "Warning: Unexpected label at index 12799: 'quantum optics'\n"
     ]
    },
    {
     "name": "stderr",
     "output_type": "stream",
     "text": [
      "Classifying:  27%|███████████████▌                                          | 12825/47871 [5:03:51<10:00:26,  1.03s/it]"
     ]
    },
    {
     "name": "stdout",
     "output_type": "stream",
     "text": [
      "Warning: Unexpected label at index 12825: 'quantum imaging'\n"
     ]
    },
    {
     "name": "stderr",
     "output_type": "stream",
     "text": [
      "Classifying:  27%|███████████████▌                                          | 12845/47871 [5:04:21<24:54:55,  2.56s/it]"
     ]
    },
    {
     "name": "stdout",
     "output_type": "stream",
     "text": [
      "Warning: Unexpected label at index 12845: 'quantum dot structure'\n"
     ]
    },
    {
     "name": "stderr",
     "output_type": "stream",
     "text": [
      "Classifying:  27%|███████████████▌                                          | 12850/47871 [5:04:33<31:13:19,  3.21s/it]"
     ]
    },
    {
     "name": "stdout",
     "output_type": "stream",
     "text": [
      "Warning: Unexpected label at index 12850: 'quantum walk'\n"
     ]
    },
    {
     "name": "stderr",
     "output_type": "stream",
     "text": [
      "Classifying:  27%|███████████████▌                                          | 12857/47871 [5:04:46<19:43:05,  2.03s/it]"
     ]
    },
    {
     "name": "stdout",
     "output_type": "stream",
     "text": [
      "Warning: Unexpected label at index 12857: 'quantum entanglement'\n"
     ]
    },
    {
     "name": "stderr",
     "output_type": "stream",
     "text": [
      "Classifying:  27%|███████████████▌                                          | 12863/47871 [5:04:54<13:29:43,  1.39s/it]"
     ]
    },
    {
     "name": "stdout",
     "output_type": "stream",
     "text": [
      "Warning: Unexpected label at index 12863: 'quantum architecture'\n"
     ]
    },
    {
     "name": "stderr",
     "output_type": "stream",
     "text": [
      "Classifying:  27%|███████████████▌                                          | 12882/47871 [5:05:25<12:44:53,  1.31s/it]"
     ]
    },
    {
     "name": "stdout",
     "output_type": "stream",
     "text": [
      "Warning: Unexpected label at index 12882: 'quantum measurement'\n"
     ]
    },
    {
     "name": "stderr",
     "output_type": "stream",
     "text": [
      "Classifying:  27%|███████████████▋                                          | 12937/47871 [5:06:45<16:18:41,  1.68s/it]"
     ]
    },
    {
     "name": "stdout",
     "output_type": "stream",
     "text": [
      "Warning: Unexpected label at index 12937: 'quantum optics'\n"
     ]
    },
    {
     "name": "stderr",
     "output_type": "stream",
     "text": [
      "Classifying:  27%|███████████████▋                                          | 12938/47871 [5:06:46<14:08:44,  1.46s/it]"
     ]
    },
    {
     "name": "stdout",
     "output_type": "stream",
     "text": [
      "Warning: Unexpected label at index 12938: 'quantum optics'\n"
     ]
    },
    {
     "name": "stderr",
     "output_type": "stream",
     "text": [
      "Classifying:  27%|███████████████▉                                           | 12956/47871 [5:07:05<9:59:04,  1.03s/it]"
     ]
    },
    {
     "name": "stdout",
     "output_type": "stream",
     "text": [
      "Warning: Unexpected label at index 12956: 'quantum random access memory'\n"
     ]
    },
    {
     "name": "stderr",
     "output_type": "stream",
     "text": [
      "Classifying:  27%|████████████████                                           | 13008/47871 [5:08:18<9:36:13,  1.01it/s]"
     ]
    },
    {
     "name": "stdout",
     "output_type": "stream",
     "text": [
      "Warning: Unexpected label at index 13008: 'quantum sources'\n"
     ]
    },
    {
     "name": "stderr",
     "output_type": "stream",
     "text": [
      "Classifying:  27%|████████████████                                           | 13009/47871 [5:08:19<9:53:42,  1.02s/it]"
     ]
    },
    {
     "name": "stdout",
     "output_type": "stream",
     "text": [
      "Warning: Unexpected label at index 13009: 'quantum gates'\n"
     ]
    },
    {
     "name": "stderr",
     "output_type": "stream",
     "text": [
      "Classifying:  27%|███████████████▊                                          | 13036/47871 [5:08:51<11:03:57,  1.14s/it]"
     ]
    },
    {
     "name": "stdout",
     "output_type": "stream",
     "text": [
      "Warning: Unexpected label at index 13036: 'quantum optics'\n"
     ]
    },
    {
     "name": "stderr",
     "output_type": "stream",
     "text": [
      "Classifying:  27%|███████████████▉                                          | 13125/47871 [5:10:51<14:27:09,  1.50s/it]"
     ]
    },
    {
     "name": "stdout",
     "output_type": "stream",
     "text": [
      "Warning: Unexpected label at index 13125: 'quantum measurement'\n"
     ]
    },
    {
     "name": "stderr",
     "output_type": "stream",
     "text": [
      "Classifying:  27%|███████████████▉                                          | 13131/47871 [5:10:58<11:57:25,  1.24s/it]"
     ]
    },
    {
     "name": "stdout",
     "output_type": "stream",
     "text": [
      "Warning: Unexpected label at index 13131: 'quantum entanglement'\n"
     ]
    },
    {
     "name": "stderr",
     "output_type": "stream",
     "text": [
      "Classifying:  28%|███████████████▉                                          | 13194/47871 [5:12:13<11:26:04,  1.19s/it]"
     ]
    },
    {
     "name": "stdout",
     "output_type": "stream",
     "text": [
      "Warning: Unexpected label at index 13194: 'quantum entanglement'\n"
     ]
    },
    {
     "name": "stderr",
     "output_type": "stream",
     "text": [
      "Classifying:  28%|████████████████                                          | 13272/47871 [5:14:00<30:17:11,  3.15s/it]"
     ]
    },
    {
     "name": "stdout",
     "output_type": "stream",
     "text": [
      "Warning: Unexpected label at index 13272: 'quantum circuit modeling'\n"
     ]
    },
    {
     "name": "stderr",
     "output_type": "stream",
     "text": [
      "Classifying:  28%|████████████████▏                                         | 13310/47871 [5:14:56<14:32:56,  1.52s/it]"
     ]
    },
    {
     "name": "stdout",
     "output_type": "stream",
     "text": [
      "Warning: Unexpected label at index 13310: 'quantum optics'\n"
     ]
    },
    {
     "name": "stderr",
     "output_type": "stream",
     "text": [
      "Classifying:  28%|████████████████▏                                         | 13321/47871 [5:15:08<10:45:44,  1.12s/it]"
     ]
    },
    {
     "name": "stdout",
     "output_type": "stream",
     "text": [
      "Warning: Unexpected label at index 13321: 'quantum data erasure'\n"
     ]
    },
    {
     "name": "stderr",
     "output_type": "stream",
     "text": [
      "Classifying:  28%|████████████████▏                                         | 13347/47871 [5:15:38<12:09:36,  1.27s/it]"
     ]
    },
    {
     "name": "stdout",
     "output_type": "stream",
     "text": [
      "Warning: Unexpected label at index 13347: 'quantum readout'\n"
     ]
    },
    {
     "name": "stderr",
     "output_type": "stream",
     "text": [
      "Classifying:  28%|████████████████▏                                         | 13354/47871 [5:15:47<11:34:35,  1.21s/it]"
     ]
    },
    {
     "name": "stdout",
     "output_type": "stream",
     "text": [
      "Warning: Unexpected label at index 13354: 'quantum data erasure'\n"
     ]
    },
    {
     "name": "stderr",
     "output_type": "stream",
     "text": [
      "Classifying:  28%|████████████████▏                                         | 13355/47871 [5:15:49<12:26:53,  1.30s/it]"
     ]
    },
    {
     "name": "stdout",
     "output_type": "stream",
     "text": [
      "Warning: Unexpected label at index 13355: 'quantum similarity'\n"
     ]
    },
    {
     "name": "stderr",
     "output_type": "stream",
     "text": [
      "Classifying:  28%|████████████████▏                                         | 13363/47871 [5:16:00<12:25:31,  1.30s/it]"
     ]
    },
    {
     "name": "stdout",
     "output_type": "stream",
     "text": [
      "Warning: Unexpected label at index 13363: 'quantum optics'\n"
     ]
    },
    {
     "name": "stderr",
     "output_type": "stream",
     "text": [
      "Classifying:  28%|████████████████▏                                         | 13394/47871 [5:16:38<13:08:13,  1.37s/it]"
     ]
    },
    {
     "name": "stdout",
     "output_type": "stream",
     "text": [
      "Warning: Unexpected label at index 13394: 'quantum entanglement'\n"
     ]
    },
    {
     "name": "stderr",
     "output_type": "stream",
     "text": [
      "Classifying:  28%|████████████████▎                                         | 13492/47871 [5:18:32<11:50:26,  1.24s/it]"
     ]
    },
    {
     "name": "stdout",
     "output_type": "stream",
     "text": [
      "Warning: Unexpected label at index 13492: 'quantum circuit modeling'\n"
     ]
    },
    {
     "name": "stderr",
     "output_type": "stream",
     "text": [
      "Classifying:  28%|████████████████▎                                         | 13504/47871 [5:18:46<10:37:41,  1.11s/it]"
     ]
    },
    {
     "name": "stdout",
     "output_type": "stream",
     "text": [
      "Warning: Unexpected label at index 13504: 'quantum computing (hybrid)'\n"
     ]
    },
    {
     "name": "stderr",
     "output_type": "stream",
     "text": [
      "Classifying:  28%|████████████████▍                                         | 13517/47871 [5:19:02<10:31:22,  1.10s/it]"
     ]
    },
    {
     "name": "stdout",
     "output_type": "stream",
     "text": [
      "Warning: Unexpected label at index 13517: 'quantum entanglement'\n"
     ]
    },
    {
     "name": "stderr",
     "output_type": "stream",
     "text": [
      "Classifying:  28%|████████████████▋                                          | 13532/47871 [5:19:19<9:57:46,  1.04s/it]"
     ]
    },
    {
     "name": "stdout",
     "output_type": "stream",
     "text": [
      "Warning: Unexpected label at index 13532: 'quantum interaction gates'\n"
     ]
    },
    {
     "name": "stderr",
     "output_type": "stream",
     "text": [
      "Classifying:  28%|████████████████▍                                         | 13553/47871 [5:19:46<12:10:22,  1.28s/it]"
     ]
    },
    {
     "name": "stdout",
     "output_type": "stream",
     "text": [
      "Warning: Unexpected label at index 13553: 'quantum noise'\n"
     ]
    },
    {
     "name": "stderr",
     "output_type": "stream",
     "text": [
      "Classifying:  28%|████████████████▍                                         | 13585/47871 [5:20:31<10:16:46,  1.08s/it]"
     ]
    },
    {
     "name": "stdout",
     "output_type": "stream",
     "text": [
      "Warning: Unexpected label at index 13585: 'quantum entanglement'\n"
     ]
    },
    {
     "name": "stderr",
     "output_type": "stream",
     "text": [
      "Classifying:  28%|████████████████▌                                         | 13634/47871 [5:21:40<13:44:20,  1.44s/it]"
     ]
    },
    {
     "name": "stdout",
     "output_type": "stream",
     "text": [
      "Warning: Unexpected label at index 13634: 'quantum cooling'\n"
     ]
    },
    {
     "name": "stderr",
     "output_type": "stream",
     "text": [
      "Classifying:  28%|████████████████▌                                         | 13642/47871 [5:21:49<10:17:52,  1.08s/it]"
     ]
    },
    {
     "name": "stdout",
     "output_type": "stream",
     "text": [
      "Warning: Unexpected label at index 13642: 'quantum amplitude estimation'\n"
     ]
    },
    {
     "name": "stderr",
     "output_type": "stream",
     "text": [
      "Classifying:  29%|████████████████▌                                         | 13651/47871 [5:22:03<11:48:27,  1.24s/it]"
     ]
    },
    {
     "name": "stdout",
     "output_type": "stream",
     "text": [
      "Warning: Unexpected label at index 13651: 'quantum amplitude estimation'\n"
     ]
    },
    {
     "name": "stderr",
     "output_type": "stream",
     "text": [
      "Classifying:  29%|████████████████▊                                          | 13666/47871 [5:22:20<9:35:21,  1.01s/it]"
     ]
    },
    {
     "name": "stdout",
     "output_type": "stream",
     "text": [
      "Warning: Unexpected label at index 13666: 'quantum interaction gates'\n"
     ]
    },
    {
     "name": "stderr",
     "output_type": "stream",
     "text": [
      "Classifying:  29%|████████████████▌                                         | 13667/47871 [5:22:22<14:39:04,  1.54s/it]"
     ]
    },
    {
     "name": "stdout",
     "output_type": "stream",
     "text": [
      "Warning: Unexpected label at index 13667: 'quantum entanglement'\n"
     ]
    },
    {
     "name": "stderr",
     "output_type": "stream",
     "text": [
      "Classifying:  29%|████████████████▌                                         | 13693/47871 [5:22:56<15:13:56,  1.60s/it]"
     ]
    },
    {
     "name": "stdout",
     "output_type": "stream",
     "text": [
      "Warning: Unexpected label at index 13693: 'quantum monitoring'\n"
     ]
    },
    {
     "name": "stderr",
     "output_type": "stream",
     "text": [
      "Classifying:  29%|████████████████▌                                         | 13700/47871 [5:23:03<10:05:08,  1.06s/it]"
     ]
    },
    {
     "name": "stdout",
     "output_type": "stream",
     "text": [
      "Warning: Unexpected label at index 13700: 'quantum cooling'\n"
     ]
    },
    {
     "name": "stderr",
     "output_type": "stream",
     "text": [
      "Classifying:  29%|████████████████▋                                         | 13776/47871 [5:24:50<11:21:25,  1.20s/it]"
     ]
    },
    {
     "name": "stdout",
     "output_type": "stream",
     "text": [
      "Warning: Unexpected label at index 13776: 'quantum entanglement'\n"
     ]
    },
    {
     "name": "stderr",
     "output_type": "stream",
     "text": [
      "Classifying:  29%|█████████████████                                          | 13840/47871 [5:26:14<9:13:26,  1.02it/s]"
     ]
    },
    {
     "name": "stdout",
     "output_type": "stream",
     "text": [
      "Warning: Unexpected label at index 13840: 'quantum optics'\n"
     ]
    },
    {
     "name": "stderr",
     "output_type": "stream",
     "text": [
      "Classifying:  29%|█████████████████                                          | 13844/47871 [5:26:18<8:33:33,  1.10it/s]"
     ]
    },
    {
     "name": "stdout",
     "output_type": "stream",
     "text": [
      "Warning: Unexpected label at index 13844: 'quantum efficiency'\n"
     ]
    },
    {
     "name": "stderr",
     "output_type": "stream",
     "text": [
      "Classifying:  29%|█████████████████                                          | 13877/47871 [5:26:53<9:54:06,  1.05s/it]"
     ]
    },
    {
     "name": "stdout",
     "output_type": "stream",
     "text": [
      "Warning: Unexpected label at index 13877: 'quantum detection'\n"
     ]
    },
    {
     "name": "stderr",
     "output_type": "stream",
     "text": [
      "Classifying:  29%|████████████████▊                                         | 13911/47871 [5:28:02<16:34:07,  1.76s/it]"
     ]
    },
    {
     "name": "stdout",
     "output_type": "stream",
     "text": [
      "Warning: Unexpected label at index 13911: 'quantum dot semiconductor structure'\n"
     ]
    },
    {
     "name": "stderr",
     "output_type": "stream",
     "text": [
      "Classifying:  29%|████████████████▉                                         | 14011/47871 [5:30:25<16:39:17,  1.77s/it]"
     ]
    },
    {
     "name": "stdout",
     "output_type": "stream",
     "text": [
      "Warning: Unexpected label at index 14011: 'quantum optics'\n"
     ]
    },
    {
     "name": "stderr",
     "output_type": "stream",
     "text": [
      "Classifying:  29%|████████████████▉                                         | 14020/47871 [5:30:37<12:07:27,  1.29s/it]"
     ]
    },
    {
     "name": "stdout",
     "output_type": "stream",
     "text": [
      "Warning: Unexpected label at index 14020: 'quantum optics'\n"
     ]
    },
    {
     "name": "stderr",
     "output_type": "stream",
     "text": [
      "Classifying:  29%|████████████████▉                                         | 14031/47871 [5:30:56<30:26:32,  3.24s/it]"
     ]
    },
    {
     "name": "stdout",
     "output_type": "stream",
     "text": [
      "Warning: Unexpected label at index 14031: 'quantum measurement'\n"
     ]
    },
    {
     "name": "stderr",
     "output_type": "stream",
     "text": [
      "Classifying:  29%|█████████████████▎                                         | 14050/47871 [5:31:17<9:10:24,  1.02it/s]"
     ]
    },
    {
     "name": "stdout",
     "output_type": "stream",
     "text": [
      "Warning: Unexpected label at index 14050: 'quantum efficiency'\n"
     ]
    },
    {
     "name": "stderr",
     "output_type": "stream",
     "text": [
      "Classifying:  29%|█████████████████                                         | 14073/47871 [5:31:43<11:29:47,  1.22s/it]"
     ]
    },
    {
     "name": "stdout",
     "output_type": "stream",
     "text": [
      "Warning: Unexpected label at index 14073: 'quantum dots'\n"
     ]
    },
    {
     "name": "stderr",
     "output_type": "stream",
     "text": [
      "Classifying:  29%|█████████████████                                         | 14100/47871 [5:32:16<10:06:22,  1.08s/it]"
     ]
    },
    {
     "name": "stdout",
     "output_type": "stream",
     "text": [
      "Warning: Unexpected label at index 14100: 'quantum random number generator'\n"
     ]
    },
    {
     "name": "stderr",
     "output_type": "stream",
     "text": [
      "Classifying:  29%|█████████████████▍                                         | 14103/47871 [5:32:19<9:43:21,  1.04s/it]"
     ]
    },
    {
     "name": "stdout",
     "output_type": "stream",
     "text": [
      "Warning: Unexpected label at index 14102: 'quantum random number generation'\n"
     ]
    },
    {
     "name": "stderr",
     "output_type": "stream",
     "text": [
      "Classifying:  29%|█████████████████                                         | 14109/47871 [5:32:31<27:11:42,  2.90s/it]"
     ]
    },
    {
     "name": "stdout",
     "output_type": "stream",
     "text": [
      "Warning: Unexpected label at index 14109: 'quantum materials'\n"
     ]
    },
    {
     "name": "stderr",
     "output_type": "stream",
     "text": [
      "Classifying:  30%|█████████████████▍                                         | 14129/47871 [5:32:53<9:10:26,  1.02it/s]"
     ]
    },
    {
     "name": "stdout",
     "output_type": "stream",
     "text": [
      "Warning: Unexpected label at index 14129: 'quantum random number generation'\n"
     ]
    },
    {
     "name": "stderr",
     "output_type": "stream",
     "text": [
      "Classifying:  30%|█████████████████▍                                         | 14131/47871 [5:32:56<9:53:02,  1.05s/it]"
     ]
    },
    {
     "name": "stdout",
     "output_type": "stream",
     "text": [
      "Warning: Unexpected label at index 14131: 'quantum random number generation'\n"
     ]
    },
    {
     "name": "stderr",
     "output_type": "stream",
     "text": [
      "Classifying:  30%|█████████████████▏                                        | 14161/47871 [5:33:28<10:10:17,  1.09s/it]"
     ]
    },
    {
     "name": "stdout",
     "output_type": "stream",
     "text": [
      "Warning: Unexpected label at index 14161: 'quantum random number generation'\n"
     ]
    },
    {
     "name": "stderr",
     "output_type": "stream",
     "text": [
      "Classifying:  30%|█████████████████▍                                         | 14165/47871 [5:33:32<8:43:04,  1.07it/s]"
     ]
    },
    {
     "name": "stdout",
     "output_type": "stream",
     "text": [
      "Warning: Unexpected label at index 14165: 'quantum materials'\n"
     ]
    },
    {
     "name": "stderr",
     "output_type": "stream",
     "text": [
      "Classifying:  30%|█████████████████▏                                        | 14172/47871 [5:33:39<10:05:19,  1.08s/it]"
     ]
    },
    {
     "name": "stdout",
     "output_type": "stream",
     "text": [
      "Warning: Unexpected label at index 14172: 'quantum measurement'\n"
     ]
    },
    {
     "name": "stderr",
     "output_type": "stream",
     "text": [
      "Classifying:  30%|█████████████████▏                                        | 14178/47871 [5:33:54<18:49:15,  2.01s/it]"
     ]
    },
    {
     "name": "stdout",
     "output_type": "stream",
     "text": [
      "Warning: Unexpected label at index 14178: 'quantum optics'\n"
     ]
    },
    {
     "name": "stderr",
     "output_type": "stream",
     "text": [
      "Classifying:  30%|█████████████████▏                                        | 14190/47871 [5:34:16<15:04:51,  1.61s/it]"
     ]
    },
    {
     "name": "stdout",
     "output_type": "stream",
     "text": [
      "Warning: Unexpected label at index 14190: 'quantum optics'\n"
     ]
    },
    {
     "name": "stderr",
     "output_type": "stream",
     "text": [
      "Classifying:  30%|█████████████████▌                                         | 14212/47871 [5:34:40<9:41:38,  1.04s/it]"
     ]
    },
    {
     "name": "stdout",
     "output_type": "stream",
     "text": [
      "Warning: Unexpected label at index 14212: 'quantum measurement'\n"
     ]
    },
    {
     "name": "stderr",
     "output_type": "stream",
     "text": [
      "Classifying:  30%|█████████████████▏                                        | 14219/47871 [5:34:50<12:50:20,  1.37s/it]"
     ]
    },
    {
     "name": "stdout",
     "output_type": "stream",
     "text": [
      "Warning: Unexpected label at index 14219: 'quantum random number generation'\n"
     ]
    },
    {
     "name": "stderr",
     "output_type": "stream",
     "text": [
      "Classifying:  30%|█████████████████▏                                        | 14222/47871 [5:34:53<10:09:47,  1.09s/it]"
     ]
    },
    {
     "name": "stdout",
     "output_type": "stream",
     "text": [
      "Warning: Unexpected label at index 14222: 'quantum random number generation'\n"
     ]
    },
    {
     "name": "stderr",
     "output_type": "stream",
     "text": [
      "Classifying:  30%|█████████████████▎                                        | 14239/47871 [5:35:13<10:53:08,  1.17s/it]"
     ]
    },
    {
     "name": "stdout",
     "output_type": "stream",
     "text": [
      "Warning: Unexpected label at index 14239: 'quantum entanglement'\n"
     ]
    },
    {
     "name": "stderr",
     "output_type": "stream",
     "text": [
      "Classifying:  30%|█████████████████▎                                        | 14276/47871 [5:36:01<11:42:35,  1.25s/it]"
     ]
    },
    {
     "name": "stdout",
     "output_type": "stream",
     "text": [
      "Warning: Unexpected label at index 14276: 'quantum transduction'\n"
     ]
    },
    {
     "name": "stderr",
     "output_type": "stream",
     "text": [
      "Classifying:  30%|█████████████████▎                                        | 14285/47871 [5:36:11<10:04:12,  1.08s/it]"
     ]
    },
    {
     "name": "stdout",
     "output_type": "stream",
     "text": [
      "Warning: Unexpected label at index 14285: 'quantum random number generation'\n"
     ]
    },
    {
     "name": "stderr",
     "output_type": "stream",
     "text": [
      "Classifying:  30%|█████████████████▎                                        | 14335/47871 [5:37:19<13:33:56,  1.46s/it]"
     ]
    },
    {
     "name": "stdout",
     "output_type": "stream",
     "text": [
      "Warning: Unexpected label at index 14335: 'quantum transduction'\n"
     ]
    },
    {
     "name": "stderr",
     "output_type": "stream",
     "text": [
      "Classifying:  30%|█████████████████▍                                        | 14342/47871 [5:37:26<10:19:05,  1.11s/it]"
     ]
    },
    {
     "name": "stdout",
     "output_type": "stream",
     "text": [
      "Warning: Unexpected label at index 14342: 'quantum entanglement'\n"
     ]
    },
    {
     "name": "stderr",
     "output_type": "stream",
     "text": [
      "Classifying:  30%|█████████████████▍                                        | 14395/47871 [5:38:39<23:33:41,  2.53s/it]"
     ]
    },
    {
     "name": "stdout",
     "output_type": "stream",
     "text": [
      "Warning: Unexpected label at index 14395: 'quantum entanglement'\n"
     ]
    },
    {
     "name": "stderr",
     "output_type": "stream",
     "text": [
      "Classifying:  30%|█████████████████▍                                        | 14405/47871 [5:38:50<11:11:42,  1.20s/it]"
     ]
    },
    {
     "name": "stdout",
     "output_type": "stream",
     "text": [
      "Warning: Unexpected label at index 14405: 'quantum random number generator'\n"
     ]
    },
    {
     "name": "stderr",
     "output_type": "stream",
     "text": [
      "Classifying:  30%|█████████████████▌                                        | 14468/47871 [5:40:03<10:34:49,  1.14s/it]"
     ]
    },
    {
     "name": "stdout",
     "output_type": "stream",
     "text": [
      "Warning: Unexpected label at index 14468: 'quantum optics'\n"
     ]
    },
    {
     "name": "stderr",
     "output_type": "stream",
     "text": [
      "Classifying:  30%|█████████████████▌                                        | 14474/47871 [5:40:09<10:04:24,  1.09s/it]"
     ]
    },
    {
     "name": "stdout",
     "output_type": "stream",
     "text": [
      "Warning: Unexpected label at index 14474: 'quantum entanglement'\n"
     ]
    },
    {
     "name": "stderr",
     "output_type": "stream",
     "text": [
      "Classifying:  30%|█████████████████▌                                        | 14502/47871 [5:40:39<10:32:25,  1.14s/it]"
     ]
    },
    {
     "name": "stdout",
     "output_type": "stream",
     "text": [
      "Warning: Unexpected label at index 14502: 'quantum estimation'\n"
     ]
    },
    {
     "name": "stderr",
     "output_type": "stream",
     "text": [
      "Classifying:  30%|█████████████████▌                                        | 14515/47871 [5:41:08<13:35:26,  1.47s/it]"
     ]
    },
    {
     "name": "stdout",
     "output_type": "stream",
     "text": [
      "Warning: Unexpected label at index 14515: 'quantum entanglement'\n"
     ]
    },
    {
     "name": "stderr",
     "output_type": "stream",
     "text": [
      "Classifying:  30%|█████████████████▋                                        | 14570/47871 [5:42:11<11:20:16,  1.23s/it]"
     ]
    },
    {
     "name": "stdout",
     "output_type": "stream",
     "text": [
      "Warning: Unexpected label at index 14570: 'quantum language processing'\n"
     ]
    },
    {
     "name": "stderr",
     "output_type": "stream",
     "text": [
      "Classifying:  30%|█████████████████▉                                         | 14580/47871 [5:42:21<9:40:52,  1.05s/it]"
     ]
    },
    {
     "name": "stdout",
     "output_type": "stream",
     "text": [
      "Warning: Unexpected label at index 14580: 'quantum entanglement'\n"
     ]
    },
    {
     "name": "stderr",
     "output_type": "stream",
     "text": [
      "Classifying:  30%|█████████████████▉                                         | 14596/47871 [5:42:38<8:48:00,  1.05it/s]"
     ]
    },
    {
     "name": "stdout",
     "output_type": "stream",
     "text": [
      "Warning: Unexpected label at index 14596: 'quantum entanglement'\n"
     ]
    },
    {
     "name": "stderr",
     "output_type": "stream",
     "text": [
      "Classifying:  31%|██████████████████▏                                        | 14745/47871 [5:45:57<9:12:49,  1.00s/it]"
     ]
    },
    {
     "name": "stdout",
     "output_type": "stream",
     "text": [
      "Warning: Unexpected label at index 14745: 'quantum entanglement'\n"
     ]
    },
    {
     "name": "stderr",
     "output_type": "stream",
     "text": [
      "Classifying:  31%|█████████████████▉                                        | 14789/47871 [5:46:51<12:44:50,  1.39s/it]"
     ]
    },
    {
     "name": "stdout",
     "output_type": "stream",
     "text": [
      "Warning: Unexpected label at index 14789: 'quantum measurement'\n"
     ]
    },
    {
     "name": "stderr",
     "output_type": "stream",
     "text": [
      "Classifying:  31%|█████████████████▉                                        | 14816/47871 [5:47:21<10:17:25,  1.12s/it]"
     ]
    },
    {
     "name": "stdout",
     "output_type": "stream",
     "text": [
      "Warning: Unexpected label at index 14816: 'quantum imaging'\n"
     ]
    },
    {
     "name": "stderr",
     "output_type": "stream",
     "text": [
      "Classifying:  31%|██████████████████▍                                        | 14974/47871 [5:50:56<9:18:14,  1.02s/it]"
     ]
    },
    {
     "name": "stdout",
     "output_type": "stream",
     "text": [
      "Warning: Unexpected label at index 14974: 'quantum entanglement'\n"
     ]
    },
    {
     "name": "stderr",
     "output_type": "stream",
     "text": [
      "Classifying:  31%|██████████████████▏                                       | 14984/47871 [5:51:07<10:05:27,  1.10s/it]"
     ]
    },
    {
     "name": "stdout",
     "output_type": "stream",
     "text": [
      "Warning: Unexpected label at index 14984: 'quantum yield calculation'\n"
     ]
    },
    {
     "name": "stderr",
     "output_type": "stream",
     "text": [
      "Classifying:  31%|██████████████████▏                                       | 14991/47871 [5:51:16<12:09:38,  1.33s/it]"
     ]
    },
    {
     "name": "stdout",
     "output_type": "stream",
     "text": [
      "Warning: Unexpected label at index 14991: 'quantum entanglement'\n"
     ]
    },
    {
     "name": "stderr",
     "output_type": "stream",
     "text": [
      "Classifying:  31%|██████████████████▏                                       | 14992/47871 [5:51:17<12:27:00,  1.36s/it]"
     ]
    },
    {
     "name": "stdout",
     "output_type": "stream",
     "text": [
      "Warning: Unexpected label at index 14992: 'quantum optics'\n"
     ]
    },
    {
     "name": "stderr",
     "output_type": "stream",
     "text": [
      "Classifying:  31%|██████████████████▏                                       | 15021/47871 [5:51:58<10:17:08,  1.13s/it]"
     ]
    },
    {
     "name": "stdout",
     "output_type": "stream",
     "text": [
      "Warning: Unexpected label at index 15021: 'quantum dot'\n"
     ]
    },
    {
     "name": "stderr",
     "output_type": "stream",
     "text": [
      "Classifying:  31%|██████████████████▌                                        | 15023/47871 [5:52:01<9:50:17,  1.08s/it]"
     ]
    },
    {
     "name": "stdout",
     "output_type": "stream",
     "text": [
      "Warning: Unexpected label at index 15023: 'quantum random number generator'\n"
     ]
    },
    {
     "name": "stderr",
     "output_type": "stream",
     "text": [
      "Classifying:  31%|██████████████████▌                                        | 15033/47871 [5:52:10<8:53:31,  1.03it/s]"
     ]
    },
    {
     "name": "stdout",
     "output_type": "stream",
     "text": [
      "Warning: Unexpected label at index 15033: 'quantum optics'\n"
     ]
    },
    {
     "name": "stderr",
     "output_type": "stream",
     "text": [
      "Classifying:  31%|██████████████████▌                                        | 15037/47871 [5:52:14<8:29:57,  1.07it/s]"
     ]
    },
    {
     "name": "stdout",
     "output_type": "stream",
     "text": [
      "Warning: Unexpected label at index 15037: 'quantum entanglement'\n"
     ]
    },
    {
     "name": "stderr",
     "output_type": "stream",
     "text": [
      "Classifying:  31%|██████████████████▌                                        | 15046/47871 [5:52:23<9:00:28,  1.01it/s]"
     ]
    },
    {
     "name": "stdout",
     "output_type": "stream",
     "text": [
      "Warning: Unexpected label at index 15046: 'quantum gravity'\n"
     ]
    },
    {
     "name": "stderr",
     "output_type": "stream",
     "text": [
      "Classifying:  31%|██████████████████▌                                        | 15055/47871 [5:52:32<8:51:59,  1.03it/s]"
     ]
    },
    {
     "name": "stdout",
     "output_type": "stream",
     "text": [
      "Warning: Unexpected label at index 15055: 'quantum amplifiers'\n"
     ]
    },
    {
     "name": "stderr",
     "output_type": "stream",
     "text": [
      "Classifying:  31%|██████████████████▎                                       | 15065/47871 [5:52:49<22:29:03,  2.47s/it]"
     ]
    },
    {
     "name": "stdout",
     "output_type": "stream",
     "text": [
      "Warning: Unexpected label at index 15065: 'quantum optics'\n"
     ]
    },
    {
     "name": "stderr",
     "output_type": "stream",
     "text": [
      "Classifying:  31%|██████████████████▎                                       | 15074/47871 [5:53:00<12:33:06,  1.38s/it]"
     ]
    },
    {
     "name": "stdout",
     "output_type": "stream",
     "text": [
      "Warning: Unexpected label at index 15074: 'quantum yield calculation'\n"
     ]
    },
    {
     "name": "stderr",
     "output_type": "stream",
     "text": [
      "Classifying:  32%|██████████████████▌                                        | 15089/47871 [5:53:17<9:03:40,  1.00it/s]"
     ]
    },
    {
     "name": "stdout",
     "output_type": "stream",
     "text": [
      "Warning: Unexpected label at index 15089: 'quantum state engineering'\n"
     ]
    },
    {
     "name": "stderr",
     "output_type": "stream",
     "text": [
      "Classifying:  32%|██████████████████▎                                       | 15102/47871 [5:53:32<10:35:16,  1.16s/it]"
     ]
    },
    {
     "name": "stdout",
     "output_type": "stream",
     "text": [
      "Warning: Unexpected label at index 15102: 'quantum imaging'\n"
     ]
    },
    {
     "name": "stderr",
     "output_type": "stream",
     "text": [
      "Classifying:  32%|██████████████████▎                                       | 15158/47871 [5:54:43<26:20:46,  2.90s/it]"
     ]
    },
    {
     "name": "stdout",
     "output_type": "stream",
     "text": [
      "Warning: Unexpected label at index 15158: 'quantum entanglement'\n"
     ]
    },
    {
     "name": "stderr",
     "output_type": "stream",
     "text": [
      "Classifying:  32%|██████████████████▎                                       | 15164/47871 [5:54:49<11:05:54,  1.22s/it]"
     ]
    },
    {
     "name": "stdout",
     "output_type": "stream",
     "text": [
      "Warning: Unexpected label at index 15164: 'quantum source coding'\n"
     ]
    },
    {
     "name": "stderr",
     "output_type": "stream",
     "text": [
      "Classifying:  32%|██████████████████▍                                       | 15191/47871 [5:55:22<10:28:08,  1.15s/it]"
     ]
    },
    {
     "name": "stdout",
     "output_type": "stream",
     "text": [
      "Warning: Unexpected label at index 15191: 'quantum optics'\n"
     ]
    },
    {
     "name": "stderr",
     "output_type": "stream",
     "text": [
      "Classifying:  32%|██████████████████▍                                       | 15239/47871 [5:56:17<10:24:03,  1.15s/it]"
     ]
    },
    {
     "name": "stdout",
     "output_type": "stream",
     "text": [
      "Warning: Unexpected label at index 15239: 'quantum optics'\n"
     ]
    },
    {
     "name": "stderr",
     "output_type": "stream",
     "text": [
      "Classifying:  32%|██████████████████▍                                       | 15240/47871 [5:56:23<21:58:22,  2.42s/it]"
     ]
    },
    {
     "name": "stdout",
     "output_type": "stream",
     "text": [
      "Warning: Unexpected label at index 15240: 'quantum entanglement'\n"
     ]
    },
    {
     "name": "stderr",
     "output_type": "stream",
     "text": [
      "Classifying:  32%|██████████████████▍                                       | 15241/47871 [5:56:24<17:43:02,  1.95s/it]"
     ]
    },
    {
     "name": "stdout",
     "output_type": "stream",
     "text": [
      "Warning: Unexpected label at index 15241: 'quantum optics'\n"
     ]
    },
    {
     "name": "stderr",
     "output_type": "stream",
     "text": [
      "Classifying:  32%|██████████████████▌                                       | 15283/47871 [5:57:14<10:02:09,  1.11s/it]"
     ]
    },
    {
     "name": "stdout",
     "output_type": "stream",
     "text": [
      "Warning: Unexpected label at index 15283: 'quantum applications'\n"
     ]
    },
    {
     "name": "stderr",
     "output_type": "stream",
     "text": [
      "Classifying:  32%|██████████████████▌                                       | 15341/47871 [5:58:22<10:30:19,  1.16s/it]"
     ]
    },
    {
     "name": "stdout",
     "output_type": "stream",
     "text": [
      "Warning: Unexpected label at index 15341: 'quantum source coding'\n"
     ]
    },
    {
     "name": "stderr",
     "output_type": "stream",
     "text": [
      "Classifying:  32%|██████████████████▉                                        | 15382/47871 [5:59:07<8:33:27,  1.05it/s]"
     ]
    },
    {
     "name": "stdout",
     "output_type": "stream",
     "text": [
      "Warning: Unexpected label at index 15382: 'quantum applications'\n"
     ]
    },
    {
     "name": "stderr",
     "output_type": "stream",
     "text": [
      "Classifying:  32%|███████████████████▏                                       | 15557/47871 [6:02:44<9:20:51,  1.04s/it]"
     ]
    },
    {
     "name": "stdout",
     "output_type": "stream",
     "text": [
      "Warning: Unexpected label at index 15557: 'quantum kernel'\n"
     ]
    },
    {
     "name": "stderr",
     "output_type": "stream",
     "text": [
      "Classifying:  33%|██████████████████▉                                       | 15594/47871 [6:03:36<11:06:09,  1.24s/it]"
     ]
    },
    {
     "name": "stdout",
     "output_type": "stream",
     "text": [
      "Warning: Unexpected label at index 15594: 'quantum scanning tunneling microscopy'\n"
     ]
    },
    {
     "name": "stderr",
     "output_type": "stream",
     "text": [
      "Classifying:  33%|███████████████████▎                                       | 15691/47871 [6:05:38<8:53:50,  1.00it/s]"
     ]
    },
    {
     "name": "stdout",
     "output_type": "stream",
     "text": [
      "Warning: Unexpected label at index 15691: 'quantum energy conversion'\n"
     ]
    },
    {
     "name": "stderr",
     "output_type": "stream",
     "text": [
      "Classifying:  33%|███████████████████                                       | 15709/47871 [6:05:57<10:04:16,  1.13s/it]"
     ]
    },
    {
     "name": "stdout",
     "output_type": "stream",
     "text": [
      "Warning: Unexpected label at index 15709: 'quantum dot'\n"
     ]
    },
    {
     "name": "stderr",
     "output_type": "stream",
     "text": [
      "Classifying:  33%|███████████████████                                       | 15710/47871 [6:05:59<10:35:43,  1.19s/it]"
     ]
    },
    {
     "name": "stdout",
     "output_type": "stream",
     "text": [
      "Warning: Unexpected label at index 15710: 'quantum battery'\n"
     ]
    },
    {
     "name": "stderr",
     "output_type": "stream",
     "text": [
      "Classifying:  33%|███████████████████▎                                       | 15720/47871 [6:06:11<9:14:06,  1.03s/it]"
     ]
    },
    {
     "name": "stdout",
     "output_type": "stream",
     "text": [
      "Warning: Unexpected label at index 15720: 'quantum battery'\n"
     ]
    },
    {
     "name": "stderr",
     "output_type": "stream",
     "text": [
      "Classifying:  33%|███████████████████                                       | 15777/47871 [6:07:17<15:56:59,  1.79s/it]"
     ]
    },
    {
     "name": "stdout",
     "output_type": "stream",
     "text": [
      "Warning: Unexpected label at index 15777: 'quantum measurement'\n"
     ]
    },
    {
     "name": "stderr",
     "output_type": "stream",
     "text": [
      "Classifying:  33%|███████████████████▌                                       | 15824/47871 [6:08:12<9:46:52,  1.10s/it]"
     ]
    },
    {
     "name": "stdout",
     "output_type": "stream",
     "text": [
      "Warning: Unexpected label at index 15824: 'quantum measurement'\n"
     ]
    },
    {
     "name": "stderr",
     "output_type": "stream",
     "text": [
      "Classifying:  33%|███████████████████▏                                      | 15839/47871 [6:08:42<17:10:54,  1.93s/it]"
     ]
    },
    {
     "name": "stdout",
     "output_type": "stream",
     "text": [
      "Warning: Unexpected label at index 15839: 'quantum random number generator'\n"
     ]
    },
    {
     "name": "stderr",
     "output_type": "stream",
     "text": [
      "Classifying:  33%|███████████████████▏                                      | 15842/47871 [6:08:46<12:43:38,  1.43s/it]"
     ]
    },
    {
     "name": "stdout",
     "output_type": "stream",
     "text": [
      "Warning: Unexpected label at index 15842: 'quantum random number generation'\n"
     ]
    },
    {
     "name": "stderr",
     "output_type": "stream",
     "text": [
      "Classifying:  33%|███████████████████▌                                       | 15866/47871 [6:09:15<9:33:18,  1.07s/it]"
     ]
    },
    {
     "name": "stdout",
     "output_type": "stream",
     "text": [
      "Warning: Unexpected label at index 15866: 'quantum measurement'\n"
     ]
    },
    {
     "name": "stderr",
     "output_type": "stream",
     "text": [
      "Classifying:  33%|███████████████████▎                                      | 15894/47871 [6:09:54<13:02:55,  1.47s/it]"
     ]
    },
    {
     "name": "stdout",
     "output_type": "stream",
     "text": [
      "Warning: Unexpected label at index 15894: 'quantum optics'\n"
     ]
    },
    {
     "name": "stderr",
     "output_type": "stream",
     "text": [
      "Classifying:  33%|███████████████████▋                                       | 15939/47871 [6:10:39<8:45:19,  1.01it/s]"
     ]
    },
    {
     "name": "stdout",
     "output_type": "stream",
     "text": [
      "Warning: Unexpected label at index 15939: 'quantum transduction'\n"
     ]
    },
    {
     "name": "stderr",
     "output_type": "stream",
     "text": [
      "Classifying:  33%|███████████████████▎                                      | 15951/47871 [6:10:57<10:07:15,  1.14s/it]"
     ]
    },
    {
     "name": "stdout",
     "output_type": "stream",
     "text": [
      "Warning: Unexpected label at index 15951: 'quantum optics'\n"
     ]
    },
    {
     "name": "stderr",
     "output_type": "stream",
     "text": [
      "Classifying:  33%|███████████████████▍                                      | 15998/47871 [6:12:08<21:27:23,  2.42s/it]"
     ]
    },
    {
     "name": "stdout",
     "output_type": "stream",
     "text": [
      "Warning: Unexpected label at index 15998: 'quantum optics'\n"
     ]
    },
    {
     "name": "stderr",
     "output_type": "stream",
     "text": [
      "Classifying:  33%|███████████████████▍                                      | 15999/47871 [6:12:09<17:23:08,  1.96s/it]"
     ]
    },
    {
     "name": "stdout",
     "output_type": "stream",
     "text": [
      "→ Saved checkpoint for rows 0–16000\n"
     ]
    },
    {
     "name": "stderr",
     "output_type": "stream",
     "text": [
      "Classifying:  33%|███████████████████▊                                       | 16031/47871 [6:12:43<8:18:09,  1.07it/s]"
     ]
    },
    {
     "name": "stdout",
     "output_type": "stream",
     "text": [
      "Warning: Unexpected label at index 16031: 'quantum buses'\n"
     ]
    },
    {
     "name": "stderr",
     "output_type": "stream",
     "text": [
      "Classifying:  34%|███████████████████▊                                       | 16120/47871 [6:14:26<9:38:50,  1.09s/it]"
     ]
    },
    {
     "name": "stdout",
     "output_type": "stream",
     "text": [
      "Warning: Unexpected label at index 16120: 'quantum chemistry'\n"
     ]
    },
    {
     "name": "stderr",
     "output_type": "stream",
     "text": [
      "Classifying:  34%|███████████████████▌                                      | 16134/47871 [6:14:49<12:10:23,  1.38s/it]"
     ]
    },
    {
     "name": "stdout",
     "output_type": "stream",
     "text": [
      "Warning: Unexpected label at index 16134: 'quantum buses'\n"
     ]
    },
    {
     "name": "stderr",
     "output_type": "stream",
     "text": [
      "Classifying:  34%|███████████████████▉                                       | 16163/47871 [6:15:21<9:39:34,  1.10s/it]"
     ]
    },
    {
     "name": "stdout",
     "output_type": "stream",
     "text": [
      "Warning: Unexpected label at index 16163: 'quantum buses'\n"
     ]
    },
    {
     "name": "stderr",
     "output_type": "stream",
     "text": [
      "Classifying:  34%|███████████████████▋                                      | 16288/47871 [6:18:06<24:35:52,  2.80s/it]"
     ]
    },
    {
     "name": "stdout",
     "output_type": "stream",
     "text": [
      "Warning: Unexpected label at index 16288: 'quantum state generation'\n"
     ]
    },
    {
     "name": "stderr",
     "output_type": "stream",
     "text": [
      "Classifying:  34%|███████████████████▊                                      | 16397/47871 [6:20:29<13:35:29,  1.55s/it]"
     ]
    },
    {
     "name": "stdout",
     "output_type": "stream",
     "text": [
      "Warning: Unexpected label at index 16397: 'quantum gates'\n"
     ]
    },
    {
     "name": "stderr",
     "output_type": "stream",
     "text": [
      "Classifying:  34%|███████████████████▊                                      | 16403/47871 [6:20:37<12:37:25,  1.44s/it]"
     ]
    },
    {
     "name": "stdout",
     "output_type": "stream",
     "text": [
      "Warning: Unexpected label at index 16403: 'quantum gates'\n"
     ]
    },
    {
     "name": "stderr",
     "output_type": "stream",
     "text": [
      "Classifying:  34%|███████████████████▉                                      | 16437/47871 [6:21:31<10:53:24,  1.25s/it]"
     ]
    },
    {
     "name": "stdout",
     "output_type": "stream",
     "text": [
      "Warning: Unexpected label at index 16437: 'quantum measurement'\n"
     ]
    },
    {
     "name": "stderr",
     "output_type": "stream",
     "text": [
      "Classifying:  34%|███████████████████▉                                      | 16501/47871 [6:22:51<12:29:46,  1.43s/it]"
     ]
    },
    {
     "name": "stdout",
     "output_type": "stream",
     "text": [
      "Warning: Unexpected label at index 16501: 'quantum social dynamics'\n"
     ]
    },
    {
     "name": "stderr",
     "output_type": "stream",
     "text": [
      "Classifying:  35%|████████████████████                                      | 16518/47871 [6:23:13<10:24:25,  1.19s/it]"
     ]
    },
    {
     "name": "stdout",
     "output_type": "stream",
     "text": [
      "Warning: Unexpected label at index 16518: 'quantum dots'\n"
     ]
    },
    {
     "name": "stderr",
     "output_type": "stream",
     "text": [
      "Classifying:  35%|████████████████████                                      | 16524/47871 [6:23:20<10:39:04,  1.22s/it]"
     ]
    },
    {
     "name": "stdout",
     "output_type": "stream",
     "text": [
      "Warning: Unexpected label at index 16524: 'quantum entanglement generation'\n"
     ]
    },
    {
     "name": "stderr",
     "output_type": "stream",
     "text": [
      "Classifying:  35%|████████████████████                                      | 16566/47871 [6:24:10<12:10:40,  1.40s/it]"
     ]
    },
    {
     "name": "stdout",
     "output_type": "stream",
     "text": [
      "Warning: Unexpected label at index 16566: 'quantum compression'\n"
     ]
    },
    {
     "name": "stderr",
     "output_type": "stream",
     "text": [
      "Classifying:  35%|████████████████████▍                                      | 16615/47871 [6:25:07<9:38:29,  1.11s/it]"
     ]
    },
    {
     "name": "stdout",
     "output_type": "stream",
     "text": [
      "Warning: Unexpected label at index 16615: 'quantum materials'\n"
     ]
    },
    {
     "name": "stderr",
     "output_type": "stream",
     "text": [
      "Classifying:  35%|████████████████████▌                                      | 16696/47871 [6:26:38<8:55:56,  1.03s/it]"
     ]
    },
    {
     "name": "stdout",
     "output_type": "stream",
     "text": [
      "Warning: Unexpected label at index 16696: 'quantum dots'\n"
     ]
    },
    {
     "name": "stderr",
     "output_type": "stream",
     "text": [
      "Classifying:  35%|████████████████████▋                                      | 16749/47871 [6:27:37<9:23:51,  1.09s/it]"
     ]
    },
    {
     "name": "stdout",
     "output_type": "stream",
     "text": [
      "Warning: Unexpected label at index 16749: 'quantum dots'\n"
     ]
    },
    {
     "name": "stderr",
     "output_type": "stream",
     "text": [
      "Classifying:  35%|████████████████████▋                                      | 16755/47871 [6:27:43<8:41:03,  1.00s/it]"
     ]
    },
    {
     "name": "stdout",
     "output_type": "stream",
     "text": [
      "Warning: Unexpected label at index 16755: 'quantum confined nanostructures'\n"
     ]
    },
    {
     "name": "stderr",
     "output_type": "stream",
     "text": [
      "Classifying:  35%|████████████████████▋                                      | 16761/47871 [6:27:49<8:29:37,  1.02it/s]"
     ]
    },
    {
     "name": "stdout",
     "output_type": "stream",
     "text": [
      "Warning: Unexpected label at index 16761: 'quantum memory'\n"
     ]
    },
    {
     "name": "stderr",
     "output_type": "stream",
     "text": [
      "Classifying:  35%|████████████████████▋                                      | 16766/47871 [6:27:53<7:44:21,  1.12it/s]"
     ]
    },
    {
     "name": "stdout",
     "output_type": "stream",
     "text": [
      "Warning: Unexpected label at index 16766: 'quantum random number generation'\n"
     ]
    },
    {
     "name": "stderr",
     "output_type": "stream",
     "text": [
      "Classifying:  35%|████████████████████▋                                      | 16773/47871 [6:28:01<8:53:50,  1.03s/it]"
     ]
    },
    {
     "name": "stdout",
     "output_type": "stream",
     "text": [
      "Warning: Unexpected label at index 16773: 'quantum optics'\n"
     ]
    },
    {
     "name": "stderr",
     "output_type": "stream",
     "text": [
      "Classifying:  35%|████████████████████▍                                     | 16819/47871 [6:29:08<12:05:42,  1.40s/it]"
     ]
    },
    {
     "name": "stdout",
     "output_type": "stream",
     "text": [
      "Warning: Unexpected label at index 16818: 'quantum gates'\n"
     ]
    },
    {
     "name": "stderr",
     "output_type": "stream",
     "text": [
      "Classifying:  35%|████████████████████▊                                      | 16846/47871 [6:29:40<7:32:47,  1.14it/s]"
     ]
    },
    {
     "name": "stdout",
     "output_type": "stream",
     "text": [
      "Warning: Unexpected label at index 16846: 'quantum memory'\n"
     ]
    },
    {
     "name": "stderr",
     "output_type": "stream",
     "text": [
      "Classifying:  35%|████████████████████▍                                     | 16878/47871 [6:30:14<10:03:05,  1.17s/it]"
     ]
    },
    {
     "name": "stdout",
     "output_type": "stream",
     "text": [
      "Warning: Unexpected label at index 16878: 'quantum confined nanostructures'\n"
     ]
    },
    {
     "name": "stderr",
     "output_type": "stream",
     "text": [
      "Classifying:  35%|████████████████████▍                                     | 16881/47871 [6:30:17<10:54:48,  1.27s/it]"
     ]
    },
    {
     "name": "stdout",
     "output_type": "stream",
     "text": [
      "Warning: Unexpected label at index 16881: 'quantum dot'\n"
     ]
    },
    {
     "name": "stderr",
     "output_type": "stream",
     "text": [
      "Classifying:  35%|████████████████████▊                                      | 16890/47871 [6:30:26<7:38:17,  1.13it/s]"
     ]
    },
    {
     "name": "stdout",
     "output_type": "stream",
     "text": [
      "Warning: Unexpected label at index 16890: 'quantum gates'\n"
     ]
    },
    {
     "name": "stderr",
     "output_type": "stream",
     "text": [
      "Classifying:  35%|████████████████████▊                                      | 16891/47871 [6:30:27<7:27:20,  1.15it/s]"
     ]
    },
    {
     "name": "stdout",
     "output_type": "stream",
     "text": [
      "Warning: Unexpected label at index 16891: 'quantum gates'\n"
     ]
    },
    {
     "name": "stderr",
     "output_type": "stream",
     "text": [
      "Classifying:  35%|████████████████████▊                                      | 16897/47871 [6:30:32<8:01:44,  1.07it/s]"
     ]
    },
    {
     "name": "stdout",
     "output_type": "stream",
     "text": [
      "Warning: Unexpected label at index 16897: 'quantum gates'\n"
     ]
    },
    {
     "name": "stderr",
     "output_type": "stream",
     "text": [
      "Classifying:  35%|████████████████████▊                                      | 16909/47871 [6:30:44<8:51:41,  1.03s/it]"
     ]
    },
    {
     "name": "stdout",
     "output_type": "stream",
     "text": [
      "Warning: Unexpected label at index 16909: 'quantum memory'\n"
     ]
    },
    {
     "name": "stderr",
     "output_type": "stream",
     "text": [
      "Classifying:  35%|████████████████████▊                                      | 16915/47871 [6:30:49<7:42:00,  1.12it/s]"
     ]
    },
    {
     "name": "stdout",
     "output_type": "stream",
     "text": [
      "Warning: Unexpected label at index 16915: 'quantum entanglement generation'\n"
     ]
    },
    {
     "name": "stderr",
     "output_type": "stream",
     "text": [
      "Classifying:  35%|████████████████████▉                                      | 16967/47871 [6:31:47<7:25:25,  1.16it/s]"
     ]
    },
    {
     "name": "stdout",
     "output_type": "stream",
     "text": [
      "Warning: Unexpected label at index 16967: 'quantum dots'\n"
     ]
    },
    {
     "name": "stderr",
     "output_type": "stream",
     "text": [
      "Classifying:  35%|████████████████████▉                                      | 16970/47871 [6:31:50<7:57:08,  1.08it/s]"
     ]
    },
    {
     "name": "stdout",
     "output_type": "stream",
     "text": [
      "Warning: Unexpected label at index 16970: 'quantum dots'\n"
     ]
    },
    {
     "name": "stderr",
     "output_type": "stream",
     "text": [
      "Classifying:  36%|█████████████████████                                      | 17084/47871 [6:33:49<8:15:53,  1.03it/s]"
     ]
    },
    {
     "name": "stdout",
     "output_type": "stream",
     "text": [
      "Warning: Unexpected label at index 17084: 'quantum amplification'\n"
     ]
    },
    {
     "name": "stderr",
     "output_type": "stream",
     "text": [
      "Classifying:  36%|█████████████████████                                      | 17103/47871 [6:34:09<9:18:44,  1.09s/it]"
     ]
    },
    {
     "name": "stdout",
     "output_type": "stream",
     "text": [
      "Warning: Unexpected label at index 17103: 'quantum amplifiers'\n"
     ]
    },
    {
     "name": "stderr",
     "output_type": "stream",
     "text": [
      "Classifying:  36%|█████████████████████▏                                     | 17155/47871 [6:35:26<7:38:37,  1.12it/s]"
     ]
    },
    {
     "name": "stdout",
     "output_type": "stream",
     "text": [
      "Warning: Unexpected label at index 17155: 'quantum optics'\n"
     ]
    },
    {
     "name": "stderr",
     "output_type": "stream",
     "text": [
      "Classifying:  36%|█████████████████████▏                                     | 17164/47871 [6:35:35<7:41:36,  1.11it/s]"
     ]
    },
    {
     "name": "stdout",
     "output_type": "stream",
     "text": [
      "Warning: Unexpected label at index 17164: 'quantum entanglement generation'\n"
     ]
    },
    {
     "name": "stderr",
     "output_type": "stream",
     "text": [
      "Classifying:  36%|█████████████████████▏                                     | 17202/47871 [6:36:17<8:05:23,  1.05it/s]"
     ]
    },
    {
     "name": "stdout",
     "output_type": "stream",
     "text": [
      "Warning: Unexpected label at index 17202: 'quantum dots'\n"
     ]
    },
    {
     "name": "stderr",
     "output_type": "stream",
     "text": [
      "Classifying:  36%|█████████████████████▏                                     | 17227/47871 [6:36:47<9:04:59,  1.07s/it]"
     ]
    },
    {
     "name": "stdout",
     "output_type": "stream",
     "text": [
      "Warning: Unexpected label at index 17227: 'quantum calibration'\n"
     ]
    },
    {
     "name": "stderr",
     "output_type": "stream",
     "text": [
      "Classifying:  36%|█████████████████████▎                                     | 17248/47871 [6:37:10<9:31:32,  1.12s/it]"
     ]
    },
    {
     "name": "stdout",
     "output_type": "stream",
     "text": [
      "Warning: Unexpected label at index 17248: 'quantum annealing'\n"
     ]
    },
    {
     "name": "stderr",
     "output_type": "stream",
     "text": [
      "Classifying:  36%|█████████████████████▎                                     | 17253/47871 [6:37:15<8:06:50,  1.05it/s]"
     ]
    },
    {
     "name": "stdout",
     "output_type": "stream",
     "text": [
      "Warning: Unexpected label at index 17253: 'quantum entanglement'\n"
     ]
    },
    {
     "name": "stderr",
     "output_type": "stream",
     "text": [
      "Classifying:  36%|████████████████████▉                                     | 17298/47871 [6:38:07<12:32:15,  1.48s/it]"
     ]
    },
    {
     "name": "stdout",
     "output_type": "stream",
     "text": [
      "Warning: Unexpected label at index 17298: 'quantum annealing'\n"
     ]
    },
    {
     "name": "stderr",
     "output_type": "stream",
     "text": [
      "Classifying:  36%|████████████████████▉                                     | 17300/47871 [6:38:09<10:13:57,  1.20s/it]"
     ]
    },
    {
     "name": "stdout",
     "output_type": "stream",
     "text": [
      "Warning: Unexpected label at index 17300: 'quantum display'\n"
     ]
    },
    {
     "name": "stderr",
     "output_type": "stream",
     "text": [
      "Classifying:  36%|█████████████████████▎                                     | 17317/47871 [6:38:32<7:44:55,  1.10it/s]"
     ]
    },
    {
     "name": "stdout",
     "output_type": "stream",
     "text": [
      "Warning: Unexpected label at index 17317: 'quantum optics'\n"
     ]
    },
    {
     "name": "stderr",
     "output_type": "stream",
     "text": [
      "Classifying:  36%|█████████████████████▎                                     | 17330/47871 [6:38:44<7:56:31,  1.07it/s]"
     ]
    },
    {
     "name": "stdout",
     "output_type": "stream",
     "text": [
      "Warning: Unexpected label at index 17330: 'quantum materials'\n"
     ]
    },
    {
     "name": "stderr",
     "output_type": "stream",
     "text": [
      "Classifying:  36%|█████████████████████▍                                     | 17359/47871 [6:39:15<8:31:12,  1.01s/it]"
     ]
    },
    {
     "name": "stdout",
     "output_type": "stream",
     "text": [
      "Warning: Unexpected label at index 17359: 'quantum optics'\n"
     ]
    },
    {
     "name": "stderr",
     "output_type": "stream",
     "text": [
      "Classifying:  36%|█████████████████████                                     | 17378/47871 [6:39:42<10:48:20,  1.28s/it]"
     ]
    },
    {
     "name": "stdout",
     "output_type": "stream",
     "text": [
      "Warning: Unexpected label at index 17378: 'quantum optics'\n"
     ]
    },
    {
     "name": "stderr",
     "output_type": "stream",
     "text": [
      "Classifying:  36%|█████████████████████▍                                     | 17400/47871 [6:40:03<8:09:47,  1.04it/s]"
     ]
    },
    {
     "name": "stdout",
     "output_type": "stream",
     "text": [
      "Warning: Unexpected label at index 17400: 'quantum optics'\n"
     ]
    },
    {
     "name": "stderr",
     "output_type": "stream",
     "text": [
      "Classifying:  36%|█████████████████████▍                                     | 17423/47871 [6:40:25<7:40:34,  1.10it/s]"
     ]
    },
    {
     "name": "stdout",
     "output_type": "stream",
     "text": [
      "Warning: Unexpected label at index 17423: 'quantum materials'\n"
     ]
    },
    {
     "name": "stderr",
     "output_type": "stream",
     "text": [
      "Classifying:  36%|█████████████████████▌                                     | 17450/47871 [6:40:51<7:35:34,  1.11it/s]"
     ]
    },
    {
     "name": "stdout",
     "output_type": "stream",
     "text": [
      "Warning: Unexpected label at index 17450: 'quantum optics'\n"
     ]
    },
    {
     "name": "stderr",
     "output_type": "stream",
     "text": [
      "Classifying:  36%|█████████████████████▌                                     | 17458/47871 [6:40:58<7:31:01,  1.12it/s]"
     ]
    },
    {
     "name": "stdout",
     "output_type": "stream",
     "text": [
      "Warning: Unexpected label at index 17458: 'quantum optics'\n"
     ]
    },
    {
     "name": "stderr",
     "output_type": "stream",
     "text": [
      "Classifying:  37%|█████████████████████▌                                     | 17482/47871 [6:41:24<8:47:58,  1.04s/it]"
     ]
    },
    {
     "name": "stdout",
     "output_type": "stream",
     "text": [
      "Warning: Unexpected label at index 17482: 'quantum encoding'\n"
     ]
    },
    {
     "name": "stderr",
     "output_type": "stream",
     "text": [
      "Classifying:  37%|█████████████████████▏                                    | 17495/47871 [6:41:42<15:54:57,  1.89s/it]"
     ]
    },
    {
     "name": "stdout",
     "output_type": "stream",
     "text": [
      "Warning: Unexpected label at index 17495: 'quantum optics'\n"
     ]
    },
    {
     "name": "stderr",
     "output_type": "stream",
     "text": [
      "Classifying:  37%|█████████████████████▌                                     | 17499/47871 [6:41:46<9:58:47,  1.18s/it]"
     ]
    },
    {
     "name": "stdout",
     "output_type": "stream",
     "text": [
      "Warning: Unexpected label at index 17499: 'quantum optics'\n"
     ]
    },
    {
     "name": "stderr",
     "output_type": "stream",
     "text": [
      "Classifying:  37%|█████████████████████▌                                     | 17501/47871 [6:41:48<8:25:26,  1.00it/s]"
     ]
    },
    {
     "name": "stdout",
     "output_type": "stream",
     "text": [
      "Warning: Unexpected label at index 17501: 'quantum process tomography'\n"
     ]
    },
    {
     "name": "stderr",
     "output_type": "stream",
     "text": [
      "Classifying:  37%|█████████████████████▌                                     | 17509/47871 [6:41:55<7:29:53,  1.12it/s]"
     ]
    },
    {
     "name": "stdout",
     "output_type": "stream",
     "text": [
      "Warning: Unexpected label at index 17509: 'quantum optics'\n"
     ]
    },
    {
     "name": "stderr",
     "output_type": "stream",
     "text": [
      "Classifying:  37%|█████████████████████▌                                     | 17514/47871 [6:42:00<8:14:03,  1.02it/s]"
     ]
    },
    {
     "name": "stdout",
     "output_type": "stream",
     "text": [
      "Warning: Unexpected label at index 17514: 'quantum optics'\n"
     ]
    },
    {
     "name": "stderr",
     "output_type": "stream",
     "text": [
      "Classifying:  37%|█████████████████████▏                                    | 17527/47871 [6:42:14<10:32:37,  1.25s/it]"
     ]
    },
    {
     "name": "stdout",
     "output_type": "stream",
     "text": [
      "Warning: Unexpected label at index 17527: 'head worn computing'\n"
     ]
    },
    {
     "name": "stderr",
     "output_type": "stream",
     "text": [
      "Classifying:  37%|█████████████████████▋                                     | 17556/47871 [6:42:46<8:13:31,  1.02it/s]"
     ]
    },
    {
     "name": "stdout",
     "output_type": "stream",
     "text": [
      "Warning: Unexpected label at index 17556: 'quantum optics'\n"
     ]
    },
    {
     "name": "stderr",
     "output_type": "stream",
     "text": [
      "Classifying:  37%|█████████████████████▋                                     | 17575/47871 [6:43:04<7:10:58,  1.17it/s]"
     ]
    },
    {
     "name": "stdout",
     "output_type": "stream",
     "text": [
      "Warning: Unexpected label at index 17575: 'quantum optics'\n"
     ]
    },
    {
     "name": "stderr",
     "output_type": "stream",
     "text": [
      "Classifying:  37%|█████████████████████▋                                     | 17577/47871 [6:43:06<8:02:22,  1.05it/s]"
     ]
    },
    {
     "name": "stdout",
     "output_type": "stream",
     "text": [
      "Warning: Unexpected label at index 17577: 'quantum optics'\n"
     ]
    },
    {
     "name": "stderr",
     "output_type": "stream",
     "text": [
      "Classifying:  37%|█████████████████████▊                                     | 17691/47871 [6:44:56<7:48:51,  1.07it/s]"
     ]
    },
    {
     "name": "stdout",
     "output_type": "stream",
     "text": [
      "Warning: Unexpected label at index 17691: 'quantum random number generation'\n"
     ]
    },
    {
     "name": "stderr",
     "output_type": "stream",
     "text": [
      "Classifying:  37%|█████████████████████▊                                     | 17705/47871 [6:45:11<9:58:35,  1.19s/it]"
     ]
    },
    {
     "name": "stdout",
     "output_type": "stream",
     "text": [
      "Warning: Unexpected label at index 17705: 'quantum consciousness'\n"
     ]
    },
    {
     "name": "stderr",
     "output_type": "stream",
     "text": [
      "Classifying:  37%|█████████████████████▊                                     | 17713/47871 [6:45:18<8:15:30,  1.01it/s]"
     ]
    },
    {
     "name": "stdout",
     "output_type": "stream",
     "text": [
      "Warning: Unexpected label at index 17713: 'quantum gates'\n"
     ]
    },
    {
     "name": "stderr",
     "output_type": "stream",
     "text": [
      "Classifying:  37%|█████████████████████▉                                     | 17791/47871 [6:46:43<8:46:30,  1.05s/it]"
     ]
    },
    {
     "name": "stdout",
     "output_type": "stream",
     "text": [
      "Warning: Unexpected label at index 17791: 'quantum materials'\n"
     ]
    },
    {
     "name": "stderr",
     "output_type": "stream",
     "text": [
      "Classifying:  37%|█████████████████████▋                                    | 17865/47871 [6:48:10<11:46:44,  1.41s/it]"
     ]
    },
    {
     "name": "stdout",
     "output_type": "stream",
     "text": [
      "Warning: Unexpected label at index 17865: 'quantum memory'\n"
     ]
    },
    {
     "name": "stderr",
     "output_type": "stream",
     "text": [
      "Classifying:  37%|██████████████████████                                     | 17870/47871 [6:48:15<8:38:20,  1.04s/it]"
     ]
    },
    {
     "name": "stdout",
     "output_type": "stream",
     "text": [
      "Warning: Unexpected label at index 17870: 'quantum entanglement'\n"
     ]
    },
    {
     "name": "stderr",
     "output_type": "stream",
     "text": [
      "Classifying:  37%|██████████████████████                                     | 17886/47871 [6:48:30<7:31:29,  1.11it/s]"
     ]
    },
    {
     "name": "stdout",
     "output_type": "stream",
     "text": [
      "Warning: Unexpected label at index 17886: 'quantum spectroscopy'\n"
     ]
    },
    {
     "name": "stderr",
     "output_type": "stream",
     "text": [
      "Classifying:  37%|██████████████████████                                     | 17890/47871 [6:48:34<7:52:12,  1.06it/s]"
     ]
    },
    {
     "name": "stdout",
     "output_type": "stream",
     "text": [
      "Warning: Unexpected label at index 17890: 'quantum random number generation'\n"
     ]
    },
    {
     "name": "stderr",
     "output_type": "stream",
     "text": [
      "Classifying:  38%|██████████████████████▏                                    | 17974/47871 [6:50:04<7:59:30,  1.04it/s]"
     ]
    },
    {
     "name": "stdout",
     "output_type": "stream",
     "text": [
      "Warning: Unexpected label at index 17974: 'quantum optics'\n"
     ]
    },
    {
     "name": "stderr",
     "output_type": "stream",
     "text": [
      "Classifying:  38%|██████████████████████▏                                    | 17989/47871 [6:50:19<7:35:15,  1.09it/s]"
     ]
    },
    {
     "name": "stdout",
     "output_type": "stream",
     "text": [
      "Warning: Unexpected label at index 17989: 'quantum optics'\n"
     ]
    },
    {
     "name": "stderr",
     "output_type": "stream",
     "text": [
      "Classifying:  38%|██████████████████████▏                                    | 18004/47871 [6:50:34<7:50:46,  1.06it/s]"
     ]
    },
    {
     "name": "stdout",
     "output_type": "stream",
     "text": [
      "Warning: Unexpected label at index 18004: 'quantum sources'\n"
     ]
    },
    {
     "name": "stderr",
     "output_type": "stream",
     "text": [
      "Classifying:  38%|█████████████████████▊                                    | 18012/47871 [6:50:48<11:40:32,  1.41s/it]"
     ]
    },
    {
     "name": "stdout",
     "output_type": "stream",
     "text": [
      "Warning: Unexpected label at index 18012: 'quantum random number generation'\n"
     ]
    },
    {
     "name": "stderr",
     "output_type": "stream",
     "text": [
      "Classifying:  38%|█████████████████████▊                                    | 18026/47871 [6:51:07<12:15:06,  1.48s/it]"
     ]
    },
    {
     "name": "stdout",
     "output_type": "stream",
     "text": [
      "Warning: Unexpected label at index 18026: 'quantum computation'\n"
     ]
    },
    {
     "name": "stderr",
     "output_type": "stream",
     "text": [
      "Classifying:  38%|██████████████████████▏                                    | 18039/47871 [6:51:18<7:01:26,  1.18it/s]"
     ]
    },
    {
     "name": "stdout",
     "output_type": "stream",
     "text": [
      "Warning: Unexpected label at index 18038: 'quantum optics'\n"
     ]
    },
    {
     "name": "stderr",
     "output_type": "stream",
     "text": [
      "Classifying:  38%|██████████████████████▏                                    | 18040/47871 [6:51:19<6:55:31,  1.20it/s]"
     ]
    },
    {
     "name": "stdout",
     "output_type": "stream",
     "text": [
      "Warning: Unexpected label at index 18040: 'quantum optics'\n"
     ]
    },
    {
     "name": "stderr",
     "output_type": "stream",
     "text": [
      "Classifying:  38%|██████████████████████▎                                    | 18079/47871 [6:51:57<7:58:12,  1.04it/s]"
     ]
    },
    {
     "name": "stdout",
     "output_type": "stream",
     "text": [
      "Warning: Unexpected label at index 18079: 'quantum yield calculation'\n"
     ]
    },
    {
     "name": "stderr",
     "output_type": "stream",
     "text": [
      "Classifying:  38%|██████████████████████▎                                    | 18119/47871 [6:52:53<8:59:25,  1.09s/it]"
     ]
    },
    {
     "name": "stdout",
     "output_type": "stream",
     "text": [
      "Warning: Unexpected label at index 18119: 'quantum optics'\n"
     ]
    },
    {
     "name": "stderr",
     "output_type": "stream",
     "text": [
      "Classifying:  38%|██████████████████████▎                                    | 18152/47871 [6:53:24<8:23:44,  1.02s/it]"
     ]
    },
    {
     "name": "stdout",
     "output_type": "stream",
     "text": [
      "Warning: Unexpected label at index 18152: 'quantum memory'\n"
     ]
    },
    {
     "name": "stderr",
     "output_type": "stream",
     "text": [
      "Classifying:  38%|██████████████████████▍                                    | 18209/47871 [6:54:19<7:50:27,  1.05it/s]"
     ]
    },
    {
     "name": "stdout",
     "output_type": "stream",
     "text": [
      "Warning: Unexpected label at index 18209: 'quantum dots'\n"
     ]
    },
    {
     "name": "stderr",
     "output_type": "stream",
     "text": [
      "Classifying:  38%|██████████████████████▍                                    | 18214/47871 [6:54:24<7:52:28,  1.05it/s]"
     ]
    },
    {
     "name": "stdout",
     "output_type": "stream",
     "text": [
      "Warning: Unexpected label at index 18214: 'quantum dots'\n"
     ]
    },
    {
     "name": "stderr",
     "output_type": "stream",
     "text": [
      "Classifying:  38%|██████████████████████▍                                    | 18215/47871 [6:54:24<7:27:58,  1.10it/s]"
     ]
    },
    {
     "name": "stdout",
     "output_type": "stream",
     "text": [
      "Warning: Unexpected label at index 18215: 'quantum entanglement'\n"
     ]
    },
    {
     "name": "stderr",
     "output_type": "stream",
     "text": [
      "Classifying:  38%|██████████████████████▍                                    | 18219/47871 [6:54:28<7:58:55,  1.03it/s]"
     ]
    },
    {
     "name": "stdout",
     "output_type": "stream",
     "text": [
      "Warning: Unexpected label at index 18219: 'quantum memory'\n"
     ]
    },
    {
     "name": "stderr",
     "output_type": "stream",
     "text": [
      "Classifying:  38%|██████████████████████▍                                    | 18249/47871 [6:54:56<7:23:53,  1.11it/s]"
     ]
    },
    {
     "name": "stdout",
     "output_type": "stream",
     "text": [
      "Warning: Unexpected label at index 18249: 'quantum dot'\n"
     ]
    },
    {
     "name": "stderr",
     "output_type": "stream",
     "text": [
      "Classifying:  38%|██████████████████████▌                                    | 18256/47871 [6:55:03<7:16:52,  1.13it/s]"
     ]
    },
    {
     "name": "stdout",
     "output_type": "stream",
     "text": [
      "Warning: Unexpected label at index 18256: 'quantum dot structure'\n"
     ]
    },
    {
     "name": "stderr",
     "output_type": "stream",
     "text": [
      "Classifying:  38%|██████████████████████▌                                    | 18259/47871 [6:55:06<8:58:47,  1.09s/it]"
     ]
    },
    {
     "name": "stdout",
     "output_type": "stream",
     "text": [
      "Warning: Unexpected label at index 18259: 'quantum gates'\n"
     ]
    },
    {
     "name": "stderr",
     "output_type": "stream",
     "text": [
      "Classifying:  38%|██████████████████████                                    | 18260/47871 [6:55:08<11:53:59,  1.45s/it]"
     ]
    },
    {
     "name": "stdout",
     "output_type": "stream",
     "text": [
      "Warning: Unexpected label at index 18260: 'quantum gates'\n"
     ]
    },
    {
     "name": "stderr",
     "output_type": "stream",
     "text": [
      "Classifying:  38%|██████████████████████▌                                    | 18276/47871 [6:55:30<8:54:44,  1.08s/it]"
     ]
    },
    {
     "name": "stdout",
     "output_type": "stream",
     "text": [
      "Warning: Unexpected label at index 18276: 'quantum dot structure'\n"
     ]
    },
    {
     "name": "stderr",
     "output_type": "stream",
     "text": [
      "Classifying:  38%|██████████████████████▌                                    | 18287/47871 [6:55:41<9:21:49,  1.14s/it]"
     ]
    },
    {
     "name": "stdout",
     "output_type": "stream",
     "text": [
      "Warning: Unexpected label at index 18287: 'quantum random number generation'\n"
     ]
    },
    {
     "name": "stderr",
     "output_type": "stream",
     "text": [
      "Classifying:  38%|██████████████████████▌                                    | 18295/47871 [6:55:48<7:49:21,  1.05it/s]"
     ]
    },
    {
     "name": "stdout",
     "output_type": "stream",
     "text": [
      "Warning: Unexpected label at index 18295: 'quantum random number generation'\n"
     ]
    },
    {
     "name": "stderr",
     "output_type": "stream",
     "text": [
      "Classifying:  38%|██████████████████████▌                                    | 18306/47871 [6:55:58<8:07:30,  1.01it/s]"
     ]
    },
    {
     "name": "stdout",
     "output_type": "stream",
     "text": [
      "Warning: Unexpected label at index 18306: 'quantum random number generation'\n"
     ]
    },
    {
     "name": "stderr",
     "output_type": "stream",
     "text": [
      "Classifying:  38%|██████████████████████▌                                    | 18314/47871 [6:56:06<7:46:44,  1.06it/s]"
     ]
    },
    {
     "name": "stdout",
     "output_type": "stream",
     "text": [
      "Warning: Unexpected label at index 18314: 'quantum chemistry'\n"
     ]
    },
    {
     "name": "stderr",
     "output_type": "stream",
     "text": [
      "Classifying:  38%|██████████████████████▌                                    | 18326/47871 [6:56:17<6:58:25,  1.18it/s]"
     ]
    },
    {
     "name": "stdout",
     "output_type": "stream",
     "text": [
      "Warning: Unexpected label at index 18326: 'quantum optics'\n"
     ]
    },
    {
     "name": "stderr",
     "output_type": "stream",
     "text": [
      "Classifying:  38%|██████████████████████▌                                    | 18331/47871 [6:56:22<8:13:11,  1.00s/it]"
     ]
    },
    {
     "name": "stdout",
     "output_type": "stream",
     "text": [
      "Warning: Unexpected label at index 18331: 'quantum optics'\n"
     ]
    },
    {
     "name": "stderr",
     "output_type": "stream",
     "text": [
      "Classifying:  38%|██████████████████████▌                                    | 18356/47871 [6:56:45<7:19:03,  1.12it/s]"
     ]
    },
    {
     "name": "stdout",
     "output_type": "stream",
     "text": [
      "Warning: Unexpected label at index 18356: 'quantum optics'\n"
     ]
    },
    {
     "name": "stderr",
     "output_type": "stream",
     "text": [
      "Classifying:  38%|██████████████████████▋                                    | 18408/47871 [6:57:36<8:22:39,  1.02s/it]"
     ]
    },
    {
     "name": "stdout",
     "output_type": "stream",
     "text": [
      "Warning: Unexpected label at index 18408: 'quantum memory'\n"
     ]
    },
    {
     "name": "stderr",
     "output_type": "stream",
     "text": [
      "Classifying:  38%|██████████████████████▋                                    | 18411/47871 [6:57:39<7:40:32,  1.07it/s]"
     ]
    },
    {
     "name": "stdout",
     "output_type": "stream",
     "text": [
      "Warning: Unexpected label at index 18411: 'quantum optics'\n"
     ]
    },
    {
     "name": "stderr",
     "output_type": "stream",
     "text": [
      "Classifying:  38%|██████████████████████▋                                    | 18422/47871 [6:57:49<7:31:27,  1.09it/s]"
     ]
    },
    {
     "name": "stdout",
     "output_type": "stream",
     "text": [
      "Warning: Unexpected label at index 18422: 'This paper is not about quantum computing. It is about power integrated circuits for electric vehicles.\n",
      "\n",
      "quantum computing'\n"
     ]
    },
    {
     "name": "stderr",
     "output_type": "stream",
     "text": [
      "Classifying:  39%|██████████████████████▎                                   | 18439/47871 [6:58:11<10:01:08,  1.23s/it]"
     ]
    },
    {
     "name": "stdout",
     "output_type": "stream",
     "text": [
      "Warning: Unexpected label at index 18439: 'quantum random number generation'\n"
     ]
    },
    {
     "name": "stderr",
     "output_type": "stream",
     "text": [
      "Classifying:  39%|██████████████████████▊                                    | 18461/47871 [6:58:41<9:53:18,  1.21s/it]"
     ]
    },
    {
     "name": "stdout",
     "output_type": "stream",
     "text": [
      "Warning: Unexpected label at index 18461: 'quantum optics'\n"
     ]
    },
    {
     "name": "stderr",
     "output_type": "stream",
     "text": [
      "Classifying:  39%|██████████████████████▊                                    | 18492/47871 [6:59:19<7:35:15,  1.08it/s]"
     ]
    },
    {
     "name": "stdout",
     "output_type": "stream",
     "text": [
      "Warning: Unexpected label at index 18492: 'quantum materials'\n"
     ]
    },
    {
     "name": "stderr",
     "output_type": "stream",
     "text": [
      "Classifying:  39%|██████████████████████▊                                    | 18544/47871 [7:00:18<8:46:38,  1.08s/it]"
     ]
    },
    {
     "name": "stdout",
     "output_type": "stream",
     "text": [
      "Warning: Unexpected label at index 18544: 'quantum display'\n"
     ]
    },
    {
     "name": "stderr",
     "output_type": "stream",
     "text": [
      "Classifying:  39%|██████████████████████▍                                   | 18561/47871 [7:00:56<15:36:41,  1.92s/it]"
     ]
    },
    {
     "name": "stdout",
     "output_type": "stream",
     "text": [
      "Warning: Unexpected label at index 18561: 'quantum optics'\n"
     ]
    },
    {
     "name": "stderr",
     "output_type": "stream",
     "text": [
      "Classifying:  39%|██████████████████████▉                                    | 18565/47871 [7:01:00<9:33:55,  1.18s/it]"
     ]
    },
    {
     "name": "stdout",
     "output_type": "stream",
     "text": [
      "Warning: Unexpected label at index 18565: 'quantum safety'\n"
     ]
    },
    {
     "name": "stderr",
     "output_type": "stream",
     "text": [
      "Classifying:  39%|██████████████████████▉                                    | 18568/47871 [7:01:03<8:19:24,  1.02s/it]"
     ]
    },
    {
     "name": "stdout",
     "output_type": "stream",
     "text": [
      "Warning: Unexpected label at index 18568: 'quantum materials'\n"
     ]
    },
    {
     "name": "stderr",
     "output_type": "stream",
     "text": [
      "Classifying:  39%|██████████████████████▉                                    | 18591/47871 [7:01:30<7:36:29,  1.07it/s]"
     ]
    },
    {
     "name": "stdout",
     "output_type": "stream",
     "text": [
      "Warning: Unexpected label at index 18591: 'quantum spectroscopy'\n"
     ]
    },
    {
     "name": "stderr",
     "output_type": "stream",
     "text": [
      "Classifying:  39%|██████████████████████▉                                    | 18630/47871 [7:02:07<6:42:15,  1.21it/s]"
     ]
    },
    {
     "name": "stdout",
     "output_type": "stream",
     "text": [
      "Warning: Unexpected label at index 18630: 'quantum materials'\n"
     ]
    },
    {
     "name": "stderr",
     "output_type": "stream",
     "text": [
      "Classifying:  39%|██████████████████████▉                                    | 18656/47871 [7:02:33<9:52:33,  1.22s/it]"
     ]
    },
    {
     "name": "stdout",
     "output_type": "stream",
     "text": [
      "Warning: Unexpected label at index 18656: 'quantum dot'\n"
     ]
    },
    {
     "name": "stderr",
     "output_type": "stream",
     "text": [
      "Classifying:  39%|███████████████████████                                    | 18668/47871 [7:02:44<7:13:14,  1.12it/s]"
     ]
    },
    {
     "name": "stdout",
     "output_type": "stream",
     "text": [
      "Warning: Unexpected label at index 18668: 'quantum structures'\n"
     ]
    },
    {
     "name": "stderr",
     "output_type": "stream",
     "text": [
      "Classifying:  39%|███████████████████████                                    | 18687/47871 [7:03:01<7:32:27,  1.08it/s]"
     ]
    },
    {
     "name": "stdout",
     "output_type": "stream",
     "text": [
      "Warning: Unexpected label at index 18687: 'quantum dots'\n"
     ]
    },
    {
     "name": "stderr",
     "output_type": "stream",
     "text": [
      "Classifying:  39%|███████████████████████                                    | 18739/47871 [7:03:52<7:31:16,  1.08it/s]"
     ]
    },
    {
     "name": "stdout",
     "output_type": "stream",
     "text": [
      "Warning: Unexpected label at index 18739: 'quantum imaging'\n"
     ]
    },
    {
     "name": "stderr",
     "output_type": "stream",
     "text": [
      "Classifying:  39%|███████████████████████▏                                   | 18820/47871 [7:05:11<7:03:59,  1.14it/s]"
     ]
    },
    {
     "name": "stdout",
     "output_type": "stream",
     "text": [
      "Warning: Unexpected label at index 18820: 'quantum optics'\n"
     ]
    },
    {
     "name": "stderr",
     "output_type": "stream",
     "text": [
      "Classifying:  39%|███████████████████████▏                                   | 18851/47871 [7:05:50<9:34:01,  1.19s/it]"
     ]
    },
    {
     "name": "stdout",
     "output_type": "stream",
     "text": [
      "Warning: Unexpected label at index 18851: 'quantum entanglement'\n"
     ]
    },
    {
     "name": "stderr",
     "output_type": "stream",
     "text": [
      "Classifying:  39%|███████████████████████▏                                   | 18864/47871 [7:06:03<8:06:13,  1.01s/it]"
     ]
    },
    {
     "name": "stdout",
     "output_type": "stream",
     "text": [
      "Warning: Unexpected label at index 18864: 'quantum structures'\n"
     ]
    },
    {
     "name": "stderr",
     "output_type": "stream",
     "text": [
      "Classifying:  39%|██████████████████████▉                                   | 18895/47871 [7:06:51<11:43:35,  1.46s/it]"
     ]
    },
    {
     "name": "stdout",
     "output_type": "stream",
     "text": [
      "Warning: Unexpected label at index 18895: 'quantum display'\n"
     ]
    },
    {
     "name": "stderr",
     "output_type": "stream",
     "text": [
      "Classifying:  39%|███████████████████████▎                                   | 18906/47871 [7:07:03<7:56:58,  1.01it/s]"
     ]
    },
    {
     "name": "stdout",
     "output_type": "stream",
     "text": [
      "Warning: Unexpected label at index 18906: 'quantum entanglement'\n"
     ]
    },
    {
     "name": "stderr",
     "output_type": "stream",
     "text": [
      "Classifying:  40%|███████████████████████▎                                   | 18921/47871 [7:07:16<7:54:24,  1.02it/s]"
     ]
    },
    {
     "name": "stdout",
     "output_type": "stream",
     "text": [
      "Warning: Unexpected label at index 18921: 'quantum optics'\n"
     ]
    },
    {
     "name": "stderr",
     "output_type": "stream",
     "text": [
      "Classifying:  40%|███████████████████████▎                                   | 18955/47871 [7:07:49<9:24:57,  1.17s/it]"
     ]
    },
    {
     "name": "stdout",
     "output_type": "stream",
     "text": [
      "Warning: Unexpected label at index 18955: 'quantum optics'\n"
     ]
    },
    {
     "name": "stderr",
     "output_type": "stream",
     "text": [
      "Classifying:  40%|███████████████████████▍                                   | 18991/47871 [7:08:29<9:02:48,  1.13s/it]"
     ]
    },
    {
     "name": "stdout",
     "output_type": "stream",
     "text": [
      "Warning: Unexpected label at index 18991: 'quantum applications'\n"
     ]
    },
    {
     "name": "stderr",
     "output_type": "stream",
     "text": [
      "Classifying:  40%|███████████████████████▍                                   | 18998/47871 [7:08:35<7:46:05,  1.03it/s]"
     ]
    },
    {
     "name": "stdout",
     "output_type": "stream",
     "text": [
      "Warning: Unexpected label at index 18998: 'quantum memory'\n"
     ]
    },
    {
     "name": "stderr",
     "output_type": "stream",
     "text": [
      "Classifying:  40%|███████████████████████▍                                   | 19049/47871 [7:09:57<8:43:51,  1.09s/it]"
     ]
    },
    {
     "name": "stdout",
     "output_type": "stream",
     "text": [
      "Warning: Unexpected label at index 19049: 'quantum memory'\n"
     ]
    },
    {
     "name": "stderr",
     "output_type": "stream",
     "text": [
      "Classifying:  40%|███████████████████████                                   | 19066/47871 [7:10:20<23:04:41,  2.88s/it]"
     ]
    },
    {
     "name": "stdout",
     "output_type": "stream",
     "text": [
      "Warning: Unexpected label at index 19066: 'quantum optics'\n"
     ]
    },
    {
     "name": "stderr",
     "output_type": "stream",
     "text": [
      "Classifying:  40%|███████████████████████▌                                   | 19084/47871 [7:10:41<9:14:34,  1.16s/it]"
     ]
    },
    {
     "name": "stdout",
     "output_type": "stream",
     "text": [
      "Warning: Unexpected label at index 19084: 'quantum memory'\n"
     ]
    },
    {
     "name": "stderr",
     "output_type": "stream",
     "text": [
      "Classifying:  40%|███████████████████████▌                                   | 19088/47871 [7:10:45<7:15:27,  1.10it/s]"
     ]
    },
    {
     "name": "stdout",
     "output_type": "stream",
     "text": [
      "Warning: Unexpected label at index 19088: 'quantum optics'\n"
     ]
    },
    {
     "name": "stderr",
     "output_type": "stream",
     "text": [
      "Classifying:  40%|███████████████████████▌                                   | 19092/47871 [7:10:49<8:24:09,  1.05s/it]"
     ]
    },
    {
     "name": "stdout",
     "output_type": "stream",
     "text": [
      "Warning: Unexpected label at index 19092: 'quantum detection'\n"
     ]
    },
    {
     "name": "stderr",
     "output_type": "stream",
     "text": [
      "Classifying:  40%|███████████████████████▏                                  | 19101/47871 [7:11:11<14:20:30,  1.79s/it]"
     ]
    },
    {
     "name": "stdout",
     "output_type": "stream",
     "text": [
      "Warning: Unexpected label at index 19101: 'quantum dots'\n"
     ]
    },
    {
     "name": "stderr",
     "output_type": "stream",
     "text": [
      "Classifying:  40%|███████████████████████▌                                   | 19106/47871 [7:11:15<8:20:19,  1.04s/it]"
     ]
    },
    {
     "name": "stdout",
     "output_type": "stream",
     "text": [
      "Warning: Unexpected label at index 19106: 'quantum entanglement'\n"
     ]
    },
    {
     "name": "stderr",
     "output_type": "stream",
     "text": [
      "Classifying:  40%|███████████████████████▌                                   | 19117/47871 [7:11:27<7:25:54,  1.07it/s]"
     ]
    },
    {
     "name": "stdout",
     "output_type": "stream",
     "text": [
      "Warning: Unexpected label at index 19117: 'quantum dots'\n"
     ]
    },
    {
     "name": "stderr",
     "output_type": "stream",
     "text": [
      "Classifying:  40%|███████████████████████▌                                   | 19153/47871 [7:12:01<7:05:11,  1.13it/s]"
     ]
    },
    {
     "name": "stdout",
     "output_type": "stream",
     "text": [
      "Warning: Unexpected label at index 19153: 'This paper does not appear to be related to quantum computing. The title and abstract describe a method of operating a storage system and a file system, which are topics in classical computer science and engineering. Therefore, the appropriate label for this paper is not one of the quantum computing-related options provided.\n",
      "\n",
      "quantum computing'\n"
     ]
    },
    {
     "name": "stderr",
     "output_type": "stream",
     "text": [
      "Classifying:  40%|███████████████████████▌                                   | 19161/47871 [7:12:15<9:56:55,  1.25s/it]"
     ]
    },
    {
     "name": "stdout",
     "output_type": "stream",
     "text": [
      "Warning: Unexpected label at index 19161: 'quantum memory'\n"
     ]
    },
    {
     "name": "stderr",
     "output_type": "stream",
     "text": [
      "Classifying:  40%|███████████████████████▌                                   | 19165/47871 [7:12:18<7:46:20,  1.03it/s]"
     ]
    },
    {
     "name": "stdout",
     "output_type": "stream",
     "text": [
      "Warning: Unexpected label at index 19165: 'quantum imaging'\n"
     ]
    },
    {
     "name": "stderr",
     "output_type": "stream",
     "text": [
      "Classifying:  40%|███████████████████████▋                                   | 19242/47871 [7:13:51<6:56:12,  1.15it/s]"
     ]
    },
    {
     "name": "stdout",
     "output_type": "stream",
     "text": [
      "Warning: Unexpected label at index 19242: 'quantum dots'\n"
     ]
    },
    {
     "name": "stderr",
     "output_type": "stream",
     "text": [
      "Classifying:  40%|███████████████████████▋                                   | 19265/47871 [7:14:14<9:53:08,  1.24s/it]"
     ]
    },
    {
     "name": "stdout",
     "output_type": "stream",
     "text": [
      "Warning: Unexpected label at index 19265: 'quantum random number generation'\n"
     ]
    },
    {
     "name": "stderr",
     "output_type": "stream",
     "text": [
      "Classifying:  40%|███████████████████████▋                                   | 19266/47871 [7:14:15<9:06:36,  1.15s/it]"
     ]
    },
    {
     "name": "stdout",
     "output_type": "stream",
     "text": [
      "Warning: Unexpected label at index 19266: 'quantum random number generation'\n"
     ]
    },
    {
     "name": "stderr",
     "output_type": "stream",
     "text": [
      "Classifying:  40%|███████████████████████▊                                   | 19280/47871 [7:14:28<7:34:08,  1.05it/s]"
     ]
    },
    {
     "name": "stdout",
     "output_type": "stream",
     "text": [
      "Warning: Unexpected label at index 19280: 'quantum random number generation'\n"
     ]
    },
    {
     "name": "stderr",
     "output_type": "stream",
     "text": [
      "Classifying:  40%|███████████████████████▍                                  | 19313/47871 [7:15:03<10:53:12,  1.37s/it]"
     ]
    },
    {
     "name": "stdout",
     "output_type": "stream",
     "text": [
      "Warning: Unexpected label at index 19313: 'This paper does not appear to be related to quantum computing. The topic is about haptic feedback systems for head-worn computers, which is not a topic covered by the available labels. Therefore, there is no appropriate label from the list that can be applied to this paper.'\n"
     ]
    },
    {
     "name": "stderr",
     "output_type": "stream",
     "text": [
      "Classifying:  40%|███████████████████████▍                                  | 19330/47871 [7:15:25<10:20:27,  1.30s/it]"
     ]
    },
    {
     "name": "stdout",
     "output_type": "stream",
     "text": [
      "Warning: Unexpected label at index 19330: 'quantum optics'\n"
     ]
    },
    {
     "name": "stderr",
     "output_type": "stream",
     "text": [
      "Classifying:  40%|███████████████████████▊                                   | 19332/47871 [7:15:26<8:28:44,  1.07s/it]"
     ]
    },
    {
     "name": "stdout",
     "output_type": "stream",
     "text": [
      "Warning: Unexpected label at index 19332: 'quantum display'\n"
     ]
    },
    {
     "name": "stderr",
     "output_type": "stream",
     "text": [
      "Classifying:  40%|███████████████████████▍                                  | 19351/47871 [7:15:49<11:01:03,  1.39s/it]"
     ]
    },
    {
     "name": "stdout",
     "output_type": "stream",
     "text": [
      "Warning: Unexpected label at index 19350: 'quantum random number generation'\n"
     ]
    },
    {
     "name": "stderr",
     "output_type": "stream",
     "text": [
      "Classifying:  40%|███████████████████████▊                                   | 19354/47871 [7:15:52<9:02:14,  1.14s/it]"
     ]
    },
    {
     "name": "stdout",
     "output_type": "stream",
     "text": [
      "Warning: Unexpected label at index 19354: 'This paper does not appear to be related to quantum computing. The topic is about haptic feedback systems for head-worn computers, which is in the domain of classical computing and device engineering. Therefore, the appropriate label for this paper is:\n",
      "\n",
      "quantum computing'\n"
     ]
    },
    {
     "name": "stderr",
     "output_type": "stream",
     "text": [
      "Classifying:  40%|███████████████████████▊                                   | 19355/47871 [7:15:54<9:14:31,  1.17s/it]"
     ]
    },
    {
     "name": "stdout",
     "output_type": "stream",
     "text": [
      "Warning: Unexpected label at index 19355: 'This paper does not appear to be related to quantum computing. The topic is about haptic feedback systems for head-worn computers, which is not a quantum computing topic. Therefore, I do not see a relevant label from the list provided.'\n"
     ]
    },
    {
     "name": "stderr",
     "output_type": "stream",
     "text": [
      "Classifying:  41%|███████████████████████▍                                  | 19388/47871 [7:16:29<10:06:49,  1.28s/it]"
     ]
    },
    {
     "name": "stdout",
     "output_type": "stream",
     "text": [
      "Warning: Unexpected label at index 19388: 'quantum entanglement'\n"
     ]
    },
    {
     "name": "stderr",
     "output_type": "stream",
     "text": [
      "Classifying:  41%|███████████████████████▉                                   | 19389/47871 [7:16:30<9:08:41,  1.16s/it]"
     ]
    },
    {
     "name": "stdout",
     "output_type": "stream",
     "text": [
      "Warning: Unexpected label at index 19389: 'quantum entanglement'\n"
     ]
    },
    {
     "name": "stderr",
     "output_type": "stream",
     "text": [
      "Classifying:  41%|███████████████████████▉                                   | 19393/47871 [7:16:34<7:35:15,  1.04it/s]"
     ]
    },
    {
     "name": "stdout",
     "output_type": "stream",
     "text": [
      "Warning: Unexpected label at index 19393: 'The paper does not seem to be related to quantum computing. The topic appears to be about haptic feedback systems for head-worn computers. Therefore, the appropriate label is not included in the list provided.'\n"
     ]
    },
    {
     "name": "stderr",
     "output_type": "stream",
     "text": [
      "Classifying:  41%|███████████████████████▉                                   | 19405/47871 [7:16:47<8:27:14,  1.07s/it]"
     ]
    },
    {
     "name": "stdout",
     "output_type": "stream",
     "text": [
      "Warning: Unexpected label at index 19405: 'This paper does not appear to be related to quantum computing. The abstract discusses haptic feedback systems and head-worn computing devices, which are not topics within the field of quantum computing. Therefore, I would not classify this paper under any of the provided labels.'\n"
     ]
    },
    {
     "name": "stderr",
     "output_type": "stream",
     "text": [
      "Classifying:  41%|███████████████████████▉                                   | 19406/47871 [7:16:48<8:45:26,  1.11s/it]"
     ]
    },
    {
     "name": "stdout",
     "output_type": "stream",
     "text": [
      "Warning: Unexpected label at index 19406: 'quantum imaging'\n"
     ]
    },
    {
     "name": "stderr",
     "output_type": "stream",
     "text": [
      "Classifying:  41%|███████████████████████▉                                   | 19419/47871 [7:17:00<7:51:53,  1.00it/s]"
     ]
    },
    {
     "name": "stdout",
     "output_type": "stream",
     "text": [
      "Warning: Unexpected label at index 19419: 'quantum optics'\n"
     ]
    },
    {
     "name": "stderr",
     "output_type": "stream",
     "text": [
      "Classifying:  41%|███████████████████████▌                                  | 19468/47871 [7:18:08<34:12:39,  4.34s/it]"
     ]
    },
    {
     "name": "stdout",
     "output_type": "stream",
     "text": [
      "Warning: Unexpected label at index 19468: 'quantum crystallography'\n"
     ]
    },
    {
     "name": "stderr",
     "output_type": "stream",
     "text": [
      "Classifying:  41%|███████████████████████▌                                  | 19472/47871 [7:18:11<13:33:22,  1.72s/it]"
     ]
    },
    {
     "name": "stdout",
     "output_type": "stream",
     "text": [
      "Warning: Unexpected label at index 19472: 'This paper does not appear to be related to quantum computing. The abstract describes a haptic feedback system for head-worn computers, which is not a topic typically associated with quantum computing. Therefore, I would not classify this paper under any of the available labels.'\n"
     ]
    },
    {
     "name": "stderr",
     "output_type": "stream",
     "text": [
      "Classifying:  41%|███████████████████████▌                                  | 19476/47871 [7:18:22<18:51:08,  2.39s/it]"
     ]
    },
    {
     "name": "stdout",
     "output_type": "stream",
     "text": [
      "Warning: Unexpected label at index 19476: 'quantum display'\n"
     ]
    },
    {
     "name": "stderr",
     "output_type": "stream",
     "text": [
      "Classifying:  41%|███████████████████████▌                                  | 19477/47871 [7:18:22<15:09:52,  1.92s/it]"
     ]
    },
    {
     "name": "stdout",
     "output_type": "stream",
     "text": [
      "Warning: Unexpected label at index 19477: 'This paper is not related to quantum computing. It is about haptic feedback systems for head-worn computers.'\n"
     ]
    },
    {
     "name": "stderr",
     "output_type": "stream",
     "text": [
      "Classifying:  41%|████████████████████████                                   | 19492/47871 [7:18:37<8:14:39,  1.05s/it]"
     ]
    },
    {
     "name": "stdout",
     "output_type": "stream",
     "text": [
      "Warning: Unexpected label at index 19492: 'quantum imaging'\n"
     ]
    },
    {
     "name": "stderr",
     "output_type": "stream",
     "text": [
      "Classifying:  41%|████████████████████████                                   | 19493/47871 [7:18:38<7:52:40,  1.00it/s]"
     ]
    },
    {
     "name": "stdout",
     "output_type": "stream",
     "text": [
      "Warning: Unexpected label at index 19493: 'quantum crystallography'\n"
     ]
    },
    {
     "name": "stderr",
     "output_type": "stream",
     "text": [
      "Classifying:  41%|████████████████████████                                   | 19518/47871 [7:19:02<7:57:05,  1.01s/it]"
     ]
    },
    {
     "name": "stdout",
     "output_type": "stream",
     "text": [
      "Warning: Unexpected label at index 19518: 'quantum imaging'\n"
     ]
    },
    {
     "name": "stderr",
     "output_type": "stream",
     "text": [
      "Classifying:  41%|████████████████████████                                   | 19520/47871 [7:19:04<7:10:35,  1.10it/s]"
     ]
    },
    {
     "name": "stdout",
     "output_type": "stream",
     "text": [
      "Warning: Unexpected label at index 19519: 'quantum imaging'\n"
     ]
    },
    {
     "name": "stderr",
     "output_type": "stream",
     "text": [
      "Classifying:  41%|████████████████████████▏                                  | 19627/47871 [7:21:13<9:59:24,  1.27s/it]"
     ]
    },
    {
     "name": "stdout",
     "output_type": "stream",
     "text": [
      "Warning: Unexpected label at index 19627: 'quantum optics'\n"
     ]
    },
    {
     "name": "stderr",
     "output_type": "stream",
     "text": [
      "Classifying:  41%|████████████████████████▎                                  | 19735/47871 [7:23:35<7:23:44,  1.06it/s]"
     ]
    },
    {
     "name": "stdout",
     "output_type": "stream",
     "text": [
      "Warning: Unexpected label at index 19735: 'quantum synchronization'\n"
     ]
    },
    {
     "name": "stderr",
     "output_type": "stream",
     "text": [
      "Classifying:  41%|███████████████████████▉                                  | 19747/47871 [7:23:52<16:36:24,  2.13s/it]"
     ]
    },
    {
     "name": "stdout",
     "output_type": "stream",
     "text": [
      "Warning: Unexpected label at index 19747: 'quantum materials'\n"
     ]
    },
    {
     "name": "stderr",
     "output_type": "stream",
     "text": [
      "Classifying:  41%|████████████████████████▎                                  | 19756/47871 [7:24:01<7:14:15,  1.08it/s]"
     ]
    },
    {
     "name": "stdout",
     "output_type": "stream",
     "text": [
      "Warning: Unexpected label at index 19756: 'quantum walks'\n"
     ]
    },
    {
     "name": "stderr",
     "output_type": "stream",
     "text": [
      "Classifying:  41%|████████████████████████▎                                  | 19762/47871 [7:24:06<7:19:30,  1.07it/s]"
     ]
    },
    {
     "name": "stdout",
     "output_type": "stream",
     "text": [
      "Warning: Unexpected label at index 19762: 'quantum energy harvesting'\n"
     ]
    },
    {
     "name": "stderr",
     "output_type": "stream",
     "text": [
      "Classifying:  41%|████████████████████████▎                                  | 19763/47871 [7:24:07<7:03:34,  1.11it/s]"
     ]
    },
    {
     "name": "stdout",
     "output_type": "stream",
     "text": [
      "Warning: Unexpected label at index 19763: 'quantum non-demolition qubit readout'\n"
     ]
    },
    {
     "name": "stderr",
     "output_type": "stream",
     "text": [
      "Classifying:  41%|████████████████████████▎                                  | 19773/47871 [7:24:16<6:46:03,  1.15it/s]"
     ]
    },
    {
     "name": "stdout",
     "output_type": "stream",
     "text": [
      "Warning: Unexpected label at index 19773: 'quantum emitters'\n"
     ]
    },
    {
     "name": "stderr",
     "output_type": "stream",
     "text": [
      "Classifying:  41%|████████████████████████▍                                  | 19828/47871 [7:25:13<7:33:37,  1.03it/s]"
     ]
    },
    {
     "name": "stdout",
     "output_type": "stream",
     "text": [
      "Warning: Unexpected label at index 19828: 'quantum dot structures'\n"
     ]
    },
    {
     "name": "stderr",
     "output_type": "stream",
     "text": [
      "Classifying:  42%|████████████████████████▍                                  | 19873/47871 [7:26:11<9:01:52,  1.16s/it]"
     ]
    },
    {
     "name": "stdout",
     "output_type": "stream",
     "text": [
      "Warning: Unexpected label at index 19873: 'quantum walks'\n"
     ]
    },
    {
     "name": "stderr",
     "output_type": "stream",
     "text": [
      "Classifying:  42%|████████████████████████▍                                  | 19878/47871 [7:26:17<9:15:11,  1.19s/it]"
     ]
    },
    {
     "name": "stdout",
     "output_type": "stream",
     "text": [
      "Warning: Unexpected label at index 19878: 'quantum optics'\n"
     ]
    },
    {
     "name": "stderr",
     "output_type": "stream",
     "text": [
      "Classifying:  42%|████████████████████████▌                                  | 19882/47871 [7:26:20<8:14:53,  1.06s/it]"
     ]
    },
    {
     "name": "stdout",
     "output_type": "stream",
     "text": [
      "Warning: Unexpected label at index 19882: 'quantum imaging'\n"
     ]
    },
    {
     "name": "stderr",
     "output_type": "stream",
     "text": [
      "Classifying:  42%|████████████████████████▌                                  | 19888/47871 [7:26:27<8:49:32,  1.14s/it]"
     ]
    },
    {
     "name": "stdout",
     "output_type": "stream",
     "text": [
      "Warning: Unexpected label at index 19888: 'quantum compression'\n"
     ]
    },
    {
     "name": "stderr",
     "output_type": "stream",
     "text": [
      "Classifying:  42%|████████████████████████                                  | 19897/47871 [7:26:41<21:06:15,  2.72s/it]"
     ]
    },
    {
     "name": "stdout",
     "output_type": "stream",
     "text": [
      "Warning: Unexpected label at index 19897: 'quantum optics'\n"
     ]
    },
    {
     "name": "stderr",
     "output_type": "stream",
     "text": [
      "Classifying:  42%|████████████████████████                                  | 19899/47871 [7:26:42<13:31:07,  1.74s/it]"
     ]
    },
    {
     "name": "stdout",
     "output_type": "stream",
     "text": [
      "Warning: Unexpected label at index 19899: 'No label'\n"
     ]
    },
    {
     "name": "stderr",
     "output_type": "stream",
     "text": [
      "Classifying:  42%|████████████████████████▌                                  | 19918/47871 [7:27:00<7:11:39,  1.08it/s]"
     ]
    },
    {
     "name": "stdout",
     "output_type": "stream",
     "text": [
      "Warning: Unexpected label at index 19918: 'quantum nondemolition'\n"
     ]
    },
    {
     "name": "stderr",
     "output_type": "stream",
     "text": [
      "Classifying:  42%|████████████████████████▌                                  | 19960/47871 [7:27:42<7:51:36,  1.01s/it]"
     ]
    },
    {
     "name": "stdout",
     "output_type": "stream",
     "text": [
      "Warning: Unexpected label at index 19960: 'quantum applications'\n"
     ]
    },
    {
     "name": "stderr",
     "output_type": "stream",
     "text": [
      "Classifying:  42%|████████████████████████▋                                  | 19999/47871 [7:28:21<6:37:24,  1.17it/s]"
     ]
    },
    {
     "name": "stdout",
     "output_type": "stream",
     "text": [
      "→ Saved checkpoint for rows 0–20000\n"
     ]
    },
    {
     "name": "stderr",
     "output_type": "stream",
     "text": [
      "Classifying:  42%|████████████████████████▋                                  | 20010/47871 [7:28:31<8:08:56,  1.05s/it]"
     ]
    },
    {
     "name": "stdout",
     "output_type": "stream",
     "text": [
      "Warning: Unexpected label at index 20010: 'quantum dots'\n"
     ]
    },
    {
     "name": "stderr",
     "output_type": "stream",
     "text": [
      "Classifying:  42%|████████████████████████▋                                  | 20020/47871 [7:28:41<7:28:45,  1.03it/s]"
     ]
    },
    {
     "name": "stdout",
     "output_type": "stream",
     "text": [
      "Warning: Unexpected label at index 20020: 'This paper does not appear to be related to quantum computing. The title and abstract describe user interface systems for head-worn computers, which is a different field of study. Therefore, I cannot classify this paper using any of the provided labels related to quantum computing.'\n"
     ]
    },
    {
     "name": "stderr",
     "output_type": "stream",
     "text": [
      "Classifying:  42%|████████████████████████▊                                  | 20106/47871 [7:30:22<7:42:53,  1.00s/it]"
     ]
    },
    {
     "name": "stdout",
     "output_type": "stream",
     "text": [
      "Warning: Unexpected label at index 20106: 'quantum sampling'\n"
     ]
    },
    {
     "name": "stderr",
     "output_type": "stream",
     "text": [
      "Classifying:  42%|████████████████████████▍                                 | 20122/47871 [7:30:46<14:35:23,  1.89s/it]"
     ]
    },
    {
     "name": "stdout",
     "output_type": "stream",
     "text": [
      "Warning: Unexpected label at index 20122: 'quantum systems'\n"
     ]
    },
    {
     "name": "stderr",
     "output_type": "stream",
     "text": [
      "Classifying:  42%|████████████████████████▍                                 | 20153/47871 [7:31:44<18:21:55,  2.39s/it]"
     ]
    },
    {
     "name": "stdout",
     "output_type": "stream",
     "text": [
      "Warning: Unexpected label at index 20153: 'quantum optics'\n"
     ]
    },
    {
     "name": "stderr",
     "output_type": "stream",
     "text": [
      "Classifying:  42%|████████████████████████▍                                 | 20156/47871 [7:31:48<12:11:10,  1.58s/it]"
     ]
    },
    {
     "name": "stdout",
     "output_type": "stream",
     "text": [
      "Warning: Unexpected label at index 20156: 'quantum entanglement'\n"
     ]
    },
    {
     "name": "stderr",
     "output_type": "stream",
     "text": [
      "Classifying:  42%|████████████████████████▌                                 | 20274/47871 [7:33:47<21:26:31,  2.80s/it]"
     ]
    },
    {
     "name": "stdout",
     "output_type": "stream",
     "text": [
      "Warning: Unexpected label at index 20274: 'quantum entanglement'\n"
     ]
    },
    {
     "name": "stderr",
     "output_type": "stream",
     "text": [
      "Classifying:  42%|█████████████████████████                                  | 20295/47871 [7:34:15<8:52:21,  1.16s/it]"
     ]
    },
    {
     "name": "stdout",
     "output_type": "stream",
     "text": [
      "Warning: Unexpected label at index 20295: 'quantum display'\n"
     ]
    },
    {
     "name": "stderr",
     "output_type": "stream",
     "text": [
      "Classifying:  42%|█████████████████████████                                  | 20315/47871 [7:34:35<7:18:15,  1.05it/s]"
     ]
    },
    {
     "name": "stdout",
     "output_type": "stream",
     "text": [
      "Warning: Unexpected label at index 20315: 'quantum imaging'\n"
     ]
    },
    {
     "name": "stderr",
     "output_type": "stream",
     "text": [
      "Classifying:  42%|█████████████████████████                                  | 20317/47871 [7:34:37<7:35:43,  1.01it/s]"
     ]
    },
    {
     "name": "stdout",
     "output_type": "stream",
     "text": [
      "Warning: Unexpected label at index 20317: 'quantum display'\n"
     ]
    },
    {
     "name": "stderr",
     "output_type": "stream",
     "text": [
      "Classifying:  42%|█████████████████████████                                  | 20327/47871 [7:34:48<7:41:25,  1.01s/it]"
     ]
    },
    {
     "name": "stdout",
     "output_type": "stream",
     "text": [
      "Warning: Unexpected label at index 20327: 'quantum dots'\n"
     ]
    },
    {
     "name": "stderr",
     "output_type": "stream",
     "text": [
      "Classifying:  43%|█████████████████████████                                  | 20370/47871 [7:35:29<6:32:47,  1.17it/s]"
     ]
    },
    {
     "name": "stdout",
     "output_type": "stream",
     "text": [
      "Warning: Unexpected label at index 20370: 'quantum imaging'\n"
     ]
    },
    {
     "name": "stderr",
     "output_type": "stream",
     "text": [
      "Classifying:  43%|█████████████████████████                                  | 20377/47871 [7:35:36<8:16:44,  1.08s/it]"
     ]
    },
    {
     "name": "stdout",
     "output_type": "stream",
     "text": [
      "Warning: Unexpected label at index 20377: 'quantum optics'\n"
     ]
    },
    {
     "name": "stderr",
     "output_type": "stream",
     "text": [
      "Classifying:  43%|█████████████████████████                                  | 20378/47871 [7:35:38<9:20:59,  1.22s/it]"
     ]
    },
    {
     "name": "stdout",
     "output_type": "stream",
     "text": [
      "Warning: Unexpected label at index 20378: 'quantum random number generators'\n"
     ]
    },
    {
     "name": "stderr",
     "output_type": "stream",
     "text": [
      "Classifying:  43%|█████████████████████████▏                                 | 20427/47871 [7:36:30<7:03:43,  1.08it/s]"
     ]
    },
    {
     "name": "stdout",
     "output_type": "stream",
     "text": [
      "Warning: Unexpected label at index 20427: 'quantum materials'\n"
     ]
    },
    {
     "name": "stderr",
     "output_type": "stream",
     "text": [
      "Classifying:  43%|█████████████████████████▏                                 | 20452/47871 [7:37:00<7:23:16,  1.03it/s]"
     ]
    },
    {
     "name": "stdout",
     "output_type": "stream",
     "text": [
      "Warning: Unexpected label at index 20452: 'quantum imaging'\n"
     ]
    },
    {
     "name": "stderr",
     "output_type": "stream",
     "text": [
      "Classifying:  43%|█████████████████████████▏                                 | 20469/47871 [7:37:22<7:21:50,  1.03it/s]"
     ]
    },
    {
     "name": "stdout",
     "output_type": "stream",
     "text": [
      "Warning: Unexpected label at index 20469: 'quantum random number generators'\n"
     ]
    },
    {
     "name": "stderr",
     "output_type": "stream",
     "text": [
      "Classifying:  43%|█████████████████████████▏                                 | 20483/47871 [7:37:36<7:51:02,  1.03s/it]"
     ]
    },
    {
     "name": "stdout",
     "output_type": "stream",
     "text": [
      "Warning: Unexpected label at index 20483: 'quantum material'\n"
     ]
    },
    {
     "name": "stderr",
     "output_type": "stream",
     "text": [
      "Classifying:  43%|█████████████████████████▎                                 | 20545/47871 [7:38:40<6:26:53,  1.18it/s]"
     ]
    },
    {
     "name": "stdout",
     "output_type": "stream",
     "text": [
      "Warning: Unexpected label at index 20545: 'quantum random number generators'\n"
     ]
    },
    {
     "name": "stderr",
     "output_type": "stream",
     "text": [
      "Classifying:  43%|█████████████████████████▎                                 | 20546/47871 [7:38:41<7:00:34,  1.08it/s]"
     ]
    },
    {
     "name": "stdout",
     "output_type": "stream",
     "text": [
      "Warning: Unexpected label at index 20546: 'quantum materials'\n"
     ]
    },
    {
     "name": "stderr",
     "output_type": "stream",
     "text": [
      "Classifying:  43%|█████████████████████████▎                                 | 20547/47871 [7:38:42<7:02:12,  1.08it/s]"
     ]
    },
    {
     "name": "stdout",
     "output_type": "stream",
     "text": [
      "Warning: Unexpected label at index 20547: 'quantum spectroscopy'\n"
     ]
    },
    {
     "name": "stderr",
     "output_type": "stream",
     "text": [
      "Classifying:  43%|█████████████████████████▍                                 | 20590/47871 [7:39:23<7:36:51,  1.00s/it]"
     ]
    },
    {
     "name": "stdout",
     "output_type": "stream",
     "text": [
      "Warning: Unexpected label at index 20590: 'quantum optics'\n"
     ]
    },
    {
     "name": "stderr",
     "output_type": "stream",
     "text": [
      "Classifying:  43%|█████████████████████████▍                                 | 20639/47871 [7:40:14<7:14:20,  1.04it/s]"
     ]
    },
    {
     "name": "stdout",
     "output_type": "stream",
     "text": [
      "Warning: Unexpected label at index 20639: 'quantum applications'\n"
     ]
    },
    {
     "name": "stderr",
     "output_type": "stream",
     "text": [
      "Classifying:  43%|█████████████████████████▏                                | 20760/47871 [7:42:23<10:05:45,  1.34s/it]"
     ]
    },
    {
     "name": "stdout",
     "output_type": "stream",
     "text": [
      "Warning: Unexpected label at index 20760: 'quantum adsorption'\n"
     ]
    },
    {
     "name": "stderr",
     "output_type": "stream",
     "text": [
      "Classifying:  43%|█████████████████████████▋                                 | 20792/47871 [7:42:58<8:09:35,  1.08s/it]"
     ]
    },
    {
     "name": "stdout",
     "output_type": "stream",
     "text": [
      "Warning: Unexpected label at index 20792: 'quantum optics'\n"
     ]
    },
    {
     "name": "stderr",
     "output_type": "stream",
     "text": [
      "Classifying:  44%|█████████████████████████▋                                 | 20831/47871 [7:43:37<6:33:10,  1.15it/s]"
     ]
    },
    {
     "name": "stdout",
     "output_type": "stream",
     "text": [
      "Warning: Unexpected label at index 20831: 'quantum cache'\n"
     ]
    },
    {
     "name": "stderr",
     "output_type": "stream",
     "text": [
      "Classifying:  44%|█████████████████████████▊                                 | 20895/47871 [7:44:37<6:49:37,  1.10it/s]"
     ]
    },
    {
     "name": "stdout",
     "output_type": "stream",
     "text": [
      "Warning: Unexpected label at index 20895: 'quantum calibration'\n"
     ]
    },
    {
     "name": "stderr",
     "output_type": "stream",
     "text": [
      "Classifying:  44%|█████████████████████████▊                                 | 20903/47871 [7:44:45<7:33:19,  1.01s/it]"
     ]
    },
    {
     "name": "stdout",
     "output_type": "stream",
     "text": [
      "Warning: Unexpected label at index 20903: 'quantum imaging'\n"
     ]
    },
    {
     "name": "stderr",
     "output_type": "stream",
     "text": [
      "Classifying:  44%|█████████████████████████▊                                 | 20959/47871 [7:45:47<7:34:11,  1.01s/it]"
     ]
    },
    {
     "name": "stdout",
     "output_type": "stream",
     "text": [
      "Warning: Unexpected label at index 20959: 'quantum imaging'\n"
     ]
    },
    {
     "name": "stderr",
     "output_type": "stream",
     "text": [
      "Classifying:  44%|█████████████████████████▍                                | 20969/47871 [7:46:09<12:27:33,  1.67s/it]"
     ]
    },
    {
     "name": "stdout",
     "output_type": "stream",
     "text": [
      "Warning: Unexpected label at index 20969: 'quantum state preparation'\n"
     ]
    },
    {
     "name": "stderr",
     "output_type": "stream",
     "text": [
      "Classifying:  44%|█████████████████████████▉                                 | 21004/47871 [7:46:53<6:39:00,  1.12it/s]"
     ]
    },
    {
     "name": "stdout",
     "output_type": "stream",
     "text": [
      "Warning: Unexpected label at index 21004: 'quantum imaging'\n"
     ]
    },
    {
     "name": "stderr",
     "output_type": "stream",
     "text": [
      "Classifying:  44%|█████████████████████████▉                                 | 21006/47871 [7:46:55<6:28:10,  1.15it/s]"
     ]
    },
    {
     "name": "stdout",
     "output_type": "stream",
     "text": [
      "Warning: Unexpected label at index 21006: 'quantum decoherence'\n"
     ]
    },
    {
     "name": "stderr",
     "output_type": "stream",
     "text": [
      "Classifying:  44%|█████████████████████████▉                                 | 21052/47871 [7:47:40<7:27:31,  1.00s/it]"
     ]
    },
    {
     "name": "stdout",
     "output_type": "stream",
     "text": [
      "Warning: Unexpected label at index 21052: 'quantum light emitting device'\n"
     ]
    },
    {
     "name": "stderr",
     "output_type": "stream",
     "text": [
      "Classifying:  44%|█████████████████████████▉                                 | 21083/47871 [7:48:08<7:16:43,  1.02it/s]"
     ]
    },
    {
     "name": "stdout",
     "output_type": "stream",
     "text": [
      "Warning: Unexpected label at index 21083: 'quantum optics'\n"
     ]
    },
    {
     "name": "stderr",
     "output_type": "stream",
     "text": [
      "Classifying:  44%|██████████████████████████                                 | 21116/47871 [7:48:45<6:18:55,  1.18it/s]"
     ]
    },
    {
     "name": "stdout",
     "output_type": "stream",
     "text": [
      "Warning: Unexpected label at index 21116: 'quantum materials'\n"
     ]
    },
    {
     "name": "stderr",
     "output_type": "stream",
     "text": [
      "Classifying:  44%|█████████████████████████▌                                | 21120/47871 [7:48:55<20:33:46,  2.77s/it]"
     ]
    },
    {
     "name": "stdout",
     "output_type": "stream",
     "text": [
      "Warning: Unexpected label at index 21120: 'quantum measurement'\n"
     ]
    },
    {
     "name": "stderr",
     "output_type": "stream",
     "text": [
      "Classifying:  44%|██████████████████████████                                 | 21149/47871 [7:49:23<8:07:07,  1.09s/it]"
     ]
    },
    {
     "name": "stdout",
     "output_type": "stream",
     "text": [
      "Warning: Unexpected label at index 21149: 'quantum optics'\n"
     ]
    },
    {
     "name": "stderr",
     "output_type": "stream",
     "text": [
      "Classifying:  44%|██████████████████████████                                 | 21175/47871 [7:49:47<6:24:25,  1.16it/s]"
     ]
    },
    {
     "name": "stdout",
     "output_type": "stream",
     "text": [
      "Warning: Unexpected label at index 21175: 'quantum energy conversion'\n"
     ]
    },
    {
     "name": "stderr",
     "output_type": "stream",
     "text": [
      "Classifying:  44%|██████████████████████████                                 | 21176/47871 [7:49:48<6:31:37,  1.14it/s]"
     ]
    },
    {
     "name": "stdout",
     "output_type": "stream",
     "text": [
      "Warning: Unexpected label at index 21176: 'quantum energy harvesting'\n"
     ]
    },
    {
     "name": "stderr",
     "output_type": "stream",
     "text": [
      "Classifying:  44%|██████████████████████████                                 | 21189/47871 [7:50:00<8:07:27,  1.10s/it]"
     ]
    },
    {
     "name": "stdout",
     "output_type": "stream",
     "text": [
      "Warning: Unexpected label at index 21189: 'quantum energy harvesting'\n"
     ]
    },
    {
     "name": "stderr",
     "output_type": "stream",
     "text": [
      "Classifying:  44%|██████████████████████████▏                                | 21241/47871 [7:50:55<6:27:52,  1.14it/s]"
     ]
    },
    {
     "name": "stdout",
     "output_type": "stream",
     "text": [
      "Warning: Unexpected label at index 21241: 'quantum random number generation'\n"
     ]
    },
    {
     "name": "stderr",
     "output_type": "stream",
     "text": [
      "Classifying:  44%|██████████████████████████▏                                | 21256/47871 [7:51:08<6:03:32,  1.22it/s]"
     ]
    },
    {
     "name": "stdout",
     "output_type": "stream",
     "text": [
      "Warning: Unexpected label at index 21256: 'quantum materials'\n"
     ]
    },
    {
     "name": "stderr",
     "output_type": "stream",
     "text": [
      "Classifying:  44%|██████████████████████████▏                                | 21280/47871 [7:51:30<6:17:18,  1.17it/s]"
     ]
    },
    {
     "name": "stdout",
     "output_type": "stream",
     "text": [
      "Warning: Unexpected label at index 21280: 'quantum entanglement'\n"
     ]
    },
    {
     "name": "stderr",
     "output_type": "stream",
     "text": [
      "Classifying:  45%|██████████████████████████▎                                | 21316/47871 [7:52:03<6:29:50,  1.14it/s]"
     ]
    },
    {
     "name": "stdout",
     "output_type": "stream",
     "text": [
      "Warning: Unexpected label at index 21316: 'quantum materials'\n"
     ]
    },
    {
     "name": "stderr",
     "output_type": "stream",
     "text": [
      "Classifying:  45%|██████████████████████████▎                                | 21352/47871 [7:52:39<8:10:04,  1.11s/it]"
     ]
    },
    {
     "name": "stdout",
     "output_type": "stream",
     "text": [
      "Warning: Unexpected label at index 21352: 'quantum computation'\n"
     ]
    },
    {
     "name": "stderr",
     "output_type": "stream",
     "text": [
      "Classifying:  45%|██████████████████████████▎                                | 21384/47871 [7:53:36<7:06:12,  1.04it/s]"
     ]
    },
    {
     "name": "stdout",
     "output_type": "stream",
     "text": [
      "Warning: Unexpected label at index 21384: 'quantum random number generation'\n"
     ]
    },
    {
     "name": "stderr",
     "output_type": "stream",
     "text": [
      "Classifying:  45%|█████████████████████████▉                                | 21406/47871 [7:54:03<12:44:36,  1.73s/it]"
     ]
    },
    {
     "name": "stdout",
     "output_type": "stream",
     "text": [
      "Warning: Unexpected label at index 21406: 'quantum entanglement'\n"
     ]
    },
    {
     "name": "stderr",
     "output_type": "stream",
     "text": [
      "Classifying:  45%|██████████████████████████▍                                | 21437/47871 [7:54:35<6:38:10,  1.11it/s]"
     ]
    },
    {
     "name": "stdout",
     "output_type": "stream",
     "text": [
      "Warning: Unexpected label at index 21437: 'quantum storage'\n"
     ]
    },
    {
     "name": "stderr",
     "output_type": "stream",
     "text": [
      "Classifying:  45%|██████████████████████████▍                                | 21439/47871 [7:54:36<6:28:14,  1.13it/s]"
     ]
    },
    {
     "name": "stdout",
     "output_type": "stream",
     "text": [
      "Warning: Unexpected label at index 21439: 'quantum imaging'\n"
     ]
    },
    {
     "name": "stderr",
     "output_type": "stream",
     "text": [
      "Classifying:  45%|██████████████████████████▍                                | 21456/47871 [7:54:54<7:31:45,  1.03s/it]"
     ]
    },
    {
     "name": "stdout",
     "output_type": "stream",
     "text": [
      "Warning: Unexpected label at index 21456: 'quantum imaging'\n"
     ]
    },
    {
     "name": "stderr",
     "output_type": "stream",
     "text": [
      "Classifying:  45%|██████████████████████████▍                                | 21480/47871 [7:55:15<6:09:30,  1.19it/s]"
     ]
    },
    {
     "name": "stdout",
     "output_type": "stream",
     "text": [
      "Warning: Unexpected label at index 21480: 'quantum heterostructures'\n"
     ]
    },
    {
     "name": "stderr",
     "output_type": "stream",
     "text": [
      "Classifying:  45%|██████████████████████████▍                                | 21501/47871 [7:55:34<6:14:54,  1.17it/s]"
     ]
    },
    {
     "name": "stdout",
     "output_type": "stream",
     "text": [
      "Warning: Unexpected label at index 21501: 'quantum imaging'\n"
     ]
    },
    {
     "name": "stderr",
     "output_type": "stream",
     "text": [
      "Classifying:  45%|██████████████████████████▌                                | 21527/47871 [7:55:58<7:17:14,  1.00it/s]"
     ]
    },
    {
     "name": "stdout",
     "output_type": "stream",
     "text": [
      "Warning: Unexpected label at index 21527: 'This paper is not related to quantum computing. It is about managing flash memory for performance, which falls outside the scope of the available labels.'\n"
     ]
    },
    {
     "name": "stderr",
     "output_type": "stream",
     "text": [
      "Classifying:  45%|██████████████████████████▌                                | 21581/47871 [7:56:52<7:44:34,  1.06s/it]"
     ]
    },
    {
     "name": "stdout",
     "output_type": "stream",
     "text": [
      "Warning: Unexpected label at index 21581: 'quantum imaging'\n"
     ]
    },
    {
     "name": "stderr",
     "output_type": "stream",
     "text": [
      "Classifying:  45%|██████████████████████████▋                                | 21614/47871 [7:57:23<6:21:32,  1.15it/s]"
     ]
    },
    {
     "name": "stdout",
     "output_type": "stream",
     "text": [
      "Warning: Unexpected label at index 21614: 'This paper is not related to quantum computing. It describes a low profile latching mechanism, which is a mechanical engineering topic. Therefore, the appropriate label is not among the ones provided.'\n"
     ]
    },
    {
     "name": "stderr",
     "output_type": "stream",
     "text": [
      "Classifying:  45%|██████████████████████████▋                                | 21650/47871 [7:58:16<8:49:15,  1.21s/it]"
     ]
    },
    {
     "name": "stdout",
     "output_type": "stream",
     "text": [
      "Warning: Unexpected label at index 21650: 'quantum materials'\n"
     ]
    },
    {
     "name": "stderr",
     "output_type": "stream",
     "text": [
      "Classifying:  45%|██████████████████████████▋                                | 21670/47871 [7:58:35<6:20:34,  1.15it/s]"
     ]
    },
    {
     "name": "stdout",
     "output_type": "stream",
     "text": [
      "Warning: Unexpected label at index 21670: 'quantum dots'\n"
     ]
    },
    {
     "name": "stderr",
     "output_type": "stream",
     "text": [
      "Classifying:  45%|██████████████████████████▋                                | 21677/47871 [7:58:41<6:47:11,  1.07it/s]"
     ]
    },
    {
     "name": "stdout",
     "output_type": "stream",
     "text": [
      "Warning: Unexpected label at index 21677: 'quantum imaging'\n"
     ]
    },
    {
     "name": "stderr",
     "output_type": "stream",
     "text": [
      "Classifying:  45%|██████████████████████████▊                                | 21709/47871 [7:59:11<6:19:13,  1.15it/s]"
     ]
    },
    {
     "name": "stdout",
     "output_type": "stream",
     "text": [
      "Warning: Unexpected label at index 21709: 'This paper does not appear to be related to quantum computing. The abstract describes a low profile latching mechanism, which is a mechanical engineering topic. Therefore, the appropriate label is:\n",
      "\n",
      "quantum computing'\n"
     ]
    },
    {
     "name": "stderr",
     "output_type": "stream",
     "text": [
      "Classifying:  45%|██████████████████████████▎                               | 21741/47871 [7:59:49<11:51:05,  1.63s/it]"
     ]
    },
    {
     "name": "stdout",
     "output_type": "stream",
     "text": [
      "Warning: Unexpected label at index 21741: 'quantum well'\n"
     ]
    },
    {
     "name": "stderr",
     "output_type": "stream",
     "text": [
      "Classifying:  45%|██████████████████████████▊                                | 21754/47871 [8:00:00<6:12:53,  1.17it/s]"
     ]
    },
    {
     "name": "stdout",
     "output_type": "stream",
     "text": [
      "Warning: Unexpected label at index 21754: 'quantum storage'\n"
     ]
    },
    {
     "name": "stderr",
     "output_type": "stream",
     "text": [
      "Classifying:  45%|██████████████████████████▊                                | 21773/47871 [8:00:18<6:32:57,  1.11it/s]"
     ]
    },
    {
     "name": "stdout",
     "output_type": "stream",
     "text": [
      "Warning: Unexpected label at index 21773: 'quantum dots'\n"
     ]
    },
    {
     "name": "stderr",
     "output_type": "stream",
     "text": [
      "Classifying:  46%|██████████████████████████▊                                | 21799/47871 [8:00:42<6:56:53,  1.04it/s]"
     ]
    },
    {
     "name": "stdout",
     "output_type": "stream",
     "text": [
      "Warning: Unexpected label at index 21799: 'quantum optics'\n"
     ]
    },
    {
     "name": "stderr",
     "output_type": "stream",
     "text": [
      "Classifying:  46%|██████████████████████████▊                                | 21801/47871 [8:00:44<6:25:28,  1.13it/s]"
     ]
    },
    {
     "name": "stdout",
     "output_type": "stream",
     "text": [
      "Warning: Unexpected label at index 21801: 'quantum random number generation'\n"
     ]
    },
    {
     "name": "stderr",
     "output_type": "stream",
     "text": [
      "Classifying:  46%|██████████████████████████▉                                | 21806/47871 [8:00:48<6:16:43,  1.15it/s]"
     ]
    },
    {
     "name": "stdout",
     "output_type": "stream",
     "text": [
      "Warning: Unexpected label at index 21806: 'quantum optics'\n"
     ]
    },
    {
     "name": "stderr",
     "output_type": "stream",
     "text": [
      "Classifying:  46%|██████████████████████████▉                                | 21808/47871 [8:00:50<7:49:55,  1.08s/it]"
     ]
    },
    {
     "name": "stdout",
     "output_type": "stream",
     "text": [
      "Warning: Unexpected label at index 21808: 'quantum optics'\n"
     ]
    },
    {
     "name": "stderr",
     "output_type": "stream",
     "text": [
      "Classifying:  46%|██████████████████████████▉                                | 21818/47871 [8:01:02<7:32:10,  1.04s/it]"
     ]
    },
    {
     "name": "stdout",
     "output_type": "stream",
     "text": [
      "Warning: Unexpected label at index 21818: 'quantum imaging'\n"
     ]
    },
    {
     "name": "stderr",
     "output_type": "stream",
     "text": [
      "Classifying:  46%|██████████████████████████▉                                | 21833/47871 [8:01:18<6:30:39,  1.11it/s]"
     ]
    },
    {
     "name": "stdout",
     "output_type": "stream",
     "text": [
      "Warning: Unexpected label at index 21833: 'quantum imaging'\n"
     ]
    },
    {
     "name": "stderr",
     "output_type": "stream",
     "text": [
      "Classifying:  46%|██████████████████████████▉                                | 21839/47871 [8:01:24<6:21:34,  1.14it/s]"
     ]
    },
    {
     "name": "stdout",
     "output_type": "stream",
     "text": [
      "Warning: Unexpected label at index 21839: 'quantum random number generation'\n"
     ]
    },
    {
     "name": "stderr",
     "output_type": "stream",
     "text": [
      "Classifying:  46%|██████████████████████████▉                                | 21879/47871 [8:02:02<6:07:25,  1.18it/s]"
     ]
    },
    {
     "name": "stdout",
     "output_type": "stream",
     "text": [
      "Warning: Unexpected label at index 21879: 'quantum compression'\n"
     ]
    },
    {
     "name": "stderr",
     "output_type": "stream",
     "text": [
      "Classifying:  46%|██████████████████████████▉                                | 21881/47871 [8:02:04<6:25:19,  1.12it/s]"
     ]
    },
    {
     "name": "stdout",
     "output_type": "stream",
     "text": [
      "Warning: Unexpected label at index 21881: 'quantum optics'\n"
     ]
    },
    {
     "name": "stderr",
     "output_type": "stream",
     "text": [
      "Classifying:  46%|███████████████████████████                                | 21931/47871 [8:02:54<7:25:48,  1.03s/it]"
     ]
    },
    {
     "name": "stdout",
     "output_type": "stream",
     "text": [
      "Warning: Unexpected label at index 21931: 'quantum materials'\n"
     ]
    },
    {
     "name": "stderr",
     "output_type": "stream",
     "text": [
      "Classifying:  46%|███████████████████████████                                | 21944/47871 [8:03:06<8:16:24,  1.15s/it]"
     ]
    },
    {
     "name": "stdout",
     "output_type": "stream",
     "text": [
      "Warning: Unexpected label at index 21944: 'This paper is not related to quantum computing. It appears to be about a mechanical energy absorbing apparatus. Therefore, none of the provided labels are appropriate.'\n"
     ]
    },
    {
     "name": "stderr",
     "output_type": "stream",
     "text": [
      "Classifying:  46%|███████████████████████████                                | 21966/47871 [8:03:33<6:27:39,  1.11it/s]"
     ]
    },
    {
     "name": "stdout",
     "output_type": "stream",
     "text": [
      "Warning: Unexpected label at index 21966: 'quantum heterostructures'\n"
     ]
    },
    {
     "name": "stderr",
     "output_type": "stream",
     "text": [
      "Classifying:  46%|███████████████████████████                                | 21987/47871 [8:03:59<6:11:47,  1.16it/s]"
     ]
    },
    {
     "name": "stdout",
     "output_type": "stream",
     "text": [
      "Warning: Unexpected label at index 21987: 'quantum optics'\n"
     ]
    },
    {
     "name": "stderr",
     "output_type": "stream",
     "text": [
      "Classifying:  46%|███████████████████████████                                | 21988/47871 [8:04:00<6:57:04,  1.03it/s]"
     ]
    },
    {
     "name": "stdout",
     "output_type": "stream",
     "text": [
      "Warning: Unexpected label at index 21988: 'quantum optics'\n"
     ]
    },
    {
     "name": "stderr",
     "output_type": "stream",
     "text": [
      "Classifying:  46%|███████████████████████████                                | 21991/47871 [8:04:03<6:15:49,  1.15it/s]"
     ]
    },
    {
     "name": "stdout",
     "output_type": "stream",
     "text": [
      "Warning: Unexpected label at index 21991: 'quantum materials'\n"
     ]
    },
    {
     "name": "stderr",
     "output_type": "stream",
     "text": [
      "Classifying:  46%|██████████████████████████▋                               | 22002/47871 [8:04:19<19:39:16,  2.74s/it]"
     ]
    },
    {
     "name": "stdout",
     "output_type": "stream",
     "text": [
      "Warning: Unexpected label at index 22002: 'quantum optics'\n"
     ]
    },
    {
     "name": "stderr",
     "output_type": "stream",
     "text": [
      "Classifying:  46%|███████████████████████████▏                               | 22033/47871 [8:04:55<9:37:16,  1.34s/it]"
     ]
    },
    {
     "name": "stdout",
     "output_type": "stream",
     "text": [
      "Warning: Unexpected label at index 22033: 'quantum light emitting element'\n"
     ]
    },
    {
     "name": "stderr",
     "output_type": "stream",
     "text": [
      "Classifying:  46%|███████████████████████████▏                               | 22042/47871 [8:05:04<7:08:42,  1.00it/s]"
     ]
    },
    {
     "name": "stdout",
     "output_type": "stream",
     "text": [
      "Warning: Unexpected label at index 22042: 'quantum spectroscopy'\n"
     ]
    },
    {
     "name": "stderr",
     "output_type": "stream",
     "text": [
      "Classifying:  46%|███████████████████████████▏                               | 22046/47871 [8:05:07<6:08:23,  1.17it/s]"
     ]
    },
    {
     "name": "stdout",
     "output_type": "stream",
     "text": [
      "Warning: Unexpected label at index 22046: 'quantum random number generation'\n"
     ]
    },
    {
     "name": "stderr",
     "output_type": "stream",
     "text": [
      "Classifying:  46%|███████████████████████████▏                               | 22074/47871 [8:05:37<7:37:35,  1.06s/it]"
     ]
    },
    {
     "name": "stdout",
     "output_type": "stream",
     "text": [
      "Warning: Unexpected label at index 22074: 'quantum optics'\n"
     ]
    },
    {
     "name": "stderr",
     "output_type": "stream",
     "text": [
      "Classifying:  46%|███████████████████████████▏                               | 22087/47871 [8:05:49<7:37:32,  1.06s/it]"
     ]
    },
    {
     "name": "stdout",
     "output_type": "stream",
     "text": [
      "Warning: Unexpected label at index 22087: 'quantum display'\n"
     ]
    },
    {
     "name": "stderr",
     "output_type": "stream",
     "text": [
      "Classifying:  46%|███████████████████████████▍                               | 22253/47871 [8:08:29<6:28:13,  1.10it/s]"
     ]
    },
    {
     "name": "stdout",
     "output_type": "stream",
     "text": [
      "Warning: Unexpected label at index 22253: 'quantum amplifiers'\n"
     ]
    },
    {
     "name": "stderr",
     "output_type": "stream",
     "text": [
      "Classifying:  46%|███████████████████████████▍                               | 22260/47871 [8:08:42<9:13:52,  1.30s/it]"
     ]
    },
    {
     "name": "stdout",
     "output_type": "stream",
     "text": [
      "Warning: Unexpected label at index 22260: 'quantum amplification'\n"
     ]
    },
    {
     "name": "stderr",
     "output_type": "stream",
     "text": [
      "Classifying:  47%|███████████████████████████▍                               | 22270/47871 [8:08:50<6:04:48,  1.17it/s]"
     ]
    },
    {
     "name": "stdout",
     "output_type": "stream",
     "text": [
      "Warning: Unexpected label at index 22270: 'quantum random number generation'\n"
     ]
    },
    {
     "name": "stderr",
     "output_type": "stream",
     "text": [
      "Classifying:  47%|███████████████████████████▌                               | 22360/47871 [8:10:51<5:43:14,  1.24it/s]"
     ]
    },
    {
     "name": "stdout",
     "output_type": "stream",
     "text": [
      "Warning: Unexpected label at index 22360: 'quantum spin liquid'\n"
     ]
    },
    {
     "name": "stderr",
     "output_type": "stream",
     "text": [
      "Classifying:  47%|███████████████████████████▌                               | 22378/47871 [8:11:08<6:46:13,  1.05it/s]"
     ]
    },
    {
     "name": "stdout",
     "output_type": "stream",
     "text": [
      "Warning: Unexpected label at index 22378: 'quantum random number generation'\n"
     ]
    },
    {
     "name": "stderr",
     "output_type": "stream",
     "text": [
      "Classifying:  47%|███████████████████████████▌                               | 22392/47871 [8:11:21<6:24:00,  1.11it/s]"
     ]
    },
    {
     "name": "stdout",
     "output_type": "stream",
     "text": [
      "Warning: Unexpected label at index 22392: 'quantum materials'\n"
     ]
    },
    {
     "name": "stderr",
     "output_type": "stream",
     "text": [
      "Classifying:  47%|███████████████████████████▌                               | 22410/47871 [8:11:44<6:01:15,  1.17it/s]"
     ]
    },
    {
     "name": "stdout",
     "output_type": "stream",
     "text": [
      "Warning: Unexpected label at index 22410: 'quantum emitters'\n"
     ]
    },
    {
     "name": "stderr",
     "output_type": "stream",
     "text": [
      "Classifying:  47%|███████████████████████████▋                               | 22433/47871 [8:12:04<6:11:19,  1.14it/s]"
     ]
    },
    {
     "name": "stdout",
     "output_type": "stream",
     "text": [
      "Warning: Unexpected label at index 22433: 'quantum amplification'\n"
     ]
    },
    {
     "name": "stderr",
     "output_type": "stream",
     "text": [
      "Classifying:  47%|███████████████████████████▋                               | 22447/47871 [8:12:18<6:23:29,  1.10it/s]"
     ]
    },
    {
     "name": "stdout",
     "output_type": "stream",
     "text": [
      "Warning: Unexpected label at index 22447: 'quantum channels'\n"
     ]
    },
    {
     "name": "stderr",
     "output_type": "stream",
     "text": [
      "Classifying:  47%|███████████████████████████▋                               | 22490/47871 [8:13:01<5:55:38,  1.19it/s]"
     ]
    },
    {
     "name": "stdout",
     "output_type": "stream",
     "text": [
      "Warning: Unexpected label at index 22490: 'quantum optics'\n"
     ]
    },
    {
     "name": "stderr",
     "output_type": "stream",
     "text": [
      "Classifying:  47%|███████████████████████████▊                               | 22555/47871 [8:14:10<6:57:59,  1.01it/s]"
     ]
    },
    {
     "name": "stdout",
     "output_type": "stream",
     "text": [
      "Warning: Unexpected label at index 22555: 'quantum compression'\n"
     ]
    },
    {
     "name": "stderr",
     "output_type": "stream",
     "text": [
      "Classifying:  47%|███████████████████████████▍                              | 22607/47871 [8:15:10<10:16:10,  1.46s/it]"
     ]
    },
    {
     "name": "stdout",
     "output_type": "stream",
     "text": [
      "Warning: Unexpected label at index 22607: 'quantum display'\n"
     ]
    },
    {
     "name": "stderr",
     "output_type": "stream",
     "text": [
      "Classifying:  47%|███████████████████████████▉                               | 22627/47871 [8:15:34<6:24:17,  1.09it/s]"
     ]
    },
    {
     "name": "stdout",
     "output_type": "stream",
     "text": [
      "Warning: Unexpected label at index 22627: 'quantum storage'\n"
     ]
    },
    {
     "name": "stderr",
     "output_type": "stream",
     "text": [
      "Classifying:  47%|███████████████████████████▉                               | 22631/47871 [8:15:39<8:57:33,  1.28s/it]"
     ]
    },
    {
     "name": "stdout",
     "output_type": "stream",
     "text": [
      "Warning: Unexpected label at index 22631: 'quantum materials'\n"
     ]
    },
    {
     "name": "stderr",
     "output_type": "stream",
     "text": [
      "Classifying:  47%|███████████████████████████▉                               | 22685/47871 [8:16:37<8:01:04,  1.15s/it]"
     ]
    },
    {
     "name": "stdout",
     "output_type": "stream",
     "text": [
      "Warning: Unexpected label at index 22685: 'quantum materials'\n"
     ]
    },
    {
     "name": "stderr",
     "output_type": "stream",
     "text": [
      "Classifying:  47%|███████████████████████████▉                               | 22698/47871 [8:16:50<7:18:48,  1.05s/it]"
     ]
    },
    {
     "name": "stdout",
     "output_type": "stream",
     "text": [
      "Warning: Unexpected label at index 22698: 'quantum materials'\n"
     ]
    },
    {
     "name": "stderr",
     "output_type": "stream",
     "text": [
      "Classifying:  47%|███████████████████████████▉                               | 22714/47871 [8:17:12<7:30:02,  1.07s/it]"
     ]
    },
    {
     "name": "stdout",
     "output_type": "stream",
     "text": [
      "Warning: Unexpected label at index 22714: 'quantum lighting'\n"
     ]
    },
    {
     "name": "stderr",
     "output_type": "stream",
     "text": [
      "Classifying:  48%|████████████████████████████                               | 22766/47871 [8:18:05<6:16:37,  1.11it/s]"
     ]
    },
    {
     "name": "stdout",
     "output_type": "stream",
     "text": [
      "Warning: Unexpected label at index 22766: 'quantum materials'\n"
     ]
    },
    {
     "name": "stderr",
     "output_type": "stream",
     "text": [
      "Classifying:  48%|████████████████████████████▏                              | 22821/47871 [8:18:57<7:03:01,  1.01s/it]"
     ]
    },
    {
     "name": "stdout",
     "output_type": "stream",
     "text": [
      "Warning: Unexpected label at index 22821: 'quantum optics'\n"
     ]
    },
    {
     "name": "stderr",
     "output_type": "stream",
     "text": [
      "Classifying:  48%|████████████████████████████▏                              | 22823/47871 [8:18:58<6:13:54,  1.12it/s]"
     ]
    },
    {
     "name": "stdout",
     "output_type": "stream",
     "text": [
      "Warning: Unexpected label at index 22823: 'quantum random number generation'\n"
     ]
    },
    {
     "name": "stderr",
     "output_type": "stream",
     "text": [
      "Classifying:  48%|████████████████████████████▏                              | 22853/47871 [8:19:26<6:28:47,  1.07it/s]"
     ]
    },
    {
     "name": "stdout",
     "output_type": "stream",
     "text": [
      "Warning: Unexpected label at index 22853: 'quantum lighting'\n"
     ]
    },
    {
     "name": "stderr",
     "output_type": "stream",
     "text": [
      "Classifying:  48%|████████████████████████████▏                              | 22866/47871 [8:19:45<9:46:59,  1.41s/it]"
     ]
    },
    {
     "name": "stdout",
     "output_type": "stream",
     "text": [
      "Warning: Unexpected label at index 22866: 'quantum materials'\n"
     ]
    },
    {
     "name": "stderr",
     "output_type": "stream",
     "text": [
      "Classifying:  48%|████████████████████████████▎                              | 22928/47871 [8:20:46<6:08:21,  1.13it/s]"
     ]
    },
    {
     "name": "stdout",
     "output_type": "stream",
     "text": [
      "Warning: Unexpected label at index 22928: 'quantum imaging'\n"
     ]
    },
    {
     "name": "stderr",
     "output_type": "stream",
     "text": [
      "Classifying:  48%|███████████████████████████▊                              | 22968/47871 [8:21:42<26:51:15,  3.88s/it]"
     ]
    },
    {
     "name": "stdout",
     "output_type": "stream",
     "text": [
      "Warning: Unexpected label at index 22968: 'quantum entanglement'\n"
     ]
    },
    {
     "name": "stderr",
     "output_type": "stream",
     "text": [
      "Classifying:  48%|████████████████████████████▎                              | 22996/47871 [8:22:09<7:37:53,  1.10s/it]"
     ]
    },
    {
     "name": "stdout",
     "output_type": "stream",
     "text": [
      "Warning: Unexpected label at index 22996: 'quantum optics'\n"
     ]
    },
    {
     "name": "stderr",
     "output_type": "stream",
     "text": [
      "Classifying:  48%|████████████████████████████▎                              | 23007/47871 [8:22:19<6:14:08,  1.11it/s]"
     ]
    },
    {
     "name": "stdout",
     "output_type": "stream",
     "text": [
      "Warning: Unexpected label at index 23007: 'quantum gates'\n"
     ]
    },
    {
     "name": "stderr",
     "output_type": "stream",
     "text": [
      "Classifying:  48%|████████████████████████████▎                              | 23017/47871 [8:22:29<6:53:10,  1.00it/s]"
     ]
    },
    {
     "name": "stdout",
     "output_type": "stream",
     "text": [
      "Warning: Unexpected label at index 23017: 'quantum random number generation'\n"
     ]
    },
    {
     "name": "stderr",
     "output_type": "stream",
     "text": [
      "Classifying:  48%|████████████████████████████▍                              | 23076/47871 [8:23:24<6:00:55,  1.14it/s]"
     ]
    },
    {
     "name": "stdout",
     "output_type": "stream",
     "text": [
      "Warning: Unexpected label at index 23076: 'quantum optics'\n"
     ]
    },
    {
     "name": "stderr",
     "output_type": "stream",
     "text": [
      "Classifying:  48%|████████████████████████████▍                              | 23077/47871 [8:23:25<6:38:50,  1.04it/s]"
     ]
    },
    {
     "name": "stdout",
     "output_type": "stream",
     "text": [
      "Warning: Unexpected label at index 23077: 'quantum energy conversion'\n"
     ]
    },
    {
     "name": "stderr",
     "output_type": "stream",
     "text": [
      "Classifying:  48%|████████████████████████████▍                              | 23093/47871 [8:23:40<5:58:54,  1.15it/s]"
     ]
    },
    {
     "name": "stdout",
     "output_type": "stream",
     "text": [
      "Warning: Unexpected label at index 23093: 'quantum amplification'\n"
     ]
    },
    {
     "name": "stderr",
     "output_type": "stream",
     "text": [
      "Classifying:  48%|████████████████████████████▍                              | 23101/47871 [8:23:47<5:41:43,  1.21it/s]"
     ]
    },
    {
     "name": "stdout",
     "output_type": "stream",
     "text": [
      "Warning: Unexpected label at index 23101: 'quantum amplifiers'\n"
     ]
    },
    {
     "name": "stderr",
     "output_type": "stream",
     "text": [
      "Classifying:  48%|████████████████████████████▍                              | 23102/47871 [8:23:48<6:15:52,  1.10it/s]"
     ]
    },
    {
     "name": "stdout",
     "output_type": "stream",
     "text": [
      "Warning: Unexpected label at index 23102: 'quantum entanglement'\n"
     ]
    },
    {
     "name": "stderr",
     "output_type": "stream",
     "text": [
      "Classifying:  48%|████████████████████████████▍                              | 23117/47871 [8:24:04<7:17:14,  1.06s/it]"
     ]
    },
    {
     "name": "stdout",
     "output_type": "stream",
     "text": [
      "Warning: Unexpected label at index 23117: 'quantum optics'\n"
     ]
    },
    {
     "name": "stderr",
     "output_type": "stream",
     "text": [
      "Classifying:  48%|████████████████████████████▌                              | 23172/47871 [8:25:01<6:47:57,  1.01it/s]"
     ]
    },
    {
     "name": "stdout",
     "output_type": "stream",
     "text": [
      "Warning: Unexpected label at index 23172: 'quantum random number generation'\n"
     ]
    },
    {
     "name": "stderr",
     "output_type": "stream",
     "text": [
      "Classifying:  48%|████████████████████████████▌                              | 23186/47871 [8:25:15<7:07:12,  1.04s/it]"
     ]
    },
    {
     "name": "stdout",
     "output_type": "stream",
     "text": [
      "Warning: Unexpected label at index 23186: 'quantum materials'\n"
     ]
    },
    {
     "name": "stderr",
     "output_type": "stream",
     "text": [
      "Classifying:  48%|████████████████████████████▌                              | 23202/47871 [8:25:30<6:03:31,  1.13it/s]"
     ]
    },
    {
     "name": "stdout",
     "output_type": "stream",
     "text": [
      "Warning: Unexpected label at index 23201: 'quantum amplification'\n"
     ]
    },
    {
     "name": "stderr",
     "output_type": "stream",
     "text": [
      "Classifying:  49%|████████████████████████████▌                              | 23220/47871 [8:25:46<6:19:27,  1.08it/s]"
     ]
    },
    {
     "name": "stdout",
     "output_type": "stream",
     "text": [
      "Warning: Unexpected label at index 23220: 'quantum amplification'\n"
     ]
    },
    {
     "name": "stderr",
     "output_type": "stream",
     "text": [
      "Classifying:  49%|████████████████████████████▋                              | 23254/47871 [8:26:16<5:49:52,  1.17it/s]"
     ]
    },
    {
     "name": "stdout",
     "output_type": "stream",
     "text": [
      "Warning: Unexpected label at index 23254: 'quantum workflow'\n"
     ]
    },
    {
     "name": "stderr",
     "output_type": "stream",
     "text": [
      "Classifying:  49%|████████████████████████████▊                              | 23361/47871 [8:28:03<7:27:35,  1.10s/it]"
     ]
    },
    {
     "name": "stdout",
     "output_type": "stream",
     "text": [
      "Warning: Unexpected label at index 23361: 'quantum microbiome'\n"
     ]
    },
    {
     "name": "stderr",
     "output_type": "stream",
     "text": [
      "Classifying:  49%|████████████████████████████▉                              | 23443/47871 [8:29:24<5:36:53,  1.21it/s]"
     ]
    },
    {
     "name": "stdout",
     "output_type": "stream",
     "text": [
      "Warning: Unexpected label at index 23443: 'quantum materials'\n"
     ]
    },
    {
     "name": "stderr",
     "output_type": "stream",
     "text": [
      "Classifying:  49%|████████████████████████████▉                              | 23470/47871 [8:29:49<5:46:20,  1.17it/s]"
     ]
    },
    {
     "name": "stdout",
     "output_type": "stream",
     "text": [
      "Warning: Unexpected label at index 23470: 'quantum spectroscopy'\n"
     ]
    },
    {
     "name": "stderr",
     "output_type": "stream",
     "text": [
      "Classifying:  49%|████████████████████████████▉                              | 23507/47871 [8:30:23<6:02:26,  1.12it/s]"
     ]
    },
    {
     "name": "stdout",
     "output_type": "stream",
     "text": [
      "Warning: Unexpected label at index 23507: 'quantum materials'\n"
     ]
    },
    {
     "name": "stderr",
     "output_type": "stream",
     "text": [
      "Classifying:  49%|█████████████████████████████                              | 23531/47871 [8:30:45<6:23:27,  1.06it/s]"
     ]
    },
    {
     "name": "stdout",
     "output_type": "stream",
     "text": [
      "Warning: Unexpected label at index 23531: 'quantum materials'\n"
     ]
    },
    {
     "name": "stderr",
     "output_type": "stream",
     "text": [
      "Classifying:  49%|█████████████████████████████                              | 23553/47871 [8:31:09<8:27:07,  1.25s/it]"
     ]
    },
    {
     "name": "stdout",
     "output_type": "stream",
     "text": [
      "Warning: Unexpected label at index 23553: 'quantum imaging'\n"
     ]
    },
    {
     "name": "stderr",
     "output_type": "stream",
     "text": [
      "Classifying:  49%|█████████████████████████████                              | 23578/47871 [8:31:39<7:45:05,  1.15s/it]"
     ]
    },
    {
     "name": "stdout",
     "output_type": "stream",
     "text": [
      "Warning: Unexpected label at index 23578: 'quantum random number generation'\n"
     ]
    },
    {
     "name": "stderr",
     "output_type": "stream",
     "text": [
      "Classifying:  49%|█████████████████████████████                              | 23591/47871 [8:31:51<6:10:59,  1.09it/s]"
     ]
    },
    {
     "name": "stdout",
     "output_type": "stream",
     "text": [
      "Warning: Unexpected label at index 23591: 'quantum error analysis'\n"
     ]
    },
    {
     "name": "stderr",
     "output_type": "stream",
     "text": [
      "Classifying:  49%|█████████████████████████████                              | 23600/47871 [8:32:00<6:16:01,  1.08it/s]"
     ]
    },
    {
     "name": "stdout",
     "output_type": "stream",
     "text": [
      "Warning: Unexpected label at index 23600: 'quantum light emitting element'\n"
     ]
    },
    {
     "name": "stderr",
     "output_type": "stream",
     "text": [
      "Classifying:  49%|█████████████████████████████                              | 23622/47871 [8:32:28<6:20:42,  1.06it/s]"
     ]
    },
    {
     "name": "stdout",
     "output_type": "stream",
     "text": [
      "Warning: Unexpected label at index 23622: 'quantum random number generation'\n"
     ]
    },
    {
     "name": "stderr",
     "output_type": "stream",
     "text": [
      "Classifying:  49%|█████████████████████████████▏                             | 23665/47871 [8:33:21<6:13:32,  1.08it/s]"
     ]
    },
    {
     "name": "stdout",
     "output_type": "stream",
     "text": [
      "Warning: Unexpected label at index 23665: 'This paper does not appear to be related to quantum computing. The title and abstract describe commands for automatically setting the port speed of a network device, which is a classical computing topic. Therefore, the appropriate label for this paper is not one of the quantum computing-related options provided.'\n"
     ]
    },
    {
     "name": "stderr",
     "output_type": "stream",
     "text": [
      "Classifying:  49%|█████████████████████████████▏                             | 23684/47871 [8:33:47<8:18:30,  1.24s/it]"
     ]
    },
    {
     "name": "stdout",
     "output_type": "stream",
     "text": [
      "Warning: Unexpected label at index 23684: 'quantum optics'\n"
     ]
    },
    {
     "name": "stderr",
     "output_type": "stream",
     "text": [
      "Classifying:  50%|█████████████████████████████▏                             | 23708/47871 [8:34:10<6:15:17,  1.07it/s]"
     ]
    },
    {
     "name": "stdout",
     "output_type": "stream",
     "text": [
      "Warning: Unexpected label at index 23708: 'quantum entanglement'\n"
     ]
    },
    {
     "name": "stderr",
     "output_type": "stream",
     "text": [
      "Classifying:  50%|█████████████████████████████▏                             | 23709/47871 [8:34:11<6:05:07,  1.10it/s]"
     ]
    },
    {
     "name": "stdout",
     "output_type": "stream",
     "text": [
      "Warning: Unexpected label at index 23709: 'quantum optics'\n"
     ]
    },
    {
     "name": "stderr",
     "output_type": "stream",
     "text": [
      "Classifying:  50%|█████████████████████████████▏                             | 23710/47871 [8:34:12<5:54:07,  1.14it/s]"
     ]
    },
    {
     "name": "stdout",
     "output_type": "stream",
     "text": [
      "Warning: Unexpected label at index 23710: 'quantum optics'\n"
     ]
    },
    {
     "name": "stderr",
     "output_type": "stream",
     "text": [
      "Classifying:  50%|█████████████████████████████▏                             | 23711/47871 [8:34:14<7:37:13,  1.14s/it]"
     ]
    },
    {
     "name": "stdout",
     "output_type": "stream",
     "text": [
      "Warning: Unexpected label at index 23711: 'quantum optics'\n"
     ]
    },
    {
     "name": "stderr",
     "output_type": "stream",
     "text": [
      "Classifying:  50%|█████████████████████████████▏                             | 23715/47871 [8:34:17<6:27:16,  1.04it/s]"
     ]
    },
    {
     "name": "stdout",
     "output_type": "stream",
     "text": [
      "Warning: Unexpected label at index 23715: 'quantum imaging'\n"
     ]
    },
    {
     "name": "stderr",
     "output_type": "stream",
     "text": [
      "Classifying:  50%|█████████████████████████████▎                             | 23787/47871 [8:35:27<6:17:03,  1.06it/s]"
     ]
    },
    {
     "name": "stdout",
     "output_type": "stream",
     "text": [
      "Warning: Unexpected label at index 23787: 'quantum optics'\n"
     ]
    },
    {
     "name": "stderr",
     "output_type": "stream",
     "text": [
      "Classifying:  50%|█████████████████████████████▎                             | 23822/47871 [8:36:03<7:51:58,  1.18s/it]"
     ]
    },
    {
     "name": "stdout",
     "output_type": "stream",
     "text": [
      "Warning: Unexpected label at index 23822: 'quantum random number generation'\n"
     ]
    },
    {
     "name": "stderr",
     "output_type": "stream",
     "text": [
      "Classifying:  50%|█████████████████████████████▎                             | 23827/47871 [8:36:08<7:00:35,  1.05s/it]"
     ]
    },
    {
     "name": "stdout",
     "output_type": "stream",
     "text": [
      "Warning: Unexpected label at index 23827: 'quantum random number generation'\n"
     ]
    },
    {
     "name": "stderr",
     "output_type": "stream",
     "text": [
      "Classifying:  50%|█████████████████████████████▎                             | 23832/47871 [8:36:13<6:13:34,  1.07it/s]"
     ]
    },
    {
     "name": "stdout",
     "output_type": "stream",
     "text": [
      "Warning: Unexpected label at index 23832: 'quantum optics'\n"
     ]
    },
    {
     "name": "stderr",
     "output_type": "stream",
     "text": [
      "Classifying:  50%|█████████████████████████████▍                             | 23850/47871 [8:36:29<6:10:07,  1.08it/s]"
     ]
    },
    {
     "name": "stdout",
     "output_type": "stream",
     "text": [
      "Warning: Unexpected label at index 23850: 'quantum optics'\n"
     ]
    },
    {
     "name": "stderr",
     "output_type": "stream",
     "text": [
      "Classifying:  50%|█████████████████████████████▍                             | 23852/47871 [8:36:31<7:22:21,  1.11s/it]"
     ]
    },
    {
     "name": "stdout",
     "output_type": "stream",
     "text": [
      "Warning: Unexpected label at index 23852: 'quantum imaging'\n"
     ]
    },
    {
     "name": "stderr",
     "output_type": "stream",
     "text": [
      "Classifying:  50%|█████████████████████████████▍                             | 23870/47871 [8:36:54<7:41:13,  1.15s/it]"
     ]
    },
    {
     "name": "stdout",
     "output_type": "stream",
     "text": [
      "Warning: Unexpected label at index 23870: 'quantum gates'\n"
     ]
    },
    {
     "name": "stderr",
     "output_type": "stream",
     "text": [
      "Classifying:  50%|█████████████████████████████▍                             | 23885/47871 [8:37:16<7:05:32,  1.06s/it]"
     ]
    },
    {
     "name": "stdout",
     "output_type": "stream",
     "text": [
      "Warning: Unexpected label at index 23885: 'quantum display'\n"
     ]
    },
    {
     "name": "stderr",
     "output_type": "stream",
     "text": [
      "Classifying:  50%|█████████████████████████████▍                             | 23915/47871 [8:37:47<6:16:35,  1.06it/s]"
     ]
    },
    {
     "name": "stdout",
     "output_type": "stream",
     "text": [
      "Warning: Unexpected label at index 23915: 'quantum optics'\n"
     ]
    },
    {
     "name": "stderr",
     "output_type": "stream",
     "text": [
      "Classifying:  50%|█████████████████████████████▌                             | 23999/47871 [8:39:15<6:39:48,  1.00s/it]"
     ]
    },
    {
     "name": "stdout",
     "output_type": "stream",
     "text": [
      "→ Saved checkpoint for rows 0–24000\n"
     ]
    },
    {
     "name": "stderr",
     "output_type": "stream",
     "text": [
      "Classifying:  50%|█████████████████████████████▌                             | 24031/47871 [8:39:46<6:16:48,  1.05it/s]"
     ]
    },
    {
     "name": "stdout",
     "output_type": "stream",
     "text": [
      "Warning: Unexpected label at index 24031: 'quantum materials'\n"
     ]
    },
    {
     "name": "stderr",
     "output_type": "stream",
     "text": [
      "Classifying:  50%|█████████████████████████████▌                             | 24032/47871 [8:39:48<7:10:32,  1.08s/it]"
     ]
    },
    {
     "name": "stdout",
     "output_type": "stream",
     "text": [
      "Warning: Unexpected label at index 24032: 'quantum correlation'\n"
     ]
    },
    {
     "name": "stderr",
     "output_type": "stream",
     "text": [
      "Classifying:  50%|█████████████████████████████▋                             | 24065/47871 [8:40:22<6:44:13,  1.02s/it]"
     ]
    },
    {
     "name": "stdout",
     "output_type": "stream",
     "text": [
      "Warning: Unexpected label at index 24065: 'quantum optoelectronics'\n"
     ]
    },
    {
     "name": "stderr",
     "output_type": "stream",
     "text": [
      "Classifying:  50%|█████████████████████████████▋                             | 24072/47871 [8:40:28<6:07:59,  1.08it/s]"
     ]
    },
    {
     "name": "stdout",
     "output_type": "stream",
     "text": [
      "Warning: Unexpected label at index 24072: 'quantum optics'\n"
     ]
    },
    {
     "name": "stderr",
     "output_type": "stream",
     "text": [
      "Classifying:  50%|█████████████████████████████▋                             | 24089/47871 [8:40:45<5:39:25,  1.17it/s]"
     ]
    },
    {
     "name": "stdout",
     "output_type": "stream",
     "text": [
      "Warning: Unexpected label at index 24089: 'quantum optics'\n"
     ]
    },
    {
     "name": "stderr",
     "output_type": "stream",
     "text": [
      "Classifying:  50%|█████████████████████████████▋                             | 24100/47871 [8:41:03<8:13:06,  1.24s/it]"
     ]
    },
    {
     "name": "stdout",
     "output_type": "stream",
     "text": [
      "Warning: Unexpected label at index 24100: 'quantum imaging'\n"
     ]
    },
    {
     "name": "stderr",
     "output_type": "stream",
     "text": [
      "Classifying:  50%|█████████████████████████████▋                             | 24104/47871 [8:41:07<7:36:14,  1.15s/it]"
     ]
    },
    {
     "name": "stdout",
     "output_type": "stream",
     "text": [
      "Warning: Unexpected label at index 24104: 'quantum energy conversion'\n"
     ]
    },
    {
     "name": "stderr",
     "output_type": "stream",
     "text": [
      "Classifying:  50%|█████████████████████████████▏                            | 24120/47871 [8:41:29<12:15:19,  1.86s/it]"
     ]
    },
    {
     "name": "stdout",
     "output_type": "stream",
     "text": [
      "Warning: Unexpected label at index 24120: 'quantum random number generator'\n"
     ]
    },
    {
     "name": "stderr",
     "output_type": "stream",
     "text": [
      "Classifying:  50%|█████████████████████████████▊                             | 24162/47871 [8:42:09<6:08:24,  1.07it/s]"
     ]
    },
    {
     "name": "stdout",
     "output_type": "stream",
     "text": [
      "Warning: Unexpected label at index 24162: 'quantum materials'\n"
     ]
    },
    {
     "name": "stderr",
     "output_type": "stream",
     "text": [
      "Classifying:  51%|█████████████████████████████▉                             | 24321/47871 [8:44:56<5:33:47,  1.18it/s]"
     ]
    },
    {
     "name": "stdout",
     "output_type": "stream",
     "text": [
      "Warning: Unexpected label at index 24321: 'quantum key distribution'\n"
     ]
    },
    {
     "name": "stderr",
     "output_type": "stream",
     "text": [
      "Classifying:  51%|█████████████████████████████▉                             | 24341/47871 [8:45:15<5:57:35,  1.10it/s]"
     ]
    },
    {
     "name": "stdout",
     "output_type": "stream",
     "text": [
      "Warning: Unexpected label at index 24341: 'quantum random number generation'\n"
     ]
    },
    {
     "name": "stderr",
     "output_type": "stream",
     "text": [
      "Classifying:  51%|██████████████████████████████                             | 24359/47871 [8:45:32<6:07:23,  1.07it/s]"
     ]
    },
    {
     "name": "stdout",
     "output_type": "stream",
     "text": [
      "Warning: Unexpected label at index 24359: 'quantum imaging'\n"
     ]
    },
    {
     "name": "stderr",
     "output_type": "stream",
     "text": [
      "Classifying:  51%|██████████████████████████████                             | 24363/47871 [8:45:35<5:40:00,  1.15it/s]"
     ]
    },
    {
     "name": "stdout",
     "output_type": "stream",
     "text": [
      "Warning: Unexpected label at index 24363: 'quantum random number generator'\n"
     ]
    },
    {
     "name": "stderr",
     "output_type": "stream",
     "text": [
      "Classifying:  51%|██████████████████████████████                             | 24401/47871 [8:46:14<7:50:29,  1.20s/it]"
     ]
    },
    {
     "name": "stdout",
     "output_type": "stream",
     "text": [
      "Warning: Unexpected label at index 24401: 'quantum optoelectronics'\n"
     ]
    },
    {
     "name": "stderr",
     "output_type": "stream",
     "text": [
      "Classifying:  51%|██████████████████████████████▏                            | 24472/47871 [8:47:18<5:22:29,  1.21it/s]"
     ]
    },
    {
     "name": "stdout",
     "output_type": "stream",
     "text": [
      "Warning: Unexpected label at index 24472: 'quantum state transfer'\n"
     ]
    },
    {
     "name": "stderr",
     "output_type": "stream",
     "text": [
      "Classifying:  51%|██████████████████████████████▏                            | 24488/47871 [8:47:34<5:50:38,  1.11it/s]"
     ]
    },
    {
     "name": "stdout",
     "output_type": "stream",
     "text": [
      "Warning: Unexpected label at index 24488: 'quantum random number generation'\n"
     ]
    },
    {
     "name": "stderr",
     "output_type": "stream",
     "text": [
      "Classifying:  51%|██████████████████████████████▏                            | 24491/47871 [8:47:36<5:33:51,  1.17it/s]"
     ]
    },
    {
     "name": "stdout",
     "output_type": "stream",
     "text": [
      "Warning: Unexpected label at index 24491: 'quantum optics'\n"
     ]
    },
    {
     "name": "stderr",
     "output_type": "stream",
     "text": [
      "Classifying:  51%|██████████████████████████████▎                            | 24555/47871 [8:48:36<6:42:17,  1.04s/it]"
     ]
    },
    {
     "name": "stdout",
     "output_type": "stream",
     "text": [
      "Warning: Unexpected label at index 24555: 'quantum materials'\n"
     ]
    },
    {
     "name": "stderr",
     "output_type": "stream",
     "text": [
      "Classifying:  51%|██████████████████████████████▎                            | 24615/47871 [8:49:39<6:12:13,  1.04it/s]"
     ]
    },
    {
     "name": "stdout",
     "output_type": "stream",
     "text": [
      "Warning: Unexpected label at index 24615: 'quantum state transfer'\n"
     ]
    },
    {
     "name": "stderr",
     "output_type": "stream",
     "text": [
      "Classifying:  51%|██████████████████████████████▍                            | 24650/47871 [8:50:17<7:14:05,  1.12s/it]"
     ]
    },
    {
     "name": "stdout",
     "output_type": "stream",
     "text": [
      "Warning: Unexpected label at index 24650: 'quantum materials'\n"
     ]
    },
    {
     "name": "stderr",
     "output_type": "stream",
     "text": [
      "Classifying:  52%|██████████████████████████████▍                            | 24672/47871 [8:50:43<5:38:03,  1.14it/s]"
     ]
    },
    {
     "name": "stdout",
     "output_type": "stream",
     "text": [
      "Warning: Unexpected label at index 24672: 'quantum optoelectronics'\n"
     ]
    },
    {
     "name": "stderr",
     "output_type": "stream",
     "text": [
      "Classifying:  52%|██████████████████████████████▍                            | 24724/47871 [8:51:32<6:01:46,  1.07it/s]"
     ]
    },
    {
     "name": "stdout",
     "output_type": "stream",
     "text": [
      "Warning: Unexpected label at index 24724: 'quantum random number generation'\n"
     ]
    },
    {
     "name": "stderr",
     "output_type": "stream",
     "text": [
      "Classifying:  52%|██████████████████████████████▌                            | 24769/47871 [8:52:20<6:18:08,  1.02it/s]"
     ]
    },
    {
     "name": "stdout",
     "output_type": "stream",
     "text": [
      "Warning: Unexpected label at index 24769: 'quantum emotion regulation'\n"
     ]
    },
    {
     "name": "stderr",
     "output_type": "stream",
     "text": [
      "Classifying:  52%|██████████████████████████████▌                            | 24780/47871 [8:52:31<5:58:00,  1.07it/s]"
     ]
    },
    {
     "name": "stdout",
     "output_type": "stream",
     "text": [
      "Warning: Unexpected label at index 24780: 'quantum materials'\n"
     ]
    },
    {
     "name": "stderr",
     "output_type": "stream",
     "text": [
      "Classifying:  52%|██████████████████████████████                            | 24783/47871 [8:52:40<15:45:37,  2.46s/it]"
     ]
    },
    {
     "name": "stdout",
     "output_type": "stream",
     "text": [
      "Warning: Unexpected label at index 24783: 'quantum materials'\n"
     ]
    },
    {
     "name": "stderr",
     "output_type": "stream",
     "text": [
      "Classifying:  52%|██████████████████████████████                            | 24807/47871 [8:53:27<10:41:03,  1.67s/it]"
     ]
    },
    {
     "name": "stdout",
     "output_type": "stream",
     "text": [
      "Warning: Unexpected label at index 24807: 'quantum applications'\n"
     ]
    },
    {
     "name": "stderr",
     "output_type": "stream",
     "text": [
      "Classifying:  52%|██████████████████████████████                            | 24828/47871 [8:54:04<10:36:19,  1.66s/it]"
     ]
    },
    {
     "name": "stdout",
     "output_type": "stream",
     "text": [
      "Warning: Unexpected label at index 24828: 'quantum biosensors'\n"
     ]
    },
    {
     "name": "stderr",
     "output_type": "stream",
     "text": [
      "Classifying:  52%|██████████████████████████████▋                            | 24851/47871 [8:54:42<7:38:10,  1.19s/it]"
     ]
    },
    {
     "name": "stdout",
     "output_type": "stream",
     "text": [
      "Warning: Unexpected label at index 24851: 'quantum imaging'\n"
     ]
    },
    {
     "name": "stderr",
     "output_type": "stream",
     "text": [
      "Classifying:  52%|██████████████████████████████▋                            | 24881/47871 [8:55:22<7:29:45,  1.17s/it]"
     ]
    },
    {
     "name": "stdout",
     "output_type": "stream",
     "text": [
      "Warning: Unexpected label at index 24881: 'quantum imaging'\n"
     ]
    },
    {
     "name": "stderr",
     "output_type": "stream",
     "text": [
      "Classifying:  52%|██████████████████████████████▋                            | 24897/47871 [8:55:48<9:29:35,  1.49s/it]"
     ]
    },
    {
     "name": "stdout",
     "output_type": "stream",
     "text": [
      "Warning: Unexpected label at index 24897: 'quantum cloud computing'\n"
     ]
    },
    {
     "name": "stderr",
     "output_type": "stream",
     "text": [
      "Classifying:  52%|██████████████████████████████▋                            | 24928/47871 [8:56:42<6:34:47,  1.03s/it]"
     ]
    },
    {
     "name": "stdout",
     "output_type": "stream",
     "text": [
      "Warning: Unexpected label at index 24928: 'quantum entanglement'\n"
     ]
    },
    {
     "name": "stderr",
     "output_type": "stream",
     "text": [
      "Classifying:  52%|██████████████████████████████▊                            | 24952/47871 [8:57:12<6:55:35,  1.09s/it]"
     ]
    },
    {
     "name": "stdout",
     "output_type": "stream",
     "text": [
      "Warning: Unexpected label at index 24952: 'quantum materials'\n"
     ]
    },
    {
     "name": "stderr",
     "output_type": "stream",
     "text": [
      "Classifying:  52%|██████████████████████████████▊                            | 24980/47871 [8:57:40<7:56:37,  1.25s/it]"
     ]
    },
    {
     "name": "stdout",
     "output_type": "stream",
     "text": [
      "Warning: Unexpected label at index 24980: 'quantum imaging'\n"
     ]
    },
    {
     "name": "stderr",
     "output_type": "stream",
     "text": [
      "Classifying:  52%|██████████████████████████████▊                            | 24990/47871 [8:57:50<6:11:40,  1.03it/s]"
     ]
    },
    {
     "name": "stdout",
     "output_type": "stream",
     "text": [
      "Warning: Unexpected label at index 24990: 'quantum materials'\n"
     ]
    },
    {
     "name": "stderr",
     "output_type": "stream",
     "text": [
      "Classifying:  52%|██████████████████████████████▊                            | 25032/47871 [8:58:38<7:23:18,  1.16s/it]"
     ]
    },
    {
     "name": "stdout",
     "output_type": "stream",
     "text": [
      "Warning: Unexpected label at index 25032: 'quantum applications'\n"
     ]
    },
    {
     "name": "stderr",
     "output_type": "stream",
     "text": [
      "Classifying:  52%|██████████████████████████████▊                            | 25037/47871 [8:58:42<5:41:39,  1.11it/s]"
     ]
    },
    {
     "name": "stdout",
     "output_type": "stream",
     "text": [
      "Warning: Unexpected label at index 25037: 'quantum materials'\n"
     ]
    },
    {
     "name": "stderr",
     "output_type": "stream",
     "text": [
      "Classifying:  52%|██████████████████████████████▊                            | 25046/47871 [8:58:50<5:13:43,  1.21it/s]"
     ]
    },
    {
     "name": "stdout",
     "output_type": "stream",
     "text": [
      "Warning: Unexpected label at index 25046: 'quantum imaging'\n"
     ]
    },
    {
     "name": "stderr",
     "output_type": "stream",
     "text": [
      "Classifying:  52%|██████████████████████████████▉                            | 25088/47871 [8:59:33<5:48:14,  1.09it/s]"
     ]
    },
    {
     "name": "stdout",
     "output_type": "stream",
     "text": [
      "Warning: Unexpected label at index 25088: 'quantum dots'\n"
     ]
    },
    {
     "name": "stderr",
     "output_type": "stream",
     "text": [
      "Classifying:  53%|███████████████████████████████                            | 25204/47871 [9:01:45<7:00:52,  1.11s/it]"
     ]
    },
    {
     "name": "stdout",
     "output_type": "stream",
     "text": [
      "Warning: Unexpected label at index 25204: 'quantum entangling gate'\n"
     ]
    },
    {
     "name": "stderr",
     "output_type": "stream",
     "text": [
      "Classifying:  53%|███████████████████████████████                            | 25208/47871 [9:01:49<6:16:40,  1.00it/s]"
     ]
    },
    {
     "name": "stdout",
     "output_type": "stream",
     "text": [
      "Warning: Unexpected label at index 25208: 'quantum materials'\n"
     ]
    },
    {
     "name": "stderr",
     "output_type": "stream",
     "text": [
      "Classifying:  53%|███████████████████████████████                            | 25209/47871 [9:01:50<6:12:06,  1.02it/s]"
     ]
    },
    {
     "name": "stdout",
     "output_type": "stream",
     "text": [
      "Warning: Unexpected label at index 25209: 'quantum materials'\n"
     ]
    },
    {
     "name": "stderr",
     "output_type": "stream",
     "text": [
      "Classifying:  53%|███████████████████████████████▏                           | 25264/47871 [9:02:48<9:26:55,  1.50s/it]"
     ]
    },
    {
     "name": "stdout",
     "output_type": "stream",
     "text": [
      "Warning: Unexpected label at index 25264: 'quantum materials'\n"
     ]
    },
    {
     "name": "stderr",
     "output_type": "stream",
     "text": [
      "Classifying:  53%|███████████████████████████████▏                           | 25302/47871 [9:03:21<5:35:09,  1.12it/s]"
     ]
    },
    {
     "name": "stdout",
     "output_type": "stream",
     "text": [
      "Warning: Unexpected label at index 25302: 'quantum dots'\n"
     ]
    },
    {
     "name": "stderr",
     "output_type": "stream",
     "text": [
      "Classifying:  53%|███████████████████████████████▏                           | 25310/47871 [9:03:30<7:11:40,  1.15s/it]"
     ]
    },
    {
     "name": "stdout",
     "output_type": "stream",
     "text": [
      "Warning: Unexpected label at index 25310: 'quantum optics'\n"
     ]
    },
    {
     "name": "stderr",
     "output_type": "stream",
     "text": [
      "Classifying:  53%|███████████████████████████████▏                           | 25325/47871 [9:03:43<5:20:07,  1.17it/s]"
     ]
    },
    {
     "name": "stdout",
     "output_type": "stream",
     "text": [
      "Warning: Unexpected label at index 25325: 'quantum applications'\n"
     ]
    },
    {
     "name": "stderr",
     "output_type": "stream",
     "text": [
      "Classifying:  53%|███████████████████████████████▏                           | 25343/47871 [9:04:08<8:12:40,  1.31s/it]"
     ]
    },
    {
     "name": "stdout",
     "output_type": "stream",
     "text": [
      "Warning: Unexpected label at index 25343: 'This paper is not related to quantum computing. It is about a CMOS circuit with a group III-nitride transistor.'\n"
     ]
    },
    {
     "name": "stderr",
     "output_type": "stream",
     "text": [
      "Classifying:  53%|███████████████████████████████▏                           | 25350/47871 [9:04:15<6:37:41,  1.06s/it]"
     ]
    },
    {
     "name": "stdout",
     "output_type": "stream",
     "text": [
      "Warning: Unexpected label at index 25350: 'quantum entangling gate'\n"
     ]
    },
    {
     "name": "stderr",
     "output_type": "stream",
     "text": [
      "Classifying:  53%|███████████████████████████████▎                           | 25374/47871 [9:04:39<5:34:52,  1.12it/s]"
     ]
    },
    {
     "name": "stdout",
     "output_type": "stream",
     "text": [
      "Warning: Unexpected label at index 25374: 'quantum entangling gate'\n"
     ]
    },
    {
     "name": "stderr",
     "output_type": "stream",
     "text": [
      "Classifying:  53%|███████████████████████████████▎                           | 25449/47871 [9:05:56<6:02:48,  1.03it/s]"
     ]
    },
    {
     "name": "stdout",
     "output_type": "stream",
     "text": [
      "Warning: Unexpected label at index 25449: 'quantum materials'\n"
     ]
    },
    {
     "name": "stderr",
     "output_type": "stream",
     "text": [
      "Classifying:  53%|███████████████████████████████▍                           | 25458/47871 [9:06:04<5:26:57,  1.14it/s]"
     ]
    },
    {
     "name": "stdout",
     "output_type": "stream",
     "text": [
      "Warning: Unexpected label at index 25458: 'quantum biometrics'\n"
     ]
    },
    {
     "name": "stderr",
     "output_type": "stream",
     "text": [
      "Classifying:  53%|███████████████████████████████▍                           | 25501/47871 [9:07:06<5:51:35,  1.06it/s]"
     ]
    },
    {
     "name": "stdout",
     "output_type": "stream",
     "text": [
      "Warning: Unexpected label at index 25501: 'quantum cascade laser'\n"
     ]
    },
    {
     "name": "stderr",
     "output_type": "stream",
     "text": [
      "Classifying:  53%|███████████████████████████████▍                           | 25558/47871 [9:08:20<6:06:48,  1.01it/s]"
     ]
    },
    {
     "name": "stdout",
     "output_type": "stream",
     "text": [
      "Warning: Unexpected label at index 25558: 'quantum biometrics'\n"
     ]
    },
    {
     "name": "stderr",
     "output_type": "stream",
     "text": [
      "Classifying:  54%|███████████████████████████████▌                           | 25652/47871 [9:09:57<6:25:38,  1.04s/it]"
     ]
    },
    {
     "name": "stdout",
     "output_type": "stream",
     "text": [
      "Warning: Unexpected label at index 25652: 'quantum photonics'\n"
     ]
    },
    {
     "name": "stderr",
     "output_type": "stream",
     "text": [
      "Classifying:  54%|███████████████████████████████▋                           | 25681/47871 [9:10:24<5:04:44,  1.21it/s]"
     ]
    },
    {
     "name": "stdout",
     "output_type": "stream",
     "text": [
      "Warning: Unexpected label at index 25681: 'quantum display'\n"
     ]
    },
    {
     "name": "stderr",
     "output_type": "stream",
     "text": [
      "Classifying:  54%|███████████████████████████████▋                           | 25718/47871 [9:11:07<5:58:07,  1.03it/s]"
     ]
    },
    {
     "name": "stdout",
     "output_type": "stream",
     "text": [
      "Warning: Unexpected label at index 25718: 'quantum materials'\n"
     ]
    },
    {
     "name": "stderr",
     "output_type": "stream",
     "text": [
      "Classifying:  54%|███████████████████████████████▋                           | 25725/47871 [9:11:14<6:47:19,  1.10s/it]"
     ]
    },
    {
     "name": "stdout",
     "output_type": "stream",
     "text": [
      "Warning: Unexpected label at index 25725: 'quantum materials'\n"
     ]
    },
    {
     "name": "stderr",
     "output_type": "stream",
     "text": [
      "Classifying:  54%|███████████████████████████████▋                           | 25726/47871 [9:11:15<6:17:58,  1.02s/it]"
     ]
    },
    {
     "name": "stdout",
     "output_type": "stream",
     "text": [
      "Warning: Unexpected label at index 25726: 'cloud computing'\n"
     ]
    },
    {
     "name": "stderr",
     "output_type": "stream",
     "text": [
      "Classifying:  54%|███████████████████████████████▋                           | 25727/47871 [9:11:16<6:11:22,  1.01s/it]"
     ]
    },
    {
     "name": "stdout",
     "output_type": "stream",
     "text": [
      "Warning: Unexpected label at index 25727: 'quantum random number generation'\n"
     ]
    },
    {
     "name": "stderr",
     "output_type": "stream",
     "text": [
      "Classifying:  54%|███████████████████████████████▋                           | 25742/47871 [9:11:31<6:06:21,  1.01it/s]"
     ]
    },
    {
     "name": "stdout",
     "output_type": "stream",
     "text": [
      "Warning: Unexpected label at index 25742: 'quantum display'\n"
     ]
    },
    {
     "name": "stderr",
     "output_type": "stream",
     "text": [
      "Classifying:  54%|███████████████████████████████▊                           | 25771/47871 [9:12:04<6:04:19,  1.01it/s]"
     ]
    },
    {
     "name": "stdout",
     "output_type": "stream",
     "text": [
      "Warning: Unexpected label at index 25771: 'quantum amplification'\n"
     ]
    },
    {
     "name": "stderr",
     "output_type": "stream",
     "text": [
      "Classifying:  54%|███████████████████████████████▊                           | 25772/47871 [9:12:06<7:29:17,  1.22s/it]"
     ]
    },
    {
     "name": "stdout",
     "output_type": "stream",
     "text": [
      "Warning: Unexpected label at index 25772: 'quantum debugging'\n"
     ]
    },
    {
     "name": "stderr",
     "output_type": "stream",
     "text": [
      "Classifying:  54%|███████████████████████████████▊                           | 25792/47871 [9:12:32<7:54:45,  1.29s/it]"
     ]
    },
    {
     "name": "stdout",
     "output_type": "stream",
     "text": [
      "Warning: Unexpected label at index 25792: 'quantum random number generator'\n"
     ]
    },
    {
     "name": "stderr",
     "output_type": "stream",
     "text": [
      "Classifying:  54%|███████████████████████████████▊                           | 25807/47871 [9:12:55<7:46:41,  1.27s/it]"
     ]
    },
    {
     "name": "stdout",
     "output_type": "stream",
     "text": [
      "Warning: Unexpected label at index 25807: 'quantum measurement'\n"
     ]
    },
    {
     "name": "stderr",
     "output_type": "stream",
     "text": [
      "Classifying:  54%|███████████████████████████████▊                           | 25838/47871 [9:13:26<5:39:22,  1.08it/s]"
     ]
    },
    {
     "name": "stdout",
     "output_type": "stream",
     "text": [
      "Warning: Unexpected label at index 25838: 'quantum imaging'\n"
     ]
    },
    {
     "name": "stderr",
     "output_type": "stream",
     "text": [
      "Classifying:  54%|███████████████████████████████▊                           | 25852/47871 [9:13:40<5:43:06,  1.07it/s]"
     ]
    },
    {
     "name": "stdout",
     "output_type": "stream",
     "text": [
      "Warning: Unexpected label at index 25852: 'quantum cognitive assessment'\n"
     ]
    },
    {
     "name": "stderr",
     "output_type": "stream",
     "text": [
      "Classifying:  54%|███████████████████████████████▉                           | 25869/47871 [9:13:57<5:42:58,  1.07it/s]"
     ]
    },
    {
     "name": "stdout",
     "output_type": "stream",
     "text": [
      "Warning: Unexpected label at index 25869: 'quantum color centers'\n"
     ]
    },
    {
     "name": "stderr",
     "output_type": "stream",
     "text": [
      "Classifying:  54%|███████████████████████████████▉                           | 25877/47871 [9:14:04<5:14:43,  1.16it/s]"
     ]
    },
    {
     "name": "stdout",
     "output_type": "stream",
     "text": [
      "Warning: Unexpected label at index 25877: 'quantum amplifiers'\n"
     ]
    },
    {
     "name": "stderr",
     "output_type": "stream",
     "text": [
      "Classifying:  54%|███████████████████████████████▉                           | 25879/47871 [9:14:07<6:05:36,  1.00it/s]"
     ]
    },
    {
     "name": "stdout",
     "output_type": "stream",
     "text": [
      "Warning: Unexpected label at index 25879: 'quantum optics'\n"
     ]
    },
    {
     "name": "stderr",
     "output_type": "stream",
     "text": [
      "Classifying:  54%|███████████████████████████████▉                           | 25887/47871 [9:14:15<6:46:06,  1.11s/it]"
     ]
    },
    {
     "name": "stdout",
     "output_type": "stream",
     "text": [
      "Warning: Unexpected label at index 25887: 'quantum amplifiers'\n"
     ]
    },
    {
     "name": "stderr",
     "output_type": "stream",
     "text": [
      "Classifying:  54%|███████████████████████████████▉                           | 25901/47871 [9:14:29<5:41:38,  1.07it/s]"
     ]
    },
    {
     "name": "stdout",
     "output_type": "stream",
     "text": [
      "Warning: Unexpected label at index 25901: 'quantum materials'\n"
     ]
    },
    {
     "name": "stderr",
     "output_type": "stream",
     "text": [
      "Classifying:  54%|███████████████████████████████▉                           | 25933/47871 [9:14:59<5:20:09,  1.14it/s]"
     ]
    },
    {
     "name": "stdout",
     "output_type": "stream",
     "text": [
      "Warning: Unexpected label at index 25933: 'quantum materials'\n"
     ]
    },
    {
     "name": "stderr",
     "output_type": "stream",
     "text": [
      "Classifying:  54%|███████████████████████████████▉                           | 25938/47871 [9:15:05<6:21:05,  1.04s/it]"
     ]
    },
    {
     "name": "stdout",
     "output_type": "stream",
     "text": [
      "Warning: Unexpected label at index 25938: 'quantum optics'\n"
     ]
    },
    {
     "name": "stderr",
     "output_type": "stream",
     "text": [
      "Classifying:  54%|███████████████████████████████▍                          | 25986/47871 [9:16:03<10:09:47,  1.67s/it]"
     ]
    },
    {
     "name": "stdout",
     "output_type": "stream",
     "text": [
      "Warning: Unexpected label at index 25986: 'quantum random number generation'\n"
     ]
    },
    {
     "name": "stderr",
     "output_type": "stream",
     "text": [
      "Classifying:  54%|███████████████████████████████▍                          | 25995/47871 [9:16:17<10:19:58,  1.70s/it]"
     ]
    },
    {
     "name": "stdout",
     "output_type": "stream",
     "text": [
      "Warning: Unexpected label at index 25995: 'quantum calibration'\n"
     ]
    },
    {
     "name": "stderr",
     "output_type": "stream",
     "text": [
      "Classifying:  54%|████████████████████████████████                           | 26022/47871 [9:16:45<5:12:29,  1.17it/s]"
     ]
    },
    {
     "name": "stdout",
     "output_type": "stream",
     "text": [
      "Warning: Unexpected label at index 26022: 'quantum imaging'\n"
     ]
    },
    {
     "name": "stderr",
     "output_type": "stream",
     "text": [
      "Classifying:  54%|███████████████████████████████▌                          | 26048/47871 [9:17:24<12:32:43,  2.07s/it]"
     ]
    },
    {
     "name": "stdout",
     "output_type": "stream",
     "text": [
      "Warning: Unexpected label at index 26048: 'quantum random number generation'\n"
     ]
    },
    {
     "name": "stderr",
     "output_type": "stream",
     "text": [
      "Classifying:  54%|███████████████████████████████▌                          | 26049/47871 [9:17:26<11:06:19,  1.83s/it]"
     ]
    },
    {
     "name": "stdout",
     "output_type": "stream",
     "text": [
      "Warning: Unexpected label at index 26049: 'quantum materials'\n"
     ]
    },
    {
     "name": "stderr",
     "output_type": "stream",
     "text": [
      "Classifying:  54%|████████████████████████████████▏                          | 26085/47871 [9:18:07<8:01:59,  1.33s/it]"
     ]
    },
    {
     "name": "stdout",
     "output_type": "stream",
     "text": [
      "Warning: Unexpected label at index 26085: 'quantum compression'\n"
     ]
    },
    {
     "name": "stderr",
     "output_type": "stream",
     "text": [
      "Classifying:  55%|████████████████████████████████▏                          | 26096/47871 [9:18:20<6:29:24,  1.07s/it]"
     ]
    },
    {
     "name": "stdout",
     "output_type": "stream",
     "text": [
      "Warning: Unexpected label at index 26096: 'quantum materials'\n"
     ]
    },
    {
     "name": "stderr",
     "output_type": "stream",
     "text": [
      "Classifying:  55%|████████████████████████████████▏                          | 26102/47871 [9:18:26<6:10:51,  1.02s/it]"
     ]
    },
    {
     "name": "stdout",
     "output_type": "stream",
     "text": [
      "Warning: Unexpected label at index 26102: 'quantum technology'\n"
     ]
    },
    {
     "name": "stderr",
     "output_type": "stream",
     "text": [
      "Classifying:  55%|████████████████████████████████▏                          | 26125/47871 [9:18:48<5:20:57,  1.13it/s]"
     ]
    },
    {
     "name": "stdout",
     "output_type": "stream",
     "text": [
      "Warning: Unexpected label at index 26125: 'quantum optics'\n"
     ]
    },
    {
     "name": "stderr",
     "output_type": "stream",
     "text": [
      "Classifying:  55%|████████████████████████████████▏                          | 26126/47871 [9:18:49<5:24:18,  1.12it/s]"
     ]
    },
    {
     "name": "stdout",
     "output_type": "stream",
     "text": [
      "Warning: Unexpected label at index 26126: 'quantum calibration'\n"
     ]
    },
    {
     "name": "stderr",
     "output_type": "stream",
     "text": [
      "Classifying:  55%|████████████████████████████████▏                          | 26138/47871 [9:19:01<6:32:19,  1.08s/it]"
     ]
    },
    {
     "name": "stdout",
     "output_type": "stream",
     "text": [
      "Warning: Unexpected label at index 26138: 'quantum calibration'\n"
     ]
    },
    {
     "name": "stderr",
     "output_type": "stream",
     "text": [
      "Classifying:  55%|████████████████████████████████▏                          | 26147/47871 [9:19:10<6:36:54,  1.10s/it]"
     ]
    },
    {
     "name": "stdout",
     "output_type": "stream",
     "text": [
      "Warning: Unexpected label at index 26147: 'quantum measurement'\n"
     ]
    },
    {
     "name": "stderr",
     "output_type": "stream",
     "text": [
      "Classifying:  55%|████████████████████████████████▏                          | 26152/47871 [9:19:21<8:07:47,  1.35s/it]"
     ]
    },
    {
     "name": "stdout",
     "output_type": "stream",
     "text": [
      "Warning: Unexpected label at index 26152: 'quantum applications'\n"
     ]
    },
    {
     "name": "stderr",
     "output_type": "stream",
     "text": [
      "Classifying:  55%|████████████████████████████████▏                          | 26164/47871 [9:19:33<5:35:56,  1.08it/s]"
     ]
    },
    {
     "name": "stdout",
     "output_type": "stream",
     "text": [
      "Warning: Unexpected label at index 26164: 'quantum materials'\n"
     ]
    },
    {
     "name": "stderr",
     "output_type": "stream",
     "text": [
      "Classifying:  55%|████████████████████████████████▎                          | 26239/47871 [9:20:55<6:25:45,  1.07s/it]"
     ]
    },
    {
     "name": "stdout",
     "output_type": "stream",
     "text": [
      "Warning: Unexpected label at index 26239: 'quantum optics'\n"
     ]
    },
    {
     "name": "stderr",
     "output_type": "stream",
     "text": [
      "Classifying:  55%|████████████████████████████████▎                          | 26253/47871 [9:21:09<5:31:49,  1.09it/s]"
     ]
    },
    {
     "name": "stdout",
     "output_type": "stream",
     "text": [
      "Warning: Unexpected label at index 26253: 'quantum materials'\n"
     ]
    },
    {
     "name": "stderr",
     "output_type": "stream",
     "text": [
      "Classifying:  55%|████████████████████████████████▎                          | 26265/47871 [9:21:20<5:17:20,  1.13it/s]"
     ]
    },
    {
     "name": "stdout",
     "output_type": "stream",
     "text": [
      "Warning: Unexpected label at index 26265: 'quantum scheduling'\n"
     ]
    },
    {
     "name": "stderr",
     "output_type": "stream",
     "text": [
      "Classifying:  55%|████████████████████████████████▍                          | 26292/47871 [9:21:53<9:56:56,  1.66s/it]"
     ]
    },
    {
     "name": "stdout",
     "output_type": "stream",
     "text": [
      "Warning: Unexpected label at index 26292: 'quantum amplification'\n"
     ]
    },
    {
     "name": "stderr",
     "output_type": "stream",
     "text": [
      "Classifying:  55%|████████████████████████████████▍                          | 26318/47871 [9:22:17<5:48:36,  1.03it/s]"
     ]
    },
    {
     "name": "stdout",
     "output_type": "stream",
     "text": [
      "Warning: Unexpected label at index 26318: 'quantum amplifiers'\n"
     ]
    },
    {
     "name": "stderr",
     "output_type": "stream",
     "text": [
      "Classifying:  55%|████████████████████████████████▍                          | 26340/47871 [9:22:38<5:11:25,  1.15it/s]"
     ]
    },
    {
     "name": "stdout",
     "output_type": "stream",
     "text": [
      "Warning: Unexpected label at index 26340: 'quantum music'\n"
     ]
    },
    {
     "name": "stderr",
     "output_type": "stream",
     "text": [
      "Classifying:  55%|████████████████████████████████▌                          | 26408/47871 [9:24:19<9:47:11,  1.64s/it]"
     ]
    },
    {
     "name": "stdout",
     "output_type": "stream",
     "text": [
      "Warning: Unexpected label at index 26408: 'quantum emitting'\n"
     ]
    },
    {
     "name": "stderr",
     "output_type": "stream",
     "text": [
      "Classifying:  55%|████████████████████████████████                          | 26423/47871 [9:24:43<10:02:17,  1.68s/it]"
     ]
    },
    {
     "name": "stdout",
     "output_type": "stream",
     "text": [
      "Warning: Unexpected label at index 26423: 'quantum amplifiers'\n"
     ]
    },
    {
     "name": "stderr",
     "output_type": "stream",
     "text": [
      "Classifying:  55%|████████████████████████████████▌                          | 26424/47871 [9:24:44<8:36:04,  1.44s/it]"
     ]
    },
    {
     "name": "stdout",
     "output_type": "stream",
     "text": [
      "Warning: Unexpected label at index 26424: 'quantum amplifiers'\n"
     ]
    },
    {
     "name": "stderr",
     "output_type": "stream",
     "text": [
      "Classifying:  55%|████████████████████████████████▌                          | 26456/47871 [9:25:29<8:47:20,  1.48s/it]"
     ]
    },
    {
     "name": "stdout",
     "output_type": "stream",
     "text": [
      "Warning: Unexpected label at index 26456: 'quantum optics'\n"
     ]
    },
    {
     "name": "stderr",
     "output_type": "stream",
     "text": [
      "Classifying:  55%|████████████████████████████████                          | 26459/47871 [9:25:35<10:46:34,  1.81s/it]"
     ]
    },
    {
     "name": "stdout",
     "output_type": "stream",
     "text": [
      "Warning: Unexpected label at index 26459: 'quantum optics'\n"
     ]
    },
    {
     "name": "stderr",
     "output_type": "stream",
     "text": [
      "Classifying:  55%|████████████████████████████████▋                          | 26476/47871 [9:26:02<9:03:15,  1.52s/it]"
     ]
    },
    {
     "name": "stdout",
     "output_type": "stream",
     "text": [
      "Warning: Unexpected label at index 26476: 'quantum optics'\n"
     ]
    },
    {
     "name": "stderr",
     "output_type": "stream",
     "text": [
      "Classifying:  55%|████████████████████████████████▋                          | 26548/47871 [9:27:39<6:50:48,  1.16s/it]"
     ]
    },
    {
     "name": "stdout",
     "output_type": "stream",
     "text": [
      "Warning: Unexpected label at index 26548: 'quantum anomaly detection'\n"
     ]
    },
    {
     "name": "stderr",
     "output_type": "stream",
     "text": [
      "Classifying:  55%|████████████████████████████████▋                          | 26561/47871 [9:27:54<8:14:47,  1.39s/it]"
     ]
    },
    {
     "name": "stdout",
     "output_type": "stream",
     "text": [
      "Warning: Unexpected label at index 26561: 'quantum optics'\n"
     ]
    },
    {
     "name": "stderr",
     "output_type": "stream",
     "text": [
      "Classifying:  55%|████████████████████████████████▋                          | 26568/47871 [9:28:02<6:55:22,  1.17s/it]"
     ]
    },
    {
     "name": "stdout",
     "output_type": "stream",
     "text": [
      "Warning: Unexpected label at index 26568: 'quantum video processing'\n"
     ]
    },
    {
     "name": "stderr",
     "output_type": "stream",
     "text": [
      "Classifying:  56%|████████████████████████████████▊                          | 26584/47871 [9:28:17<4:57:33,  1.19it/s]"
     ]
    },
    {
     "name": "stdout",
     "output_type": "stream",
     "text": [
      "Warning: Unexpected label at index 26584: 'quantum imaging'\n"
     ]
    },
    {
     "name": "stderr",
     "output_type": "stream",
     "text": [
      "Classifying:  56%|████████████████████████████████▊                          | 26592/47871 [9:28:26<5:20:19,  1.11it/s]"
     ]
    },
    {
     "name": "stdout",
     "output_type": "stream",
     "text": [
      "Warning: Unexpected label at index 26592: 'quantum imaging'\n"
     ]
    },
    {
     "name": "stderr",
     "output_type": "stream",
     "text": [
      "Classifying:  56%|████████████████████████████████▊                          | 26594/47871 [9:28:30<8:24:27,  1.42s/it]"
     ]
    },
    {
     "name": "stdout",
     "output_type": "stream",
     "text": [
      "Warning: Unexpected label at index 26594: 'quantum luminescence'\n"
     ]
    },
    {
     "name": "stderr",
     "output_type": "stream",
     "text": [
      "Classifying:  56%|████████████████████████████████▊                          | 26610/47871 [9:28:51<6:11:33,  1.05s/it]"
     ]
    },
    {
     "name": "stdout",
     "output_type": "stream",
     "text": [
      "Warning: Unexpected label at index 26610: 'quantum optics'\n"
     ]
    },
    {
     "name": "stderr",
     "output_type": "stream",
     "text": [
      "Classifying:  56%|████████████████████████████████▊                          | 26614/47871 [9:28:55<6:03:19,  1.03s/it]"
     ]
    },
    {
     "name": "stdout",
     "output_type": "stream",
     "text": [
      "Warning: Unexpected label at index 26614: 'quantum optics'\n"
     ]
    },
    {
     "name": "stderr",
     "output_type": "stream",
     "text": [
      "Classifying:  56%|████████████████████████████████▉                          | 26702/47871 [9:30:24<6:41:21,  1.14s/it]"
     ]
    },
    {
     "name": "stdout",
     "output_type": "stream",
     "text": [
      "Warning: Unexpected label at index 26702: 'quantum imaging'\n"
     ]
    },
    {
     "name": "stderr",
     "output_type": "stream",
     "text": [
      "Classifying:  56%|████████████████████████████████▉                          | 26703/47871 [9:30:25<6:14:31,  1.06s/it]"
     ]
    },
    {
     "name": "stdout",
     "output_type": "stream",
     "text": [
      "Warning: Unexpected label at index 26703: 'quantum imaging'\n"
     ]
    },
    {
     "name": "stderr",
     "output_type": "stream",
     "text": [
      "Classifying:  56%|████████████████████████████████▉                          | 26748/47871 [9:31:34<5:16:34,  1.11it/s]"
     ]
    },
    {
     "name": "stdout",
     "output_type": "stream",
     "text": [
      "Warning: Unexpected label at index 26748: 'This paper does not appear to be related to quantum computing. The title and abstract describe a method for automatically adjusting audio feeds based on which monitor is currently being viewed in a multi-monitor setup, which is a classical computing application. Therefore, the most appropriate label from the list is:\n",
      "\n",
      "quantum computing'\n"
     ]
    },
    {
     "name": "stderr",
     "output_type": "stream",
     "text": [
      "Classifying:  56%|█████████████████████████████████                          | 26786/47871 [9:32:15<5:56:10,  1.01s/it]"
     ]
    },
    {
     "name": "stdout",
     "output_type": "stream",
     "text": [
      "Warning: Unexpected label at index 26786: 'quantum applications'\n"
     ]
    },
    {
     "name": "stderr",
     "output_type": "stream",
     "text": [
      "Classifying:  56%|█████████████████████████████████                          | 26814/47871 [9:32:40<5:05:49,  1.15it/s]"
     ]
    },
    {
     "name": "stdout",
     "output_type": "stream",
     "text": [
      "Warning: Unexpected label at index 26814: 'quantum optics'\n"
     ]
    },
    {
     "name": "stderr",
     "output_type": "stream",
     "text": [
      "Classifying:  56%|█████████████████████████████████                          | 26873/47871 [9:33:41<5:09:30,  1.13it/s]"
     ]
    },
    {
     "name": "stdout",
     "output_type": "stream",
     "text": [
      "Warning: Unexpected label at index 26873: 'quantum random number generation'\n"
     ]
    },
    {
     "name": "stderr",
     "output_type": "stream",
     "text": [
      "Classifying:  56%|█████████████████████████████████▏                         | 26885/47871 [9:33:52<5:01:29,  1.16it/s]"
     ]
    },
    {
     "name": "stdout",
     "output_type": "stream",
     "text": [
      "Warning: Unexpected label at index 26885: 'This paper does not appear to be related to quantum computing. The title and abstract describe a method for automatically adjusting audio feeds based on which monitor is currently being viewed in a multi-monitor setup, which is a classical computing problem. Therefore, the most appropriate label from the list is:\n",
      "\n",
      "quantum computing'\n"
     ]
    },
    {
     "name": "stderr",
     "output_type": "stream",
     "text": [
      "Classifying:  56%|█████████████████████████████████▏                         | 26903/47871 [9:34:11<5:30:24,  1.06it/s]"
     ]
    },
    {
     "name": "stdout",
     "output_type": "stream",
     "text": [
      "Warning: Unexpected label at index 26903: 'quantum navigation'\n"
     ]
    },
    {
     "name": "stderr",
     "output_type": "stream",
     "text": [
      "Classifying:  56%|█████████████████████████████████▏                         | 26926/47871 [9:34:33<5:34:21,  1.04it/s]"
     ]
    },
    {
     "name": "stdout",
     "output_type": "stream",
     "text": [
      "Warning: Unexpected label at index 26926: 'quantum applications'\n"
     ]
    },
    {
     "name": "stderr",
     "output_type": "stream",
     "text": [
      "Classifying:  56%|█████████████████████████████████▏                         | 26947/47871 [9:34:56<6:25:33,  1.11s/it]"
     ]
    },
    {
     "name": "stdout",
     "output_type": "stream",
     "text": [
      "Warning: Unexpected label at index 26947: 'quantum monitoring'\n"
     ]
    },
    {
     "name": "stderr",
     "output_type": "stream",
     "text": [
      "Classifying:  56%|█████████████████████████████████▎                         | 27019/47871 [9:36:12<6:13:39,  1.08s/it]"
     ]
    },
    {
     "name": "stdout",
     "output_type": "stream",
     "text": [
      "Warning: Unexpected label at index 27019: 'quantum readout'\n"
     ]
    },
    {
     "name": "stderr",
     "output_type": "stream",
     "text": [
      "Classifying:  56%|█████████████████████████████████▎                         | 27021/47871 [9:36:14<5:42:31,  1.01it/s]"
     ]
    },
    {
     "name": "stdout",
     "output_type": "stream",
     "text": [
      "Warning: Unexpected label at index 27021: 'quantum readout'\n"
     ]
    },
    {
     "name": "stderr",
     "output_type": "stream",
     "text": [
      "Classifying:  56%|█████████████████████████████████▎                         | 27039/47871 [9:36:31<5:18:17,  1.09it/s]"
     ]
    },
    {
     "name": "stdout",
     "output_type": "stream",
     "text": [
      "Warning: Unexpected label at index 27039: 'quantum navigation'\n"
     ]
    },
    {
     "name": "stderr",
     "output_type": "stream",
     "text": [
      "Classifying:  56%|█████████████████████████████████▎                         | 27040/47871 [9:36:32<5:01:59,  1.15it/s]"
     ]
    },
    {
     "name": "stdout",
     "output_type": "stream",
     "text": [
      "Warning: Unexpected label at index 27040: 'quantum optics'\n"
     ]
    },
    {
     "name": "stderr",
     "output_type": "stream",
     "text": [
      "Classifying:  57%|█████████████████████████████████▎                         | 27053/47871 [9:36:47<6:25:07,  1.11s/it]"
     ]
    },
    {
     "name": "stdout",
     "output_type": "stream",
     "text": [
      "Warning: Unexpected label at index 27053: 'quantum random number generation'\n"
     ]
    },
    {
     "name": "stderr",
     "output_type": "stream",
     "text": [
      "Classifying:  57%|█████████████████████████████████▎                         | 27063/47871 [9:36:55<4:58:34,  1.16it/s]"
     ]
    },
    {
     "name": "stdout",
     "output_type": "stream",
     "text": [
      "Warning: Unexpected label at index 27063: 'quantum spectroscopy'\n"
     ]
    },
    {
     "name": "stderr",
     "output_type": "stream",
     "text": [
      "Classifying:  57%|█████████████████████████████████▎                         | 27077/47871 [9:37:09<6:50:28,  1.18s/it]"
     ]
    },
    {
     "name": "stdout",
     "output_type": "stream",
     "text": [
      "Warning: Unexpected label at index 27077: 'quantum compression'\n"
     ]
    },
    {
     "name": "stderr",
     "output_type": "stream",
     "text": [
      "Classifying:  57%|█████████████████████████████████▍                         | 27094/47871 [9:37:25<5:00:44,  1.15it/s]"
     ]
    },
    {
     "name": "stdout",
     "output_type": "stream",
     "text": [
      "Warning: Unexpected label at index 27094: 'quantum entanglement'\n"
     ]
    },
    {
     "name": "stderr",
     "output_type": "stream",
     "text": [
      "Classifying:  57%|█████████████████████████████████▌                         | 27196/47871 [9:39:56<6:04:22,  1.06s/it]"
     ]
    },
    {
     "name": "stdout",
     "output_type": "stream",
     "text": [
      "Warning: Unexpected label at index 27196: 'quantum compression'\n"
     ]
    },
    {
     "name": "stderr",
     "output_type": "stream",
     "text": [
      "Classifying:  57%|█████████████████████████████████                         | 27277/47871 [9:42:02<10:39:04,  1.86s/it]"
     ]
    },
    {
     "name": "stdout",
     "output_type": "stream",
     "text": [
      "Warning: Unexpected label at index 27277: 'quantum random number generation'\n"
     ]
    },
    {
     "name": "stderr",
     "output_type": "stream",
     "text": [
      "Classifying:  57%|█████████████████████████████████                         | 27299/47871 [9:42:48<12:31:00,  2.19s/it]"
     ]
    },
    {
     "name": "stdout",
     "output_type": "stream",
     "text": [
      "Warning: Unexpected label at index 27299: 'quantum optics'\n"
     ]
    },
    {
     "name": "stderr",
     "output_type": "stream",
     "text": [
      "Classifying:  57%|█████████████████████████████████                         | 27301/47871 [9:42:51<11:09:31,  1.95s/it]"
     ]
    },
    {
     "name": "stdout",
     "output_type": "stream",
     "text": [
      "Warning: Unexpected label at index 27301: 'quantum compression'\n"
     ]
    },
    {
     "name": "stderr",
     "output_type": "stream",
     "text": [
      "Classifying:  57%|█████████████████████████████████▏                        | 27363/47871 [9:44:22<10:41:16,  1.88s/it]"
     ]
    },
    {
     "name": "stdout",
     "output_type": "stream",
     "text": [
      "Warning: Unexpected label at index 27363: 'quantum materials'\n"
     ]
    },
    {
     "name": "stderr",
     "output_type": "stream",
     "text": [
      "Classifying:  57%|█████████████████████████████████▊                         | 27396/47871 [9:45:08<5:55:42,  1.04s/it]"
     ]
    },
    {
     "name": "stdout",
     "output_type": "stream",
     "text": [
      "Warning: Unexpected label at index 27396: 'This paper does not appear to be related to quantum computing. The abstract describes an antimicrobial preventive netting that uses photosensitizers to generate singlet oxygen in response to light, which is not a quantum computing topic. Therefore, the most appropriate label from the list is:\n",
      "\n",
      "quantum computing'\n"
     ]
    },
    {
     "name": "stderr",
     "output_type": "stream",
     "text": [
      "Classifying:  57%|█████████████████████████████████▊                         | 27421/47871 [9:45:51<6:31:28,  1.15s/it]"
     ]
    },
    {
     "name": "stdout",
     "output_type": "stream",
     "text": [
      "Warning: Unexpected label at index 27421: 'quantum optics'\n"
     ]
    },
    {
     "name": "stderr",
     "output_type": "stream",
     "text": [
      "Classifying:  57%|█████████████████████████████████▊                         | 27463/47871 [9:46:35<5:01:08,  1.13it/s]"
     ]
    },
    {
     "name": "stdout",
     "output_type": "stream",
     "text": [
      "Warning: Unexpected label at index 27463: 'quantum random number generation'\n"
     ]
    },
    {
     "name": "stderr",
     "output_type": "stream",
     "text": [
      "Classifying:  57%|█████████████████████████████████▊                         | 27466/47871 [9:46:39<5:39:33,  1.00it/s]"
     ]
    },
    {
     "name": "stdout",
     "output_type": "stream",
     "text": [
      "Warning: Unexpected label at index 27466: 'quantum speech synthesis'\n"
     ]
    },
    {
     "name": "stderr",
     "output_type": "stream",
     "text": [
      "Classifying:  57%|█████████████████████████████████▊                         | 27477/47871 [9:46:51<8:40:02,  1.53s/it]"
     ]
    },
    {
     "name": "stdout",
     "output_type": "stream",
     "text": [
      "Warning: Unexpected label at index 27477: 'quantum backup'\n"
     ]
    },
    {
     "name": "stderr",
     "output_type": "stream",
     "text": [
      "Classifying:  57%|█████████████████████████████████▉                         | 27486/47871 [9:47:05<8:06:00,  1.43s/it]"
     ]
    },
    {
     "name": "stdout",
     "output_type": "stream",
     "text": [
      "Warning: Unexpected label at index 27486: 'quantum compression'\n"
     ]
    },
    {
     "name": "stderr",
     "output_type": "stream",
     "text": [
      "Classifying:  57%|█████████████████████████████████▉                         | 27508/47871 [9:47:33<9:59:21,  1.77s/it]"
     ]
    },
    {
     "name": "stdout",
     "output_type": "stream",
     "text": [
      "Warning: Unexpected label at index 27508: 'quantum optics'\n"
     ]
    },
    {
     "name": "stderr",
     "output_type": "stream",
     "text": [
      "Classifying:  58%|█████████████████████████████████▉                         | 27570/47871 [9:48:31<4:42:21,  1.20it/s]"
     ]
    },
    {
     "name": "stdout",
     "output_type": "stream",
     "text": [
      "Warning: Unexpected label at index 27570: 'quantum materials'\n"
     ]
    },
    {
     "name": "stderr",
     "output_type": "stream",
     "text": [
      "Classifying:  58%|█████████████████████████████████▉                         | 27584/47871 [9:48:49<8:06:05,  1.44s/it]"
     ]
    },
    {
     "name": "stdout",
     "output_type": "stream",
     "text": [
      "Warning: Unexpected label at index 27584: 'quantum imaging'\n"
     ]
    },
    {
     "name": "stderr",
     "output_type": "stream",
     "text": [
      "Classifying:  58%|██████████████████████████████████                         | 27651/47871 [9:49:58<6:20:08,  1.13s/it]"
     ]
    },
    {
     "name": "stdout",
     "output_type": "stream",
     "text": [
      "Warning: Unexpected label at index 27651: 'quantum amplifiers'\n"
     ]
    },
    {
     "name": "stderr",
     "output_type": "stream",
     "text": [
      "Classifying:  58%|██████████████████████████████████                         | 27666/47871 [9:50:14<5:39:48,  1.01s/it]"
     ]
    },
    {
     "name": "stdout",
     "output_type": "stream",
     "text": [
      "Warning: Unexpected label at index 27666: 'quantum backup'\n"
     ]
    },
    {
     "name": "stderr",
     "output_type": "stream",
     "text": [
      "Classifying:  58%|██████████████████████████████████                         | 27677/47871 [9:50:25<5:11:38,  1.08it/s]"
     ]
    },
    {
     "name": "stdout",
     "output_type": "stream",
     "text": [
      "Warning: Unexpected label at index 27677: 'quantum safety'\n"
     ]
    },
    {
     "name": "stderr",
     "output_type": "stream",
     "text": [
      "Classifying:  58%|██████████████████████████████████▏                        | 27707/47871 [9:51:13<6:30:53,  1.16s/it]"
     ]
    },
    {
     "name": "stdout",
     "output_type": "stream",
     "text": [
      "Warning: Unexpected label at index 27707: 'This paper does not appear to be related to quantum computing. The topic is about antimicrobial preventive netting, which is not a quantum computing topic. Therefore, I would not classify this paper under any of the available labels.'\n"
     ]
    },
    {
     "name": "stderr",
     "output_type": "stream",
     "text": [
      "Classifying:  58%|██████████████████████████████████▏                        | 27713/47871 [9:51:21<6:06:14,  1.09s/it]"
     ]
    },
    {
     "name": "stdout",
     "output_type": "stream",
     "text": [
      "Warning: Unexpected label at index 27713: 'quantum optics'\n"
     ]
    },
    {
     "name": "stderr",
     "output_type": "stream",
     "text": [
      "Classifying:  58%|██████████████████████████████████▏                        | 27730/47871 [9:51:39<5:32:33,  1.01it/s]"
     ]
    },
    {
     "name": "stdout",
     "output_type": "stream",
     "text": [
      "Warning: Unexpected label at index 27730: 'quantum compression'\n"
     ]
    },
    {
     "name": "stderr",
     "output_type": "stream",
     "text": [
      "Classifying:  58%|█████████████████████████████████▋                        | 27828/47871 [9:53:26<10:25:29,  1.87s/it]"
     ]
    },
    {
     "name": "stdout",
     "output_type": "stream",
     "text": [
      "Warning: Unexpected label at index 27828: 'quantum safety'\n"
     ]
    },
    {
     "name": "stderr",
     "output_type": "stream",
     "text": [
      "Classifying:  58%|██████████████████████████████████▎                        | 27831/47871 [9:53:30<8:29:38,  1.53s/it]"
     ]
    },
    {
     "name": "stdout",
     "output_type": "stream",
     "text": [
      "Warning: Unexpected label at index 27831: 'quantum imaging'\n"
     ]
    },
    {
     "name": "stderr",
     "output_type": "stream",
     "text": [
      "Classifying:  58%|██████████████████████████████████▍                        | 27952/47871 [9:55:33<5:46:54,  1.04s/it]"
     ]
    },
    {
     "name": "stdout",
     "output_type": "stream",
     "text": [
      "Warning: Unexpected label at index 27952: 'This paper is not about quantum computing. The topic is about preventing carpal tunnel syndrome, which is a musculoskeletal disorder related to computer usage. Therefore, the appropriate label for this paper is not any of the ones provided, but rather:\n",
      "\n",
      "quantum computing'\n"
     ]
    },
    {
     "name": "stderr",
     "output_type": "stream",
     "text": [
      "Classifying:  58%|██████████████████████████████████▍                        | 27968/47871 [9:55:54<5:14:13,  1.06it/s]"
     ]
    },
    {
     "name": "stdout",
     "output_type": "stream",
     "text": [
      "Warning: Unexpected label at index 27968: 'quantum materials'\n"
     ]
    },
    {
     "name": "stderr",
     "output_type": "stream",
     "text": [
      "Classifying:  58%|██████████████████████████████████▌                        | 27999/47871 [9:56:26<4:40:50,  1.18it/s]"
     ]
    },
    {
     "name": "stdout",
     "output_type": "stream",
     "text": [
      "→ Saved checkpoint for rows 0–28000\n"
     ]
    },
    {
     "name": "stderr",
     "output_type": "stream",
     "text": [
      "Classifying:  59%|██████████████████████████████████▌                        | 28052/47871 [9:57:24<4:44:05,  1.16it/s]"
     ]
    },
    {
     "name": "stdout",
     "output_type": "stream",
     "text": [
      "Warning: Unexpected label at index 28052: 'quantum imaging'\n"
     ]
    },
    {
     "name": "stderr",
     "output_type": "stream",
     "text": [
      "Classifying:  59%|██████████████████████████████████▋                        | 28117/47871 [9:58:36<5:21:08,  1.03it/s]"
     ]
    },
    {
     "name": "stdout",
     "output_type": "stream",
     "text": [
      "Warning: Unexpected label at index 28117: 'quantum synchronization'\n"
     ]
    },
    {
     "name": "stderr",
     "output_type": "stream",
     "text": [
      "Classifying:  59%|██████████████████████████████████▋                        | 28123/47871 [9:58:41<4:55:07,  1.12it/s]"
     ]
    },
    {
     "name": "stdout",
     "output_type": "stream",
     "text": [
      "Warning: Unexpected label at index 28123: 'quantum materials'\n"
     ]
    },
    {
     "name": "stderr",
     "output_type": "stream",
     "text": [
      "Classifying:  59%|██████████████████████████████████▋                        | 28126/47871 [9:58:44<5:21:25,  1.02it/s]"
     ]
    },
    {
     "name": "stdout",
     "output_type": "stream",
     "text": [
      "Warning: Unexpected label at index 28126: 'quantum uncertainty'\n"
     ]
    },
    {
     "name": "stderr",
     "output_type": "stream",
     "text": [
      "Classifying:  59%|██████████████████████████████████▋                        | 28127/47871 [9:58:45<5:04:42,  1.08it/s]"
     ]
    },
    {
     "name": "stdout",
     "output_type": "stream",
     "text": [
      "Warning: Unexpected label at index 28127: 'quantum materials'\n"
     ]
    },
    {
     "name": "stderr",
     "output_type": "stream",
     "text": [
      "Classifying:  59%|██████████████████████████████████▋                        | 28163/47871 [9:59:21<6:18:05,  1.15s/it]"
     ]
    },
    {
     "name": "stdout",
     "output_type": "stream",
     "text": [
      "Warning: Unexpected label at index 28163: 'quantum materials'\n"
     ]
    },
    {
     "name": "stderr",
     "output_type": "stream",
     "text": [
      "Classifying:  59%|██████████████████████████████████▋                        | 28176/47871 [9:59:34<5:02:59,  1.08it/s]"
     ]
    },
    {
     "name": "stdout",
     "output_type": "stream",
     "text": [
      "Warning: Unexpected label at index 28176: 'quantum entanglement'\n"
     ]
    },
    {
     "name": "stderr",
     "output_type": "stream",
     "text": [
      "Classifying:  59%|██████████████████████████████████▏                       | 28207/47871 [10:00:09<4:47:54,  1.14it/s]"
     ]
    },
    {
     "name": "stdout",
     "output_type": "stream",
     "text": [
      "Warning: Unexpected label at index 28207: 'quantum synchronization'\n"
     ]
    },
    {
     "name": "stderr",
     "output_type": "stream",
     "text": [
      "Classifying:  59%|██████████████████████████████████▏                       | 28217/47871 [10:00:19<4:52:13,  1.12it/s]"
     ]
    },
    {
     "name": "stdout",
     "output_type": "stream",
     "text": [
      "Warning: Unexpected label at index 28217: 'quantum synchronization'\n"
     ]
    },
    {
     "name": "stderr",
     "output_type": "stream",
     "text": [
      "Classifying:  59%|██████████████████████████████████▏                       | 28227/47871 [10:00:28<4:57:22,  1.10it/s]"
     ]
    },
    {
     "name": "stdout",
     "output_type": "stream",
     "text": [
      "Warning: Unexpected label at index 28227: 'quantum materials'\n"
     ]
    },
    {
     "name": "stderr",
     "output_type": "stream",
     "text": [
      "Classifying:  59%|██████████████████████████████████▏                       | 28236/47871 [10:00:37<5:00:10,  1.09it/s]"
     ]
    },
    {
     "name": "stdout",
     "output_type": "stream",
     "text": [
      "Warning: Unexpected label at index 28236: 'quantum optics'\n"
     ]
    },
    {
     "name": "stderr",
     "output_type": "stream",
     "text": [
      "Classifying:  59%|██████████████████████████████████▎                       | 28273/47871 [10:01:14<6:26:24,  1.18s/it]"
     ]
    },
    {
     "name": "stdout",
     "output_type": "stream",
     "text": [
      "Warning: Unexpected label at index 28273: 'quantum optics'\n"
     ]
    },
    {
     "name": "stderr",
     "output_type": "stream",
     "text": [
      "Classifying:  59%|██████████████████████████████████▎                       | 28354/47871 [10:02:37<4:41:10,  1.16it/s]"
     ]
    },
    {
     "name": "stdout",
     "output_type": "stream",
     "text": [
      "Warning: Unexpected label at index 28354: 'quantum imaging'\n"
     ]
    },
    {
     "name": "stderr",
     "output_type": "stream",
     "text": [
      "Classifying:  59%|██████████████████████████████████▎                       | 28360/47871 [10:02:43<5:43:48,  1.06s/it]"
     ]
    },
    {
     "name": "stdout",
     "output_type": "stream",
     "text": [
      "Warning: Unexpected label at index 28360: 'quantum video processing'\n"
     ]
    },
    {
     "name": "stderr",
     "output_type": "stream",
     "text": [
      "Classifying:  59%|██████████████████████████████████▎                       | 28362/47871 [10:02:45<5:13:05,  1.04it/s]"
     ]
    },
    {
     "name": "stdout",
     "output_type": "stream",
     "text": [
      "Warning: Unexpected label at index 28362: 'quantum emitting devices'\n"
     ]
    },
    {
     "name": "stderr",
     "output_type": "stream",
     "text": [
      "Classifying:  59%|██████████████████████████████████▍                       | 28394/47871 [10:03:16<4:57:56,  1.09it/s]"
     ]
    },
    {
     "name": "stdout",
     "output_type": "stream",
     "text": [
      "Warning: Unexpected label at index 28394: 'quantum applications'\n"
     ]
    },
    {
     "name": "stderr",
     "output_type": "stream",
     "text": [
      "Classifying:  59%|██████████████████████████████████▍                       | 28402/47871 [10:03:25<5:37:55,  1.04s/it]"
     ]
    },
    {
     "name": "stdout",
     "output_type": "stream",
     "text": [
      "Warning: Unexpected label at index 28402: 'quantum imaging'\n"
     ]
    },
    {
     "name": "stderr",
     "output_type": "stream",
     "text": [
      "Classifying:  60%|██████████████████████████████████▌                       | 28484/47871 [10:04:54<5:39:25,  1.05s/it]"
     ]
    },
    {
     "name": "stdout",
     "output_type": "stream",
     "text": [
      "Warning: Unexpected label at index 28484: 'quantum energy harvesting'\n"
     ]
    },
    {
     "name": "stderr",
     "output_type": "stream",
     "text": [
      "Classifying:  60%|██████████████████████████████████▌                       | 28549/47871 [10:06:11<5:09:43,  1.04it/s]"
     ]
    },
    {
     "name": "stdout",
     "output_type": "stream",
     "text": [
      "Warning: Unexpected label at index 28549: 'quantum spectroscopy'\n"
     ]
    },
    {
     "name": "stderr",
     "output_type": "stream",
     "text": [
      "Classifying:  60%|██████████████████████████████████▌                       | 28552/47871 [10:06:14<4:33:13,  1.18it/s]"
     ]
    },
    {
     "name": "stdout",
     "output_type": "stream",
     "text": [
      "Warning: Unexpected label at index 28552: 'quantum imaging'\n"
     ]
    },
    {
     "name": "stderr",
     "output_type": "stream",
     "text": [
      "Classifying:  60%|██████████████████████████████████▌                       | 28557/47871 [10:06:19<5:21:45,  1.00it/s]"
     ]
    },
    {
     "name": "stdout",
     "output_type": "stream",
     "text": [
      "Warning: Unexpected label at index 28557: 'quantum optics'\n"
     ]
    },
    {
     "name": "stderr",
     "output_type": "stream",
     "text": [
      "Classifying:  60%|██████████████████████████████████▌                       | 28566/47871 [10:06:28<5:53:40,  1.10s/it]"
     ]
    },
    {
     "name": "stdout",
     "output_type": "stream",
     "text": [
      "Warning: Unexpected label at index 28566: 'quantum optics'\n"
     ]
    },
    {
     "name": "stderr",
     "output_type": "stream",
     "text": [
      "Classifying:  60%|██████████████████████████████████▋                       | 28597/47871 [10:06:57<5:25:15,  1.01s/it]"
     ]
    },
    {
     "name": "stdout",
     "output_type": "stream",
     "text": [
      "Warning: Unexpected label at index 28597: 'quantum yield'\n"
     ]
    },
    {
     "name": "stderr",
     "output_type": "stream",
     "text": [
      "Classifying:  60%|██████████████████████████████████                       | 28652/47871 [10:08:07<14:14:48,  2.67s/it]"
     ]
    },
    {
     "name": "stdout",
     "output_type": "stream",
     "text": [
      "Warning: Unexpected label at index 28652: 'quantum video processing'\n"
     ]
    },
    {
     "name": "stderr",
     "output_type": "stream",
     "text": [
      "Classifying:  60%|██████████████████████████████████▊                       | 28755/47871 [10:09:50<4:46:42,  1.11it/s]"
     ]
    },
    {
     "name": "stdout",
     "output_type": "stream",
     "text": [
      "Warning: Unexpected label at index 28755: 'quantum materials'\n"
     ]
    },
    {
     "name": "stderr",
     "output_type": "stream",
     "text": [
      "Classifying:  60%|██████████████████████████████████▊                       | 28779/47871 [10:10:12<4:53:20,  1.08it/s]"
     ]
    },
    {
     "name": "stdout",
     "output_type": "stream",
     "text": [
      "Warning: Unexpected label at index 28779: 'quantum transport'\n"
     ]
    },
    {
     "name": "stderr",
     "output_type": "stream",
     "text": [
      "Classifying:  60%|██████████████████████████████████▊                       | 28782/47871 [10:10:16<5:52:37,  1.11s/it]"
     ]
    },
    {
     "name": "stdout",
     "output_type": "stream",
     "text": [
      "Warning: Unexpected label at index 28782: 'quantum spectroscopy'\n"
     ]
    },
    {
     "name": "stderr",
     "output_type": "stream",
     "text": [
      "Classifying:  60%|██████████████████████████████████▉                       | 28852/47871 [10:11:33<4:49:39,  1.09it/s]"
     ]
    },
    {
     "name": "stdout",
     "output_type": "stream",
     "text": [
      "Warning: Unexpected label at index 28852: 'quantum imaging'\n"
     ]
    },
    {
     "name": "stderr",
     "output_type": "stream",
     "text": [
      "Classifying:  60%|██████████████████████████████████▉                       | 28882/47871 [10:12:09<5:12:04,  1.01it/s]"
     ]
    },
    {
     "name": "stdout",
     "output_type": "stream",
     "text": [
      "Warning: Unexpected label at index 28882: 'quantum topology'\n"
     ]
    },
    {
     "name": "stderr",
     "output_type": "stream",
     "text": [
      "Classifying:  61%|███████████████████████████████████                       | 28979/47871 [10:14:00<9:24:24,  1.79s/it]"
     ]
    },
    {
     "name": "stdout",
     "output_type": "stream",
     "text": [
      "Warning: Unexpected label at index 28979: 'quantum optics'\n"
     ]
    },
    {
     "name": "stderr",
     "output_type": "stream",
     "text": [
      "Classifying:  61%|███████████████████████████████████▏                      | 28997/47871 [10:14:16<4:33:59,  1.15it/s]"
     ]
    },
    {
     "name": "stdout",
     "output_type": "stream",
     "text": [
      "Warning: Unexpected label at index 28997: 'quantum materials'\n"
     ]
    },
    {
     "name": "stderr",
     "output_type": "stream",
     "text": [
      "Classifying:  61%|██████████████████████████████████▌                      | 29012/47871 [10:14:43<15:02:17,  2.87s/it]"
     ]
    },
    {
     "name": "stdout",
     "output_type": "stream",
     "text": [
      "Warning: Unexpected label at index 29012: 'quantum imaging'\n"
     ]
    },
    {
     "name": "stderr",
     "output_type": "stream",
     "text": [
      "Classifying:  61%|███████████████████████████████████▏                      | 29067/47871 [10:15:46<5:09:49,  1.01it/s]"
     ]
    },
    {
     "name": "stdout",
     "output_type": "stream",
     "text": [
      "Warning: Unexpected label at index 29067: 'quantum backup'\n"
     ]
    },
    {
     "name": "stderr",
     "output_type": "stream",
     "text": [
      "Classifying:  61%|███████████████████████████████████▎                      | 29141/47871 [10:17:21<5:55:18,  1.14s/it]"
     ]
    },
    {
     "name": "stdout",
     "output_type": "stream",
     "text": [
      "Warning: Unexpected label at index 29141: 'quantum storage'\n"
     ]
    },
    {
     "name": "stderr",
     "output_type": "stream",
     "text": [
      "Classifying:  61%|███████████████████████████████████▎                      | 29154/47871 [10:17:40<8:42:35,  1.68s/it]"
     ]
    },
    {
     "name": "stdout",
     "output_type": "stream",
     "text": [
      "Warning: Unexpected label at index 29154: 'quantum materials'\n"
     ]
    },
    {
     "name": "stderr",
     "output_type": "stream",
     "text": [
      "Classifying:  61%|███████████████████████████████████▎                      | 29185/47871 [10:18:13<4:49:43,  1.07it/s]"
     ]
    },
    {
     "name": "stdout",
     "output_type": "stream",
     "text": [
      "Warning: Unexpected label at index 29185: 'quantum dots'\n"
     ]
    },
    {
     "name": "stderr",
     "output_type": "stream",
     "text": [
      "Classifying:  61%|███████████████████████████████████▎                      | 29191/47871 [10:18:20<5:32:15,  1.07s/it]"
     ]
    },
    {
     "name": "stdout",
     "output_type": "stream",
     "text": [
      "Warning: Unexpected label at index 29191: 'quantum optics'\n"
     ]
    },
    {
     "name": "stderr",
     "output_type": "stream",
     "text": [
      "Classifying:  61%|███████████████████████████████████▍                      | 29203/47871 [10:18:31<4:30:32,  1.15it/s]"
     ]
    },
    {
     "name": "stdout",
     "output_type": "stream",
     "text": [
      "Warning: Unexpected label at index 29203: 'This paper does not appear to be related to quantum computing. The topic is about cardiovascular detection systems, which is outside the field of quantum computing. Therefore, I cannot provide a relevant label from the list.'\n"
     ]
    },
    {
     "name": "stderr",
     "output_type": "stream",
     "text": [
      "Classifying:  61%|███████████████████████████████████▍                      | 29224/47871 [10:18:57<4:31:52,  1.14it/s]"
     ]
    },
    {
     "name": "stdout",
     "output_type": "stream",
     "text": [
      "Warning: Unexpected label at index 29224: 'quantum imaging'\n"
     ]
    },
    {
     "name": "stderr",
     "output_type": "stream",
     "text": [
      "Classifying:  61%|███████████████████████████████████▍                      | 29248/47871 [10:19:23<7:29:23,  1.45s/it]"
     ]
    },
    {
     "name": "stdout",
     "output_type": "stream",
     "text": [
      "Warning: Unexpected label at index 29248: 'quantum imaging'\n"
     ]
    },
    {
     "name": "stderr",
     "output_type": "stream",
     "text": [
      "Classifying:  61%|███████████████████████████████████▍                      | 29267/47871 [10:19:40<5:16:29,  1.02s/it]"
     ]
    },
    {
     "name": "stdout",
     "output_type": "stream",
     "text": [
      "Warning: Unexpected label at index 29267: 'quantum optics'\n"
     ]
    },
    {
     "name": "stderr",
     "output_type": "stream",
     "text": [
      "Classifying:  61%|███████████████████████████████████▌                      | 29301/47871 [10:20:12<4:41:15,  1.10it/s]"
     ]
    },
    {
     "name": "stdout",
     "output_type": "stream",
     "text": [
      "Warning: Unexpected label at index 29301: 'quantum optics'\n"
     ]
    },
    {
     "name": "stderr",
     "output_type": "stream",
     "text": [
      "Classifying:  61%|███████████████████████████████████▌                      | 29319/47871 [10:20:30<5:01:22,  1.03it/s]"
     ]
    },
    {
     "name": "stdout",
     "output_type": "stream",
     "text": [
      "Warning: Unexpected label at index 29319: 'quantum materials'\n"
     ]
    },
    {
     "name": "stderr",
     "output_type": "stream",
     "text": [
      "Classifying:  61%|██████████████████████████████████▉                      | 29371/47871 [10:21:41<10:50:55,  2.11s/it]"
     ]
    },
    {
     "name": "stdout",
     "output_type": "stream",
     "text": [
      "Warning: Unexpected label at index 29371: 'quantum amplification'\n"
     ]
    },
    {
     "name": "stderr",
     "output_type": "stream",
     "text": [
      "Classifying:  61%|███████████████████████████████████▌                      | 29379/47871 [10:21:48<5:01:29,  1.02it/s]"
     ]
    },
    {
     "name": "stdout",
     "output_type": "stream",
     "text": [
      "Warning: Unexpected label at index 29379: 'quantum materials'\n"
     ]
    },
    {
     "name": "stderr",
     "output_type": "stream",
     "text": [
      "Classifying:  61%|███████████████████████████████████▌                      | 29388/47871 [10:21:57<4:36:54,  1.11it/s]"
     ]
    },
    {
     "name": "stdout",
     "output_type": "stream",
     "text": [
      "Warning: Unexpected label at index 29388: 'This paper does not appear to be related to quantum computing. The topic is about providing the best wireless network links for client devices, which is a classical computing topic. Therefore, the appropriate label is not among the ones provided.'\n"
     ]
    },
    {
     "name": "stderr",
     "output_type": "stream",
     "text": [
      "Classifying:  61%|███████████████████████████████████▋                      | 29407/47871 [10:22:20<4:41:42,  1.09it/s]"
     ]
    },
    {
     "name": "stdout",
     "output_type": "stream",
     "text": [
      "Warning: Unexpected label at index 29407: 'quantum random number generation'\n"
     ]
    },
    {
     "name": "stderr",
     "output_type": "stream",
     "text": [
      "Classifying:  62%|███████████████████████████████████▋                      | 29443/47871 [10:22:52<4:21:25,  1.17it/s]"
     ]
    },
    {
     "name": "stdout",
     "output_type": "stream",
     "text": [
      "Warning: Unexpected label at index 29443: 'quantum graph generation'\n"
     ]
    },
    {
     "name": "stderr",
     "output_type": "stream",
     "text": [
      "Classifying:  62%|███████████████████████████████████▋                      | 29494/47871 [10:23:48<4:37:26,  1.10it/s]"
     ]
    },
    {
     "name": "stdout",
     "output_type": "stream",
     "text": [
      "Warning: Unexpected label at index 29494: 'quantum display'\n"
     ]
    },
    {
     "name": "stderr",
     "output_type": "stream",
     "text": [
      "Classifying:  62%|███████████████████████████████████▊                      | 29510/47871 [10:24:09<6:17:38,  1.23s/it]"
     ]
    },
    {
     "name": "stdout",
     "output_type": "stream",
     "text": [
      "Warning: Unexpected label at index 29510: 'quantum networking'\n"
     ]
    },
    {
     "name": "stderr",
     "output_type": "stream",
     "text": [
      "Classifying:  62%|███████████████████████████████████▊                      | 29525/47871 [10:24:22<4:11:04,  1.22it/s]"
     ]
    },
    {
     "name": "stdout",
     "output_type": "stream",
     "text": [
      "Warning: Unexpected label at index 29525: 'quantum materials'\n"
     ]
    },
    {
     "name": "stderr",
     "output_type": "stream",
     "text": [
      "Classifying:  62%|███████████████████████████████████▊                      | 29574/47871 [10:25:15<7:58:39,  1.57s/it]"
     ]
    },
    {
     "name": "stdout",
     "output_type": "stream",
     "text": [
      "Warning: Unexpected label at index 29574: 'quantum safety'\n"
     ]
    },
    {
     "name": "stderr",
     "output_type": "stream",
     "text": [
      "Classifying:  62%|███████████████████████████████████▊                      | 29584/47871 [10:25:25<5:24:30,  1.06s/it]"
     ]
    },
    {
     "name": "stdout",
     "output_type": "stream",
     "text": [
      "Warning: Unexpected label at index 29584: 'quantum display'\n"
     ]
    },
    {
     "name": "stderr",
     "output_type": "stream",
     "text": [
      "Classifying:  62%|███████████████████████████████████▉                      | 29688/47871 [10:27:27<4:29:02,  1.13it/s]"
     ]
    },
    {
     "name": "stdout",
     "output_type": "stream",
     "text": [
      "Warning: Unexpected label at index 29688: 'quantum imaging'\n"
     ]
    },
    {
     "name": "stderr",
     "output_type": "stream",
     "text": [
      "Classifying:  62%|████████████████████████████████████                      | 29754/47871 [10:28:39<4:28:49,  1.12it/s]"
     ]
    },
    {
     "name": "stdout",
     "output_type": "stream",
     "text": [
      "Warning: Unexpected label at index 29754: 'quantum materials'\n"
     ]
    },
    {
     "name": "stderr",
     "output_type": "stream",
     "text": [
      "Classifying:  62%|████████████████████████████████████                      | 29786/47871 [10:29:09<4:35:30,  1.09it/s]"
     ]
    },
    {
     "name": "stdout",
     "output_type": "stream",
     "text": [
      "Warning: Unexpected label at index 29786: 'quantum time series analysis'\n"
     ]
    },
    {
     "name": "stderr",
     "output_type": "stream",
     "text": [
      "Classifying:  62%|████████████████████████████████████                      | 29794/47871 [10:29:23<9:07:10,  1.82s/it]"
     ]
    },
    {
     "name": "stdout",
     "output_type": "stream",
     "text": [
      "Warning: Unexpected label at index 29794: 'quantum imaging'\n"
     ]
    },
    {
     "name": "stderr",
     "output_type": "stream",
     "text": [
      "Classifying:  62%|████████████████████████████████████▏                     | 29822/47871 [10:29:49<5:22:35,  1.07s/it]"
     ]
    },
    {
     "name": "stdout",
     "output_type": "stream",
     "text": [
      "Warning: Unexpected label at index 29822: 'quantum optics'\n"
     ]
    },
    {
     "name": "stderr",
     "output_type": "stream",
     "text": [
      "Classifying:  62%|███████████████████████████████████▌                     | 29842/47871 [10:30:16<10:23:38,  2.08s/it]"
     ]
    },
    {
     "name": "stdout",
     "output_type": "stream",
     "text": [
      "Warning: Unexpected label at index 29842: 'quantum video processing'\n"
     ]
    },
    {
     "name": "stderr",
     "output_type": "stream",
     "text": [
      "Classifying:  62%|████████████████████████████████████▏                     | 29889/47871 [10:31:17<5:46:37,  1.16s/it]"
     ]
    },
    {
     "name": "stdout",
     "output_type": "stream",
     "text": [
      "Warning: Unexpected label at index 29889: 'quantum compression'\n"
     ]
    },
    {
     "name": "stderr",
     "output_type": "stream",
     "text": [
      "Classifying:  62%|████████████████████████████████████▏                     | 29901/47871 [10:31:28<4:30:09,  1.11it/s]"
     ]
    },
    {
     "name": "stdout",
     "output_type": "stream",
     "text": [
      "Warning: Unexpected label at index 29901: 'quantum tunneling'\n"
     ]
    },
    {
     "name": "stderr",
     "output_type": "stream",
     "text": [
      "Classifying:  62%|████████████████████████████████████▏                     | 29913/47871 [10:31:40<5:49:29,  1.17s/it]"
     ]
    },
    {
     "name": "stdout",
     "output_type": "stream",
     "text": [
      "Warning: Unexpected label at index 29913: 'quantum applications'\n"
     ]
    },
    {
     "name": "stderr",
     "output_type": "stream",
     "text": [
      "Classifying:  63%|████████████████████████████████████▎                     | 29945/47871 [10:32:24<6:26:12,  1.29s/it]"
     ]
    },
    {
     "name": "stdout",
     "output_type": "stream",
     "text": [
      "Warning: Unexpected label at index 29945: 'quantum imaging'\n"
     ]
    },
    {
     "name": "stderr",
     "output_type": "stream",
     "text": [
      "Classifying:  63%|████████████████████████████████████▎                     | 29955/47871 [10:32:35<5:58:36,  1.20s/it]"
     ]
    },
    {
     "name": "stdout",
     "output_type": "stream",
     "text": [
      "Warning: Unexpected label at index 29955: 'quantum tunneling'\n"
     ]
    },
    {
     "name": "stderr",
     "output_type": "stream",
     "text": [
      "Classifying:  63%|████████████████████████████████████▎                     | 29970/47871 [10:33:01<4:39:28,  1.07it/s]"
     ]
    },
    {
     "name": "stdout",
     "output_type": "stream",
     "text": [
      "Warning: Unexpected label at index 29970: 'quantum optics'\n"
     ]
    },
    {
     "name": "stderr",
     "output_type": "stream",
     "text": [
      "Classifying:  63%|████████████████████████████████████▎                     | 29991/47871 [10:33:21<4:51:53,  1.02it/s]"
     ]
    },
    {
     "name": "stdout",
     "output_type": "stream",
     "text": [
      "Warning: Unexpected label at index 29991: 'quantum tunneling'\n"
     ]
    },
    {
     "name": "stderr",
     "output_type": "stream",
     "text": [
      "Classifying:  63%|████████████████████████████████████▍                     | 30079/47871 [10:35:09<9:59:29,  2.02s/it]"
     ]
    },
    {
     "name": "stdout",
     "output_type": "stream",
     "text": [
      "Warning: Unexpected label at index 30079: 'quantum optics'\n"
     ]
    },
    {
     "name": "stderr",
     "output_type": "stream",
     "text": [
      "Classifying:  63%|████████████████████████████████████▌                     | 30128/47871 [10:36:32<6:51:18,  1.39s/it]"
     ]
    },
    {
     "name": "stdout",
     "output_type": "stream",
     "text": [
      "Warning: Unexpected label at index 30128: 'This paper is not related to quantum computing. It is about a head-worn computer and its adjustable nose bridge assembly. Therefore, the appropriate label is not present in the list provided.'\n"
     ]
    },
    {
     "name": "stderr",
     "output_type": "stream",
     "text": [
      "Classifying:  63%|███████████████████████████████████▉                     | 30164/47871 [10:37:23<10:26:27,  2.12s/it]"
     ]
    },
    {
     "name": "stdout",
     "output_type": "stream",
     "text": [
      "Warning: Unexpected label at index 30164: 'quantum optics'\n"
     ]
    },
    {
     "name": "stderr",
     "output_type": "stream",
     "text": [
      "Classifying:  63%|████████████████████████████████████▌                     | 30166/47871 [10:37:25<7:08:56,  1.45s/it]"
     ]
    },
    {
     "name": "stdout",
     "output_type": "stream",
     "text": [
      "Warning: Unexpected label at index 30166: 'quantum random number generation'\n"
     ]
    },
    {
     "name": "stderr",
     "output_type": "stream",
     "text": [
      "Classifying:  63%|███████████████████████████████████▉                     | 30175/47871 [10:37:42<14:10:01,  2.88s/it]"
     ]
    },
    {
     "name": "stdout",
     "output_type": "stream",
     "text": [
      "Warning: Unexpected label at index 30175: 'quantum optics'\n"
     ]
    },
    {
     "name": "stderr",
     "output_type": "stream",
     "text": [
      "Classifying:  63%|███████████████████████████████████▉                     | 30191/47871 [10:38:16<11:03:48,  2.25s/it]"
     ]
    },
    {
     "name": "stdout",
     "output_type": "stream",
     "text": [
      "Warning: Unexpected label at index 30191: 'This paper does not appear to be related to quantum computing. The title and abstract describe research on beta barrel polypeptides, which is a topic in molecular biology and protein engineering rather than quantum computing. Therefore, I would not classify this paper under any of the provided labels, as they are all specific to quantum computing.'\n"
     ]
    },
    {
     "name": "stderr",
     "output_type": "stream",
     "text": [
      "Classifying:  63%|████████████████████████████████████▋                     | 30232/47871 [10:39:23<6:35:04,  1.34s/it]"
     ]
    },
    {
     "name": "stdout",
     "output_type": "stream",
     "text": [
      "Warning: Unexpected label at index 30232: 'This paper does not appear to be related to quantum computing. It seems to be about semiconductor structures and photodiodes/PIN diode structures. Therefore, the most appropriate label from the list is:\n",
      "\n",
      "quantum computing'\n"
     ]
    },
    {
     "name": "stderr",
     "output_type": "stream",
     "text": [
      "Classifying:  63%|████████████████████████████████████▋                     | 30248/47871 [10:39:48<5:23:01,  1.10s/it]"
     ]
    },
    {
     "name": "stdout",
     "output_type": "stream",
     "text": [
      "Warning: Unexpected label at index 30248: 'quantum emitters'\n"
     ]
    },
    {
     "name": "stderr",
     "output_type": "stream",
     "text": [
      "Classifying:  63%|████████████████████████████████████▋                     | 30257/47871 [10:40:02<8:40:43,  1.77s/it]"
     ]
    },
    {
     "name": "stdout",
     "output_type": "stream",
     "text": [
      "Warning: Unexpected label at index 30257: 'quantum random number generation'\n"
     ]
    },
    {
     "name": "stderr",
     "output_type": "stream",
     "text": [
      "Classifying:  63%|████████████████████████████████████▋                     | 30273/47871 [10:40:21<5:04:57,  1.04s/it]"
     ]
    },
    {
     "name": "stdout",
     "output_type": "stream",
     "text": [
      "Warning: Unexpected label at index 30273: 'quantum optics'\n"
     ]
    },
    {
     "name": "stderr",
     "output_type": "stream",
     "text": [
      "Classifying:  63%|████████████████████████████████████▋                     | 30292/47871 [10:40:46<6:05:05,  1.25s/it]"
     ]
    },
    {
     "name": "stdout",
     "output_type": "stream",
     "text": [
      "Warning: Unexpected label at index 30292: 'quantum spectroscopy'\n"
     ]
    },
    {
     "name": "stderr",
     "output_type": "stream",
     "text": [
      "Classifying:  63%|████████████████████████████████████▋                     | 30298/47871 [10:40:54<6:59:11,  1.43s/it]"
     ]
    },
    {
     "name": "stdout",
     "output_type": "stream",
     "text": [
      "Warning: Unexpected label at index 30298: 'quantum imaging'\n"
     ]
    },
    {
     "name": "stderr",
     "output_type": "stream",
     "text": [
      "Classifying:  63%|████████████████████████████████████▋                     | 30299/47871 [10:40:55<6:18:10,  1.29s/it]"
     ]
    },
    {
     "name": "stdout",
     "output_type": "stream",
     "text": [
      "Warning: Unexpected label at index 30299: 'quantum key distribution'\n"
     ]
    },
    {
     "name": "stderr",
     "output_type": "stream",
     "text": [
      "Classifying:  63%|████████████████████████████████████▋                     | 30312/47871 [10:41:15<5:35:36,  1.15s/it]"
     ]
    },
    {
     "name": "stdout",
     "output_type": "stream",
     "text": [
      "Warning: Unexpected label at index 30312: 'quantum optics'\n"
     ]
    },
    {
     "name": "stderr",
     "output_type": "stream",
     "text": [
      "Classifying:  63%|████████████████████████████████████▊                     | 30391/47871 [10:42:47<6:38:19,  1.37s/it]"
     ]
    },
    {
     "name": "stdout",
     "output_type": "stream",
     "text": [
      "Warning: Unexpected label at index 30391: 'quantum display'\n"
     ]
    },
    {
     "name": "stderr",
     "output_type": "stream",
     "text": [
      "Classifying:  64%|████████████████████████████████████▊                     | 30408/47871 [10:43:12<4:45:08,  1.02it/s]"
     ]
    },
    {
     "name": "stdout",
     "output_type": "stream",
     "text": [
      "Warning: Unexpected label at index 30408: 'quantum fault tolerance'\n"
     ]
    },
    {
     "name": "stderr",
     "output_type": "stream",
     "text": [
      "Classifying:  64%|████████████████████████████████████▊                     | 30417/47871 [10:43:28<5:31:35,  1.14s/it]"
     ]
    },
    {
     "name": "stdout",
     "output_type": "stream",
     "text": [
      "Warning: Unexpected label at index 30417: 'quantum materials'\n"
     ]
    },
    {
     "name": "stderr",
     "output_type": "stream",
     "text": [
      "Classifying:  64%|████████████████████████████████████▉                     | 30460/47871 [10:44:20<4:47:17,  1.01it/s]"
     ]
    },
    {
     "name": "stdout",
     "output_type": "stream",
     "text": [
      "Warning: Unexpected label at index 30460: 'quantum testing'\n"
     ]
    },
    {
     "name": "stderr",
     "output_type": "stream",
     "text": [
      "Classifying:  64%|████████████████████████████████████▉                     | 30466/47871 [10:44:26<4:35:42,  1.05it/s]"
     ]
    },
    {
     "name": "stdout",
     "output_type": "stream",
     "text": [
      "Warning: Unexpected label at index 30466: 'quantum display'\n"
     ]
    },
    {
     "name": "stderr",
     "output_type": "stream",
     "text": [
      "Classifying:  64%|████████████████████████████████████▉                     | 30476/47871 [10:44:36<5:30:12,  1.14s/it]"
     ]
    },
    {
     "name": "stdout",
     "output_type": "stream",
     "text": [
      "Warning: Unexpected label at index 30476: 'quantum optics'\n"
     ]
    },
    {
     "name": "stderr",
     "output_type": "stream",
     "text": [
      "Classifying:  64%|████████████████████████████████████▉                     | 30479/47871 [10:44:39<4:36:09,  1.05it/s]"
     ]
    },
    {
     "name": "stdout",
     "output_type": "stream",
     "text": [
      "Warning: Unexpected label at index 30479: 'quantum estimation'\n"
     ]
    },
    {
     "name": "stderr",
     "output_type": "stream",
     "text": [
      "Classifying:  64%|████████████████████████████████████▉                     | 30516/47871 [10:45:22<6:30:44,  1.35s/it]"
     ]
    },
    {
     "name": "stdout",
     "output_type": "stream",
     "text": [
      "Warning: Unexpected label at index 30516: 'This paper does not appear to be related to quantum computing. The topic is about a backlight unit and display apparatus, which is not within the domain of quantum computing. Therefore, I do not see a suitable label from the provided list that would accurately classify this paper.'\n"
     ]
    },
    {
     "name": "stderr",
     "output_type": "stream",
     "text": [
      "Classifying:  64%|████████████████████████████████████▉                     | 30522/47871 [10:45:35<9:27:14,  1.96s/it]"
     ]
    },
    {
     "name": "stdout",
     "output_type": "stream",
     "text": [
      "Warning: Unexpected label at index 30522: 'This paper does not appear to be related to quantum computing. The topic is about dynamically changing the direct memory access size of a driver using a multi-handle approach, which is a computer engineering topic, not quantum computing.\n",
      "\n",
      "quantum computing'\n"
     ]
    },
    {
     "name": "stderr",
     "output_type": "stream",
     "text": [
      "Classifying:  64%|████████████████████████████████████▉                     | 30532/47871 [10:45:53<8:58:30,  1.86s/it]"
     ]
    },
    {
     "name": "stdout",
     "output_type": "stream",
     "text": [
      "Warning: Unexpected label at index 30532: 'quantum materials'\n"
     ]
    },
    {
     "name": "stderr",
     "output_type": "stream",
     "text": [
      "Classifying:  64%|████████████████████████████████████▎                    | 30540/47871 [10:46:12<10:53:29,  2.26s/it]"
     ]
    },
    {
     "name": "stdout",
     "output_type": "stream",
     "text": [
      "Warning: Unexpected label at index 30540: 'quantum efficiency'\n"
     ]
    },
    {
     "name": "stderr",
     "output_type": "stream",
     "text": [
      "Classifying:  64%|████████████████████████████████████▍                    | 30553/47871 [10:46:37<10:05:33,  2.10s/it]"
     ]
    },
    {
     "name": "stdout",
     "output_type": "stream",
     "text": [
      "Warning: Unexpected label at index 30553: 'quantum amplification'\n"
     ]
    },
    {
     "name": "stderr",
     "output_type": "stream",
     "text": [
      "Classifying:  64%|█████████████████████████████████████                     | 30629/47871 [10:48:33<7:04:10,  1.48s/it]"
     ]
    },
    {
     "name": "stdout",
     "output_type": "stream",
     "text": [
      "Warning: Unexpected label at index 30629: 'quantum materials'\n"
     ]
    },
    {
     "name": "stderr",
     "output_type": "stream",
     "text": [
      "Classifying:  64%|█████████████████████████████████████                     | 30635/47871 [10:48:41<6:35:09,  1.38s/it]"
     ]
    },
    {
     "name": "stdout",
     "output_type": "stream",
     "text": [
      "Warning: Unexpected label at index 30635: 'quantum efficiency'\n"
     ]
    },
    {
     "name": "stderr",
     "output_type": "stream",
     "text": [
      "Classifying:  64%|█████████████████████████████████████▏                    | 30650/47871 [10:48:57<4:56:44,  1.03s/it]"
     ]
    },
    {
     "name": "stdout",
     "output_type": "stream",
     "text": [
      "Warning: Unexpected label at index 30650: 'quantum random number generator'\n"
     ]
    },
    {
     "name": "stderr",
     "output_type": "stream",
     "text": [
      "Classifying:  64%|█████████████████████████████████████▏                    | 30691/47871 [10:49:56<5:42:28,  1.20s/it]"
     ]
    },
    {
     "name": "stdout",
     "output_type": "stream",
     "text": [
      "Warning: Unexpected label at index 30691: 'quantum materials'\n"
     ]
    },
    {
     "name": "stderr",
     "output_type": "stream",
     "text": [
      "Classifying:  64%|█████████████████████████████████████▏                    | 30702/47871 [10:50:08<6:14:47,  1.31s/it]"
     ]
    },
    {
     "name": "stdout",
     "output_type": "stream",
     "text": [
      "Warning: Unexpected label at index 30702: 'quantum optics'\n"
     ]
    },
    {
     "name": "stderr",
     "output_type": "stream",
     "text": [
      "Classifying:  64%|█████████████████████████████████████▏                    | 30707/47871 [10:50:14<4:54:22,  1.03s/it]"
     ]
    },
    {
     "name": "stdout",
     "output_type": "stream",
     "text": [
      "Warning: Unexpected label at index 30707: 'quantum materials'\n"
     ]
    },
    {
     "name": "stderr",
     "output_type": "stream",
     "text": [
      "Classifying:  64%|█████████████████████████████████████▏                    | 30713/47871 [10:50:20<4:44:40,  1.00it/s]"
     ]
    },
    {
     "name": "stdout",
     "output_type": "stream",
     "text": [
      "Warning: Unexpected label at index 30713: 'quantum materials'\n"
     ]
    },
    {
     "name": "stderr",
     "output_type": "stream",
     "text": [
      "Classifying:  64%|█████████████████████████████████████▏                    | 30729/47871 [10:50:36<5:00:41,  1.05s/it]"
     ]
    },
    {
     "name": "stdout",
     "output_type": "stream",
     "text": [
      "Warning: Unexpected label at index 30729: 'quantum materials'\n"
     ]
    },
    {
     "name": "stderr",
     "output_type": "stream",
     "text": [
      "Classifying:  64%|█████████████████████████████████████▎                    | 30775/47871 [10:51:31<4:40:43,  1.01it/s]"
     ]
    },
    {
     "name": "stdout",
     "output_type": "stream",
     "text": [
      "Warning: Unexpected label at index 30775: 'This paper is not related to quantum computing. It is about head-worn computing and content presentation, so the most appropriate label would be:\n",
      "\n",
      "quantum computing applications'\n"
     ]
    },
    {
     "name": "stderr",
     "output_type": "stream",
     "text": [
      "Classifying:  64%|████████████████████████████████████▋                    | 30798/47871 [10:52:02<11:11:14,  2.36s/it]"
     ]
    },
    {
     "name": "stdout",
     "output_type": "stream",
     "text": [
      "Warning: Unexpected label at index 30798: 'quantum imaging'\n"
     ]
    },
    {
     "name": "stderr",
     "output_type": "stream",
     "text": [
      "Classifying:  64%|█████████████████████████████████████▎                    | 30818/47871 [10:52:24<4:35:54,  1.03it/s]"
     ]
    },
    {
     "name": "stdout",
     "output_type": "stream",
     "text": [
      "Warning: Unexpected label at index 30818: 'quantum optics'\n"
     ]
    },
    {
     "name": "stderr",
     "output_type": "stream",
     "text": [
      "Classifying:  64%|█████████████████████████████████████▍                    | 30867/47871 [10:53:15<4:10:35,  1.13it/s]"
     ]
    },
    {
     "name": "stdout",
     "output_type": "stream",
     "text": [
      "Warning: Unexpected label at index 30867: 'quantum optics'\n"
     ]
    },
    {
     "name": "stderr",
     "output_type": "stream",
     "text": [
      "Classifying:  65%|████████████████████████████████████▊                    | 30911/47871 [10:54:12<14:36:46,  3.10s/it]"
     ]
    },
    {
     "name": "stdout",
     "output_type": "stream",
     "text": [
      "Warning: Unexpected label at index 30911: 'quantum optics'\n"
     ]
    },
    {
     "name": "stderr",
     "output_type": "stream",
     "text": [
      "Classifying:  65%|█████████████████████████████████████▍                    | 30920/47871 [10:54:21<4:35:38,  1.02it/s]"
     ]
    },
    {
     "name": "stdout",
     "output_type": "stream",
     "text": [
      "Warning: Unexpected label at index 30920: 'quantum energy harvesting'\n"
     ]
    },
    {
     "name": "stderr",
     "output_type": "stream",
     "text": [
      "Classifying:  65%|█████████████████████████████████████▌                    | 30993/47871 [10:55:39<4:26:54,  1.05it/s]"
     ]
    },
    {
     "name": "stdout",
     "output_type": "stream",
     "text": [
      "Warning: Unexpected label at index 30993: 'quantum optics'\n"
     ]
    },
    {
     "name": "stderr",
     "output_type": "stream",
     "text": [
      "Classifying:  65%|█████████████████████████████████████▌                    | 31035/47871 [10:56:22<4:48:41,  1.03s/it]"
     ]
    },
    {
     "name": "stdout",
     "output_type": "stream",
     "text": [
      "Warning: Unexpected label at index 31035: 'quantum optics'\n"
     ]
    },
    {
     "name": "stderr",
     "output_type": "stream",
     "text": [
      "Classifying:  65%|█████████████████████████████████████▌                    | 31043/47871 [10:56:30<4:26:14,  1.05it/s]"
     ]
    },
    {
     "name": "stdout",
     "output_type": "stream",
     "text": [
      "Warning: Unexpected label at index 31043: 'quantum energy harvesting'\n"
     ]
    },
    {
     "name": "stderr",
     "output_type": "stream",
     "text": [
      "Classifying:  65%|█████████████████████████████████████▌                    | 31049/47871 [10:56:36<4:45:38,  1.02s/it]"
     ]
    },
    {
     "name": "stdout",
     "output_type": "stream",
     "text": [
      "Warning: Unexpected label at index 31049: 'This paper is not related to quantum computing. It is about a head-worn computer and its adjustable nose bridge assembly. Therefore, the appropriate label is:\n",
      "\n",
      "quantum computing'\n"
     ]
    },
    {
     "name": "stderr",
     "output_type": "stream",
     "text": [
      "Classifying:  65%|█████████████████████████████████████▋                    | 31109/47871 [10:57:33<4:42:56,  1.01s/it]"
     ]
    },
    {
     "name": "stdout",
     "output_type": "stream",
     "text": [
      "Warning: Unexpected label at index 31109: 'This paper does not appear to be related to quantum computing. The abstract describes methods for generating speech data using artificial intelligence techniques, which is not a topic within the field of quantum computing. Therefore, the most appropriate label from the list is:\n",
      "\n",
      "quantum computing'\n"
     ]
    },
    {
     "name": "stderr",
     "output_type": "stream",
     "text": [
      "Classifying:  65%|█████████████████████████████████████▋                    | 31114/47871 [10:57:38<4:36:11,  1.01it/s]"
     ]
    },
    {
     "name": "stdout",
     "output_type": "stream",
     "text": [
      "Warning: Unexpected label at index 31114: 'No relevant label'\n"
     ]
    },
    {
     "name": "stderr",
     "output_type": "stream",
     "text": [
      "Classifying:  65%|█████████████████████████████████████▋                    | 31138/47871 [10:58:06<3:52:40,  1.20it/s]"
     ]
    },
    {
     "name": "stdout",
     "output_type": "stream",
     "text": [
      "Warning: Unexpected label at index 31138: 'quantum stimulation'\n"
     ]
    },
    {
     "name": "stderr",
     "output_type": "stream",
     "text": [
      "Classifying:  65%|█████████████████████████████████████▋                    | 31139/47871 [10:58:08<5:43:39,  1.23s/it]"
     ]
    },
    {
     "name": "stdout",
     "output_type": "stream",
     "text": [
      "Warning: Unexpected label at index 31139: 'quantum absorption spectroscopy'\n"
     ]
    },
    {
     "name": "stderr",
     "output_type": "stream",
     "text": [
      "Classifying:  65%|█████████████████████████████████████▋                    | 31155/47871 [10:58:24<4:03:54,  1.14it/s]"
     ]
    },
    {
     "name": "stdout",
     "output_type": "stream",
     "text": [
      "Warning: Unexpected label at index 31155: 'This paper does not appear to be related to quantum computing. The title and abstract indicate that this paper is about speaker assemblies for head-worn computers, which is not a topic in quantum computing. Therefore, I would not classify this paper under any of the available labels.'\n"
     ]
    },
    {
     "name": "stderr",
     "output_type": "stream",
     "text": [
      "Classifying:  65%|█████████████████████████████████████▋                    | 31156/47871 [10:58:25<4:33:08,  1.02it/s]"
     ]
    },
    {
     "name": "stdout",
     "output_type": "stream",
     "text": [
      "Warning: Unexpected label at index 31156: 'This paper does not appear to be related to quantum computing. The title and abstract describe a speaker assembly for a head-worn computer, which is not a topic typically associated with quantum computing. Therefore, I would not classify this paper under any of the provided labels.'\n"
     ]
    },
    {
     "name": "stderr",
     "output_type": "stream",
     "text": [
      "Classifying:  65%|█████████████████████████████████████▊                    | 31182/47871 [10:59:02<4:26:11,  1.04it/s]"
     ]
    },
    {
     "name": "stdout",
     "output_type": "stream",
     "text": [
      "Warning: Unexpected label at index 31182: 'No relevant label'\n"
     ]
    },
    {
     "name": "stderr",
     "output_type": "stream",
     "text": [
      "Classifying:  65%|█████████████████████████████████████▊                    | 31188/47871 [10:59:08<4:26:32,  1.04it/s]"
     ]
    },
    {
     "name": "stdout",
     "output_type": "stream",
     "text": [
      "Warning: Unexpected label at index 31188: 'This paper does not appear to be related to quantum computing. The title and abstract describe a speaker assembly for a head-worn computer, which is not a topic typically associated with quantum computing. Therefore, I would not classify this paper under any of the available labels.'\n"
     ]
    },
    {
     "name": "stderr",
     "output_type": "stream",
     "text": [
      "Classifying:  65%|█████████████████████████████████████▊                    | 31189/47871 [10:59:09<4:43:27,  1.02s/it]"
     ]
    },
    {
     "name": "stdout",
     "output_type": "stream",
     "text": [
      "Warning: Unexpected label at index 31189: 'This paper does not appear to be related to quantum computing. The title and abstract indicate that it is about speaker assemblies for head-worn computers, which is not a topic within the field of quantum computing. Therefore, I would not classify this paper under any of the available labels.'\n"
     ]
    },
    {
     "name": "stderr",
     "output_type": "stream",
     "text": [
      "Classifying:  65%|█████████████████████████████████████▊                    | 31196/47871 [10:59:16<4:32:15,  1.02it/s]"
     ]
    },
    {
     "name": "stdout",
     "output_type": "stream",
     "text": [
      "Warning: Unexpected label at index 31196: 'quantum materials'\n"
     ]
    },
    {
     "name": "stderr",
     "output_type": "stream",
     "text": [
      "Classifying:  65%|█████████████████████████████████████▊                    | 31217/47871 [10:59:39<5:15:51,  1.14s/it]"
     ]
    },
    {
     "name": "stdout",
     "output_type": "stream",
     "text": [
      "Warning: Unexpected label at index 31217: 'quantum photobiomodulation'\n"
     ]
    },
    {
     "name": "stderr",
     "output_type": "stream",
     "text": [
      "Classifying:  65%|█████████████████████████████████████▏                   | 31237/47871 [11:00:06<12:49:19,  2.77s/it]"
     ]
    },
    {
     "name": "stdout",
     "output_type": "stream",
     "text": [
      "Warning: Unexpected label at index 31237: 'quantum display'\n"
     ]
    },
    {
     "name": "stderr",
     "output_type": "stream",
     "text": [
      "Classifying:  65%|█████████████████████████████████████▊                    | 31247/47871 [11:00:19<6:20:56,  1.37s/it]"
     ]
    },
    {
     "name": "stdout",
     "output_type": "stream",
     "text": [
      "Warning: Unexpected label at index 31247: 'quantum materials'\n"
     ]
    },
    {
     "name": "stderr",
     "output_type": "stream",
     "text": [
      "Classifying:  65%|█████████████████████████████████████▉                    | 31279/47871 [11:00:51<4:40:15,  1.01s/it]"
     ]
    },
    {
     "name": "stdout",
     "output_type": "stream",
     "text": [
      "Warning: Unexpected label at index 31279: 'quantum materials'\n"
     ]
    },
    {
     "name": "stderr",
     "output_type": "stream",
     "text": [
      "Classifying:  65%|█████████████████████████████████████▉                    | 31296/47871 [11:01:07<4:15:48,  1.08it/s]"
     ]
    },
    {
     "name": "stdout",
     "output_type": "stream",
     "text": [
      "Warning: Unexpected label at index 31296: 'quantum spectroscopy'\n"
     ]
    },
    {
     "name": "stderr",
     "output_type": "stream",
     "text": [
      "Classifying:  65%|█████████████████████████████████████▉                    | 31304/47871 [11:01:14<4:28:12,  1.03it/s]"
     ]
    },
    {
     "name": "stdout",
     "output_type": "stream",
     "text": [
      "Warning: Unexpected label at index 31304: 'quantum computation'\n"
     ]
    },
    {
     "name": "stderr",
     "output_type": "stream",
     "text": [
      "Classifying:  65%|█████████████████████████████████████▉                    | 31307/47871 [11:01:17<4:21:38,  1.06it/s]"
     ]
    },
    {
     "name": "stdout",
     "output_type": "stream",
     "text": [
      "Warning: Unexpected label at index 31307: 'quantum photobiomodulation'\n"
     ]
    },
    {
     "name": "stderr",
     "output_type": "stream",
     "text": [
      "Classifying:  65%|█████████████████████████████████████▉                    | 31341/47871 [11:01:56<4:46:17,  1.04s/it]"
     ]
    },
    {
     "name": "stdout",
     "output_type": "stream",
     "text": [
      "Warning: Unexpected label at index 31341: 'quantum compression'\n"
     ]
    },
    {
     "name": "stderr",
     "output_type": "stream",
     "text": [
      "Classifying:  66%|██████████████████████████████████████                    | 31368/47871 [11:02:22<4:08:17,  1.11it/s]"
     ]
    },
    {
     "name": "stdout",
     "output_type": "stream",
     "text": [
      "Warning: Unexpected label at index 31368: 'quantum spectroscopy'\n"
     ]
    },
    {
     "name": "stderr",
     "output_type": "stream",
     "text": [
      "Classifying:  66%|██████████████████████████████████████                    | 31399/47871 [11:03:10<7:04:31,  1.55s/it]"
     ]
    },
    {
     "name": "stdout",
     "output_type": "stream",
     "text": [
      "Warning: Unexpected label at index 31399: 'quantum imaging'\n"
     ]
    },
    {
     "name": "stderr",
     "output_type": "stream",
     "text": [
      "Classifying:  66%|██████████████████████████████████████                    | 31405/47871 [11:03:17<5:27:48,  1.19s/it]"
     ]
    },
    {
     "name": "stdout",
     "output_type": "stream",
     "text": [
      "Warning: Unexpected label at index 31405: 'quantum imaging'\n"
     ]
    },
    {
     "name": "stderr",
     "output_type": "stream",
     "text": [
      "Classifying:  66%|██████████████████████████████████████                    | 31420/47871 [11:03:30<3:48:27,  1.20it/s]"
     ]
    },
    {
     "name": "stdout",
     "output_type": "stream",
     "text": [
      "Warning: Unexpected label at index 31420: 'quantum spectroscopy'\n"
     ]
    },
    {
     "name": "stderr",
     "output_type": "stream",
     "text": [
      "Classifying:  66%|██████████████████████████████████████                    | 31455/47871 [11:04:03<4:07:53,  1.10it/s]"
     ]
    },
    {
     "name": "stdout",
     "output_type": "stream",
     "text": [
      "Warning: Unexpected label at index 31455: 'quantum applications'\n"
     ]
    },
    {
     "name": "stderr",
     "output_type": "stream",
     "text": [
      "Classifying:  66%|██████████████████████████████████████▏                   | 31502/47871 [11:04:48<5:34:02,  1.22s/it]"
     ]
    },
    {
     "name": "stdout",
     "output_type": "stream",
     "text": [
      "Warning: Unexpected label at index 31502: 'quantum optics'\n"
     ]
    },
    {
     "name": "stderr",
     "output_type": "stream",
     "text": [
      "Classifying:  66%|██████████████████████████████████████▏                   | 31525/47871 [11:05:09<3:49:47,  1.19it/s]"
     ]
    },
    {
     "name": "stdout",
     "output_type": "stream",
     "text": [
      "Warning: Unexpected label at index 31525: 'quantum accessibility'\n"
     ]
    },
    {
     "name": "stderr",
     "output_type": "stream",
     "text": [
      "Classifying:  66%|██████████████████████████████████████▎                   | 31617/47871 [11:06:51<4:56:38,  1.10s/it]"
     ]
    },
    {
     "name": "stdout",
     "output_type": "stream",
     "text": [
      "Warning: Unexpected label at index 31617: 'quantum optics'\n"
     ]
    },
    {
     "name": "stderr",
     "output_type": "stream",
     "text": [
      "Classifying:  66%|██████████████████████████████████████▎                   | 31644/47871 [11:07:17<4:13:38,  1.07it/s]"
     ]
    },
    {
     "name": "stdout",
     "output_type": "stream",
     "text": [
      "Warning: Unexpected label at index 31644: 'quantum photonics'\n"
     ]
    },
    {
     "name": "stderr",
     "output_type": "stream",
     "text": [
      "Classifying:  66%|██████████████████████████████████████▎                   | 31655/47871 [11:07:28<4:19:14,  1.04it/s]"
     ]
    },
    {
     "name": "stdout",
     "output_type": "stream",
     "text": [
      "Warning: Unexpected label at index 31655: 'quantum sensor calibration'\n"
     ]
    },
    {
     "name": "stderr",
     "output_type": "stream",
     "text": [
      "Classifying:  66%|██████████████████████████████████████▎                   | 31669/47871 [11:07:41<4:25:16,  1.02it/s]"
     ]
    },
    {
     "name": "stdout",
     "output_type": "stream",
     "text": [
      "Warning: Unexpected label at index 31669: 'quantum materials'\n"
     ]
    },
    {
     "name": "stderr",
     "output_type": "stream",
     "text": [
      "Classifying:  66%|██████████████████████████████████████▍                   | 31674/47871 [11:07:46<4:40:29,  1.04s/it]"
     ]
    },
    {
     "name": "stdout",
     "output_type": "stream",
     "text": [
      "Warning: Unexpected label at index 31674: 'quantum spectroscopy'\n"
     ]
    },
    {
     "name": "stderr",
     "output_type": "stream",
     "text": [
      "Classifying:  66%|██████████████████████████████████████▍                   | 31675/47871 [11:07:47<4:20:37,  1.04it/s]"
     ]
    },
    {
     "name": "stdout",
     "output_type": "stream",
     "text": [
      "Warning: Unexpected label at index 31675: 'quantum color consistency'\n"
     ]
    },
    {
     "name": "stderr",
     "output_type": "stream",
     "text": [
      "Classifying:  66%|██████████████████████████████████████▍                   | 31682/47871 [11:07:56<6:39:03,  1.48s/it]"
     ]
    },
    {
     "name": "stdout",
     "output_type": "stream",
     "text": [
      "Warning: Unexpected label at index 31682: 'quantum materials'\n"
     ]
    },
    {
     "name": "stderr",
     "output_type": "stream",
     "text": [
      "Classifying:  66%|██████████████████████████████████████▍                   | 31684/47871 [11:07:58<5:18:49,  1.18s/it]"
     ]
    },
    {
     "name": "stdout",
     "output_type": "stream",
     "text": [
      "Warning: Unexpected label at index 31684: 'quantum materials'\n"
     ]
    },
    {
     "name": "stderr",
     "output_type": "stream",
     "text": [
      "Classifying:  66%|██████████████████████████████████████▍                   | 31687/47871 [11:08:01<4:23:16,  1.02it/s]"
     ]
    },
    {
     "name": "stdout",
     "output_type": "stream",
     "text": [
      "Warning: Unexpected label at index 31687: 'quantum random number generation'\n"
     ]
    },
    {
     "name": "stderr",
     "output_type": "stream",
     "text": [
      "Classifying:  66%|██████████████████████████████████████▍                   | 31731/47871 [11:08:52<3:47:12,  1.18it/s]"
     ]
    },
    {
     "name": "stdout",
     "output_type": "stream",
     "text": [
      "Warning: Unexpected label at index 31731: 'quantum video processing'\n"
     ]
    },
    {
     "name": "stderr",
     "output_type": "stream",
     "text": [
      "Classifying:  66%|██████████████████████████████████████▍                   | 31737/47871 [11:08:58<4:19:23,  1.04it/s]"
     ]
    },
    {
     "name": "stdout",
     "output_type": "stream",
     "text": [
      "Warning: Unexpected label at index 31737: 'quantum color consistency'\n"
     ]
    },
    {
     "name": "stderr",
     "output_type": "stream",
     "text": [
      "Classifying:  66%|██████████████████████████████████████▍                   | 31748/47871 [11:09:09<4:53:25,  1.09s/it]"
     ]
    },
    {
     "name": "stdout",
     "output_type": "stream",
     "text": [
      "Warning: Unexpected label at index 31748: 'quantum time series analysis'\n"
     ]
    },
    {
     "name": "stderr",
     "output_type": "stream",
     "text": [
      "Classifying:  66%|██████████████████████████████████████▍                   | 31775/47871 [11:09:35<4:00:20,  1.12it/s]"
     ]
    },
    {
     "name": "stdout",
     "output_type": "stream",
     "text": [
      "Warning: Unexpected label at index 31775: 'quantum random number generation'\n"
     ]
    },
    {
     "name": "stderr",
     "output_type": "stream",
     "text": [
      "Classifying:  66%|██████████████████████████████████████▌                   | 31777/47871 [11:09:38<5:50:24,  1.31s/it]"
     ]
    },
    {
     "name": "stdout",
     "output_type": "stream",
     "text": [
      "Warning: Unexpected label at index 31777: 'quantum materials'\n"
     ]
    },
    {
     "name": "stderr",
     "output_type": "stream",
     "text": [
      "Classifying:  66%|██████████████████████████████████████▌                   | 31803/47871 [11:10:04<4:20:51,  1.03it/s]"
     ]
    },
    {
     "name": "stdout",
     "output_type": "stream",
     "text": [
      "Warning: Unexpected label at index 31803: 'quantum random number generation'\n"
     ]
    },
    {
     "name": "stderr",
     "output_type": "stream",
     "text": [
      "Classifying:  66%|██████████████████████████████████████▌                   | 31828/47871 [11:10:29<4:04:32,  1.09it/s]"
     ]
    },
    {
     "name": "stdout",
     "output_type": "stream",
     "text": [
      "Warning: Unexpected label at index 31828: 'quantum optics'\n"
     ]
    },
    {
     "name": "stderr",
     "output_type": "stream",
     "text": [
      "Classifying:  67%|██████████████████████████████████████▌                   | 31837/47871 [11:10:43<9:48:28,  2.20s/it]"
     ]
    },
    {
     "name": "stdout",
     "output_type": "stream",
     "text": [
      "Warning: Unexpected label at index 31837: 'quantum automation'\n"
     ]
    },
    {
     "name": "stderr",
     "output_type": "stream",
     "text": [
      "Classifying:  67%|██████████████████████████████████████▌                   | 31842/47871 [11:10:47<4:36:38,  1.04s/it]"
     ]
    },
    {
     "name": "stdout",
     "output_type": "stream",
     "text": [
      "Warning: Unexpected label at index 31842: 'quantum materials'\n"
     ]
    },
    {
     "name": "stderr",
     "output_type": "stream",
     "text": [
      "Classifying:  67%|██████████████████████████████████████▋                   | 31925/47871 [11:12:38<4:12:06,  1.05it/s]"
     ]
    },
    {
     "name": "stdout",
     "output_type": "stream",
     "text": [
      "Warning: Unexpected label at index 31925: 'quantum optics'\n"
     ]
    },
    {
     "name": "stderr",
     "output_type": "stream",
     "text": [
      "Classifying:  67%|██████████████████████████████████████▊                   | 31997/47871 [11:13:45<3:53:54,  1.13it/s]"
     ]
    },
    {
     "name": "stdout",
     "output_type": "stream",
     "text": [
      "Warning: Unexpected label at index 31997: 'quantum imaging'\n"
     ]
    },
    {
     "name": "stderr",
     "output_type": "stream",
     "text": [
      "Classifying:  67%|██████████████████████████████████████▊                   | 31999/47871 [11:13:49<6:41:39,  1.52s/it]"
     ]
    },
    {
     "name": "stdout",
     "output_type": "stream",
     "text": [
      "→ Saved checkpoint for rows 0–32000\n"
     ]
    },
    {
     "name": "stderr",
     "output_type": "stream",
     "text": [
      "Classifying:  67%|██████████████████████████████████████▊                   | 32013/47871 [11:14:02<4:06:13,  1.07it/s]"
     ]
    },
    {
     "name": "stdout",
     "output_type": "stream",
     "text": [
      "Warning: Unexpected label at index 32013: 'quantum lighting'\n"
     ]
    },
    {
     "name": "stderr",
     "output_type": "stream",
     "text": [
      "Classifying:  67%|██████████████████████████████████████▊                   | 32029/47871 [11:14:18<4:34:21,  1.04s/it]"
     ]
    },
    {
     "name": "stdout",
     "output_type": "stream",
     "text": [
      "Warning: Unexpected label at index 32029: 'quantum lighting'\n"
     ]
    },
    {
     "name": "stderr",
     "output_type": "stream",
     "text": [
      "Classifying:  67%|██████████████████████████████████████▊                   | 32030/47871 [11:14:19<4:19:53,  1.02it/s]"
     ]
    },
    {
     "name": "stdout",
     "output_type": "stream",
     "text": [
      "Warning: Unexpected label at index 32030: 'quantum lighting'\n"
     ]
    },
    {
     "name": "stderr",
     "output_type": "stream",
     "text": [
      "Classifying:  67%|██████████████████████████████████████▉                   | 32094/47871 [11:15:25<3:52:27,  1.13it/s]"
     ]
    },
    {
     "name": "stdout",
     "output_type": "stream",
     "text": [
      "Warning: Unexpected label at index 32094: 'quantum lighting'\n"
     ]
    },
    {
     "name": "stderr",
     "output_type": "stream",
     "text": [
      "Classifying:  67%|██████████████████████████████████████▉                   | 32116/47871 [11:15:52<4:23:04,  1.00s/it]"
     ]
    },
    {
     "name": "stdout",
     "output_type": "stream",
     "text": [
      "Warning: Unexpected label at index 32116: 'quantum spectroscopy'\n"
     ]
    },
    {
     "name": "stderr",
     "output_type": "stream",
     "text": [
      "Classifying:  67%|██████████████████████████████████████▉                   | 32149/47871 [11:16:25<3:57:01,  1.11it/s]"
     ]
    },
    {
     "name": "stdout",
     "output_type": "stream",
     "text": [
      "Warning: Unexpected label at index 32149: 'quantum lighting'\n"
     ]
    },
    {
     "name": "stderr",
     "output_type": "stream",
     "text": [
      "Classifying:  67%|██████████████████████████████████████▉                   | 32165/47871 [11:16:40<4:06:02,  1.06it/s]"
     ]
    },
    {
     "name": "stdout",
     "output_type": "stream",
     "text": [
      "Warning: Unexpected label at index 32165: 'quantum imaging'\n"
     ]
    },
    {
     "name": "stderr",
     "output_type": "stream",
     "text": [
      "Classifying:  67%|██████████████████████████████████████▉                   | 32178/47871 [11:16:52<3:57:19,  1.10it/s]"
     ]
    },
    {
     "name": "stdout",
     "output_type": "stream",
     "text": [
      "Warning: Unexpected label at index 32178: 'This paper is not related to quantum computing. It is about eyewear lens attachment systems, which is not a topic covered by the available labels.'\n"
     ]
    },
    {
     "name": "stderr",
     "output_type": "stream",
     "text": [
      "Classifying:  67%|██████████████████████████████████████▉                   | 32185/47871 [11:17:05<6:33:02,  1.50s/it]"
     ]
    },
    {
     "name": "stdout",
     "output_type": "stream",
     "text": [
      "Warning: Unexpected label at index 32185: 'quantum imaging'\n"
     ]
    },
    {
     "name": "stderr",
     "output_type": "stream",
     "text": [
      "Classifying:  67%|██████████████████████████████████████▉                   | 32187/47871 [11:17:07<5:38:02,  1.29s/it]"
     ]
    },
    {
     "name": "stdout",
     "output_type": "stream",
     "text": [
      "Warning: Unexpected label at index 32187: 'quantum lighting'\n"
     ]
    },
    {
     "name": "stderr",
     "output_type": "stream",
     "text": [
      "Classifying:  67%|███████████████████████████████████████                   | 32222/47871 [11:17:40<3:56:55,  1.10it/s]"
     ]
    },
    {
     "name": "stdout",
     "output_type": "stream",
     "text": [
      "Warning: Unexpected label at index 32222: 'quantum optics'\n"
     ]
    },
    {
     "name": "stderr",
     "output_type": "stream",
     "text": [
      "Classifying:  67%|███████████████████████████████████████                   | 32235/47871 [11:17:57<6:20:49,  1.46s/it]"
     ]
    },
    {
     "name": "stdout",
     "output_type": "stream",
     "text": [
      "Warning: Unexpected label at index 32235: 'quantum optics'\n"
     ]
    },
    {
     "name": "stderr",
     "output_type": "stream",
     "text": [
      "Classifying:  67%|███████████████████████████████████████                   | 32239/47871 [11:18:02<4:58:37,  1.15s/it]"
     ]
    },
    {
     "name": "stdout",
     "output_type": "stream",
     "text": [
      "Warning: Unexpected label at index 32239: 'This paper does not appear to be related to quantum computing. The abstract describes functionality for generating reminders on a mobile device, which is not a topic typically associated with quantum computing. Therefore, I would not classify this paper under any of the provided labels.'\n"
     ]
    },
    {
     "name": "stderr",
     "output_type": "stream",
     "text": [
      "Classifying:  67%|███████████████████████████████████████                   | 32265/47871 [11:18:41<3:53:00,  1.12it/s]"
     ]
    },
    {
     "name": "stdout",
     "output_type": "stream",
     "text": [
      "Warning: Unexpected label at index 32265: 'quantum display'\n"
     ]
    },
    {
     "name": "stderr",
     "output_type": "stream",
     "text": [
      "Classifying:  67%|███████████████████████████████████████                   | 32290/47871 [11:19:06<4:18:19,  1.01it/s]"
     ]
    },
    {
     "name": "stdout",
     "output_type": "stream",
     "text": [
      "Warning: Unexpected label at index 32290: 'quantum calibration'\n"
     ]
    },
    {
     "name": "stderr",
     "output_type": "stream",
     "text": [
      "Classifying:  67%|███████████████████████████████████████▏                  | 32294/47871 [11:19:11<4:11:04,  1.03it/s]"
     ]
    },
    {
     "name": "stdout",
     "output_type": "stream",
     "text": [
      "Warning: Unexpected label at index 32294: 'quantum computer vision'\n"
     ]
    },
    {
     "name": "stderr",
     "output_type": "stream",
     "text": [
      "Classifying:  68%|███████████████████████████████████████▏                  | 32316/47871 [11:19:39<6:33:33,  1.52s/it]"
     ]
    },
    {
     "name": "stdout",
     "output_type": "stream",
     "text": [
      "Warning: Unexpected label at index 32316: 'quantum materials'\n"
     ]
    },
    {
     "name": "stderr",
     "output_type": "stream",
     "text": [
      "Classifying:  68%|███████████████████████████████████████▏                  | 32317/47871 [11:19:40<5:40:22,  1.31s/it]"
     ]
    },
    {
     "name": "stdout",
     "output_type": "stream",
     "text": [
      "Warning: Unexpected label at index 32317: 'quantum materials'\n"
     ]
    },
    {
     "name": "stderr",
     "output_type": "stream",
     "text": [
      "Classifying:  68%|███████████████████████████████████████▏                  | 32318/47871 [11:19:41<5:21:07,  1.24s/it]"
     ]
    },
    {
     "name": "stdout",
     "output_type": "stream",
     "text": [
      "Warning: Unexpected label at index 32318: 'quantum chemistry'\n"
     ]
    },
    {
     "name": "stderr",
     "output_type": "stream",
     "text": [
      "Classifying:  68%|███████████████████████████████████████▏                  | 32368/47871 [11:20:38<4:45:04,  1.10s/it]"
     ]
    },
    {
     "name": "stdout",
     "output_type": "stream",
     "text": [
      "Warning: Unexpected label at index 32368: 'quantum optoelectronics'\n"
     ]
    },
    {
     "name": "stderr",
     "output_type": "stream",
     "text": [
      "Classifying:  68%|███████████████████████████████████████▏                  | 32388/47871 [11:20:59<4:47:42,  1.11s/it]"
     ]
    },
    {
     "name": "stdout",
     "output_type": "stream",
     "text": [
      "Warning: Unexpected label at index 32388: 'quantum materials'\n"
     ]
    },
    {
     "name": "stderr",
     "output_type": "stream",
     "text": [
      "Classifying:  68%|███████████████████████████████████████▎                  | 32436/47871 [11:21:56<4:04:47,  1.05it/s]"
     ]
    },
    {
     "name": "stdout",
     "output_type": "stream",
     "text": [
      "Warning: Unexpected label at index 32436: 'quantum imaging'\n"
     ]
    },
    {
     "name": "stderr",
     "output_type": "stream",
     "text": [
      "Classifying:  68%|███████████████████████████████████████▎                  | 32438/47871 [11:21:59<4:39:16,  1.09s/it]"
     ]
    },
    {
     "name": "stdout",
     "output_type": "stream",
     "text": [
      "Warning: Unexpected label at index 32438: 'quantum materials'\n"
     ]
    },
    {
     "name": "stderr",
     "output_type": "stream",
     "text": [
      "Classifying:  68%|███████████████████████████████████████▎                  | 32453/47871 [11:22:12<3:40:30,  1.17it/s]"
     ]
    },
    {
     "name": "stdout",
     "output_type": "stream",
     "text": [
      "Warning: Unexpected label at index 32453: 'quantum imaging'\n"
     ]
    },
    {
     "name": "stderr",
     "output_type": "stream",
     "text": [
      "Classifying:  68%|███████████████████████████████████████▎                  | 32474/47871 [11:22:37<4:42:51,  1.10s/it]"
     ]
    },
    {
     "name": "stdout",
     "output_type": "stream",
     "text": [
      "Warning: Unexpected label at index 32474: 'quantum display'\n"
     ]
    },
    {
     "name": "stderr",
     "output_type": "stream",
     "text": [
      "Classifying:  68%|███████████████████████████████████████▎                  | 32477/47871 [11:22:40<4:42:35,  1.10s/it]"
     ]
    },
    {
     "name": "stdout",
     "output_type": "stream",
     "text": [
      "Warning: Unexpected label at index 32477: 'quantum materials'\n"
     ]
    },
    {
     "name": "stderr",
     "output_type": "stream",
     "text": [
      "Classifying:  68%|███████████████████████████████████████▎                  | 32490/47871 [11:22:54<4:28:56,  1.05s/it]"
     ]
    },
    {
     "name": "stdout",
     "output_type": "stream",
     "text": [
      "Warning: Unexpected label at index 32490: 'quantum computer vision'\n"
     ]
    },
    {
     "name": "stderr",
     "output_type": "stream",
     "text": [
      "Classifying:  68%|███████████████████████████████████████▎                  | 32492/47871 [11:22:55<4:06:47,  1.04it/s]"
     ]
    },
    {
     "name": "stdout",
     "output_type": "stream",
     "text": [
      "Warning: Unexpected label at index 32492: 'quantum defects'\n"
     ]
    },
    {
     "name": "stderr",
     "output_type": "stream",
     "text": [
      "Classifying:  68%|███████████████████████████████████████▍                  | 32588/47871 [11:24:31<5:17:51,  1.25s/it]"
     ]
    },
    {
     "name": "stdout",
     "output_type": "stream",
     "text": [
      "Warning: Unexpected label at index 32588: 'quantum imaging'\n"
     ]
    },
    {
     "name": "stderr",
     "output_type": "stream",
     "text": [
      "Classifying:  68%|███████████████████████████████████████▌                  | 32680/47871 [11:26:21<3:48:28,  1.11it/s]"
     ]
    },
    {
     "name": "stdout",
     "output_type": "stream",
     "text": [
      "Warning: Unexpected label at index 32680: 'quantum materials'\n"
     ]
    },
    {
     "name": "stderr",
     "output_type": "stream",
     "text": [
      "Classifying:  68%|███████████████████████████████████████▋                  | 32707/47871 [11:26:45<3:27:52,  1.22it/s]"
     ]
    },
    {
     "name": "stdout",
     "output_type": "stream",
     "text": [
      "Warning: Unexpected label at index 32707: 'quantum imaging'\n"
     ]
    },
    {
     "name": "stderr",
     "output_type": "stream",
     "text": [
      "Classifying:  68%|███████████████████████████████████████▋                  | 32708/47871 [11:26:46<3:52:11,  1.09it/s]"
     ]
    },
    {
     "name": "stdout",
     "output_type": "stream",
     "text": [
      "Warning: Unexpected label at index 32708: 'quantum imaging'\n"
     ]
    },
    {
     "name": "stderr",
     "output_type": "stream",
     "text": [
      "Classifying:  68%|███████████████████████████████████████▋                  | 32718/47871 [11:26:56<3:46:30,  1.11it/s]"
     ]
    },
    {
     "name": "stdout",
     "output_type": "stream",
     "text": [
      "Warning: Unexpected label at index 32718: 'quantum phase estimation'\n"
     ]
    },
    {
     "name": "stderr",
     "output_type": "stream",
     "text": [
      "Classifying:  68%|███████████████████████████████████████▋                  | 32720/47871 [11:26:59<4:41:41,  1.12s/it]"
     ]
    },
    {
     "name": "stdout",
     "output_type": "stream",
     "text": [
      "Warning: Unexpected label at index 32720: 'quantum imaging'\n"
     ]
    },
    {
     "name": "stderr",
     "output_type": "stream",
     "text": [
      "Classifying:  68%|███████████████████████████████████████▋                  | 32747/47871 [11:27:22<3:50:37,  1.09it/s]"
     ]
    },
    {
     "name": "stdout",
     "output_type": "stream",
     "text": [
      "Warning: Unexpected label at index 32747: 'quantum spectroscopy'\n"
     ]
    },
    {
     "name": "stderr",
     "output_type": "stream",
     "text": [
      "Classifying:  68%|███████████████████████████████████████▋                  | 32768/47871 [11:27:43<3:50:42,  1.09it/s]"
     ]
    },
    {
     "name": "stdout",
     "output_type": "stream",
     "text": [
      "Warning: Unexpected label at index 32768: 'quantum materials'\n"
     ]
    },
    {
     "name": "stderr",
     "output_type": "stream",
     "text": [
      "Classifying:  68%|███████████████████████████████████████▋                  | 32773/47871 [11:27:47<3:52:52,  1.08it/s]"
     ]
    },
    {
     "name": "stdout",
     "output_type": "stream",
     "text": [
      "Warning: Unexpected label at index 32773: 'quantum computation'\n"
     ]
    },
    {
     "name": "stderr",
     "output_type": "stream",
     "text": [
      "Classifying:  69%|███████████████████████████████████████▋                  | 32792/47871 [11:28:06<3:45:58,  1.11it/s]"
     ]
    },
    {
     "name": "stdout",
     "output_type": "stream",
     "text": [
      "Warning: Unexpected label at index 32792: 'quantum materials'\n"
     ]
    },
    {
     "name": "stderr",
     "output_type": "stream",
     "text": [
      "Classifying:  69%|███████████████████████████████████████▊                  | 32822/47871 [11:28:36<4:01:18,  1.04it/s]"
     ]
    },
    {
     "name": "stdout",
     "output_type": "stream",
     "text": [
      "Warning: Unexpected label at index 32822: 'quantum materials'\n"
     ]
    },
    {
     "name": "stderr",
     "output_type": "stream",
     "text": [
      "Classifying:  69%|███████████████████████████████████████▊                  | 32856/47871 [11:29:15<4:35:38,  1.10s/it]"
     ]
    },
    {
     "name": "stdout",
     "output_type": "stream",
     "text": [
      "Warning: Unexpected label at index 32856: 'quantum optics'\n"
     ]
    },
    {
     "name": "stderr",
     "output_type": "stream",
     "text": [
      "Classifying:  69%|███████████████████████████████████████▊                  | 32866/47871 [11:29:27<5:04:52,  1.22s/it]"
     ]
    },
    {
     "name": "stdout",
     "output_type": "stream",
     "text": [
      "Warning: Unexpected label at index 32866: 'quantum optics'\n"
     ]
    },
    {
     "name": "stderr",
     "output_type": "stream",
     "text": [
      "Classifying:  69%|███████████████████████████████████████▊                  | 32876/47871 [11:29:36<3:54:41,  1.06it/s]"
     ]
    },
    {
     "name": "stdout",
     "output_type": "stream",
     "text": [
      "Warning: Unexpected label at index 32876: 'quantum optics'\n"
     ]
    },
    {
     "name": "stderr",
     "output_type": "stream",
     "text": [
      "Classifying:  69%|███████████████████████████████████████▊                  | 32883/47871 [11:29:44<4:08:31,  1.01it/s]"
     ]
    },
    {
     "name": "stdout",
     "output_type": "stream",
     "text": [
      "Warning: Unexpected label at index 32883: 'quantum optics'\n"
     ]
    },
    {
     "name": "stderr",
     "output_type": "stream",
     "text": [
      "Classifying:  69%|███████████████████████████████████████▊                  | 32896/47871 [11:29:56<4:03:20,  1.03it/s]"
     ]
    },
    {
     "name": "stdout",
     "output_type": "stream",
     "text": [
      "Warning: Unexpected label at index 32896: 'quantum optics'\n"
     ]
    },
    {
     "name": "stderr",
     "output_type": "stream",
     "text": [
      "Classifying:  69%|███████████████████████████████████████▉                  | 32958/47871 [11:31:11<3:43:26,  1.11it/s]"
     ]
    },
    {
     "name": "stdout",
     "output_type": "stream",
     "text": [
      "Warning: Unexpected label at index 32958: 'quantum optics'\n"
     ]
    },
    {
     "name": "stderr",
     "output_type": "stream",
     "text": [
      "Classifying:  69%|███████████████████████████████████████▉                  | 32959/47871 [11:31:12<4:11:29,  1.01s/it]"
     ]
    },
    {
     "name": "stdout",
     "output_type": "stream",
     "text": [
      "Warning: Unexpected label at index 32959: 'quantum optics'\n"
     ]
    },
    {
     "name": "stderr",
     "output_type": "stream",
     "text": [
      "Classifying:  69%|███████████████████████████████████████▉                  | 32968/47871 [11:31:20<3:40:07,  1.13it/s]"
     ]
    },
    {
     "name": "stdout",
     "output_type": "stream",
     "text": [
      "Warning: Unexpected label at index 32968: 'quantum optoelectronics'\n"
     ]
    },
    {
     "name": "stderr",
     "output_type": "stream",
     "text": [
      "Classifying:  69%|████████████████████████████████████████                  | 33027/47871 [11:32:36<3:28:20,  1.19it/s]"
     ]
    },
    {
     "name": "stdout",
     "output_type": "stream",
     "text": [
      "Warning: Unexpected label at index 33027: 'quantum cache'\n"
     ]
    },
    {
     "name": "stderr",
     "output_type": "stream",
     "text": [
      "Classifying:  69%|████████████████████████████████████████                  | 33084/47871 [11:33:43<4:23:09,  1.07s/it]"
     ]
    },
    {
     "name": "stdout",
     "output_type": "stream",
     "text": [
      "Warning: Unexpected label at index 33084: 'quantum audio transducers'\n"
     ]
    },
    {
     "name": "stderr",
     "output_type": "stream",
     "text": [
      "Classifying:  69%|████████████████████████████████████████                  | 33109/47871 [11:34:07<3:44:01,  1.10it/s]"
     ]
    },
    {
     "name": "stdout",
     "output_type": "stream",
     "text": [
      "Warning: Unexpected label at index 33109: 'quantum optics'\n"
     ]
    },
    {
     "name": "stderr",
     "output_type": "stream",
     "text": [
      "Classifying:  69%|████████████████████████████████████████                  | 33114/47871 [11:34:11<3:20:58,  1.22it/s]"
     ]
    },
    {
     "name": "stdout",
     "output_type": "stream",
     "text": [
      "Warning: Unexpected label at index 33114: 'quantum energy therapeutics'\n"
     ]
    },
    {
     "name": "stderr",
     "output_type": "stream",
     "text": [
      "Classifying:  69%|████████████████████████████████████████▏                 | 33118/47871 [11:34:15<3:48:33,  1.08it/s]"
     ]
    },
    {
     "name": "stdout",
     "output_type": "stream",
     "text": [
      "Warning: Unexpected label at index 33118: 'quantum optics'\n"
     ]
    },
    {
     "name": "stderr",
     "output_type": "stream",
     "text": [
      "Classifying:  69%|████████████████████████████████████████▏                 | 33149/47871 [11:34:45<3:57:37,  1.03it/s]"
     ]
    },
    {
     "name": "stdout",
     "output_type": "stream",
     "text": [
      "Warning: Unexpected label at index 33149: 'quantum amplification'\n"
     ]
    },
    {
     "name": "stderr",
     "output_type": "stream",
     "text": [
      "Classifying:  69%|████████████████████████████████████████▏                 | 33175/47871 [11:35:15<3:59:35,  1.02it/s]"
     ]
    },
    {
     "name": "stdout",
     "output_type": "stream",
     "text": [
      "Warning: Unexpected label at index 33175: 'quantum imaging'\n"
     ]
    },
    {
     "name": "stderr",
     "output_type": "stream",
     "text": [
      "Classifying:  69%|████████████████████████████████████████▏                 | 33202/47871 [11:35:48<4:27:51,  1.10s/it]"
     ]
    },
    {
     "name": "stdout",
     "output_type": "stream",
     "text": [
      "Warning: Unexpected label at index 33202: 'quantum audio transducers'\n"
     ]
    },
    {
     "name": "stderr",
     "output_type": "stream",
     "text": [
      "Classifying:  69%|████████████████████████████████████████▏                 | 33204/47871 [11:35:50<4:15:32,  1.05s/it]"
     ]
    },
    {
     "name": "stdout",
     "output_type": "stream",
     "text": [
      "Warning: Unexpected label at index 33204: 'quantum imaging'\n"
     ]
    },
    {
     "name": "stderr",
     "output_type": "stream",
     "text": [
      "Classifying:  69%|████████████████████████████████████████▎                 | 33265/47871 [11:37:01<3:19:52,  1.22it/s]"
     ]
    },
    {
     "name": "stdout",
     "output_type": "stream",
     "text": [
      "Warning: Unexpected label at index 33265: 'quantum imaging'\n"
     ]
    },
    {
     "name": "stderr",
     "output_type": "stream",
     "text": [
      "Classifying:  70%|████████████████████████████████████████▎                 | 33293/47871 [11:37:32<4:06:37,  1.02s/it]"
     ]
    },
    {
     "name": "stdout",
     "output_type": "stream",
     "text": [
      "Warning: Unexpected label at index 33293: 'quantum imaging'\n"
     ]
    },
    {
     "name": "stderr",
     "output_type": "stream",
     "text": [
      "Classifying:  70%|████████████████████████████████████████▎                 | 33302/47871 [11:37:40<3:33:20,  1.14it/s]"
     ]
    },
    {
     "name": "stdout",
     "output_type": "stream",
     "text": [
      "Warning: Unexpected label at index 33302: 'The given paper does not appear to be related to quantum computing. The abstract describes an \"ear horn assembly for headworn computer\", which is a mechanical engineering topic rather than quantum computing. Therefore, this paper cannot be classified under any of the available labels related to quantum computing.'\n"
     ]
    },
    {
     "name": "stderr",
     "output_type": "stream",
     "text": [
      "Classifying:  70%|████████████████████████████████████████▌                 | 33482/47871 [11:41:00<3:48:29,  1.05it/s]"
     ]
    },
    {
     "name": "stdout",
     "output_type": "stream",
     "text": [
      "Warning: Unexpected label at index 33482: 'quantum materials'\n"
     ]
    },
    {
     "name": "stderr",
     "output_type": "stream",
     "text": [
      "Classifying:  70%|████████████████████████████████████████▌                 | 33497/47871 [11:41:14<3:46:52,  1.06it/s]"
     ]
    },
    {
     "name": "stdout",
     "output_type": "stream",
     "text": [
      "Warning: Unexpected label at index 33497: 'quantum topology'\n"
     ]
    },
    {
     "name": "stderr",
     "output_type": "stream",
     "text": [
      "Classifying:  70%|████████████████████████████████████████▌                 | 33512/47871 [11:41:27<3:12:38,  1.24it/s]"
     ]
    },
    {
     "name": "stdout",
     "output_type": "stream",
     "text": [
      "Warning: Unexpected label at index 33512: 'quantum imaging'\n"
     ]
    },
    {
     "name": "stderr",
     "output_type": "stream",
     "text": [
      "Classifying:  70%|████████████████████████████████████████▌                 | 33523/47871 [11:41:37<3:49:41,  1.04it/s]"
     ]
    },
    {
     "name": "stdout",
     "output_type": "stream",
     "text": [
      "Warning: Unexpected label at index 33523: 'This paper does not appear to be related to quantum computing. The abstract discusses a solid polymer composition containing luminescent crystals, which is not a topic typically associated with quantum computing. Therefore, the most appropriate label for this paper is quantum computing.'\n"
     ]
    },
    {
     "name": "stderr",
     "output_type": "stream",
     "text": [
      "Classifying:  70%|████████████████████████████████████████▌                 | 33526/47871 [11:41:40<3:46:57,  1.05it/s]"
     ]
    },
    {
     "name": "stdout",
     "output_type": "stream",
     "text": [
      "Warning: Unexpected label at index 33526: 'quantum optics'\n"
     ]
    },
    {
     "name": "stderr",
     "output_type": "stream",
     "text": [
      "Classifying:  70%|████████████████████████████████████████▋                 | 33602/47871 [11:43:05<4:28:55,  1.13s/it]"
     ]
    },
    {
     "name": "stdout",
     "output_type": "stream",
     "text": [
      "Warning: Unexpected label at index 33602: 'quantum materials'\n"
     ]
    },
    {
     "name": "stderr",
     "output_type": "stream",
     "text": [
      "Classifying:  70%|████████████████████████████████████████▋                 | 33622/47871 [11:43:23<3:22:27,  1.17it/s]"
     ]
    },
    {
     "name": "stdout",
     "output_type": "stream",
     "text": [
      "Warning: Unexpected label at index 33622: 'quantum compression'\n"
     ]
    },
    {
     "name": "stderr",
     "output_type": "stream",
     "text": [
      "Classifying:  70%|████████████████████████████████████████▋                 | 33623/47871 [11:43:24<4:01:10,  1.02s/it]"
     ]
    },
    {
     "name": "stdout",
     "output_type": "stream",
     "text": [
      "Warning: Unexpected label at index 33623: 'quantum spectroscopy'\n"
     ]
    },
    {
     "name": "stderr",
     "output_type": "stream",
     "text": [
      "Classifying:  70%|████████████████████████████████████████▊                 | 33654/47871 [11:44:04<6:17:50,  1.59s/it]"
     ]
    },
    {
     "name": "stdout",
     "output_type": "stream",
     "text": [
      "Warning: Unexpected label at index 33654: 'quantum optics'\n"
     ]
    },
    {
     "name": "stderr",
     "output_type": "stream",
     "text": [
      "Classifying:  70%|████████████████████████████████████████▊                 | 33719/47871 [11:45:09<6:44:05,  1.71s/it]"
     ]
    },
    {
     "name": "stdout",
     "output_type": "stream",
     "text": [
      "Warning: Unexpected label at index 33719: 'quantum imaging'\n"
     ]
    },
    {
     "name": "stderr",
     "output_type": "stream",
     "text": [
      "Classifying:  70%|████████████████████████████████████████▊                 | 33733/47871 [11:45:28<4:15:11,  1.08s/it]"
     ]
    },
    {
     "name": "stdout",
     "output_type": "stream",
     "text": [
      "Warning: Unexpected label at index 33733: 'quantum imaging'\n"
     ]
    },
    {
     "name": "stderr",
     "output_type": "stream",
     "text": [
      "Classifying:  70%|████████████████████████████████████████▊                 | 33734/47871 [11:45:29<3:54:09,  1.01it/s]"
     ]
    },
    {
     "name": "stdout",
     "output_type": "stream",
     "text": [
      "Warning: Unexpected label at index 33734: 'quantum random number generation'\n"
     ]
    },
    {
     "name": "stderr",
     "output_type": "stream",
     "text": [
      "Classifying:  71%|████████████████████████████████████████▉                 | 33769/47871 [11:46:07<3:40:11,  1.07it/s]"
     ]
    },
    {
     "name": "stdout",
     "output_type": "stream",
     "text": [
      "Warning: Unexpected label at index 33769: 'quantum imaging'\n"
     ]
    },
    {
     "name": "stderr",
     "output_type": "stream",
     "text": [
      "Classifying:  71%|████████████████████████████████████████▉                 | 33816/47871 [11:47:22<4:29:52,  1.15s/it]"
     ]
    },
    {
     "name": "stdout",
     "output_type": "stream",
     "text": [
      "Warning: Unexpected label at index 33816: 'quantum spectroscopy'\n"
     ]
    },
    {
     "name": "stderr",
     "output_type": "stream",
     "text": [
      "Classifying:  71%|████████████████████████████████████████▉                 | 33834/47871 [11:47:38<3:58:41,  1.02s/it]"
     ]
    },
    {
     "name": "stdout",
     "output_type": "stream",
     "text": [
      "Warning: Unexpected label at index 33834: 'quantum compression'\n"
     ]
    },
    {
     "name": "stderr",
     "output_type": "stream",
     "text": [
      "Classifying:  71%|█████████████████████████████████████████                 | 33840/47871 [11:47:43<3:27:56,  1.12it/s]"
     ]
    },
    {
     "name": "stdout",
     "output_type": "stream",
     "text": [
      "Warning: Unexpected label at index 33840: 'quantum spectroscopy'\n"
     ]
    },
    {
     "name": "stderr",
     "output_type": "stream",
     "text": [
      "Classifying:  71%|█████████████████████████████████████████                 | 33860/47871 [11:48:02<3:52:24,  1.00it/s]"
     ]
    },
    {
     "name": "stdout",
     "output_type": "stream",
     "text": [
      "Warning: Unexpected label at index 33860: 'quantum spectroscopy'\n"
     ]
    },
    {
     "name": "stderr",
     "output_type": "stream",
     "text": [
      "Classifying:  71%|█████████████████████████████████████████                 | 33885/47871 [11:48:25<3:33:44,  1.09it/s]"
     ]
    },
    {
     "name": "stdout",
     "output_type": "stream",
     "text": [
      "Warning: Unexpected label at index 33885: 'quantum motion detection'\n"
     ]
    },
    {
     "name": "stderr",
     "output_type": "stream",
     "text": [
      "Classifying:  71%|█████████████████████████████████████████                 | 33886/47871 [11:48:26<3:24:55,  1.14it/s]"
     ]
    },
    {
     "name": "stdout",
     "output_type": "stream",
     "text": [
      "Warning: Unexpected label at index 33886: 'quantum applications'\n"
     ]
    },
    {
     "name": "stderr",
     "output_type": "stream",
     "text": [
      "Classifying:  71%|█████████████████████████████████████████                 | 33890/47871 [11:48:30<3:33:17,  1.09it/s]"
     ]
    },
    {
     "name": "stdout",
     "output_type": "stream",
     "text": [
      "Warning: Unexpected label at index 33890: 'quantum random number generation'\n"
     ]
    },
    {
     "name": "stderr",
     "output_type": "stream",
     "text": [
      "Classifying:  71%|█████████████████████████████████████████                 | 33908/47871 [11:48:51<4:53:51,  1.26s/it]"
     ]
    },
    {
     "name": "stdout",
     "output_type": "stream",
     "text": [
      "Error at index 33908: HTTPSConnectionPool(host='openrouter.ai', port=443): Max retries exceeded with url: /api/v1/chat/completions (Caused by ConnectTimeoutError(<urllib3.connection.HTTPSConnection object at 0x000002A4834FE500>, 'Connection to openrouter.ai timed out. (connect timeout=30)'))\n"
     ]
    },
    {
     "name": "stderr",
     "output_type": "stream",
     "text": [
      "Classifying:  71%|████████████████████████████████████████▍                | 33913/47871 [11:49:48<21:47:35,  5.62s/it]"
     ]
    },
    {
     "name": "stdout",
     "output_type": "stream",
     "text": [
      "Warning: Unexpected label at index 33913: 'quantum music analysis'\n"
     ]
    },
    {
     "name": "stderr",
     "output_type": "stream",
     "text": [
      "Classifying:  71%|█████████████████████████████████████████▏                | 33961/47871 [11:51:06<3:48:59,  1.01it/s]"
     ]
    },
    {
     "name": "stdout",
     "output_type": "stream",
     "text": [
      "Warning: Unexpected label at index 33961: 'The paper does not appear to be related to quantum computing. It describes a thermal management structure for a device, which is not a topic covered by the available labels. Therefore, there is no appropriate label for this paper from the list provided.'\n"
     ]
    },
    {
     "name": "stderr",
     "output_type": "stream",
     "text": [
      "Classifying:  71%|█████████████████████████████████████████▏                | 33985/47871 [11:51:35<3:54:26,  1.01s/it]"
     ]
    },
    {
     "name": "stdout",
     "output_type": "stream",
     "text": [
      "Warning: Unexpected label at index 33985: 'quantum imaging'\n"
     ]
    },
    {
     "name": "stderr",
     "output_type": "stream",
     "text": [
      "Classifying:  71%|█████████████████████████████████████████▏                | 34039/47871 [11:52:51<3:29:56,  1.10it/s]"
     ]
    },
    {
     "name": "stdout",
     "output_type": "stream",
     "text": [
      "Warning: Unexpected label at index 34039: 'quantum workflow'\n"
     ]
    },
    {
     "name": "stderr",
     "output_type": "stream",
     "text": [
      "Classifying:  71%|█████████████████████████████████████████▎                | 34058/47871 [11:53:07<3:04:52,  1.25it/s]"
     ]
    },
    {
     "name": "stdout",
     "output_type": "stream",
     "text": [
      "Warning: Unexpected label at index 34058: 'quantum imaging'\n"
     ]
    },
    {
     "name": "stderr",
     "output_type": "stream",
     "text": [
      "Classifying:  71%|█████████████████████████████████████████▎                | 34060/47871 [11:53:09<3:08:16,  1.22it/s]"
     ]
    },
    {
     "name": "stdout",
     "output_type": "stream",
     "text": [
      "Warning: Unexpected label at index 34060: 'quantum imaging'\n"
     ]
    },
    {
     "name": "stderr",
     "output_type": "stream",
     "text": [
      "Classifying:  71%|█████████████████████████████████████████▎                | 34061/47871 [11:53:10<3:08:15,  1.22it/s]"
     ]
    },
    {
     "name": "stdout",
     "output_type": "stream",
     "text": [
      "Warning: Unexpected label at index 34061: 'quantum imaging'\n"
     ]
    },
    {
     "name": "stderr",
     "output_type": "stream",
     "text": [
      "Classifying:  71%|█████████████████████████████████████████▎                | 34064/47871 [11:53:12<3:28:15,  1.10it/s]"
     ]
    },
    {
     "name": "stdout",
     "output_type": "stream",
     "text": [
      "Warning: Unexpected label at index 34064: 'quantum imaging'\n"
     ]
    },
    {
     "name": "stderr",
     "output_type": "stream",
     "text": [
      "Classifying:  71%|█████████████████████████████████████████▎                | 34073/47871 [11:53:21<3:21:13,  1.14it/s]"
     ]
    },
    {
     "name": "stdout",
     "output_type": "stream",
     "text": [
      "Warning: Unexpected label at index 34073: 'This paper does not appear to be related to quantum computing. The topic is about a thermal management structure with an integrated heat sink, which is a classical engineering problem. Therefore, the appropriate label for this paper is:\n",
      "\n",
      "quantum computing'\n"
     ]
    },
    {
     "name": "stderr",
     "output_type": "stream",
     "text": [
      "Classifying:  71%|█████████████████████████████████████████▎                | 34110/47871 [11:54:14<4:10:04,  1.09s/it]"
     ]
    },
    {
     "name": "stdout",
     "output_type": "stream",
     "text": [
      "Warning: Unexpected label at index 34110: 'quantum optics'\n"
     ]
    },
    {
     "name": "stderr",
     "output_type": "stream",
     "text": [
      "Classifying:  71%|█████████████████████████████████████████▎                | 34139/47871 [11:54:45<3:20:05,  1.14it/s]"
     ]
    },
    {
     "name": "stdout",
     "output_type": "stream",
     "text": [
      "Warning: Unexpected label at index 34139: 'quantum optics'\n"
     ]
    },
    {
     "name": "stderr",
     "output_type": "stream",
     "text": [
      "Classifying:  71%|█████████████████████████████████████████▍                | 34215/47871 [11:56:15<3:32:48,  1.07it/s]"
     ]
    },
    {
     "name": "stdout",
     "output_type": "stream",
     "text": [
      "Warning: Unexpected label at index 34215: 'quantum materials'\n"
     ]
    },
    {
     "name": "stderr",
     "output_type": "stream",
     "text": [
      "Classifying:  72%|█████████████████████████████████████████▍                | 34228/47871 [11:56:27<3:19:08,  1.14it/s]"
     ]
    },
    {
     "name": "stdout",
     "output_type": "stream",
     "text": [
      "Warning: Unexpected label at index 34228: 'quantum materials'\n"
     ]
    },
    {
     "name": "stderr",
     "output_type": "stream",
     "text": [
      "Classifying:  72%|█████████████████████████████████████████▍                | 34234/47871 [11:56:34<4:09:07,  1.10s/it]"
     ]
    },
    {
     "name": "stdout",
     "output_type": "stream",
     "text": [
      "Warning: Unexpected label at index 34234: 'quantum gates'\n"
     ]
    },
    {
     "name": "stderr",
     "output_type": "stream",
     "text": [
      "Classifying:  72%|█████████████████████████████████████████▍                | 34246/47871 [11:56:46<3:51:02,  1.02s/it]"
     ]
    },
    {
     "name": "stdout",
     "output_type": "stream",
     "text": [
      "Warning: Unexpected label at index 34246: 'quantum materials'\n"
     ]
    },
    {
     "name": "stderr",
     "output_type": "stream",
     "text": [
      "Classifying:  72%|█████████████████████████████████████████▌                | 34254/47871 [11:57:00<8:31:46,  2.25s/it]"
     ]
    },
    {
     "name": "stdout",
     "output_type": "stream",
     "text": [
      "Warning: Unexpected label at index 34254: 'quantum imaging'\n"
     ]
    },
    {
     "name": "stderr",
     "output_type": "stream",
     "text": [
      "Classifying:  72%|█████████████████████████████████████████▌                | 34257/47871 [11:57:02<4:58:21,  1.31s/it]"
     ]
    },
    {
     "name": "stdout",
     "output_type": "stream",
     "text": [
      "Warning: Unexpected label at index 34257: 'quantum materials'\n"
     ]
    },
    {
     "name": "stderr",
     "output_type": "stream",
     "text": [
      "Classifying:  72%|█████████████████████████████████████████▌                | 34279/47871 [11:57:23<3:31:02,  1.07it/s]"
     ]
    },
    {
     "name": "stdout",
     "output_type": "stream",
     "text": [
      "Warning: Unexpected label at index 34279: 'quantum materials'\n"
     ]
    },
    {
     "name": "stderr",
     "output_type": "stream",
     "text": [
      "Classifying:  72%|█████████████████████████████████████████▌                | 34311/47871 [11:57:52<3:25:51,  1.10it/s]"
     ]
    },
    {
     "name": "stdout",
     "output_type": "stream",
     "text": [
      "Warning: Unexpected label at index 34311: 'quantum optics'\n"
     ]
    },
    {
     "name": "stderr",
     "output_type": "stream",
     "text": [
      "Classifying:  72%|█████████████████████████████████████████▌                | 34315/47871 [11:57:56<3:41:02,  1.02it/s]"
     ]
    },
    {
     "name": "stdout",
     "output_type": "stream",
     "text": [
      "Warning: Unexpected label at index 34315: 'quantum materials'\n"
     ]
    },
    {
     "name": "stderr",
     "output_type": "stream",
     "text": [
      "Classifying:  72%|█████████████████████████████████████████▌                | 34319/47871 [11:58:00<3:22:21,  1.12it/s]"
     ]
    },
    {
     "name": "stdout",
     "output_type": "stream",
     "text": [
      "Warning: Unexpected label at index 34319: 'quantum chemistry'\n"
     ]
    },
    {
     "name": "stderr",
     "output_type": "stream",
     "text": [
      "Classifying:  72%|█████████████████████████████████████████▌                | 34325/47871 [11:58:05<3:26:57,  1.09it/s]"
     ]
    },
    {
     "name": "stdout",
     "output_type": "stream",
     "text": [
      "Error at index 34325: ('Connection aborted.', RemoteDisconnected('Remote end closed connection without response'))\n"
     ]
    },
    {
     "name": "stderr",
     "output_type": "stream",
     "text": [
      "Classifying:  72%|█████████████████████████████████████████▌                | 34336/47871 [11:58:41<4:09:08,  1.10s/it]"
     ]
    },
    {
     "name": "stdout",
     "output_type": "stream",
     "text": [
      "Warning: Unexpected label at index 34336: 'quantum computation'\n"
     ]
    },
    {
     "name": "stderr",
     "output_type": "stream",
     "text": [
      "Classifying:  72%|█████████████████████████████████████████▌                | 34341/47871 [11:58:46<3:28:11,  1.08it/s]"
     ]
    },
    {
     "name": "stdout",
     "output_type": "stream",
     "text": [
      "Warning: Unexpected label at index 34341: 'quantum applications'\n"
     ]
    },
    {
     "name": "stderr",
     "output_type": "stream",
     "text": [
      "Classifying:  72%|█████████████████████████████████████████▋                | 34371/47871 [11:59:29<5:12:45,  1.39s/it]"
     ]
    },
    {
     "name": "stdout",
     "output_type": "stream",
     "text": [
      "Warning: Unexpected label at index 34371: 'quantum materials'\n"
     ]
    },
    {
     "name": "stderr",
     "output_type": "stream",
     "text": [
      "Classifying:  72%|█████████████████████████████████████████▋                | 34456/47871 [12:01:37<3:19:34,  1.12it/s]"
     ]
    },
    {
     "name": "stdout",
     "output_type": "stream",
     "text": [
      "Warning: Unexpected label at index 34456: 'quantum scheduling'\n"
     ]
    },
    {
     "name": "stderr",
     "output_type": "stream",
     "text": [
      "Classifying:  72%|█████████████████████████████████████████▋                | 34458/47871 [12:01:39<3:24:16,  1.09it/s]"
     ]
    },
    {
     "name": "stdout",
     "output_type": "stream",
     "text": [
      "Warning: Unexpected label at index 34458: 'quantum energy harvesting'\n"
     ]
    },
    {
     "name": "stderr",
     "output_type": "stream",
     "text": [
      "Classifying:  72%|█████████████████████████████████████████▊                | 34473/47871 [12:01:59<5:35:39,  1.50s/it]"
     ]
    },
    {
     "name": "stdout",
     "output_type": "stream",
     "text": [
      "Warning: Unexpected label at index 34473: 'No label is applicable to the given paper. The paper appears to be about audio systems for head-worn computers, which is not related to quantum computing.'\n"
     ]
    },
    {
     "name": "stderr",
     "output_type": "stream",
     "text": [
      "Classifying:  72%|█████████████████████████████████████████▊                | 34479/47871 [12:02:04<3:32:29,  1.05it/s]"
     ]
    },
    {
     "name": "stdout",
     "output_type": "stream",
     "text": [
      "Warning: Unexpected label at index 34479: 'quantum spectroscopy'\n"
     ]
    },
    {
     "name": "stderr",
     "output_type": "stream",
     "text": [
      "Classifying:  72%|█████████████████████████████████████████▊                | 34498/47871 [12:02:27<4:59:47,  1.35s/it]"
     ]
    },
    {
     "name": "stdout",
     "output_type": "stream",
     "text": [
      "Error at index 34498: ('Connection aborted.', RemoteDisconnected('Remote end closed connection without response'))\n"
     ]
    },
    {
     "name": "stderr",
     "output_type": "stream",
     "text": [
      "Classifying:  72%|█████████████████████████████████████████▉                | 34566/47871 [12:04:57<3:30:31,  1.05it/s]"
     ]
    },
    {
     "name": "stdout",
     "output_type": "stream",
     "text": [
      "Warning: Unexpected label at index 34566: 'quantum random data'\n"
     ]
    },
    {
     "name": "stderr",
     "output_type": "stream",
     "text": [
      "Classifying:  72%|█████████████████████████████████████████▉                | 34569/47871 [12:04:59<3:20:26,  1.11it/s]"
     ]
    },
    {
     "name": "stdout",
     "output_type": "stream",
     "text": [
      "Warning: Unexpected label at index 34569: 'quantum display'\n"
     ]
    },
    {
     "name": "stderr",
     "output_type": "stream",
     "text": [
      "Classifying:  72%|█████████████████████████████████████████▉                | 34571/47871 [12:05:01<3:20:24,  1.11it/s]"
     ]
    },
    {
     "name": "stdout",
     "output_type": "stream",
     "text": [
      "Warning: Unexpected label at index 34571: 'quantum materials'\n"
     ]
    },
    {
     "name": "stderr",
     "output_type": "stream",
     "text": [
      "Classifying:  72%|█████████████████████████████████████████▉                | 34593/47871 [12:05:21<3:10:26,  1.16it/s]"
     ]
    },
    {
     "name": "stdout",
     "output_type": "stream",
     "text": [
      "Warning: Unexpected label at index 34593: 'quantum optics'\n"
     ]
    },
    {
     "name": "stderr",
     "output_type": "stream",
     "text": [
      "Classifying:  72%|█████████████████████████████████████████▉                | 34603/47871 [12:05:36<3:30:26,  1.05it/s]"
     ]
    },
    {
     "name": "stdout",
     "output_type": "stream",
     "text": [
      "Warning: Unexpected label at index 34603: 'quantum optics'\n"
     ]
    },
    {
     "name": "stderr",
     "output_type": "stream",
     "text": [
      "Classifying:  72%|██████████████████████████████████████████                | 34679/47871 [12:06:47<3:17:04,  1.12it/s]"
     ]
    },
    {
     "name": "stdout",
     "output_type": "stream",
     "text": [
      "Warning: Unexpected label at index 34679: 'quantum materials'\n"
     ]
    },
    {
     "name": "stderr",
     "output_type": "stream",
     "text": [
      "Classifying:  73%|██████████████████████████████████████████                | 34707/47871 [12:07:20<3:07:55,  1.17it/s]"
     ]
    },
    {
     "name": "stdout",
     "output_type": "stream",
     "text": [
      "Warning: Unexpected label at index 34707: 'quantum optics'\n"
     ]
    },
    {
     "name": "stderr",
     "output_type": "stream",
     "text": [
      "Classifying:  73%|██████████████████████████████████████████                | 34730/47871 [12:07:41<3:57:44,  1.09s/it]"
     ]
    },
    {
     "name": "stdout",
     "output_type": "stream",
     "text": [
      "Warning: Unexpected label at index 34730: 'quantum materials'\n"
     ]
    },
    {
     "name": "stderr",
     "output_type": "stream",
     "text": [
      "Classifying:  73%|██████████████████████████████████████████▏               | 34794/47871 [12:08:46<3:21:25,  1.08it/s]"
     ]
    },
    {
     "name": "stdout",
     "output_type": "stream",
     "text": [
      "Warning: Unexpected label at index 34794: 'quantum estimation'\n"
     ]
    },
    {
     "name": "stderr",
     "output_type": "stream",
     "text": [
      "Classifying:  73%|██████████████████████████████████████████▏               | 34822/47871 [12:09:26<4:00:34,  1.11s/it]"
     ]
    },
    {
     "name": "stdout",
     "output_type": "stream",
     "text": [
      "Warning: Unexpected label at index 34822: 'quantum imaging'\n"
     ]
    },
    {
     "name": "stderr",
     "output_type": "stream",
     "text": [
      "Classifying:  73%|██████████████████████████████████████████▏               | 34852/47871 [12:09:51<3:01:59,  1.19it/s]"
     ]
    },
    {
     "name": "stdout",
     "output_type": "stream",
     "text": [
      "Warning: Unexpected label at index 34852: 'quantum display'\n"
     ]
    },
    {
     "name": "stderr",
     "output_type": "stream",
     "text": [
      "Classifying:  73%|██████████████████████████████████████████▎               | 34911/47871 [12:10:56<3:20:31,  1.08it/s]"
     ]
    },
    {
     "name": "stdout",
     "output_type": "stream",
     "text": [
      "Warning: Unexpected label at index 34911: 'quantum imaging'\n"
     ]
    },
    {
     "name": "stderr",
     "output_type": "stream",
     "text": [
      "Classifying:  73%|██████████████████████████████████████████▎               | 34938/47871 [12:11:42<5:46:29,  1.61s/it]"
     ]
    },
    {
     "name": "stdout",
     "output_type": "stream",
     "text": [
      "Warning: Unexpected label at index 34938: 'quantum imaging'\n"
     ]
    },
    {
     "name": "stderr",
     "output_type": "stream",
     "text": [
      "Classifying:  73%|██████████████████████████████████████████▍               | 34979/47871 [12:12:39<5:14:17,  1.46s/it]"
     ]
    },
    {
     "name": "stdout",
     "output_type": "stream",
     "text": [
      "Warning: Unexpected label at index 34979: 'quantum applications'\n"
     ]
    },
    {
     "name": "stderr",
     "output_type": "stream",
     "text": [
      "Classifying:  73%|██████████████████████████████████████████▍               | 35016/47871 [12:13:24<3:41:19,  1.03s/it]"
     ]
    },
    {
     "name": "stdout",
     "output_type": "stream",
     "text": [
      "Warning: Unexpected label at index 35016: 'quantum materials'\n"
     ]
    },
    {
     "name": "stderr",
     "output_type": "stream",
     "text": [
      "Classifying:  73%|██████████████████████████████████████████▍               | 35018/47871 [12:13:25<3:15:53,  1.09it/s]"
     ]
    },
    {
     "name": "stdout",
     "output_type": "stream",
     "text": [
      "Warning: Unexpected label at index 35018: 'quantum compression'\n"
     ]
    },
    {
     "name": "stderr",
     "output_type": "stream",
     "text": [
      "Classifying:  73%|██████████████████████████████████████████▍               | 35065/47871 [12:14:15<6:01:27,  1.69s/it]"
     ]
    },
    {
     "name": "stdout",
     "output_type": "stream",
     "text": [
      "Warning: Unexpected label at index 35065: 'quantum optoelectronics'\n"
     ]
    },
    {
     "name": "stderr",
     "output_type": "stream",
     "text": [
      "Classifying:  73%|██████████████████████████████████████████▌               | 35096/47871 [12:15:13<5:50:21,  1.65s/it]"
     ]
    },
    {
     "name": "stdout",
     "output_type": "stream",
     "text": [
      "Warning: Unexpected label at index 35096: 'quantum optics'\n"
     ]
    },
    {
     "name": "stderr",
     "output_type": "stream",
     "text": [
      "Classifying:  73%|██████████████████████████████████████████▌               | 35152/47871 [12:16:19<9:24:49,  2.66s/it]"
     ]
    },
    {
     "name": "stdout",
     "output_type": "stream",
     "text": [
      "Warning: Unexpected label at index 35152: 'quantum display'\n"
     ]
    },
    {
     "name": "stderr",
     "output_type": "stream",
     "text": [
      "Classifying:  73%|██████████████████████████████████████████▌               | 35158/47871 [12:16:31<8:51:42,  2.51s/it]"
     ]
    },
    {
     "name": "stdout",
     "output_type": "stream",
     "text": [
      "Warning: Unexpected label at index 35158: 'quantum compression'\n"
     ]
    },
    {
     "name": "stderr",
     "output_type": "stream",
     "text": [
      "Classifying:  74%|██████████████████████████████████████████▋               | 35190/47871 [12:17:01<3:09:53,  1.11it/s]"
     ]
    },
    {
     "name": "stdout",
     "output_type": "stream",
     "text": [
      "Warning: Unexpected label at index 35190: 'quantum testing'\n"
     ]
    },
    {
     "name": "stderr",
     "output_type": "stream",
     "text": [
      "Classifying:  74%|██████████████████████████████████████████▋               | 35199/47871 [12:17:10<3:57:09,  1.12s/it]"
     ]
    },
    {
     "name": "stdout",
     "output_type": "stream",
     "text": [
      "Warning: Unexpected label at index 35199: 'quantum spectroscopy'\n"
     ]
    },
    {
     "name": "stderr",
     "output_type": "stream",
     "text": [
      "Classifying:  74%|██████████████████████████████████████████▋               | 35231/47871 [12:17:55<5:25:26,  1.54s/it]"
     ]
    },
    {
     "name": "stdout",
     "output_type": "stream",
     "text": [
      "Warning: Unexpected label at index 35231: 'quantum materials'\n"
     ]
    },
    {
     "name": "stderr",
     "output_type": "stream",
     "text": [
      "Classifying:  74%|██████████████████████████████████████████▋               | 35242/47871 [12:18:06<3:18:08,  1.06it/s]"
     ]
    },
    {
     "name": "stdout",
     "output_type": "stream",
     "text": [
      "Warning: Unexpected label at index 35242: 'No label from the provided list seems relevant to the given paper. The paper appears to be about thermal management for head-worn computers, which is not directly related to quantum computing.'\n"
     ]
    },
    {
     "name": "stderr",
     "output_type": "stream",
     "text": [
      "Classifying:  74%|██████████████████████████████████████████▋               | 35249/47871 [12:18:13<3:14:54,  1.08it/s]"
     ]
    },
    {
     "name": "stdout",
     "output_type": "stream",
     "text": [
      "Warning: Unexpected label at index 35249: 'quantum spectroscopy'\n"
     ]
    },
    {
     "name": "stderr",
     "output_type": "stream",
     "text": [
      "Classifying:  74%|██████████████████████████████████████████▋               | 35259/47871 [12:18:23<4:15:38,  1.22s/it]"
     ]
    },
    {
     "name": "stdout",
     "output_type": "stream",
     "text": [
      "Warning: Unexpected label at index 35259: 'No label from the provided list seems to be a good fit for the given paper. The paper appears to be focused on thermal management for head-worn computers, which is not a topic covered by the provided labels which are focused on quantum computing and quantum information science.'\n"
     ]
    },
    {
     "name": "stderr",
     "output_type": "stream",
     "text": [
      "Classifying:  74%|██████████████████████████████████████████▋               | 35273/47871 [12:18:37<3:58:35,  1.14s/it]"
     ]
    },
    {
     "name": "stdout",
     "output_type": "stream",
     "text": [
      "Warning: Unexpected label at index 35273: 'quantum optics'\n"
     ]
    },
    {
     "name": "stderr",
     "output_type": "stream",
     "text": [
      "Classifying:  74%|██████████████████████████████████████████▋               | 35277/47871 [12:18:41<3:20:16,  1.05it/s]"
     ]
    },
    {
     "name": "stdout",
     "output_type": "stream",
     "text": [
      "Warning: Unexpected label at index 35277: 'quantum interference'\n"
     ]
    },
    {
     "name": "stderr",
     "output_type": "stream",
     "text": [
      "Classifying:  74%|██████████████████████████████████████████▊               | 35329/47871 [12:19:29<2:55:11,  1.19it/s]"
     ]
    },
    {
     "name": "stdout",
     "output_type": "stream",
     "text": [
      "Warning: Unexpected label at index 35329: 'quantum audio processing'\n"
     ]
    },
    {
     "name": "stderr",
     "output_type": "stream",
     "text": [
      "Classifying:  74%|██████████████████████████████████████████▊               | 35342/47871 [12:19:46<7:23:53,  2.13s/it]"
     ]
    },
    {
     "name": "stdout",
     "output_type": "stream",
     "text": [
      "Warning: Unexpected label at index 35342: 'quantum optics'\n"
     ]
    },
    {
     "name": "stderr",
     "output_type": "stream",
     "text": [
      "Classifying:  74%|██████████████████████████████████████████▊               | 35343/47871 [12:19:47<6:05:01,  1.75s/it]"
     ]
    },
    {
     "name": "stdout",
     "output_type": "stream",
     "text": [
      "Warning: Unexpected label at index 35343: 'quantum entanglement'\n"
     ]
    },
    {
     "name": "stderr",
     "output_type": "stream",
     "text": [
      "Classifying:  74%|██████████████████████████████████████████▊               | 35352/47871 [12:19:56<4:00:13,  1.15s/it]"
     ]
    },
    {
     "name": "stdout",
     "output_type": "stream",
     "text": [
      "Warning: Unexpected label at index 35352: 'quantum optics'\n"
     ]
    },
    {
     "name": "stderr",
     "output_type": "stream",
     "text": [
      "Classifying:  74%|██████████████████████████████████████████▊               | 35357/47871 [12:20:01<3:09:10,  1.10it/s]"
     ]
    },
    {
     "name": "stdout",
     "output_type": "stream",
     "text": [
      "Warning: Unexpected label at index 35357: 'quantum materials'\n"
     ]
    },
    {
     "name": "stderr",
     "output_type": "stream",
     "text": [
      "Classifying:  74%|██████████████████████████████████████████▉               | 35395/47871 [12:20:49<3:42:20,  1.07s/it]"
     ]
    },
    {
     "name": "stdout",
     "output_type": "stream",
     "text": [
      "Warning: Unexpected label at index 35395: 'quantum entanglement'\n"
     ]
    },
    {
     "name": "stderr",
     "output_type": "stream",
     "text": [
      "Classifying:  74%|██████████████████████████████████████████▉               | 35400/47871 [12:20:53<3:05:09,  1.12it/s]"
     ]
    },
    {
     "name": "stdout",
     "output_type": "stream",
     "text": [
      "Warning: Unexpected label at index 35400: 'quantum random number generation'\n"
     ]
    },
    {
     "name": "stderr",
     "output_type": "stream",
     "text": [
      "Classifying:  74%|██████████████████████████████████████████▉               | 35478/47871 [12:22:18<2:59:43,  1.15it/s]"
     ]
    },
    {
     "name": "stdout",
     "output_type": "stream",
     "text": [
      "Warning: Unexpected label at index 35478: 'quantum applications'\n"
     ]
    },
    {
     "name": "stderr",
     "output_type": "stream",
     "text": [
      "Classifying:  74%|███████████████████████████████████████████               | 35494/47871 [12:22:32<3:17:40,  1.04it/s]"
     ]
    },
    {
     "name": "stdout",
     "output_type": "stream",
     "text": [
      "Warning: Unexpected label at index 35494: 'quantum scatter estimation'\n"
     ]
    },
    {
     "name": "stderr",
     "output_type": "stream",
     "text": [
      "Classifying:  74%|███████████████████████████████████████████               | 35517/47871 [12:22:53<3:43:58,  1.09s/it]"
     ]
    },
    {
     "name": "stdout",
     "output_type": "stream",
     "text": [
      "Warning: Unexpected label at index 35517: 'quantum display'\n"
     ]
    },
    {
     "name": "stderr",
     "output_type": "stream",
     "text": [
      "Classifying:  74%|███████████████████████████████████████████               | 35535/47871 [12:23:09<2:53:03,  1.19it/s]"
     ]
    },
    {
     "name": "stdout",
     "output_type": "stream",
     "text": [
      "Warning: Unexpected label at index 35535: 'quantum computation'\n"
     ]
    },
    {
     "name": "stderr",
     "output_type": "stream",
     "text": [
      "Classifying:  74%|███████████████████████████████████████████▏              | 35605/47871 [12:24:20<3:27:27,  1.01s/it]"
     ]
    },
    {
     "name": "stdout",
     "output_type": "stream",
     "text": [
      "Warning: Unexpected label at index 35605: 'quantum error detection'\n"
     ]
    },
    {
     "name": "stderr",
     "output_type": "stream",
     "text": [
      "Classifying:  74%|███████████████████████████████████████████▏              | 35617/47871 [12:24:38<3:39:12,  1.07s/it]"
     ]
    },
    {
     "name": "stdout",
     "output_type": "stream",
     "text": [
      "Warning: Unexpected label at index 35617: 'quantum display'\n"
     ]
    },
    {
     "name": "stderr",
     "output_type": "stream",
     "text": [
      "Classifying:  74%|███████████████████████████████████████████▏              | 35623/47871 [12:24:44<3:06:49,  1.09it/s]"
     ]
    },
    {
     "name": "stdout",
     "output_type": "stream",
     "text": [
      "Warning: Unexpected label at index 35623: 'quantum imaging'\n"
     ]
    },
    {
     "name": "stderr",
     "output_type": "stream",
     "text": [
      "Classifying:  74%|███████████████████████████████████████████▏              | 35655/47871 [12:25:16<3:20:51,  1.01it/s]"
     ]
    },
    {
     "name": "stdout",
     "output_type": "stream",
     "text": [
      "Warning: Unexpected label at index 35655: 'quantum materials'\n"
     ]
    },
    {
     "name": "stderr",
     "output_type": "stream",
     "text": [
      "Classifying:  75%|███████████████████████████████████████████▏              | 35673/47871 [12:25:32<2:40:43,  1.26it/s]"
     ]
    },
    {
     "name": "stdout",
     "output_type": "stream",
     "text": [
      "Warning: Unexpected label at index 35673: 'quantum materials'\n"
     ]
    },
    {
     "name": "stderr",
     "output_type": "stream",
     "text": [
      "Classifying:  75%|███████████████████████████████████████████▎              | 35700/47871 [12:26:02<3:39:31,  1.08s/it]"
     ]
    },
    {
     "name": "stdout",
     "output_type": "stream",
     "text": [
      "Warning: Unexpected label at index 35700: 'quantum error detection'\n"
     ]
    },
    {
     "name": "stderr",
     "output_type": "stream",
     "text": [
      "Classifying:  75%|███████████████████████████████████████████▎              | 35744/47871 [12:26:50<3:40:25,  1.09s/it]"
     ]
    },
    {
     "name": "stdout",
     "output_type": "stream",
     "text": [
      "Warning: Unexpected label at index 35744: 'quantum random number generation'\n"
     ]
    },
    {
     "name": "stderr",
     "output_type": "stream",
     "text": [
      "Classifying:  75%|███████████████████████████████████████████▎              | 35758/47871 [12:27:02<2:44:30,  1.23it/s]"
     ]
    },
    {
     "name": "stdout",
     "output_type": "stream",
     "text": [
      "Warning: Unexpected label at index 35758: 'quantum energy conversion'\n"
     ]
    },
    {
     "name": "stderr",
     "output_type": "stream",
     "text": [
      "Classifying:  75%|███████████████████████████████████████████▍              | 35824/47871 [12:28:09<3:11:58,  1.05it/s]"
     ]
    },
    {
     "name": "stdout",
     "output_type": "stream",
     "text": [
      "Warning: Unexpected label at index 35824: 'quantum energy conversion'\n"
     ]
    },
    {
     "name": "stderr",
     "output_type": "stream",
     "text": [
      "Classifying:  75%|███████████████████████████████████████████▍              | 35832/47871 [12:28:16<3:05:56,  1.08it/s]"
     ]
    },
    {
     "name": "stdout",
     "output_type": "stream",
     "text": [
      "Warning: Unexpected label at index 35832: 'This paper does not appear to be related to quantum computing. The abstract discusses a solid polymer composition containing luminescent crystals, which is not a topic within the field of quantum computing. Therefore, the appropriate label for this paper is:\n",
      "\n",
      "quantum computing'\n"
     ]
    },
    {
     "name": "stderr",
     "output_type": "stream",
     "text": [
      "Classifying:  75%|███████████████████████████████████████████▍              | 35834/47871 [12:28:18<3:05:26,  1.08it/s]"
     ]
    },
    {
     "name": "stdout",
     "output_type": "stream",
     "text": [
      "Warning: Unexpected label at index 35834: 'quantum energy conversion'\n"
     ]
    },
    {
     "name": "stderr",
     "output_type": "stream",
     "text": [
      "Classifying:  75%|███████████████████████████████████████████▍              | 35836/47871 [12:28:20<3:02:37,  1.10it/s]"
     ]
    },
    {
     "name": "stdout",
     "output_type": "stream",
     "text": [
      "Warning: Unexpected label at index 35836: 'quantum energy harvesting'\n"
     ]
    },
    {
     "name": "stderr",
     "output_type": "stream",
     "text": [
      "Classifying:  75%|███████████████████████████████████████████▍              | 35837/47871 [12:28:21<2:53:52,  1.15it/s]"
     ]
    },
    {
     "name": "stdout",
     "output_type": "stream",
     "text": [
      "Warning: Unexpected label at index 35837: 'quantum energy conversion'\n"
     ]
    },
    {
     "name": "stderr",
     "output_type": "stream",
     "text": [
      "Classifying:  75%|███████████████████████████████████████████▍              | 35849/47871 [12:28:39<3:53:11,  1.16s/it]"
     ]
    },
    {
     "name": "stdout",
     "output_type": "stream",
     "text": [
      "Warning: Unexpected label at index 35849: 'quantum energy conversion'\n"
     ]
    },
    {
     "name": "stderr",
     "output_type": "stream",
     "text": [
      "Classifying:  75%|███████████████████████████████████████████▍              | 35850/47871 [12:28:39<3:34:39,  1.07s/it]"
     ]
    },
    {
     "name": "stdout",
     "output_type": "stream",
     "text": [
      "Warning: Unexpected label at index 35850: 'quantum energy harvesting'\n"
     ]
    },
    {
     "name": "stderr",
     "output_type": "stream",
     "text": [
      "Classifying:  75%|███████████████████████████████████████████▍              | 35870/47871 [12:28:59<3:08:23,  1.06it/s]"
     ]
    },
    {
     "name": "stdout",
     "output_type": "stream",
     "text": [
      "Warning: Unexpected label at index 35870: 'quantum energy harvesting'\n"
     ]
    },
    {
     "name": "stderr",
     "output_type": "stream",
     "text": [
      "Classifying:  75%|███████████████████████████████████████████▍              | 35881/47871 [12:29:09<3:13:49,  1.03it/s]"
     ]
    },
    {
     "name": "stdout",
     "output_type": "stream",
     "text": [
      "Warning: Unexpected label at index 35881: 'quantum energy conversion'\n"
     ]
    },
    {
     "name": "stderr",
     "output_type": "stream",
     "text": [
      "Classifying:  75%|███████████████████████████████████████████▍              | 35882/47871 [12:29:10<3:02:45,  1.09it/s]"
     ]
    },
    {
     "name": "stdout",
     "output_type": "stream",
     "text": [
      "Warning: Unexpected label at index 35882: 'quantum energy harvesting'\n"
     ]
    },
    {
     "name": "stderr",
     "output_type": "stream",
     "text": [
      "Classifying:  75%|███████████████████████████████████████████▌              | 35909/47871 [12:29:47<3:03:47,  1.08it/s]"
     ]
    },
    {
     "name": "stdout",
     "output_type": "stream",
     "text": [
      "Warning: Unexpected label at index 35909: 'quantum optics'\n"
     ]
    },
    {
     "name": "stderr",
     "output_type": "stream",
     "text": [
      "Classifying:  75%|███████████████████████████████████████████▌              | 35929/47871 [12:30:13<2:53:16,  1.15it/s]"
     ]
    },
    {
     "name": "stdout",
     "output_type": "stream",
     "text": [
      "Warning: Unexpected label at index 35929: 'semiconductor structures'\n"
     ]
    },
    {
     "name": "stderr",
     "output_type": "stream",
     "text": [
      "Classifying:  75%|███████████████████████████████████████████▌              | 35940/47871 [12:30:24<3:42:50,  1.12s/it]"
     ]
    },
    {
     "name": "stdout",
     "output_type": "stream",
     "text": [
      "Warning: Unexpected label at index 35940: 'quantum applications'\n"
     ]
    },
    {
     "name": "stderr",
     "output_type": "stream",
     "text": [
      "Classifying:  75%|███████████████████████████████████████████▌              | 35947/47871 [12:30:31<3:31:47,  1.07s/it]"
     ]
    },
    {
     "name": "stdout",
     "output_type": "stream",
     "text": [
      "Warning: Unexpected label at index 35947: 'quantum optoelectronics'\n"
     ]
    },
    {
     "name": "stderr",
     "output_type": "stream",
     "text": [
      "Classifying:  75%|███████████████████████████████████████████▌              | 35966/47871 [12:31:03<3:18:18,  1.00it/s]"
     ]
    },
    {
     "name": "stdout",
     "output_type": "stream",
     "text": [
      "Warning: Unexpected label at index 35966: 'quantum energy conversion'\n"
     ]
    },
    {
     "name": "stderr",
     "output_type": "stream",
     "text": [
      "Classifying:  75%|███████████████████████████████████████████▌              | 35973/47871 [12:31:10<3:37:42,  1.10s/it]"
     ]
    },
    {
     "name": "stdout",
     "output_type": "stream",
     "text": [
      "Warning: Unexpected label at index 35973: 'quantum optoelectronics'\n"
     ]
    },
    {
     "name": "stderr",
     "output_type": "stream",
     "text": [
      "Classifying:  75%|███████████████████████████████████████████▌              | 35974/47871 [12:31:11<3:48:51,  1.15s/it]"
     ]
    },
    {
     "name": "stdout",
     "output_type": "stream",
     "text": [
      "Warning: Unexpected label at index 35974: 'quantum sequencing'\n"
     ]
    },
    {
     "name": "stderr",
     "output_type": "stream",
     "text": [
      "Classifying:  75%|███████████████████████████████████████████▌              | 35999/47871 [12:31:42<3:26:33,  1.04s/it]"
     ]
    },
    {
     "name": "stdout",
     "output_type": "stream",
     "text": [
      "→ Saved checkpoint for rows 0–36000\n"
     ]
    },
    {
     "name": "stderr",
     "output_type": "stream",
     "text": [
      "Classifying:  75%|███████████████████████████████████████████▌              | 36005/47871 [12:31:49<3:41:23,  1.12s/it]"
     ]
    },
    {
     "name": "stdout",
     "output_type": "stream",
     "text": [
      "Warning: Unexpected label at index 36005: 'quantum optics'\n"
     ]
    },
    {
     "name": "stderr",
     "output_type": "stream",
     "text": [
      "Classifying:  75%|███████████████████████████████████████████▋              | 36007/47871 [12:31:51<3:23:30,  1.03s/it]"
     ]
    },
    {
     "name": "stdout",
     "output_type": "stream",
     "text": [
      "Warning: Unexpected label at index 36007: 'quantum materials'\n"
     ]
    },
    {
     "name": "stderr",
     "output_type": "stream",
     "text": [
      "Classifying:  75%|███████████████████████████████████████████▋              | 36015/47871 [12:31:58<3:09:51,  1.04it/s]"
     ]
    },
    {
     "name": "stdout",
     "output_type": "stream",
     "text": [
      "Warning: Unexpected label at index 36015: 'quantum energy harvesting'\n"
     ]
    },
    {
     "name": "stderr",
     "output_type": "stream",
     "text": [
      "Classifying:  75%|███████████████████████████████████████████▋              | 36016/47871 [12:31:59<3:02:48,  1.08it/s]"
     ]
    },
    {
     "name": "stdout",
     "output_type": "stream",
     "text": [
      "Warning: Unexpected label at index 36016: 'quantum energy conversion'\n"
     ]
    },
    {
     "name": "stderr",
     "output_type": "stream",
     "text": [
      "Classifying:  75%|███████████████████████████████████████████▋              | 36018/47871 [12:32:01<3:01:16,  1.09it/s]"
     ]
    },
    {
     "name": "stdout",
     "output_type": "stream",
     "text": [
      "Warning: Unexpected label at index 36018: 'quantum energy harvesting'\n"
     ]
    },
    {
     "name": "stderr",
     "output_type": "stream",
     "text": [
      "Classifying:  75%|███████████████████████████████████████████▋              | 36038/47871 [12:32:26<3:16:10,  1.01it/s]"
     ]
    },
    {
     "name": "stdout",
     "output_type": "stream",
     "text": [
      "Warning: Unexpected label at index 36038: 'quantum detection'\n"
     ]
    },
    {
     "name": "stderr",
     "output_type": "stream",
     "text": [
      "Classifying:  75%|███████████████████████████████████████████▋              | 36039/47871 [12:32:27<3:21:40,  1.02s/it]"
     ]
    },
    {
     "name": "stdout",
     "output_type": "stream",
     "text": [
      "Warning: Unexpected label at index 36039: 'quantum energy conversion'\n"
     ]
    },
    {
     "name": "stderr",
     "output_type": "stream",
     "text": [
      "Classifying:  75%|███████████████████████████████████████████▋              | 36041/47871 [12:32:29<3:08:25,  1.05it/s]"
     ]
    },
    {
     "name": "stdout",
     "output_type": "stream",
     "text": [
      "Warning: Unexpected label at index 36041: 'quantum energy conversion'\n"
     ]
    },
    {
     "name": "stderr",
     "output_type": "stream",
     "text": [
      "Classifying:  75%|███████████████████████████████████████████▋              | 36092/47871 [12:33:19<2:44:17,  1.19it/s]"
     ]
    },
    {
     "name": "stdout",
     "output_type": "stream",
     "text": [
      "Warning: Unexpected label at index 36092: 'quantum materials'\n"
     ]
    },
    {
     "name": "stderr",
     "output_type": "stream",
     "text": [
      "Classifying:  75%|███████████████████████████████████████████▊              | 36121/47871 [12:33:47<3:18:02,  1.01s/it]"
     ]
    },
    {
     "name": "stdout",
     "output_type": "stream",
     "text": [
      "Warning: Unexpected label at index 36121: 'quantum materials'\n"
     ]
    },
    {
     "name": "stderr",
     "output_type": "stream",
     "text": [
      "Classifying:  75%|███████████████████████████████████████████▊              | 36132/47871 [12:33:58<3:10:02,  1.03it/s]"
     ]
    },
    {
     "name": "stdout",
     "output_type": "stream",
     "text": [
      "Warning: Unexpected label at index 36131: 'quantum materials'\n"
     ]
    },
    {
     "name": "stderr",
     "output_type": "stream",
     "text": [
      "Classifying:  76%|███████████████████████████████████████████▊              | 36163/47871 [12:34:36<3:07:45,  1.04it/s]"
     ]
    },
    {
     "name": "stdout",
     "output_type": "stream",
     "text": [
      "Warning: Unexpected label at index 36163: 'quantum energy harvesting'\n"
     ]
    },
    {
     "name": "stderr",
     "output_type": "stream",
     "text": [
      "Classifying:  76%|███████████████████████████████████████████▊              | 36165/47871 [12:34:37<2:49:51,  1.15it/s]"
     ]
    },
    {
     "name": "stdout",
     "output_type": "stream",
     "text": [
      "Warning: Unexpected label at index 36165: 'quantum energy harvesting'\n"
     ]
    },
    {
     "name": "stderr",
     "output_type": "stream",
     "text": [
      "Classifying:  76%|███████████████████████████████████████████▊              | 36167/47871 [12:34:45<7:05:58,  2.18s/it]"
     ]
    },
    {
     "name": "stdout",
     "output_type": "stream",
     "text": [
      "Warning: Unexpected label at index 36167: 'quantum applications'\n"
     ]
    },
    {
     "name": "stderr",
     "output_type": "stream",
     "text": [
      "Classifying:  76%|███████████████████████████████████████████▊              | 36178/47871 [12:34:56<3:14:25,  1.00it/s]"
     ]
    },
    {
     "name": "stdout",
     "output_type": "stream",
     "text": [
      "Warning: Unexpected label at index 36178: 'quantum display'\n"
     ]
    },
    {
     "name": "stderr",
     "output_type": "stream",
     "text": [
      "Classifying:  76%|███████████████████████████████████████████              | 36183/47871 [12:35:12<10:09:46,  3.13s/it]"
     ]
    },
    {
     "name": "stdout",
     "output_type": "stream",
     "text": [
      "Error at index 36183: HTTPSConnectionPool(host='openrouter.ai', port=443): Max retries exceeded with url: /api/v1/chat/completions (Caused by NameResolutionError(\"<urllib3.connection.HTTPSConnection object at 0x000002A4834FCB50>: Failed to resolve 'openrouter.ai' ([Errno 11001] getaddrinfo failed)\"))\n"
     ]
    },
    {
     "name": "stderr",
     "output_type": "stream",
     "text": [
      "Classifying:  76%|███████████████████████████████████████████              | 36184/47871 [12:35:24<18:06:49,  5.58s/it]"
     ]
    },
    {
     "name": "stdout",
     "output_type": "stream",
     "text": [
      "Error at index 36184: HTTPSConnectionPool(host='openrouter.ai', port=443): Max retries exceeded with url: /api/v1/chat/completions (Caused by NameResolutionError(\"<urllib3.connection.HTTPSConnection object at 0x000002A4834FC9A0>: Failed to resolve 'openrouter.ai' ([Errno 11001] getaddrinfo failed)\"))\n"
     ]
    },
    {
     "name": "stderr",
     "output_type": "stream",
     "text": [
      "Classifying:  76%|███████████████████████████████████████████▊              | 36186/47871 [12:35:24<9:13:35,  2.84s/it]"
     ]
    },
    {
     "name": "stdout",
     "output_type": "stream",
     "text": [
      "Error at index 36185: HTTPSConnectionPool(host='openrouter.ai', port=443): Max retries exceeded with url: /api/v1/chat/completions (Caused by NameResolutionError(\"<urllib3.connection.HTTPSConnection object at 0x000002A4836D4430>: Failed to resolve 'openrouter.ai' ([Errno 11001] getaddrinfo failed)\"))\n"
     ]
    },
    {
     "name": "stderr",
     "output_type": "stream",
     "text": [
      "Classifying:  76%|███████████████████████████████████████████▊              | 36187/47871 [12:35:24<6:39:23,  2.05s/it]"
     ]
    },
    {
     "name": "stdout",
     "output_type": "stream",
     "text": [
      "Error at index 36186: HTTPSConnectionPool(host='openrouter.ai', port=443): Max retries exceeded with url: /api/v1/chat/completions (Caused by NameResolutionError(\"<urllib3.connection.HTTPSConnection object at 0x000002A4834FC640>: Failed to resolve 'openrouter.ai' ([Errno 11001] getaddrinfo failed)\"))\n",
      "Error at index 36187: HTTPSConnectionPool(host='openrouter.ai', port=443): Max retries exceeded with url: /api/v1/chat/completions (Caused by NameResolutionError(\"<urllib3.connection.HTTPSConnection object at 0x000002A4834FD1B0>: Failed to resolve 'openrouter.ai' ([Errno 11001] getaddrinfo failed)\"))\n"
     ]
    },
    {
     "name": "stderr",
     "output_type": "stream",
     "text": [
      "Classifying:  76%|███████████████████████████████████████████▊              | 36189/47871 [12:35:25<3:37:02,  1.11s/it]"
     ]
    },
    {
     "name": "stdout",
     "output_type": "stream",
     "text": [
      "Error at index 36188: HTTPSConnectionPool(host='openrouter.ai', port=443): Max retries exceeded with url: /api/v1/chat/completions (Caused by NameResolutionError(\"<urllib3.connection.HTTPSConnection object at 0x000002A4834FD720>: Failed to resolve 'openrouter.ai' ([Errno 11001] getaddrinfo failed)\"))\n"
     ]
    },
    {
     "name": "stderr",
     "output_type": "stream",
     "text": [
      "Classifying:  76%|███████████████████████████████████████████▊              | 36190/47871 [12:35:25<2:44:33,  1.18it/s]"
     ]
    },
    {
     "name": "stdout",
     "output_type": "stream",
     "text": [
      "Error at index 36189: HTTPSConnectionPool(host='openrouter.ai', port=443): Max retries exceeded with url: /api/v1/chat/completions (Caused by NameResolutionError(\"<urllib3.connection.HTTPSConnection object at 0x000002A483B04A00>: Failed to resolve 'openrouter.ai' ([Errno 11001] getaddrinfo failed)\"))\n"
     ]
    },
    {
     "name": "stderr",
     "output_type": "stream",
     "text": [
      "Classifying:  76%|███████████████████████████████████████████▊              | 36191/47871 [12:35:25<2:07:43,  1.52it/s]"
     ]
    },
    {
     "name": "stdout",
     "output_type": "stream",
     "text": [
      "Error at index 36190: HTTPSConnectionPool(host='openrouter.ai', port=443): Max retries exceeded with url: /api/v1/chat/completions (Caused by NameResolutionError(\"<urllib3.connection.HTTPSConnection object at 0x000002A4836D48B0>: Failed to resolve 'openrouter.ai' ([Errno 11001] getaddrinfo failed)\"))\n"
     ]
    },
    {
     "name": "stderr",
     "output_type": "stream",
     "text": [
      "Classifying:  76%|███████████████████████████████████████████▊              | 36192/47871 [12:35:25<1:41:11,  1.92it/s]"
     ]
    },
    {
     "name": "stdout",
     "output_type": "stream",
     "text": [
      "Error at index 36191: HTTPSConnectionPool(host='openrouter.ai', port=443): Max retries exceeded with url: /api/v1/chat/completions (Caused by NameResolutionError(\"<urllib3.connection.HTTPSConnection object at 0x000002A4836D4BB0>: Failed to resolve 'openrouter.ai' ([Errno 11001] getaddrinfo failed)\"))\n"
     ]
    },
    {
     "name": "stderr",
     "output_type": "stream",
     "text": [
      "Classifying:  76%|███████████████████████████████████████████▊              | 36193/47871 [12:35:26<1:22:35,  2.36it/s]"
     ]
    },
    {
     "name": "stdout",
     "output_type": "stream",
     "text": [
      "Error at index 36192: HTTPSConnectionPool(host='openrouter.ai', port=443): Max retries exceeded with url: /api/v1/chat/completions (Caused by NameResolutionError(\"<urllib3.connection.HTTPSConnection object at 0x000002A48298C790>: Failed to resolve 'openrouter.ai' ([Errno 11001] getaddrinfo failed)\"))\n"
     ]
    },
    {
     "name": "stderr",
     "output_type": "stream",
     "text": [
      "Classifying:  76%|███████████████████████████████████████████▊              | 36194/47871 [12:35:26<1:09:40,  2.79it/s]"
     ]
    },
    {
     "name": "stdout",
     "output_type": "stream",
     "text": [
      "Error at index 36193: HTTPSConnectionPool(host='openrouter.ai', port=443): Max retries exceeded with url: /api/v1/chat/completions (Caused by NameResolutionError(\"<urllib3.connection.HTTPSConnection object at 0x000002A4834FC6A0>: Failed to resolve 'openrouter.ai' ([Errno 11001] getaddrinfo failed)\"))\n"
     ]
    },
    {
     "name": "stderr",
     "output_type": "stream",
     "text": [
      "Classifying:  76%|███████████████████████████████████████████▊              | 36195/47871 [12:35:26<1:01:07,  3.18it/s]"
     ]
    },
    {
     "name": "stdout",
     "output_type": "stream",
     "text": [
      "Error at index 36194: HTTPSConnectionPool(host='openrouter.ai', port=443): Max retries exceeded with url: /api/v1/chat/completions (Caused by NameResolutionError(\"<urllib3.connection.HTTPSConnection object at 0x000002A4834FF5E0>: Failed to resolve 'openrouter.ai' ([Errno 11001] getaddrinfo failed)\"))\n",
      "Error at index 36195: HTTPSConnectionPool(host='openrouter.ai', port=443): Max retries exceeded with url: /api/v1/chat/completions (Caused by NameResolutionError(\"<urllib3.connection.HTTPSConnection object at 0x000002A4834FCCD0>: Failed to resolve 'openrouter.ai' ([Errno 11001] getaddrinfo failed)\"))\n"
     ]
    },
    {
     "name": "stderr",
     "output_type": "stream",
     "text": [
      "Classifying:  76%|█████████████████████████████████████████████▎              | 36196/47871 [12:35:26<54:45,  3.55it/s]"
     ]
    },
    {
     "name": "stdout",
     "output_type": "stream",
     "text": [
      "Error at index 36196: HTTPSConnectionPool(host='openrouter.ai', port=443): Max retries exceeded with url: /api/v1/chat/completions (Caused by NameResolutionError(\"<urllib3.connection.HTTPSConnection object at 0x000002A4836D03D0>: Failed to resolve 'openrouter.ai' ([Errno 11001] getaddrinfo failed)\"))\n"
     ]
    },
    {
     "name": "stderr",
     "output_type": "stream",
     "text": [
      "Classifying:  76%|█████████████████████████████████████████████▎              | 36198/47871 [12:35:27<47:18,  4.11it/s]"
     ]
    },
    {
     "name": "stdout",
     "output_type": "stream",
     "text": [
      "Error at index 36197: HTTPSConnectionPool(host='openrouter.ai', port=443): Max retries exceeded with url: /api/v1/chat/completions (Caused by NameResolutionError(\"<urllib3.connection.HTTPSConnection object at 0x000002A4834FD030>: Failed to resolve 'openrouter.ai' ([Errno 11001] getaddrinfo failed)\"))\n"
     ]
    },
    {
     "name": "stderr",
     "output_type": "stream",
     "text": [
      "Classifying:  76%|█████████████████████████████████████████████▎              | 36199/47871 [12:35:27<45:03,  4.32it/s]"
     ]
    },
    {
     "name": "stdout",
     "output_type": "stream",
     "text": [
      "Error at index 36198: HTTPSConnectionPool(host='openrouter.ai', port=443): Max retries exceeded with url: /api/v1/chat/completions (Caused by NameResolutionError(\"<urllib3.connection.HTTPSConnection object at 0x000002A4834FD000>: Failed to resolve 'openrouter.ai' ([Errno 11001] getaddrinfo failed)\"))\n"
     ]
    },
    {
     "name": "stderr",
     "output_type": "stream",
     "text": [
      "Classifying:  76%|█████████████████████████████████████████████▎              | 36200/47871 [12:35:27<43:52,  4.43it/s]"
     ]
    },
    {
     "name": "stdout",
     "output_type": "stream",
     "text": [
      "Error at index 36199: HTTPSConnectionPool(host='openrouter.ai', port=443): Max retries exceeded with url: /api/v1/chat/completions (Caused by NameResolutionError(\"<urllib3.connection.HTTPSConnection object at 0x000002A4834FD360>: Failed to resolve 'openrouter.ai' ([Errno 11001] getaddrinfo failed)\"))\n",
      "Error at index 36200: HTTPSConnectionPool(host='openrouter.ai', port=443): Max retries exceeded with url: /api/v1/chat/completions (Caused by NameResolutionError(\"<urllib3.connection.HTTPSConnection object at 0x000002A4834FF550>: Failed to resolve 'openrouter.ai' ([Errno 11001] getaddrinfo failed)\"))\n"
     ]
    },
    {
     "name": "stderr",
     "output_type": "stream",
     "text": [
      "Classifying:  76%|█████████████████████████████████████████████▎              | 36202/47871 [12:35:27<42:14,  4.60it/s]"
     ]
    },
    {
     "name": "stdout",
     "output_type": "stream",
     "text": [
      "Error at index 36201: HTTPSConnectionPool(host='openrouter.ai', port=443): Max retries exceeded with url: /api/v1/chat/completions (Caused by NameResolutionError(\"<urllib3.connection.HTTPSConnection object at 0x000002A483527BB0>: Failed to resolve 'openrouter.ai' ([Errno 11001] getaddrinfo failed)\"))\n"
     ]
    },
    {
     "name": "stderr",
     "output_type": "stream",
     "text": [
      "Classifying:  76%|█████████████████████████████████████████████▍              | 36203/47871 [12:35:28<42:10,  4.61it/s]"
     ]
    },
    {
     "name": "stdout",
     "output_type": "stream",
     "text": [
      "Error at index 36202: HTTPSConnectionPool(host='openrouter.ai', port=443): Max retries exceeded with url: /api/v1/chat/completions (Caused by NameResolutionError(\"<urllib3.connection.HTTPSConnection object at 0x000002A4836D0BB0>: Failed to resolve 'openrouter.ai' ([Errno 11001] getaddrinfo failed)\"))\n"
     ]
    },
    {
     "name": "stderr",
     "output_type": "stream",
     "text": [
      "Classifying:  76%|█████████████████████████████████████████████▍              | 36204/47871 [12:35:28<41:20,  4.70it/s]"
     ]
    },
    {
     "name": "stdout",
     "output_type": "stream",
     "text": [
      "Error at index 36203: HTTPSConnectionPool(host='openrouter.ai', port=443): Max retries exceeded with url: /api/v1/chat/completions (Caused by NameResolutionError(\"<urllib3.connection.HTTPSConnection object at 0x000002A483B05750>: Failed to resolve 'openrouter.ai' ([Errno 11001] getaddrinfo failed)\"))\n"
     ]
    },
    {
     "name": "stderr",
     "output_type": "stream",
     "text": [
      "Classifying:  76%|█████████████████████████████████████████████▍              | 36205/47871 [12:35:28<41:27,  4.69it/s]"
     ]
    },
    {
     "name": "stdout",
     "output_type": "stream",
     "text": [
      "Error at index 36204: HTTPSConnectionPool(host='openrouter.ai', port=443): Max retries exceeded with url: /api/v1/chat/completions (Caused by NameResolutionError(\"<urllib3.connection.HTTPSConnection object at 0x000002A4834FF2E0>: Failed to resolve 'openrouter.ai' ([Errno 11001] getaddrinfo failed)\"))\n"
     ]
    },
    {
     "name": "stderr",
     "output_type": "stream",
     "text": [
      "Classifying:  76%|█████████████████████████████████████████████▍              | 36206/47871 [12:35:28<41:00,  4.74it/s]"
     ]
    },
    {
     "name": "stdout",
     "output_type": "stream",
     "text": [
      "Error at index 36205: HTTPSConnectionPool(host='openrouter.ai', port=443): Max retries exceeded with url: /api/v1/chat/completions (Caused by NameResolutionError(\"<urllib3.connection.HTTPSConnection object at 0x000002A4834FE2C0>: Failed to resolve 'openrouter.ai' ([Errno 11001] getaddrinfo failed)\"))\n",
      "Error at index 36206: HTTPSConnectionPool(host='openrouter.ai', port=443): Max retries exceeded with url: /api/v1/chat/completions (Caused by NameResolutionError(\"<urllib3.connection.HTTPSConnection object at 0x000002A4834FC670>: Failed to resolve 'openrouter.ai' ([Errno 11001] getaddrinfo failed)\"))\n"
     ]
    },
    {
     "name": "stderr",
     "output_type": "stream",
     "text": [
      "Classifying:  76%|█████████████████████████████████████████████▍              | 36207/47871 [12:35:29<41:02,  4.74it/s]"
     ]
    },
    {
     "name": "stdout",
     "output_type": "stream",
     "text": [
      "Error at index 36207: HTTPSConnectionPool(host='openrouter.ai', port=443): Max retries exceeded with url: /api/v1/chat/completions (Caused by NameResolutionError(\"<urllib3.connection.HTTPSConnection object at 0x000002A4834FCB80>: Failed to resolve 'openrouter.ai' ([Errno 11001] getaddrinfo failed)\"))\n"
     ]
    },
    {
     "name": "stderr",
     "output_type": "stream",
     "text": [
      "Classifying:  76%|███████████████████████████████████████████▊              | 36209/47871 [12:35:40<8:12:29,  2.53s/it]"
     ]
    },
    {
     "name": "stdout",
     "output_type": "stream",
     "text": [
      "Error at index 36208: HTTPSConnectionPool(host='openrouter.ai', port=443): Max retries exceeded with url: /api/v1/chat/completions (Caused by NameResolutionError(\"<urllib3.connection.HTTPSConnection object at 0x000002A4836D0040>: Failed to resolve 'openrouter.ai' ([Errno 11001] getaddrinfo failed)\"))\n"
     ]
    },
    {
     "name": "stderr",
     "output_type": "stream",
     "text": [
      "Classifying:  76%|███████████████████████████████████████████▊              | 36210/47871 [12:35:40<5:57:23,  1.84s/it]"
     ]
    },
    {
     "name": "stdout",
     "output_type": "stream",
     "text": [
      "Error at index 36209: HTTPSConnectionPool(host='openrouter.ai', port=443): Max retries exceeded with url: /api/v1/chat/completions (Caused by NameResolutionError(\"<urllib3.connection.HTTPSConnection object at 0x000002A4834FCE50>: Failed to resolve 'openrouter.ai' ([Errno 11001] getaddrinfo failed)\"))\n"
     ]
    },
    {
     "name": "stderr",
     "output_type": "stream",
     "text": [
      "Classifying:  76%|███████████████████████████████████████████▊              | 36211/47871 [12:35:40<4:22:00,  1.35s/it]"
     ]
    },
    {
     "name": "stdout",
     "output_type": "stream",
     "text": [
      "Error at index 36210: HTTPSConnectionPool(host='openrouter.ai', port=443): Max retries exceeded with url: /api/v1/chat/completions (Caused by NameResolutionError(\"<urllib3.connection.HTTPSConnection object at 0x000002A4834FC580>: Failed to resolve 'openrouter.ai' ([Errno 11001] getaddrinfo failed)\"))\n"
     ]
    },
    {
     "name": "stderr",
     "output_type": "stream",
     "text": [
      "Classifying:  76%|███████████████████████████████████████████▊              | 36212/47871 [12:35:41<3:15:48,  1.01s/it]"
     ]
    },
    {
     "name": "stdout",
     "output_type": "stream",
     "text": [
      "Error at index 36211: HTTPSConnectionPool(host='openrouter.ai', port=443): Max retries exceeded with url: /api/v1/chat/completions (Caused by NameResolutionError(\"<urllib3.connection.HTTPSConnection object at 0x000002A4834FF340>: Failed to resolve 'openrouter.ai' ([Errno 11001] getaddrinfo failed)\"))\n"
     ]
    },
    {
     "name": "stderr",
     "output_type": "stream",
     "text": [
      "Classifying:  76%|███████████████████████████████████████████▉              | 36215/47871 [12:35:43<3:01:50,  1.07it/s]"
     ]
    },
    {
     "name": "stdout",
     "output_type": "stream",
     "text": [
      "Warning: Unexpected label at index 36215: 'quantum monitoring'\n"
     ]
    },
    {
     "name": "stderr",
     "output_type": "stream",
     "text": [
      "Classifying:  76%|███████████████████████████████████████████▉              | 36225/47871 [12:35:53<3:21:04,  1.04s/it]"
     ]
    },
    {
     "name": "stdout",
     "output_type": "stream",
     "text": [
      "Warning: Unexpected label at index 36225: 'quantum imaging'\n"
     ]
    },
    {
     "name": "stderr",
     "output_type": "stream",
     "text": [
      "Classifying:  76%|███████████████████████████████████████████▉              | 36251/47871 [12:36:17<2:41:34,  1.20it/s]"
     ]
    },
    {
     "name": "stdout",
     "output_type": "stream",
     "text": [
      "Warning: Unexpected label at index 36251: 'quantum imaging'\n"
     ]
    },
    {
     "name": "stderr",
     "output_type": "stream",
     "text": [
      "Classifying:  76%|███████████████████████████████████████████▉              | 36252/47871 [12:36:18<2:39:11,  1.22it/s]"
     ]
    },
    {
     "name": "stdout",
     "output_type": "stream",
     "text": [
      "Warning: Unexpected label at index 36252: 'quantum imaging'\n"
     ]
    },
    {
     "name": "stderr",
     "output_type": "stream",
     "text": [
      "Classifying:  76%|███████████████████████████████████████████▉              | 36275/47871 [12:36:45<3:43:37,  1.16s/it]"
     ]
    },
    {
     "name": "stdout",
     "output_type": "stream",
     "text": [
      "Warning: Unexpected label at index 36275: 'quantum nonlinear optics'\n"
     ]
    },
    {
     "name": "stderr",
     "output_type": "stream",
     "text": [
      "Classifying:  76%|███████████████████████████████████████████▉              | 36293/47871 [12:37:08<2:58:50,  1.08it/s]"
     ]
    },
    {
     "name": "stdout",
     "output_type": "stream",
     "text": [
      "Warning: Unexpected label at index 36293: 'quantum amplifiers'\n"
     ]
    },
    {
     "name": "stderr",
     "output_type": "stream",
     "text": [
      "Classifying:  76%|███████████████████████████████████████████▉              | 36295/47871 [12:37:10<3:31:14,  1.09s/it]"
     ]
    },
    {
     "name": "stdout",
     "output_type": "stream",
     "text": [
      "Warning: Unexpected label at index 36295: 'quantum random number generation'\n"
     ]
    },
    {
     "name": "stderr",
     "output_type": "stream",
     "text": [
      "Classifying:  76%|███████████████████████████████████████████▉              | 36302/47871 [12:37:18<3:34:00,  1.11s/it]"
     ]
    },
    {
     "name": "stdout",
     "output_type": "stream",
     "text": [
      "Warning: Unexpected label at index 36302: 'quantum imaging'\n"
     ]
    },
    {
     "name": "stderr",
     "output_type": "stream",
     "text": [
      "Classifying:  76%|████████████████████████████████████████████              | 36323/47871 [12:37:38<3:31:31,  1.10s/it]"
     ]
    },
    {
     "name": "stdout",
     "output_type": "stream",
     "text": [
      "Warning: Unexpected label at index 36323: 'quantum optoelectronics'\n"
     ]
    },
    {
     "name": "stderr",
     "output_type": "stream",
     "text": [
      "Classifying:  76%|████████████████████████████████████████████              | 36340/47871 [12:37:56<3:54:45,  1.22s/it]"
     ]
    },
    {
     "name": "stdout",
     "output_type": "stream",
     "text": [
      "Warning: Unexpected label at index 36340: 'quantum imaging'\n"
     ]
    },
    {
     "name": "stderr",
     "output_type": "stream",
     "text": [
      "Classifying:  76%|████████████████████████████████████████████              | 36348/47871 [12:38:04<3:12:15,  1.00s/it]"
     ]
    },
    {
     "name": "stdout",
     "output_type": "stream",
     "text": [
      "Warning: Unexpected label at index 36348: 'quantum imaging'\n"
     ]
    },
    {
     "name": "stderr",
     "output_type": "stream",
     "text": [
      "Classifying:  76%|████████████████████████████████████████████              | 36352/47871 [12:38:09<3:30:25,  1.10s/it]"
     ]
    },
    {
     "name": "stdout",
     "output_type": "stream",
     "text": [
      "Warning: Unexpected label at index 36352: 'quantum chemistry'\n"
     ]
    },
    {
     "name": "stderr",
     "output_type": "stream",
     "text": [
      "Classifying:  76%|████████████████████████████████████████████              | 36356/47871 [12:38:12<2:52:36,  1.11it/s]"
     ]
    },
    {
     "name": "stdout",
     "output_type": "stream",
     "text": [
      "Warning: Unexpected label at index 36356: 'quantum materials'\n"
     ]
    },
    {
     "name": "stderr",
     "output_type": "stream",
     "text": [
      "Classifying:  76%|████████████████████████████████████████████              | 36358/47871 [12:38:14<2:49:00,  1.14it/s]"
     ]
    },
    {
     "name": "stdout",
     "output_type": "stream",
     "text": [
      "Warning: Unexpected label at index 36357: 'quantum materials'\n"
     ]
    },
    {
     "name": "stderr",
     "output_type": "stream",
     "text": [
      "Classifying:  76%|████████████████████████████████████████████              | 36367/47871 [12:38:23<3:05:13,  1.04it/s]"
     ]
    },
    {
     "name": "stdout",
     "output_type": "stream",
     "text": [
      "Warning: Unexpected label at index 36367: 'quantum materials'\n"
     ]
    },
    {
     "name": "stderr",
     "output_type": "stream",
     "text": [
      "Classifying:  76%|████████████████████████████████████████████              | 36377/47871 [12:38:32<3:09:59,  1.01it/s]"
     ]
    },
    {
     "name": "stdout",
     "output_type": "stream",
     "text": [
      "Warning: Unexpected label at index 36377: 'quantum materials'\n"
     ]
    },
    {
     "name": "stderr",
     "output_type": "stream",
     "text": [
      "Classifying:  76%|████████████████████████████████████████████              | 36383/47871 [12:38:37<3:00:36,  1.06it/s]"
     ]
    },
    {
     "name": "stdout",
     "output_type": "stream",
     "text": [
      "Warning: Unexpected label at index 36383: 'quantum materials'\n"
     ]
    },
    {
     "name": "stderr",
     "output_type": "stream",
     "text": [
      "Classifying:  76%|████████████████████████████████████████████              | 36411/47871 [12:39:02<2:55:43,  1.09it/s]"
     ]
    },
    {
     "name": "stdout",
     "output_type": "stream",
     "text": [
      "Warning: Unexpected label at index 36411: 'quantum optics'\n"
     ]
    },
    {
     "name": "stderr",
     "output_type": "stream",
     "text": [
      "Classifying:  76%|████████████████████████████████████████████▏             | 36422/47871 [12:39:13<2:57:21,  1.08it/s]"
     ]
    },
    {
     "name": "stdout",
     "output_type": "stream",
     "text": [
      "Warning: Unexpected label at index 36422: 'quantum imaging'\n"
     ]
    },
    {
     "name": "stderr",
     "output_type": "stream",
     "text": [
      "Classifying:  76%|████████████████████████████████████████████▏             | 36423/47871 [12:39:14<3:17:46,  1.04s/it]"
     ]
    },
    {
     "name": "stdout",
     "output_type": "stream",
     "text": [
      "Warning: Unexpected label at index 36423: 'quantum random number generation'\n"
     ]
    },
    {
     "name": "stderr",
     "output_type": "stream",
     "text": [
      "Classifying:  76%|████████████████████████████████████████████▏             | 36438/47871 [12:39:29<2:52:14,  1.11it/s]"
     ]
    },
    {
     "name": "stdout",
     "output_type": "stream",
     "text": [
      "Warning: Unexpected label at index 36438: 'quantum optics'\n"
     ]
    },
    {
     "name": "stderr",
     "output_type": "stream",
     "text": [
      "Classifying:  76%|████████████████████████████████████████████▏             | 36439/47871 [12:39:29<2:46:54,  1.14it/s]"
     ]
    },
    {
     "name": "stdout",
     "output_type": "stream",
     "text": [
      "Warning: Unexpected label at index 36439: 'quantum optics'\n"
     ]
    },
    {
     "name": "stderr",
     "output_type": "stream",
     "text": [
      "Classifying:  76%|████████████████████████████████████████████▏             | 36442/47871 [12:39:32<2:44:19,  1.16it/s]"
     ]
    },
    {
     "name": "stdout",
     "output_type": "stream",
     "text": [
      "Warning: Unexpected label at index 36442: 'quantum optics'\n"
     ]
    },
    {
     "name": "stderr",
     "output_type": "stream",
     "text": [
      "Classifying:  76%|████████████████████████████████████████████▏             | 36443/47871 [12:39:33<2:44:37,  1.16it/s]"
     ]
    },
    {
     "name": "stdout",
     "output_type": "stream",
     "text": [
      "Warning: Unexpected label at index 36443: 'quantum materials'\n"
     ]
    },
    {
     "name": "stderr",
     "output_type": "stream",
     "text": [
      "Classifying:  76%|████████████████████████████████████████████▏             | 36460/47871 [12:39:48<2:44:00,  1.16it/s]"
     ]
    },
    {
     "name": "stdout",
     "output_type": "stream",
     "text": [
      "Warning: Unexpected label at index 36460: 'quantum applications'\n"
     ]
    },
    {
     "name": "stderr",
     "output_type": "stream",
     "text": [
      "Classifying:  76%|████████████████████████████████████████████▏             | 36475/47871 [12:40:02<2:45:24,  1.15it/s]"
     ]
    },
    {
     "name": "stdout",
     "output_type": "stream",
     "text": [
      "Warning: Unexpected label at index 36475: 'quantum materials'\n"
     ]
    },
    {
     "name": "stderr",
     "output_type": "stream",
     "text": [
      "Classifying:  76%|████████████████████████████████████████████▏             | 36478/47871 [12:40:05<2:44:47,  1.15it/s]"
     ]
    },
    {
     "name": "stdout",
     "output_type": "stream",
     "text": [
      "Warning: Unexpected label at index 36478: 'quantum optics'\n"
     ]
    },
    {
     "name": "stderr",
     "output_type": "stream",
     "text": [
      "Classifying:  76%|████████████████████████████████████████████▏             | 36486/47871 [12:40:12<2:58:35,  1.06it/s]"
     ]
    },
    {
     "name": "stdout",
     "output_type": "stream",
     "text": [
      "Warning: Unexpected label at index 36486: 'quantum imaging'\n"
     ]
    },
    {
     "name": "stderr",
     "output_type": "stream",
     "text": [
      "Classifying:  76%|████████████████████████████████████████████▏             | 36495/47871 [12:40:20<2:43:52,  1.16it/s]"
     ]
    },
    {
     "name": "stdout",
     "output_type": "stream",
     "text": [
      "Warning: Unexpected label at index 36495: 'quantum materials'\n"
     ]
    },
    {
     "name": "stderr",
     "output_type": "stream",
     "text": [
      "Classifying:  76%|████████████████████████████████████████████▎             | 36525/47871 [12:40:53<2:44:48,  1.15it/s]"
     ]
    },
    {
     "name": "stdout",
     "output_type": "stream",
     "text": [
      "Warning: Unexpected label at index 36525: 'quantum optoelectronics'\n"
     ]
    },
    {
     "name": "stderr",
     "output_type": "stream",
     "text": [
      "Classifying:  76%|████████████████████████████████████████████▎             | 36529/47871 [12:40:57<2:47:06,  1.13it/s]"
     ]
    },
    {
     "name": "stdout",
     "output_type": "stream",
     "text": [
      "Warning: Unexpected label at index 36529: 'This paper is not related to quantum computing. It is about an apparatus for facilitating drifting for wheeled vehicles.'\n"
     ]
    },
    {
     "name": "stderr",
     "output_type": "stream",
     "text": [
      "Classifying:  76%|████████████████████████████████████████████▎             | 36577/47871 [12:41:50<3:25:24,  1.09s/it]"
     ]
    },
    {
     "name": "stdout",
     "output_type": "stream",
     "text": [
      "Warning: Unexpected label at index 36577: 'quantum anomaly detection'\n"
     ]
    },
    {
     "name": "stderr",
     "output_type": "stream",
     "text": [
      "Classifying:  77%|████████████████████████████████████████████▍             | 36710/47871 [12:44:14<3:14:14,  1.04s/it]"
     ]
    },
    {
     "name": "stdout",
     "output_type": "stream",
     "text": [
      "Warning: Unexpected label at index 36710: 'quantum compression'\n"
     ]
    },
    {
     "name": "stderr",
     "output_type": "stream",
     "text": [
      "Classifying:  77%|████████████████████████████████████████████▍             | 36716/47871 [12:44:21<3:55:28,  1.27s/it]"
     ]
    },
    {
     "name": "stdout",
     "output_type": "stream",
     "text": [
      "Warning: Unexpected label at index 36716: 'quantum materials'\n"
     ]
    },
    {
     "name": "stderr",
     "output_type": "stream",
     "text": [
      "Classifying:  77%|████████████████████████████████████████████▍             | 36717/47871 [12:44:22<3:32:28,  1.14s/it]"
     ]
    },
    {
     "name": "stdout",
     "output_type": "stream",
     "text": [
      "Warning: Unexpected label at index 36717: 'quantum materials'\n"
     ]
    },
    {
     "name": "stderr",
     "output_type": "stream",
     "text": [
      "Classifying:  77%|████████████████████████████████████████████▌             | 36756/47871 [12:45:04<2:38:41,  1.17it/s]"
     ]
    },
    {
     "name": "stdout",
     "output_type": "stream",
     "text": [
      "Warning: Unexpected label at index 36756: 'quantum thermal conductivity'\n"
     ]
    },
    {
     "name": "stderr",
     "output_type": "stream",
     "text": [
      "Classifying:  77%|████████████████████████████████████████████▌             | 36760/47871 [12:45:07<2:43:45,  1.13it/s]"
     ]
    },
    {
     "name": "stdout",
     "output_type": "stream",
     "text": [
      "Warning: Unexpected label at index 36760: 'This paper is not related to quantum computing. It is about organic electroluminescence devices.'\n"
     ]
    },
    {
     "name": "stderr",
     "output_type": "stream",
     "text": [
      "Classifying:  77%|████████████████████████████████████████████▋             | 36877/47871 [12:47:25<2:58:53,  1.02it/s]"
     ]
    },
    {
     "name": "stdout",
     "output_type": "stream",
     "text": [
      "Warning: Unexpected label at index 36877: 'quantum imaging'\n"
     ]
    },
    {
     "name": "stderr",
     "output_type": "stream",
     "text": [
      "Classifying:  77%|████████████████████████████████████████████▋             | 36911/47871 [12:48:06<2:48:14,  1.09it/s]"
     ]
    },
    {
     "name": "stdout",
     "output_type": "stream",
     "text": [
      "Warning: Unexpected label at index 36911: 'quantum optics'\n"
     ]
    },
    {
     "name": "stderr",
     "output_type": "stream",
     "text": [
      "Classifying:  77%|████████████████████████████████████████████▋             | 36925/47871 [12:48:19<2:51:32,  1.06it/s]"
     ]
    },
    {
     "name": "stdout",
     "output_type": "stream",
     "text": [
      "Warning: Unexpected label at index 36925: 'quantum applications'\n"
     ]
    },
    {
     "name": "stderr",
     "output_type": "stream",
     "text": [
      "Classifying:  77%|████████████████████████████████████████████▊             | 36947/47871 [12:48:47<4:19:12,  1.42s/it]"
     ]
    },
    {
     "name": "stdout",
     "output_type": "stream",
     "text": [
      "Warning: Unexpected label at index 36947: 'quantum optoelectronics'\n"
     ]
    },
    {
     "name": "stderr",
     "output_type": "stream",
     "text": [
      "Classifying:  77%|████████████████████████████████████████████▊             | 36949/47871 [12:48:49<3:25:07,  1.13s/it]"
     ]
    },
    {
     "name": "stdout",
     "output_type": "stream",
     "text": [
      "Warning: Unexpected label at index 36949: 'quantum random number generation'\n"
     ]
    },
    {
     "name": "stderr",
     "output_type": "stream",
     "text": [
      "Classifying:  77%|████████████████████████████████████████████▉             | 37072/47871 [12:51:01<2:38:05,  1.14it/s]"
     ]
    },
    {
     "name": "stdout",
     "output_type": "stream",
     "text": [
      "Warning: Unexpected label at index 37072: 'quantum materials'\n"
     ]
    },
    {
     "name": "stderr",
     "output_type": "stream",
     "text": [
      "Classifying:  77%|████████████████████████████████████████████▉             | 37092/47871 [12:51:20<2:56:52,  1.02it/s]"
     ]
    },
    {
     "name": "stdout",
     "output_type": "stream",
     "text": [
      "Warning: Unexpected label at index 37092: 'This paper does not appear to be related to quantum computing. The title and abstract describe an organic electroluminescent element and compound, which is a topic in materials science and device engineering, rather than quantum computing. Therefore, I do not believe any of the provided labels are appropriate for this paper.'\n"
     ]
    },
    {
     "name": "stderr",
     "output_type": "stream",
     "text": [
      "Classifying:  77%|████████████████████████████████████████████▉             | 37098/47871 [12:51:27<3:12:20,  1.07s/it]"
     ]
    },
    {
     "name": "stdout",
     "output_type": "stream",
     "text": [
      "Warning: Unexpected label at index 37098: 'quantum computation'\n"
     ]
    },
    {
     "name": "stderr",
     "output_type": "stream",
     "text": [
      "Classifying:  78%|█████████████████████████████████████████████             | 37170/47871 [12:52:39<2:40:47,  1.11it/s]"
     ]
    },
    {
     "name": "stdout",
     "output_type": "stream",
     "text": [
      "Warning: Unexpected label at index 37169: 'quantum optics'\n"
     ]
    },
    {
     "name": "stderr",
     "output_type": "stream",
     "text": [
      "Classifying:  78%|█████████████████████████████████████████████             | 37181/47871 [12:52:56<4:03:56,  1.37s/it]"
     ]
    },
    {
     "name": "stdout",
     "output_type": "stream",
     "text": [
      "Warning: Unexpected label at index 37181: 'quantum materials'\n"
     ]
    },
    {
     "name": "stderr",
     "output_type": "stream",
     "text": [
      "Classifying:  78%|█████████████████████████████████████████████▏            | 37266/47871 [12:54:23<3:04:58,  1.05s/it]"
     ]
    },
    {
     "name": "stdout",
     "output_type": "stream",
     "text": [
      "Warning: Unexpected label at index 37266: 'quantum materials'\n"
     ]
    },
    {
     "name": "stderr",
     "output_type": "stream",
     "text": [
      "Classifying:  78%|█████████████████████████████████████████████▏            | 37268/47871 [12:54:25<2:55:41,  1.01it/s]"
     ]
    },
    {
     "name": "stdout",
     "output_type": "stream",
     "text": [
      "Warning: Unexpected label at index 37268: 'quantum spectroscopy'\n"
     ]
    },
    {
     "name": "stderr",
     "output_type": "stream",
     "text": [
      "Classifying:  78%|█████████████████████████████████████████████▏            | 37300/47871 [12:54:57<2:33:28,  1.15it/s]"
     ]
    },
    {
     "name": "stdout",
     "output_type": "stream",
     "text": [
      "Warning: Unexpected label at index 37300: 'quantum imaging'\n"
     ]
    },
    {
     "name": "stderr",
     "output_type": "stream",
     "text": [
      "Classifying:  78%|█████████████████████████████████████████████▏            | 37303/47871 [12:55:00<2:52:26,  1.02it/s]"
     ]
    },
    {
     "name": "stdout",
     "output_type": "stream",
     "text": [
      "Warning: Unexpected label at index 37303: 'quantum optoelectronics'\n"
     ]
    },
    {
     "name": "stderr",
     "output_type": "stream",
     "text": [
      "Classifying:  78%|█████████████████████████████████████████████▎            | 37356/47871 [12:55:49<2:33:26,  1.14it/s]"
     ]
    },
    {
     "name": "stdout",
     "output_type": "stream",
     "text": [
      "Warning: Unexpected label at index 37356: 'quantum optics'\n"
     ]
    },
    {
     "name": "stderr",
     "output_type": "stream",
     "text": [
      "Classifying:  78%|█████████████████████████████████████████████▎            | 37362/47871 [12:55:54<2:24:49,  1.21it/s]"
     ]
    },
    {
     "name": "stdout",
     "output_type": "stream",
     "text": [
      "Warning: Unexpected label at index 37362: 'quantum imaging'\n"
     ]
    },
    {
     "name": "stderr",
     "output_type": "stream",
     "text": [
      "Classifying:  78%|█████████████████████████████████████████████▎            | 37388/47871 [12:56:24<2:35:33,  1.12it/s]"
     ]
    },
    {
     "name": "stdout",
     "output_type": "stream",
     "text": [
      "Warning: Unexpected label at index 37388: 'quantum imaging'\n"
     ]
    },
    {
     "name": "stderr",
     "output_type": "stream",
     "text": [
      "Classifying:  78%|█████████████████████████████████████████████▎            | 37392/47871 [12:56:28<2:33:16,  1.14it/s]"
     ]
    },
    {
     "name": "stdout",
     "output_type": "stream",
     "text": [
      "Warning: Unexpected label at index 37392: 'quantum chaos'\n"
     ]
    },
    {
     "name": "stderr",
     "output_type": "stream",
     "text": [
      "Classifying:  78%|█████████████████████████████████████████████▎            | 37402/47871 [12:56:37<2:40:37,  1.09it/s]"
     ]
    },
    {
     "name": "stdout",
     "output_type": "stream",
     "text": [
      "Warning: Unexpected label at index 37402: 'quantum collaboration'\n"
     ]
    },
    {
     "name": "stderr",
     "output_type": "stream",
     "text": [
      "Classifying:  78%|█████████████████████████████████████████████▍            | 37485/47871 [12:58:06<2:30:13,  1.15it/s]"
     ]
    },
    {
     "name": "stdout",
     "output_type": "stream",
     "text": [
      "Warning: Unexpected label at index 37485: 'This paper is not related to quantum computing. It describes a display device with a connector and printed circuit board, which is not a topic in quantum computing. Therefore, the appropriate label is:\n",
      "\n",
      "quantum computing'\n"
     ]
    },
    {
     "name": "stderr",
     "output_type": "stream",
     "text": [
      "Classifying:  78%|█████████████████████████████████████████████▍            | 37492/47871 [12:58:13<2:36:16,  1.11it/s]"
     ]
    },
    {
     "name": "stdout",
     "output_type": "stream",
     "text": [
      "Warning: Unexpected label at index 37492: 'This paper does not appear to be related to quantum computing. The abstract discusses pharmaceutical formulations of adenoviruses, which is outside the domain of quantum computing.'\n"
     ]
    },
    {
     "name": "stderr",
     "output_type": "stream",
     "text": [
      "Classifying:  78%|█████████████████████████████████████████████▍            | 37496/47871 [12:58:17<2:38:15,  1.09it/s]"
     ]
    },
    {
     "name": "stdout",
     "output_type": "stream",
     "text": [
      "Warning: Unexpected label at index 37496: 'quantum imaging'\n"
     ]
    },
    {
     "name": "stderr",
     "output_type": "stream",
     "text": [
      "Classifying:  78%|█████████████████████████████████████████████▍            | 37500/47871 [12:58:20<2:26:33,  1.18it/s]"
     ]
    },
    {
     "name": "stdout",
     "output_type": "stream",
     "text": [
      "Warning: Unexpected label at index 37500: 'quantum sensor fusion'\n"
     ]
    },
    {
     "name": "stderr",
     "output_type": "stream",
     "text": [
      "Classifying:  78%|█████████████████████████████████████████████▍            | 37522/47871 [12:58:41<3:02:07,  1.06s/it]"
     ]
    },
    {
     "name": "stdout",
     "output_type": "stream",
     "text": [
      "Warning: Unexpected label at index 37522: 'quantum optoelectronics'\n"
     ]
    },
    {
     "name": "stderr",
     "output_type": "stream",
     "text": [
      "Classifying:  78%|█████████████████████████████████████████████▍            | 37552/47871 [12:59:21<3:07:36,  1.09s/it]"
     ]
    },
    {
     "name": "stdout",
     "output_type": "stream",
     "text": [
      "Warning: Unexpected label at index 37552: 'quantum materials'\n"
     ]
    },
    {
     "name": "stderr",
     "output_type": "stream",
     "text": [
      "Classifying:  78%|█████████████████████████████████████████████▌            | 37559/47871 [12:59:28<3:25:13,  1.19s/it]"
     ]
    },
    {
     "name": "stdout",
     "output_type": "stream",
     "text": [
      "Warning: Unexpected label at index 37559: 'quantum imaging'\n"
     ]
    },
    {
     "name": "stderr",
     "output_type": "stream",
     "text": [
      "Classifying:  78%|█████████████████████████████████████████████▌            | 37561/47871 [12:59:30<3:28:02,  1.21s/it]"
     ]
    },
    {
     "name": "stdout",
     "output_type": "stream",
     "text": [
      "Warning: Unexpected label at index 37561: 'quantum optics'\n"
     ]
    },
    {
     "name": "stderr",
     "output_type": "stream",
     "text": [
      "Classifying:  79%|█████████████████████████████████████████████▌            | 37589/47871 [13:00:04<2:27:30,  1.16it/s]"
     ]
    },
    {
     "name": "stdout",
     "output_type": "stream",
     "text": [
      "Warning: Unexpected label at index 37589: 'quantum dot synthesis'\n"
     ]
    },
    {
     "name": "stderr",
     "output_type": "stream",
     "text": [
      "Classifying:  79%|█████████████████████████████████████████████▌            | 37591/47871 [13:00:06<2:24:46,  1.18it/s]"
     ]
    },
    {
     "name": "stdout",
     "output_type": "stream",
     "text": [
      "Warning: Unexpected label at index 37591: 'quantum optics'\n"
     ]
    },
    {
     "name": "stderr",
     "output_type": "stream",
     "text": [
      "Classifying:  79%|█████████████████████████████████████████████▋            | 37661/47871 [13:01:18<2:53:22,  1.02s/it]"
     ]
    },
    {
     "name": "stdout",
     "output_type": "stream",
     "text": [
      "Warning: Unexpected label at index 37661: 'quantum imaging'\n"
     ]
    },
    {
     "name": "stderr",
     "output_type": "stream",
     "text": [
      "Classifying:  79%|█████████████████████████████████████████████▋            | 37667/47871 [13:01:29<3:29:49,  1.23s/it]"
     ]
    },
    {
     "name": "stdout",
     "output_type": "stream",
     "text": [
      "Warning: Unexpected label at index 37667: 'quantum imaging'\n"
     ]
    },
    {
     "name": "stderr",
     "output_type": "stream",
     "text": [
      "Classifying:  79%|█████████████████████████████████████████████▋            | 37669/47871 [13:01:31<3:12:48,  1.13s/it]"
     ]
    },
    {
     "name": "stdout",
     "output_type": "stream",
     "text": [
      "Warning: Unexpected label at index 37669: 'quantum imaging'\n"
     ]
    },
    {
     "name": "stderr",
     "output_type": "stream",
     "text": [
      "Classifying:  79%|█████████████████████████████████████████████▋            | 37701/47871 [13:02:13<2:37:19,  1.08it/s]"
     ]
    },
    {
     "name": "stdout",
     "output_type": "stream",
     "text": [
      "Warning: Unexpected label at index 37701: 'The paper does not appear to be related to quantum computing. It is discussing display technology with a direct-lit backlight unit, which is not a topic in quantum computing. Therefore, the appropriate label is:\n",
      "\n",
      "quantum computing'\n"
     ]
    },
    {
     "name": "stderr",
     "output_type": "stream",
     "text": [
      "Classifying:  79%|█████████████████████████████████████████████▋            | 37757/47871 [13:03:26<2:58:59,  1.06s/it]"
     ]
    },
    {
     "name": "stdout",
     "output_type": "stream",
     "text": [
      "Warning: Unexpected label at index 37757: 'quantum imaging'\n"
     ]
    },
    {
     "name": "stderr",
     "output_type": "stream",
     "text": [
      "Classifying:  79%|█████████████████████████████████████████████▊            | 37770/47871 [13:03:49<3:11:21,  1.14s/it]"
     ]
    },
    {
     "name": "stdout",
     "output_type": "stream",
     "text": [
      "Warning: Unexpected label at index 37770: 'quantum imaging'\n"
     ]
    },
    {
     "name": "stderr",
     "output_type": "stream",
     "text": [
      "Classifying:  79%|█████████████████████████████████████████████▊            | 37808/47871 [13:04:29<3:14:24,  1.16s/it]"
     ]
    },
    {
     "name": "stdout",
     "output_type": "stream",
     "text": [
      "Warning: Unexpected label at index 37808: 'quantum applications'\n"
     ]
    },
    {
     "name": "stderr",
     "output_type": "stream",
     "text": [
      "Classifying:  79%|█████████████████████████████████████████████▊            | 37849/47871 [13:05:05<2:29:36,  1.12it/s]"
     ]
    },
    {
     "name": "stdout",
     "output_type": "stream",
     "text": [
      "Warning: Unexpected label at index 37849: 'quantum applications'\n"
     ]
    },
    {
     "name": "stderr",
     "output_type": "stream",
     "text": [
      "Classifying:  79%|█████████████████████████████████████████████▊            | 37853/47871 [13:05:08<2:19:09,  1.20it/s]"
     ]
    },
    {
     "name": "stdout",
     "output_type": "stream",
     "text": [
      "Warning: Unexpected label at index 37853: 'quantum switching'\n"
     ]
    },
    {
     "name": "stderr",
     "output_type": "stream",
     "text": [
      "Classifying:  79%|█████████████████████████████████████████████▊            | 37861/47871 [13:05:15<2:27:44,  1.13it/s]"
     ]
    },
    {
     "name": "stdout",
     "output_type": "stream",
     "text": [
      "Warning: Unexpected label at index 37861: 'quantum materials'\n"
     ]
    },
    {
     "name": "stderr",
     "output_type": "stream",
     "text": [
      "Classifying:  79%|█████████████████████████████████████████████▉            | 37884/47871 [13:05:44<2:55:58,  1.06s/it]"
     ]
    },
    {
     "name": "stdout",
     "output_type": "stream",
     "text": [
      "Warning: Unexpected label at index 37884: 'quantum optics'\n"
     ]
    },
    {
     "name": "stderr",
     "output_type": "stream",
     "text": [
      "Classifying:  79%|█████████████████████████████████████████████▉            | 37890/47871 [13:05:49<2:37:34,  1.06it/s]"
     ]
    },
    {
     "name": "stdout",
     "output_type": "stream",
     "text": [
      "Warning: Unexpected label at index 37890: 'quantum applications'\n"
     ]
    },
    {
     "name": "stderr",
     "output_type": "stream",
     "text": [
      "Classifying:  79%|█████████████████████████████████████████████▉            | 37917/47871 [13:06:21<5:23:41,  1.95s/it]"
     ]
    },
    {
     "name": "stdout",
     "output_type": "stream",
     "text": [
      "Warning: Unexpected label at index 37917: 'quantum optoelectronics'\n"
     ]
    },
    {
     "name": "stderr",
     "output_type": "stream",
     "text": [
      "Classifying:  79%|█████████████████████████████████████████████▉            | 37923/47871 [13:06:27<3:02:41,  1.10s/it]"
     ]
    },
    {
     "name": "stdout",
     "output_type": "stream",
     "text": [
      "Warning: Unexpected label at index 37923: 'quantum energy transfer'\n"
     ]
    },
    {
     "name": "stderr",
     "output_type": "stream",
     "text": [
      "Classifying:  79%|█████████████████████████████████████████████▉            | 37945/47871 [13:06:48<3:12:38,  1.16s/it]"
     ]
    },
    {
     "name": "stdout",
     "output_type": "stream",
     "text": [
      "Warning: Unexpected label at index 37945: 'quantum materials'\n"
     ]
    },
    {
     "name": "stderr",
     "output_type": "stream",
     "text": [
      "Classifying:  79%|██████████████████████████████████████████████            | 38042/47871 [13:08:17<2:42:06,  1.01it/s]"
     ]
    },
    {
     "name": "stdout",
     "output_type": "stream",
     "text": [
      "Warning: Unexpected label at index 38042: 'quantum display'\n"
     ]
    },
    {
     "name": "stderr",
     "output_type": "stream",
     "text": [
      "Classifying:  79%|██████████████████████████████████████████████            | 38045/47871 [13:08:19<2:32:28,  1.07it/s]"
     ]
    },
    {
     "name": "stdout",
     "output_type": "stream",
     "text": [
      "Warning: Unexpected label at index 38045: 'quantum materials'\n"
     ]
    },
    {
     "name": "stderr",
     "output_type": "stream",
     "text": [
      "Classifying:  80%|██████████████████████████████████████████████▏           | 38090/47871 [13:09:11<2:17:15,  1.19it/s]"
     ]
    },
    {
     "name": "stdout",
     "output_type": "stream",
     "text": [
      "Warning: Unexpected label at index 38090: 'quantum imaging'\n"
     ]
    },
    {
     "name": "stderr",
     "output_type": "stream",
     "text": [
      "Classifying:  80%|██████████████████████████████████████████████▏           | 38097/47871 [13:09:17<2:24:43,  1.13it/s]"
     ]
    },
    {
     "name": "stdout",
     "output_type": "stream",
     "text": [
      "Warning: Unexpected label at index 38097: 'quantum display'\n"
     ]
    },
    {
     "name": "stderr",
     "output_type": "stream",
     "text": [
      "Classifying:  80%|██████████████████████████████████████████████▏           | 38100/47871 [13:09:26<7:28:32,  2.75s/it]"
     ]
    },
    {
     "name": "stdout",
     "output_type": "stream",
     "text": [
      "Warning: Unexpected label at index 38100: 'quantum materials'\n"
     ]
    },
    {
     "name": "stderr",
     "output_type": "stream",
     "text": [
      "Classifying:  80%|██████████████████████████████████████████████▏           | 38104/47871 [13:09:30<4:09:15,  1.53s/it]"
     ]
    },
    {
     "name": "stdout",
     "output_type": "stream",
     "text": [
      "Warning: Unexpected label at index 38104: 'quantum materials'\n"
     ]
    },
    {
     "name": "stderr",
     "output_type": "stream",
     "text": [
      "Classifying:  80%|██████████████████████████████████████████████▎           | 38183/47871 [13:10:52<2:26:40,  1.10it/s]"
     ]
    },
    {
     "name": "stdout",
     "output_type": "stream",
     "text": [
      "Warning: Unexpected label at index 38183: 'quantum imaging'\n"
     ]
    },
    {
     "name": "stderr",
     "output_type": "stream",
     "text": [
      "Classifying:  80%|██████████████████████████████████████████████▎           | 38190/47871 [13:11:05<7:33:37,  2.81s/it]"
     ]
    },
    {
     "name": "stdout",
     "output_type": "stream",
     "text": [
      "Warning: Unexpected label at index 38189: 'quantum imaging'\n"
     ]
    },
    {
     "name": "stderr",
     "output_type": "stream",
     "text": [
      "Classifying:  80%|██████████████████████████████████████████████▎           | 38193/47871 [13:11:08<4:08:55,  1.54s/it]"
     ]
    },
    {
     "name": "stdout",
     "output_type": "stream",
     "text": [
      "Warning: Unexpected label at index 38193: 'quantum imaging'\n"
     ]
    },
    {
     "name": "stderr",
     "output_type": "stream",
     "text": [
      "Classifying:  80%|██████████████████████████████████████████████▎           | 38205/47871 [13:11:18<2:21:09,  1.14it/s]"
     ]
    },
    {
     "name": "stdout",
     "output_type": "stream",
     "text": [
      "Warning: Unexpected label at index 38205: 'quantum optics'\n"
     ]
    },
    {
     "name": "stderr",
     "output_type": "stream",
     "text": [
      "Classifying:  80%|██████████████████████████████████████████████▎           | 38208/47871 [13:11:21<2:31:58,  1.06it/s]"
     ]
    },
    {
     "name": "stdout",
     "output_type": "stream",
     "text": [
      "Warning: Unexpected label at index 38208: 'quantum display'\n"
     ]
    },
    {
     "name": "stderr",
     "output_type": "stream",
     "text": [
      "Classifying:  80%|██████████████████████████████████████████████▎           | 38227/47871 [13:11:39<2:21:38,  1.13it/s]"
     ]
    },
    {
     "name": "stdout",
     "output_type": "stream",
     "text": [
      "Warning: Unexpected label at index 38227: 'quantum materials'\n"
     ]
    },
    {
     "name": "stderr",
     "output_type": "stream",
     "text": [
      "Classifying:  80%|██████████████████████████████████████████████▎           | 38228/47871 [13:11:40<2:15:26,  1.19it/s]"
     ]
    },
    {
     "name": "stdout",
     "output_type": "stream",
     "text": [
      "Warning: Unexpected label at index 38228: 'quantum materials'\n"
     ]
    },
    {
     "name": "stderr",
     "output_type": "stream",
     "text": [
      "Classifying:  80%|██████████████████████████████████████████████▎           | 38229/47871 [13:11:41<2:28:43,  1.08it/s]"
     ]
    },
    {
     "name": "stdout",
     "output_type": "stream",
     "text": [
      "Warning: Unexpected label at index 38229: 'quantum materials'\n"
     ]
    },
    {
     "name": "stderr",
     "output_type": "stream",
     "text": [
      "Classifying:  80%|██████████████████████████████████████████████▎           | 38237/47871 [13:11:49<2:23:26,  1.12it/s]"
     ]
    },
    {
     "name": "stdout",
     "output_type": "stream",
     "text": [
      "Warning: Unexpected label at index 38237: 'quantum imaging'\n"
     ]
    },
    {
     "name": "stderr",
     "output_type": "stream",
     "text": [
      "Classifying:  80%|██████████████████████████████████████████████▎           | 38267/47871 [13:12:17<2:51:59,  1.07s/it]"
     ]
    },
    {
     "name": "stdout",
     "output_type": "stream",
     "text": [
      "Warning: Unexpected label at index 38267: 'quantum applications'\n"
     ]
    },
    {
     "name": "stderr",
     "output_type": "stream",
     "text": [
      "Classifying:  80%|██████████████████████████████████████████████▎           | 38274/47871 [13:12:23<2:11:02,  1.22it/s]"
     ]
    },
    {
     "name": "stdout",
     "output_type": "stream",
     "text": [
      "Warning: Unexpected label at index 38274: 'quantum materials'\n"
     ]
    },
    {
     "name": "stderr",
     "output_type": "stream",
     "text": [
      "Classifying:  80%|██████████████████████████████████████████████▍           | 38312/47871 [13:12:58<2:21:56,  1.12it/s]"
     ]
    },
    {
     "name": "stdout",
     "output_type": "stream",
     "text": [
      "Warning: Unexpected label at index 38312: 'quantum imaging'\n"
     ]
    },
    {
     "name": "stderr",
     "output_type": "stream",
     "text": [
      "Classifying:  80%|██████████████████████████████████████████████▍           | 38317/47871 [13:13:04<2:51:31,  1.08s/it]"
     ]
    },
    {
     "name": "stdout",
     "output_type": "stream",
     "text": [
      "Warning: Unexpected label at index 38317: 'quantum imaging'\n"
     ]
    },
    {
     "name": "stderr",
     "output_type": "stream",
     "text": [
      "Classifying:  80%|██████████████████████████████████████████████▍           | 38341/47871 [13:13:29<2:30:25,  1.06it/s]"
     ]
    },
    {
     "name": "stdout",
     "output_type": "stream",
     "text": [
      "Warning: Unexpected label at index 38341: 'quantum materials'\n"
     ]
    },
    {
     "name": "stderr",
     "output_type": "stream",
     "text": [
      "Classifying:  80%|██████████████████████████████████████████████▍           | 38366/47871 [13:13:54<2:29:32,  1.06it/s]"
     ]
    },
    {
     "name": "stdout",
     "output_type": "stream",
     "text": [
      "Warning: Unexpected label at index 38366: 'quantum imaging'\n"
     ]
    },
    {
     "name": "stderr",
     "output_type": "stream",
     "text": [
      "Classifying:  80%|██████████████████████████████████████████████▌           | 38472/47871 [13:15:54<2:26:19,  1.07it/s]"
     ]
    },
    {
     "name": "stdout",
     "output_type": "stream",
     "text": [
      "Warning: Unexpected label at index 38472: 'quantum imaging'\n"
     ]
    },
    {
     "name": "stderr",
     "output_type": "stream",
     "text": [
      "Classifying:  80%|██████████████████████████████████████████████▋           | 38500/47871 [13:16:27<2:20:21,  1.11it/s]"
     ]
    },
    {
     "name": "stdout",
     "output_type": "stream",
     "text": [
      "Warning: Unexpected label at index 38500: 'quantum compression'\n"
     ]
    },
    {
     "name": "stderr",
     "output_type": "stream",
     "text": [
      "Classifying:  80%|██████████████████████████████████████████████▋           | 38517/47871 [13:16:43<3:08:33,  1.21s/it]"
     ]
    },
    {
     "name": "stdout",
     "output_type": "stream",
     "text": [
      "Warning: Unexpected label at index 38517: 'quantum materials'\n"
     ]
    },
    {
     "name": "stderr",
     "output_type": "stream",
     "text": [
      "Classifying:  81%|██████████████████████████████████████████████▊           | 38600/47871 [13:18:19<4:41:12,  1.82s/it]"
     ]
    },
    {
     "name": "stdout",
     "output_type": "stream",
     "text": [
      "Warning: Unexpected label at index 38600: 'quantum imaging'\n"
     ]
    },
    {
     "name": "stderr",
     "output_type": "stream",
     "text": [
      "Classifying:  81%|██████████████████████████████████████████████▊           | 38609/47871 [13:18:28<2:39:29,  1.03s/it]"
     ]
    },
    {
     "name": "stdout",
     "output_type": "stream",
     "text": [
      "Warning: Unexpected label at index 38609: 'quantum calibration'\n"
     ]
    },
    {
     "name": "stderr",
     "output_type": "stream",
     "text": [
      "Classifying:  81%|██████████████████████████████████████████████▊           | 38613/47871 [13:18:32<2:18:52,  1.11it/s]"
     ]
    },
    {
     "name": "stdout",
     "output_type": "stream",
     "text": [
      "Warning: Unexpected label at index 38613: 'This paper is not related to quantum computing. It describes a display device and a method for fabricating it. Therefore, the appropriate label is not present in the list provided.'\n"
     ]
    },
    {
     "name": "stderr",
     "output_type": "stream",
     "text": [
      "Classifying:  81%|██████████████████████████████████████████████▊           | 38636/47871 [13:18:59<2:08:55,  1.19it/s]"
     ]
    },
    {
     "name": "stdout",
     "output_type": "stream",
     "text": [
      "Warning: Unexpected label at index 38636: 'This paper is not related to quantum computing. The topic is about the design of an electronic device with a printed circuit board and heat sinks. Therefore, the appropriate label is not among the ones provided.'\n"
     ]
    },
    {
     "name": "stderr",
     "output_type": "stream",
     "text": [
      "Classifying:  81%|██████████████████████████████████████████████▊           | 38637/47871 [13:19:00<2:22:41,  1.08it/s]"
     ]
    },
    {
     "name": "stdout",
     "output_type": "stream",
     "text": [
      "Warning: Unexpected label at index 38637: 'quantum imaging'\n"
     ]
    },
    {
     "name": "stderr",
     "output_type": "stream",
     "text": [
      "Classifying:  81%|██████████████████████████████████████████████▊           | 38648/47871 [13:19:17<3:02:22,  1.19s/it]"
     ]
    },
    {
     "name": "stdout",
     "output_type": "stream",
     "text": [
      "Warning: Unexpected label at index 38648: 'quantum video processing'\n"
     ]
    },
    {
     "name": "stderr",
     "output_type": "stream",
     "text": [
      "Classifying:  81%|██████████████████████████████████████████████▊           | 38666/47871 [13:19:35<2:38:50,  1.04s/it]"
     ]
    },
    {
     "name": "stdout",
     "output_type": "stream",
     "text": [
      "Warning: Unexpected label at index 38666: 'quantum materials'\n"
     ]
    },
    {
     "name": "stderr",
     "output_type": "stream",
     "text": [
      "Classifying:  81%|██████████████████████████████████████████████▉           | 38690/47871 [13:20:04<2:34:28,  1.01s/it]"
     ]
    },
    {
     "name": "stdout",
     "output_type": "stream",
     "text": [
      "Warning: Unexpected label at index 38690: 'quantum materials'\n"
     ]
    },
    {
     "name": "stderr",
     "output_type": "stream",
     "text": [
      "Classifying:  81%|██████████████████████████████████████████████▉           | 38697/47871 [13:20:11<2:24:13,  1.06it/s]"
     ]
    },
    {
     "name": "stdout",
     "output_type": "stream",
     "text": [
      "Warning: Unexpected label at index 38697: 'quantum optics'\n"
     ]
    },
    {
     "name": "stderr",
     "output_type": "stream",
     "text": [
      "Classifying:  81%|██████████████████████████████████████████████▉           | 38709/47871 [13:20:29<2:53:23,  1.14s/it]"
     ]
    },
    {
     "name": "stdout",
     "output_type": "stream",
     "text": [
      "Warning: Unexpected label at index 38709: 'quantum optics'\n"
     ]
    },
    {
     "name": "stderr",
     "output_type": "stream",
     "text": [
      "Classifying:  81%|██████████████████████████████████████████████▉           | 38720/47871 [13:20:38<2:13:00,  1.15it/s]"
     ]
    },
    {
     "name": "stdout",
     "output_type": "stream",
     "text": [
      "Warning: Unexpected label at index 38720: 'quantum optics'\n"
     ]
    },
    {
     "name": "stderr",
     "output_type": "stream",
     "text": [
      "Classifying:  81%|██████████████████████████████████████████████▉           | 38722/47871 [13:20:46<6:54:30,  2.72s/it]"
     ]
    },
    {
     "name": "stdout",
     "output_type": "stream",
     "text": [
      "Warning: Unexpected label at index 38722: 'quantum optics'\n"
     ]
    },
    {
     "name": "stderr",
     "output_type": "stream",
     "text": [
      "Classifying:  81%|██████████████████████████████████████████████▉           | 38725/47871 [13:20:50<4:27:47,  1.76s/it]"
     ]
    },
    {
     "name": "stdout",
     "output_type": "stream",
     "text": [
      "Warning: Unexpected label at index 38725: 'This paper does not appear to be related to quantum computing. It seems to be about a display device and the fabrication method. Therefore, the appropriate label is not found in the list provided.'\n"
     ]
    },
    {
     "name": "stderr",
     "output_type": "stream",
     "text": [
      "Classifying:  81%|██████████████████████████████████████████████▉           | 38727/47871 [13:20:52<3:27:48,  1.36s/it]"
     ]
    },
    {
     "name": "stdout",
     "output_type": "stream",
     "text": [
      "Warning: Unexpected label at index 38727: 'quantum materials'\n"
     ]
    },
    {
     "name": "stderr",
     "output_type": "stream",
     "text": [
      "Classifying:  81%|██████████████████████████████████████████████▉           | 38749/47871 [13:21:14<2:26:51,  1.04it/s]"
     ]
    },
    {
     "name": "stdout",
     "output_type": "stream",
     "text": [
      "Warning: Unexpected label at index 38749: 'quantum computer vision'\n"
     ]
    },
    {
     "name": "stderr",
     "output_type": "stream",
     "text": [
      "Classifying:  81%|██████████████████████████████████████████████▉           | 38753/47871 [13:21:18<2:40:37,  1.06s/it]"
     ]
    },
    {
     "name": "stdout",
     "output_type": "stream",
     "text": [
      "Warning: Unexpected label at index 38753: 'quantum remote sensing'\n"
     ]
    },
    {
     "name": "stderr",
     "output_type": "stream",
     "text": [
      "Classifying:  81%|██████████████████████████████████████████████▉           | 38755/47871 [13:21:20<2:21:12,  1.08it/s]"
     ]
    },
    {
     "name": "stdout",
     "output_type": "stream",
     "text": [
      "Warning: Unexpected label at index 38755: 'quantum optics'\n"
     ]
    },
    {
     "name": "stderr",
     "output_type": "stream",
     "text": [
      "Classifying:  81%|██████████████████████████████████████████████▉           | 38763/47871 [13:21:27<2:08:13,  1.18it/s]"
     ]
    },
    {
     "name": "stdout",
     "output_type": "stream",
     "text": [
      "Warning: Unexpected label at index 38763: 'quantum photochemistry'\n"
     ]
    },
    {
     "name": "stderr",
     "output_type": "stream",
     "text": [
      "Classifying:  81%|███████████████████████████████████████████████           | 38829/47871 [13:22:29<2:07:51,  1.18it/s]"
     ]
    },
    {
     "name": "stdout",
     "output_type": "stream",
     "text": [
      "Warning: Unexpected label at index 38829: 'quantum chemistry'\n"
     ]
    },
    {
     "name": "stderr",
     "output_type": "stream",
     "text": [
      "Classifying:  81%|███████████████████████████████████████████████           | 38840/47871 [13:22:44<6:44:52,  2.69s/it]"
     ]
    },
    {
     "name": "stdout",
     "output_type": "stream",
     "text": [
      "Warning: Unexpected label at index 38840: 'quantum energy storage'\n"
     ]
    },
    {
     "name": "stderr",
     "output_type": "stream",
     "text": [
      "Classifying:  81%|███████████████████████████████████████████████           | 38845/47871 [13:22:49<3:01:23,  1.21s/it]"
     ]
    },
    {
     "name": "stdout",
     "output_type": "stream",
     "text": [
      "Warning: Unexpected label at index 38845: 'quantum spectroscopy'\n"
     ]
    },
    {
     "name": "stderr",
     "output_type": "stream",
     "text": [
      "Classifying:  81%|███████████████████████████████████████████████           | 38851/47871 [13:22:55<2:28:07,  1.01it/s]"
     ]
    },
    {
     "name": "stdout",
     "output_type": "stream",
     "text": [
      "Warning: Unexpected label at index 38851: 'quantum optics'\n"
     ]
    },
    {
     "name": "stderr",
     "output_type": "stream",
     "text": [
      "Classifying:  81%|███████████████████████████████████████████████           | 38882/47871 [13:23:23<2:01:52,  1.23it/s]"
     ]
    },
    {
     "name": "stdout",
     "output_type": "stream",
     "text": [
      "Warning: Unexpected label at index 38882: 'quantum spectroscopy'\n"
     ]
    },
    {
     "name": "stderr",
     "output_type": "stream",
     "text": [
      "Classifying:  81%|███████████████████████████████████████████████           | 38884/47871 [13:23:24<2:03:16,  1.21it/s]"
     ]
    },
    {
     "name": "stdout",
     "output_type": "stream",
     "text": [
      "Warning: Unexpected label at index 38884: 'This paper is not related to quantum computing. The title and abstract describe a physical electronic device with a printed circuit board and heatsinks, which is not a topic covered by the available labels. Therefore, there is no appropriate label for this paper.'\n"
     ]
    },
    {
     "name": "stderr",
     "output_type": "stream",
     "text": [
      "Classifying:  81%|███████████████████████████████████████████████▏          | 38903/47871 [13:23:42<2:20:27,  1.06it/s]"
     ]
    },
    {
     "name": "stdout",
     "output_type": "stream",
     "text": [
      "Warning: Unexpected label at index 38903: 'quantum interference'\n"
     ]
    },
    {
     "name": "stderr",
     "output_type": "stream",
     "text": [
      "Classifying:  81%|███████████████████████████████████████████████▏          | 38911/47871 [13:23:50<2:21:44,  1.05it/s]"
     ]
    },
    {
     "name": "stdout",
     "output_type": "stream",
     "text": [
      "Warning: Unexpected label at index 38911: 'quantum random number generation'\n"
     ]
    },
    {
     "name": "stderr",
     "output_type": "stream",
     "text": [
      "Classifying:  81%|███████████████████████████████████████████████▏          | 38922/47871 [13:24:02<2:16:51,  1.09it/s]"
     ]
    },
    {
     "name": "stdout",
     "output_type": "stream",
     "text": [
      "Warning: Unexpected label at index 38922: 'quantum spectroscopy'\n"
     ]
    },
    {
     "name": "stderr",
     "output_type": "stream",
     "text": [
      "Classifying:  81%|███████████████████████████████████████████████▏          | 38926/47871 [13:24:06<2:09:38,  1.15it/s]"
     ]
    },
    {
     "name": "stdout",
     "output_type": "stream",
     "text": [
      "Warning: Unexpected label at index 38926: 'quantum optics'\n"
     ]
    },
    {
     "name": "stderr",
     "output_type": "stream",
     "text": [
      "Classifying:  81%|███████████████████████████████████████████████▏          | 38928/47871 [13:24:08<2:03:41,  1.21it/s]"
     ]
    },
    {
     "name": "stdout",
     "output_type": "stream",
     "text": [
      "Warning: Unexpected label at index 38928: 'quantum sensor fusion'\n"
     ]
    },
    {
     "name": "stderr",
     "output_type": "stream",
     "text": [
      "Classifying:  81%|███████████████████████████████████████████████▏          | 38933/47871 [13:24:20<6:11:13,  2.49s/it]"
     ]
    },
    {
     "name": "stdout",
     "output_type": "stream",
     "text": [
      "Warning: Unexpected label at index 38933: 'quantum optics'\n"
     ]
    },
    {
     "name": "stderr",
     "output_type": "stream",
     "text": [
      "Classifying:  81%|███████████████████████████████████████████████▏          | 38954/47871 [13:24:45<4:26:01,  1.79s/it]"
     ]
    },
    {
     "name": "stdout",
     "output_type": "stream",
     "text": [
      "Warning: Unexpected label at index 38954: 'quantum optics'\n"
     ]
    },
    {
     "name": "stderr",
     "output_type": "stream",
     "text": [
      "Classifying:  81%|███████████████████████████████████████████████▏          | 38984/47871 [13:25:14<2:10:48,  1.13it/s]"
     ]
    },
    {
     "name": "stdout",
     "output_type": "stream",
     "text": [
      "Warning: Unexpected label at index 38984: 'quantum chemistry'\n"
     ]
    },
    {
     "name": "stderr",
     "output_type": "stream",
     "text": [
      "Classifying:  82%|███████████████████████████████████████████████▎          | 39019/47871 [13:25:46<2:00:35,  1.22it/s]"
     ]
    },
    {
     "name": "stdout",
     "output_type": "stream",
     "text": [
      "Warning: Unexpected label at index 39019: 'quantum imaging'\n"
     ]
    },
    {
     "name": "stderr",
     "output_type": "stream",
     "text": [
      "Classifying:  82%|███████████████████████████████████████████████▎          | 39029/47871 [13:25:56<2:14:38,  1.09it/s]"
     ]
    },
    {
     "name": "stdout",
     "output_type": "stream",
     "text": [
      "Warning: Unexpected label at index 39029: 'quantum optics'\n"
     ]
    },
    {
     "name": "stderr",
     "output_type": "stream",
     "text": [
      "Classifying:  82%|███████████████████████████████████████████████▎          | 39032/47871 [13:25:58<2:04:35,  1.18it/s]"
     ]
    },
    {
     "name": "stdout",
     "output_type": "stream",
     "text": [
      "Warning: Unexpected label at index 39032: 'quantum optics'\n"
     ]
    },
    {
     "name": "stderr",
     "output_type": "stream",
     "text": [
      "Classifying:  82%|███████████████████████████████████████████████▎          | 39035/47871 [13:26:03<3:15:02,  1.32s/it]"
     ]
    },
    {
     "name": "stdout",
     "output_type": "stream",
     "text": [
      "Warning: Unexpected label at index 39035: 'quantum optics'\n"
     ]
    },
    {
     "name": "stderr",
     "output_type": "stream",
     "text": [
      "Classifying:  82%|███████████████████████████████████████████████▎          | 39075/47871 [13:26:48<2:14:50,  1.09it/s]"
     ]
    },
    {
     "name": "stdout",
     "output_type": "stream",
     "text": [
      "Warning: Unexpected label at index 39075: 'quantum materials'\n"
     ]
    },
    {
     "name": "stderr",
     "output_type": "stream",
     "text": [
      "Classifying:  82%|███████████████████████████████████████████████▎          | 39076/47871 [13:26:49<2:08:40,  1.14it/s]"
     ]
    },
    {
     "name": "stdout",
     "output_type": "stream",
     "text": [
      "Warning: Unexpected label at index 39076: 'quantum optoelectronics'\n"
     ]
    },
    {
     "name": "stderr",
     "output_type": "stream",
     "text": [
      "Classifying:  82%|███████████████████████████████████████████████▎          | 39080/47871 [13:26:52<2:03:41,  1.18it/s]"
     ]
    },
    {
     "name": "stdout",
     "output_type": "stream",
     "text": [
      "Warning: Unexpected label at index 39080: 'quantum random number generation'\n"
     ]
    },
    {
     "name": "stderr",
     "output_type": "stream",
     "text": [
      "Classifying:  82%|███████████████████████████████████████████████▎          | 39097/47871 [13:27:22<2:27:04,  1.01s/it]"
     ]
    },
    {
     "name": "stdout",
     "output_type": "stream",
     "text": [
      "Warning: Unexpected label at index 39097: 'The given paper does not appear to be related to quantum computing. It seems to be about a head-mounted display with a dynamically changing lens. Therefore, the appropriate label for this paper is:\n",
      "\n",
      "quantum computing'\n"
     ]
    },
    {
     "name": "stderr",
     "output_type": "stream",
     "text": [
      "Classifying:  82%|███████████████████████████████████████████████▍          | 39102/47871 [13:27:28<2:28:45,  1.02s/it]"
     ]
    },
    {
     "name": "stdout",
     "output_type": "stream",
     "text": [
      "Warning: Unexpected label at index 39102: 'quantum random number generation'\n"
     ]
    },
    {
     "name": "stderr",
     "output_type": "stream",
     "text": [
      "Classifying:  82%|███████████████████████████████████████████████▍          | 39106/47871 [13:27:32<2:27:54,  1.01s/it]"
     ]
    },
    {
     "name": "stdout",
     "output_type": "stream",
     "text": [
      "Warning: Unexpected label at index 39106: 'quantum materials'\n"
     ]
    },
    {
     "name": "stderr",
     "output_type": "stream",
     "text": [
      "Classifying:  82%|███████████████████████████████████████████████▍          | 39197/47871 [13:29:15<2:31:15,  1.05s/it]"
     ]
    },
    {
     "name": "stdout",
     "output_type": "stream",
     "text": [
      "Warning: Unexpected label at index 39197: 'quantum energy harvesting'\n"
     ]
    },
    {
     "name": "stderr",
     "output_type": "stream",
     "text": [
      "Classifying:  82%|███████████████████████████████████████████████▌          | 39216/47871 [13:29:41<2:51:57,  1.19s/it]"
     ]
    },
    {
     "name": "stdout",
     "output_type": "stream",
     "text": [
      "Warning: Unexpected label at index 39216: 'quantum energy conversion'\n"
     ]
    },
    {
     "name": "stderr",
     "output_type": "stream",
     "text": [
      "Classifying:  82%|███████████████████████████████████████████████▌          | 39217/47871 [13:29:42<2:39:16,  1.10s/it]"
     ]
    },
    {
     "name": "stdout",
     "output_type": "stream",
     "text": [
      "Warning: Unexpected label at index 39217: 'quantum imaging'\n"
     ]
    },
    {
     "name": "stderr",
     "output_type": "stream",
     "text": [
      "Classifying:  82%|███████████████████████████████████████████████▌          | 39235/47871 [13:30:00<2:37:23,  1.09s/it]"
     ]
    },
    {
     "name": "stdout",
     "output_type": "stream",
     "text": [
      "Warning: Unexpected label at index 39235: 'quantum random number generation'\n"
     ]
    },
    {
     "name": "stderr",
     "output_type": "stream",
     "text": [
      "Classifying:  82%|███████████████████████████████████████████████▌          | 39304/47871 [13:31:05<2:10:46,  1.09it/s]"
     ]
    },
    {
     "name": "stdout",
     "output_type": "stream",
     "text": [
      "Warning: Unexpected label at index 39304: 'quantum energy conversion'\n"
     ]
    },
    {
     "name": "stderr",
     "output_type": "stream",
     "text": [
      "Classifying:  82%|███████████████████████████████████████████████▋          | 39319/47871 [13:31:20<2:25:53,  1.02s/it]"
     ]
    },
    {
     "name": "stdout",
     "output_type": "stream",
     "text": [
      "Warning: Unexpected label at index 39319: 'This paper is not related to quantum computing. It appears to be about a study method and system for motivating students, which uses artificial intelligence to monitor student progress and morale. This does not fall under any of the available labels for quantum computing.'\n"
     ]
    },
    {
     "name": "stderr",
     "output_type": "stream",
     "text": [
      "Classifying:  82%|███████████████████████████████████████████████▋          | 39329/47871 [13:31:29<2:17:45,  1.03it/s]"
     ]
    },
    {
     "name": "stdout",
     "output_type": "stream",
     "text": [
      "Warning: Unexpected label at index 39329: 'quantum materials'\n"
     ]
    },
    {
     "name": "stderr",
     "output_type": "stream",
     "text": [
      "Classifying:  82%|███████████████████████████████████████████████▋          | 39361/47871 [13:32:07<2:12:29,  1.07it/s]"
     ]
    },
    {
     "name": "stdout",
     "output_type": "stream",
     "text": [
      "Warning: Unexpected label at index 39361: 'quantum natural language processing'\n"
     ]
    },
    {
     "name": "stderr",
     "output_type": "stream",
     "text": [
      "Classifying:  82%|███████████████████████████████████████████████▋          | 39381/47871 [13:32:25<1:59:52,  1.18it/s]"
     ]
    },
    {
     "name": "stdout",
     "output_type": "stream",
     "text": [
      "Warning: Unexpected label at index 39381: 'quantum imaging'\n"
     ]
    },
    {
     "name": "stderr",
     "output_type": "stream",
     "text": [
      "Classifying:  82%|███████████████████████████████████████████████▋          | 39396/47871 [13:32:38<2:05:47,  1.12it/s]"
     ]
    },
    {
     "name": "stdout",
     "output_type": "stream",
     "text": [
      "Warning: Unexpected label at index 39396: 'quantum imaging'\n"
     ]
    },
    {
     "name": "stderr",
     "output_type": "stream",
     "text": [
      "Classifying:  82%|███████████████████████████████████████████████▋          | 39407/47871 [13:32:51<2:55:26,  1.24s/it]"
     ]
    },
    {
     "name": "stdout",
     "output_type": "stream",
     "text": [
      "Warning: Unexpected label at index 39407: 'quantum spectroscopy'\n"
     ]
    },
    {
     "name": "stderr",
     "output_type": "stream",
     "text": [
      "Classifying:  82%|███████████████████████████████████████████████▋          | 39409/47871 [13:32:53<2:24:14,  1.02s/it]"
     ]
    },
    {
     "name": "stdout",
     "output_type": "stream",
     "text": [
      "Warning: Unexpected label at index 39409: 'quantum imaging'\n"
     ]
    },
    {
     "name": "stderr",
     "output_type": "stream",
     "text": [
      "Classifying:  83%|███████████████████████████████████████████████▊          | 39504/47871 [13:34:40<2:19:10,  1.00it/s]"
     ]
    },
    {
     "name": "stdout",
     "output_type": "stream",
     "text": [
      "Warning: Unexpected label at index 39504: 'quantum display'\n"
     ]
    },
    {
     "name": "stderr",
     "output_type": "stream",
     "text": [
      "Classifying:  83%|███████████████████████████████████████████████▊          | 39507/47871 [13:34:43<2:39:51,  1.15s/it]"
     ]
    },
    {
     "name": "stdout",
     "output_type": "stream",
     "text": [
      "Warning: Unexpected label at index 39507: 'quantum calibration'\n"
     ]
    },
    {
     "name": "stderr",
     "output_type": "stream",
     "text": [
      "Classifying:  83%|███████████████████████████████████████████████▉          | 39561/47871 [13:35:39<2:04:30,  1.11it/s]"
     ]
    },
    {
     "name": "stdout",
     "output_type": "stream",
     "text": [
      "Warning: Unexpected label at index 39561: 'quantum optics'\n"
     ]
    },
    {
     "name": "stderr",
     "output_type": "stream",
     "text": [
      "Classifying:  83%|████████████████████████████████████████████████          | 39696/47871 [13:37:57<2:03:39,  1.10it/s]"
     ]
    },
    {
     "name": "stdout",
     "output_type": "stream",
     "text": [
      "Warning: Unexpected label at index 39696: 'quantum imaging'\n"
     ]
    },
    {
     "name": "stderr",
     "output_type": "stream",
     "text": [
      "Classifying:  83%|████████████████████████████████████████████████          | 39708/47871 [13:38:09<2:07:21,  1.07it/s]"
     ]
    },
    {
     "name": "stdout",
     "output_type": "stream",
     "text": [
      "Warning: Unexpected label at index 39708: 'quantum imaging'\n"
     ]
    },
    {
     "name": "stderr",
     "output_type": "stream",
     "text": [
      "Classifying:  83%|████████████████████████████████████████████████          | 39713/47871 [13:38:14<2:02:14,  1.11it/s]"
     ]
    },
    {
     "name": "stdout",
     "output_type": "stream",
     "text": [
      "Warning: Unexpected label at index 39713: 'quantum materials'\n"
     ]
    },
    {
     "name": "stderr",
     "output_type": "stream",
     "text": [
      "Classifying:  83%|████████████████████████████████████████████████          | 39716/47871 [13:38:17<1:58:06,  1.15it/s]"
     ]
    },
    {
     "name": "stdout",
     "output_type": "stream",
     "text": [
      "Warning: Unexpected label at index 39716: 'quantum imaging'\n"
     ]
    },
    {
     "name": "stderr",
     "output_type": "stream",
     "text": [
      "Classifying:  83%|████████████████████████████████████████████████▏         | 39772/47871 [13:39:11<2:06:11,  1.07it/s]"
     ]
    },
    {
     "name": "stdout",
     "output_type": "stream",
     "text": [
      "Warning: Unexpected label at index 39772: 'quantum chemistry'\n"
     ]
    },
    {
     "name": "stderr",
     "output_type": "stream",
     "text": [
      "Classifying:  83%|████████████████████████████████████████████████▏         | 39784/47871 [13:39:24<2:15:58,  1.01s/it]"
     ]
    },
    {
     "name": "stdout",
     "output_type": "stream",
     "text": [
      "Warning: Unexpected label at index 39784: 'quantum photonics'\n"
     ]
    },
    {
     "name": "stderr",
     "output_type": "stream",
     "text": [
      "Classifying:  83%|████████████████████████████████████████████████▏         | 39790/47871 [13:39:29<1:50:04,  1.22it/s]"
     ]
    },
    {
     "name": "stdout",
     "output_type": "stream",
     "text": [
      "Warning: Unexpected label at index 39790: 'quantum applications'\n"
     ]
    },
    {
     "name": "stderr",
     "output_type": "stream",
     "text": [
      "Classifying:  83%|████████████████████████████████████████████████▏         | 39805/47871 [13:39:48<2:08:40,  1.04it/s]"
     ]
    },
    {
     "name": "stdout",
     "output_type": "stream",
     "text": [
      "Warning: Unexpected label at index 39805: 'quantum applications'\n"
     ]
    },
    {
     "name": "stderr",
     "output_type": "stream",
     "text": [
      "Classifying:  83%|████████████████████████████████████████████████▎         | 39832/47871 [13:40:13<2:19:55,  1.04s/it]"
     ]
    },
    {
     "name": "stdout",
     "output_type": "stream",
     "text": [
      "Warning: Unexpected label at index 39832: 'quantum materials'\n"
     ]
    },
    {
     "name": "stderr",
     "output_type": "stream",
     "text": [
      "Classifying:  83%|████████████████████████████████████████████████▎         | 39858/47871 [13:40:44<3:29:36,  1.57s/it]"
     ]
    },
    {
     "name": "stdout",
     "output_type": "stream",
     "text": [
      "Warning: Unexpected label at index 39858: 'quantum applications'\n"
     ]
    },
    {
     "name": "stderr",
     "output_type": "stream",
     "text": [
      "Classifying:  83%|████████████████████████████████████████████████▎         | 39862/47871 [13:40:48<2:43:25,  1.22s/it]"
     ]
    },
    {
     "name": "stdout",
     "output_type": "stream",
     "text": [
      "Warning: Unexpected label at index 39862: 'quantum applications'\n"
     ]
    },
    {
     "name": "stderr",
     "output_type": "stream",
     "text": [
      "Classifying:  83%|████████████████████████████████████████████████▎         | 39879/47871 [13:41:04<1:58:42,  1.12it/s]"
     ]
    },
    {
     "name": "stdout",
     "output_type": "stream",
     "text": [
      "Warning: Unexpected label at index 39879: 'quantum imaging'\n"
     ]
    },
    {
     "name": "stderr",
     "output_type": "stream",
     "text": [
      "Classifying:  83%|████████████████████████████████████████████████▎         | 39909/47871 [13:41:31<2:06:50,  1.05it/s]"
     ]
    },
    {
     "name": "stdout",
     "output_type": "stream",
     "text": [
      "Warning: Unexpected label at index 39909: 'quantum materials'\n"
     ]
    },
    {
     "name": "stderr",
     "output_type": "stream",
     "text": [
      "Classifying:  83%|████████████████████████████████████████████████▍         | 39930/47871 [13:41:52<1:54:36,  1.15it/s]"
     ]
    },
    {
     "name": "stdout",
     "output_type": "stream",
     "text": [
      "Warning: Unexpected label at index 39930: 'quantum imaging'\n"
     ]
    },
    {
     "name": "stderr",
     "output_type": "stream",
     "text": [
      "Classifying:  83%|████████████████████████████████████████████████▍         | 39964/47871 [13:42:48<5:28:09,  2.49s/it]"
     ]
    },
    {
     "name": "stdout",
     "output_type": "stream",
     "text": [
      "Warning: Unexpected label at index 39964: 'quantum materials'\n"
     ]
    },
    {
     "name": "stderr",
     "output_type": "stream",
     "text": [
      "Classifying:  84%|████████████████████████████████████████████████▍         | 39999/47871 [13:43:22<2:12:04,  1.01s/it]"
     ]
    },
    {
     "name": "stdout",
     "output_type": "stream",
     "text": [
      "→ Saved checkpoint for rows 0–40000\n"
     ]
    },
    {
     "name": "stderr",
     "output_type": "stream",
     "text": [
      "Classifying:  84%|████████████████████████████████████████████████▍         | 40006/47871 [13:43:29<2:03:58,  1.06it/s]"
     ]
    },
    {
     "name": "stdout",
     "output_type": "stream",
     "text": [
      "Warning: Unexpected label at index 40006: 'quantum imaging'\n"
     ]
    },
    {
     "name": "stderr",
     "output_type": "stream",
     "text": [
      "Classifying:  84%|████████████████████████████████████████████████▍         | 40007/47871 [13:43:29<1:58:15,  1.11it/s]"
     ]
    },
    {
     "name": "stdout",
     "output_type": "stream",
     "text": [
      "Warning: Unexpected label at index 40007: 'This paper does not appear to be related to quantum computing. The abstract describes an organic compound for optoelectronic devices, which is outside the field of quantum computing. Therefore, I cannot classify this paper with any of the available labels.'\n"
     ]
    },
    {
     "name": "stderr",
     "output_type": "stream",
     "text": [
      "Classifying:  84%|████████████████████████████████████████████████▍         | 40029/47871 [13:43:50<1:56:47,  1.12it/s]"
     ]
    },
    {
     "name": "stdout",
     "output_type": "stream",
     "text": [
      "Warning: Unexpected label at index 40029: 'classical computing'\n"
     ]
    },
    {
     "name": "stderr",
     "output_type": "stream",
     "text": [
      "Classifying:  84%|████████████████████████████████████████████████▋         | 40153/47871 [13:46:10<2:02:29,  1.05it/s]"
     ]
    },
    {
     "name": "stdout",
     "output_type": "stream",
     "text": [
      "Warning: Unexpected label at index 40153: 'quantum materials'\n"
     ]
    },
    {
     "name": "stderr",
     "output_type": "stream",
     "text": [
      "Classifying:  84%|████████████████████████████████████████████████▋         | 40221/47871 [13:47:18<2:24:40,  1.13s/it]"
     ]
    },
    {
     "name": "stdout",
     "output_type": "stream",
     "text": [
      "Warning: Unexpected label at index 40221: 'quantum sequencing'\n"
     ]
    },
    {
     "name": "stderr",
     "output_type": "stream",
     "text": [
      "Classifying:  84%|████████████████████████████████████████████████▊         | 40237/47871 [13:47:38<2:24:44,  1.14s/it]"
     ]
    },
    {
     "name": "stdout",
     "output_type": "stream",
     "text": [
      "Warning: Unexpected label at index 40237: 'quantum optics'\n"
     ]
    },
    {
     "name": "stderr",
     "output_type": "stream",
     "text": [
      "Classifying:  84%|████████████████████████████████████████████████▊         | 40240/47871 [13:47:41<1:57:31,  1.08it/s]"
     ]
    },
    {
     "name": "stdout",
     "output_type": "stream",
     "text": [
      "Error at index 40240: Expecting value: line 1 column 1 (char 0)\n"
     ]
    },
    {
     "name": "stderr",
     "output_type": "stream",
     "text": [
      "Classifying:  84%|████████████████████████████████████████████████▊         | 40279/47871 [13:48:29<6:03:33,  2.87s/it]"
     ]
    },
    {
     "name": "stdout",
     "output_type": "stream",
     "text": [
      "Warning: Unexpected label at index 40279: 'quantum sequencing'\n"
     ]
    },
    {
     "name": "stderr",
     "output_type": "stream",
     "text": [
      "Classifying:  84%|████████████████████████████████████████████████▊         | 40293/47871 [13:48:42<1:58:51,  1.06it/s]"
     ]
    },
    {
     "name": "stdout",
     "output_type": "stream",
     "text": [
      "Warning: Unexpected label at index 40293: 'quantum amplifiers'\n"
     ]
    },
    {
     "name": "stderr",
     "output_type": "stream",
     "text": [
      "Classifying:  84%|████████████████████████████████████████████████▊         | 40300/47871 [13:48:48<1:48:56,  1.16it/s]"
     ]
    },
    {
     "name": "stdout",
     "output_type": "stream",
     "text": [
      "Warning: Unexpected label at index 40300: 'quantum sequencing'\n"
     ]
    },
    {
     "name": "stderr",
     "output_type": "stream",
     "text": [
      "Classifying:  84%|████████████████████████████████████████████████▊         | 40336/47871 [13:49:22<1:46:32,  1.18it/s]"
     ]
    },
    {
     "name": "stdout",
     "output_type": "stream",
     "text": [
      "Warning: Unexpected label at index 40336: 'quantum imaging'\n"
     ]
    },
    {
     "name": "stderr",
     "output_type": "stream",
     "text": [
      "Classifying:  84%|████████████████████████████████████████████████▉         | 40367/47871 [13:49:50<2:02:09,  1.02it/s]"
     ]
    },
    {
     "name": "stdout",
     "output_type": "stream",
     "text": [
      "Warning: Unexpected label at index 40367: 'quantum optics'\n"
     ]
    },
    {
     "name": "stderr",
     "output_type": "stream",
     "text": [
      "Classifying:  84%|████████████████████████████████████████████████▉         | 40376/47871 [13:50:05<2:17:19,  1.10s/it]"
     ]
    },
    {
     "name": "stdout",
     "output_type": "stream",
     "text": [
      "Warning: Unexpected label at index 40376: 'quantum compression'\n"
     ]
    },
    {
     "name": "stderr",
     "output_type": "stream",
     "text": [
      "Classifying:  84%|████████████████████████████████████████████████▉         | 40387/47871 [13:50:15<1:49:20,  1.14it/s]"
     ]
    },
    {
     "name": "stdout",
     "output_type": "stream",
     "text": [
      "Warning: Unexpected label at index 40387: 'quantum compression'\n"
     ]
    },
    {
     "name": "stderr",
     "output_type": "stream",
     "text": [
      "Classifying:  84%|████████████████████████████████████████████████▉         | 40392/47871 [13:50:20<2:00:46,  1.03it/s]"
     ]
    },
    {
     "name": "stdout",
     "output_type": "stream",
     "text": [
      "Warning: Unexpected label at index 40392: 'quantum simultaneous localization and mapping'\n"
     ]
    },
    {
     "name": "stderr",
     "output_type": "stream",
     "text": [
      "Classifying:  84%|█████████████████████████████████████████████████         | 40443/47871 [13:51:11<1:50:19,  1.12it/s]"
     ]
    },
    {
     "name": "stdout",
     "output_type": "stream",
     "text": [
      "Warning: Unexpected label at index 40443: 'quantum imaging'\n"
     ]
    },
    {
     "name": "stderr",
     "output_type": "stream",
     "text": [
      "Classifying:  84%|█████████████████████████████████████████████████         | 40447/47871 [13:51:15<1:52:58,  1.10it/s]"
     ]
    },
    {
     "name": "stdout",
     "output_type": "stream",
     "text": [
      "Warning: Unexpected label at index 40447: 'quantum music'\n"
     ]
    },
    {
     "name": "stderr",
     "output_type": "stream",
     "text": [
      "Classifying:  85%|█████████████████████████████████████████████████         | 40462/47871 [13:51:31<2:07:04,  1.03s/it]"
     ]
    },
    {
     "name": "stdout",
     "output_type": "stream",
     "text": [
      "Warning: Unexpected label at index 40462: 'quantum tactile feedback'\n"
     ]
    },
    {
     "name": "stderr",
     "output_type": "stream",
     "text": [
      "Classifying:  85%|█████████████████████████████████████████████████         | 40466/47871 [13:51:34<1:56:32,  1.06it/s]"
     ]
    },
    {
     "name": "stdout",
     "output_type": "stream",
     "text": [
      "Warning: Unexpected label at index 40466: 'quantum chemistry'\n"
     ]
    },
    {
     "name": "stderr",
     "output_type": "stream",
     "text": [
      "Classifying:  85%|█████████████████████████████████████████████████         | 40491/47871 [13:52:04<1:57:54,  1.04it/s]"
     ]
    },
    {
     "name": "stdout",
     "output_type": "stream",
     "text": [
      "Warning: Unexpected label at index 40491: 'quantum imaging'\n"
     ]
    },
    {
     "name": "stderr",
     "output_type": "stream",
     "text": [
      "Classifying:  85%|█████████████████████████████████████████████████         | 40527/47871 [13:52:43<2:17:54,  1.13s/it]"
     ]
    },
    {
     "name": "stdout",
     "output_type": "stream",
     "text": [
      "Warning: Unexpected label at index 40527: 'quantum scheduling'\n"
     ]
    },
    {
     "name": "stderr",
     "output_type": "stream",
     "text": [
      "Classifying:  85%|█████████████████████████████████████████████████         | 40530/47871 [13:52:53<4:58:45,  2.44s/it]"
     ]
    },
    {
     "name": "stdout",
     "output_type": "stream",
     "text": [
      "Warning: Unexpected label at index 40530: 'quantum materials'\n"
     ]
    },
    {
     "name": "stderr",
     "output_type": "stream",
     "text": [
      "Classifying:  85%|█████████████████████████████████████████████████         | 40535/47871 [13:52:58<2:26:50,  1.20s/it]"
     ]
    },
    {
     "name": "stdout",
     "output_type": "stream",
     "text": [
      "Warning: Unexpected label at index 40535: 'quantum imaging'\n"
     ]
    },
    {
     "name": "stderr",
     "output_type": "stream",
     "text": [
      "Classifying:  85%|█████████████████████████████████████████████████▏        | 40580/47871 [13:53:45<1:37:43,  1.24it/s]"
     ]
    },
    {
     "name": "stdout",
     "output_type": "stream",
     "text": [
      "Warning: Unexpected label at index 40580: 'quantum materials'\n"
     ]
    },
    {
     "name": "stderr",
     "output_type": "stream",
     "text": [
      "Classifying:  85%|█████████████████████████████████████████████████▏        | 40581/47871 [13:53:46<1:36:40,  1.26it/s]"
     ]
    },
    {
     "name": "stdout",
     "output_type": "stream",
     "text": [
      "Warning: Unexpected label at index 40581: 'quantum materials'\n"
     ]
    },
    {
     "name": "stderr",
     "output_type": "stream",
     "text": [
      "Classifying:  85%|█████████████████████████████████████████████████▏        | 40596/47871 [13:54:00<1:48:10,  1.12it/s]"
     ]
    },
    {
     "name": "stdout",
     "output_type": "stream",
     "text": [
      "Warning: Unexpected label at index 40596: 'quantum applications'\n"
     ]
    },
    {
     "name": "stderr",
     "output_type": "stream",
     "text": [
      "Classifying:  85%|█████████████████████████████████████████████████▏        | 40604/47871 [13:54:07<1:48:23,  1.12it/s]"
     ]
    },
    {
     "name": "stdout",
     "output_type": "stream",
     "text": [
      "Warning: Unexpected label at index 40604: 'quantum imaging'\n"
     ]
    },
    {
     "name": "stderr",
     "output_type": "stream",
     "text": [
      "Classifying:  85%|█████████████████████████████████████████████████▏        | 40605/47871 [13:54:08<1:43:28,  1.17it/s]"
     ]
    },
    {
     "name": "stdout",
     "output_type": "stream",
     "text": [
      "Warning: Unexpected label at index 40605: 'quantum simultaneous localization and mapping'\n"
     ]
    },
    {
     "name": "stderr",
     "output_type": "stream",
     "text": [
      "Classifying:  85%|█████████████████████████████████████████████████▏        | 40629/47871 [13:54:36<1:50:31,  1.09it/s]"
     ]
    },
    {
     "name": "stdout",
     "output_type": "stream",
     "text": [
      "Warning: Unexpected label at index 40629: 'quantum optics'\n"
     ]
    },
    {
     "name": "stderr",
     "output_type": "stream",
     "text": [
      "Classifying:  85%|█████████████████████████████████████████████████▏        | 40642/47871 [13:54:47<1:43:22,  1.17it/s]"
     ]
    },
    {
     "name": "stdout",
     "output_type": "stream",
     "text": [
      "Warning: Unexpected label at index 40642: 'quantum diagnostics'\n"
     ]
    },
    {
     "name": "stderr",
     "output_type": "stream",
     "text": [
      "Classifying:  85%|█████████████████████████████████████████████████▎        | 40662/47871 [13:55:05<1:44:11,  1.15it/s]"
     ]
    },
    {
     "name": "stdout",
     "output_type": "stream",
     "text": [
      "Warning: Unexpected label at index 40662: 'quantum display'\n"
     ]
    },
    {
     "name": "stderr",
     "output_type": "stream",
     "text": [
      "Classifying:  85%|█████████████████████████████████████████████████▎        | 40681/47871 [13:55:22<1:48:06,  1.11it/s]"
     ]
    },
    {
     "name": "stdout",
     "output_type": "stream",
     "text": [
      "Warning: Unexpected label at index 40681: 'quantum display'\n"
     ]
    },
    {
     "name": "stderr",
     "output_type": "stream",
     "text": [
      "Classifying:  85%|█████████████████████████████████████████████████▎        | 40683/47871 [13:55:24<1:56:32,  1.03it/s]"
     ]
    },
    {
     "name": "stdout",
     "output_type": "stream",
     "text": [
      "Warning: Unexpected label at index 40683: 'quantum display'\n"
     ]
    },
    {
     "name": "stderr",
     "output_type": "stream",
     "text": [
      "Classifying:  85%|█████████████████████████████████████████████████▎        | 40700/47871 [13:55:39<1:40:25,  1.19it/s]"
     ]
    },
    {
     "name": "stdout",
     "output_type": "stream",
     "text": [
      "Warning: Unexpected label at index 40700: 'quantum optics'\n"
     ]
    },
    {
     "name": "stderr",
     "output_type": "stream",
     "text": [
      "Classifying:  85%|█████████████████████████████████████████████████▎        | 40723/47871 [13:56:02<1:47:03,  1.11it/s]"
     ]
    },
    {
     "name": "stdout",
     "output_type": "stream",
     "text": [
      "Warning: Unexpected label at index 40723: 'quantum materials'\n"
     ]
    },
    {
     "name": "stderr",
     "output_type": "stream",
     "text": [
      "Classifying:  85%|█████████████████████████████████████████████████▎        | 40741/47871 [13:56:26<5:48:18,  2.93s/it]"
     ]
    },
    {
     "name": "stdout",
     "output_type": "stream",
     "text": [
      "Warning: Unexpected label at index 40741: 'quantum materials'\n"
     ]
    },
    {
     "name": "stderr",
     "output_type": "stream",
     "text": [
      "Classifying:  85%|█████████████████████████████████████████████████▎        | 40752/47871 [13:56:36<1:50:53,  1.07it/s]"
     ]
    },
    {
     "name": "stdout",
     "output_type": "stream",
     "text": [
      "Warning: Unexpected label at index 40752: 'quantum materials'\n"
     ]
    },
    {
     "name": "stderr",
     "output_type": "stream",
     "text": [
      "Classifying:  85%|█████████████████████████████████████████████████▍        | 40759/47871 [13:56:42<1:44:07,  1.14it/s]"
     ]
    },
    {
     "name": "stdout",
     "output_type": "stream",
     "text": [
      "Warning: Unexpected label at index 40759: 'quantum optics'\n"
     ]
    },
    {
     "name": "stderr",
     "output_type": "stream",
     "text": [
      "Classifying:  85%|█████████████████████████████████████████████████▍        | 40772/47871 [13:56:53<1:37:25,  1.21it/s]"
     ]
    },
    {
     "name": "stdout",
     "output_type": "stream",
     "text": [
      "Warning: Unexpected label at index 40772: 'quantum imaging'\n"
     ]
    },
    {
     "name": "stderr",
     "output_type": "stream",
     "text": [
      "Classifying:  85%|█████████████████████████████████████████████████▍        | 40780/47871 [13:57:00<1:51:14,  1.06it/s]"
     ]
    },
    {
     "name": "stdout",
     "output_type": "stream",
     "text": [
      "Warning: Unexpected label at index 40780: 'quantum materials'\n"
     ]
    },
    {
     "name": "stderr",
     "output_type": "stream",
     "text": [
      "Classifying:  85%|█████████████████████████████████████████████████▍        | 40801/47871 [13:57:21<1:53:45,  1.04it/s]"
     ]
    },
    {
     "name": "stdout",
     "output_type": "stream",
     "text": [
      "Warning: Unexpected label at index 40801: 'quantum materials'\n"
     ]
    },
    {
     "name": "stderr",
     "output_type": "stream",
     "text": [
      "Classifying:  85%|█████████████████████████████████████████████████▍        | 40814/47871 [13:57:32<1:36:46,  1.22it/s]"
     ]
    },
    {
     "name": "stdout",
     "output_type": "stream",
     "text": [
      "Warning: Unexpected label at index 40814: 'quantum imaging'\n"
     ]
    },
    {
     "name": "stderr",
     "output_type": "stream",
     "text": [
      "Classifying:  85%|█████████████████████████████████████████████████▍        | 40825/47871 [13:57:43<1:54:40,  1.02it/s]"
     ]
    },
    {
     "name": "stdout",
     "output_type": "stream",
     "text": [
      "Warning: Unexpected label at index 40825: 'quantum imaging'\n"
     ]
    },
    {
     "name": "stderr",
     "output_type": "stream",
     "text": [
      "Classifying:  85%|█████████████████████████████████████████████████▌        | 40869/47871 [13:58:29<1:35:05,  1.23it/s]"
     ]
    },
    {
     "name": "stdout",
     "output_type": "stream",
     "text": [
      "Warning: Unexpected label at index 40869: 'This paper does not appear to be related to quantum computing. The title and abstract indicate that it is about biomimetic membranes, which is a topic in materials science and biology, not quantum computing. Therefore, I would not be able to classify this paper using any of the available labels related to quantum computing.'\n"
     ]
    },
    {
     "name": "stderr",
     "output_type": "stream",
     "text": [
      "Classifying:  85%|█████████████████████████████████████████████████▌        | 40870/47871 [13:58:31<1:51:55,  1.04it/s]"
     ]
    },
    {
     "name": "stdout",
     "output_type": "stream",
     "text": [
      "Warning: Unexpected label at index 40870: 'quantum display'\n"
     ]
    },
    {
     "name": "stderr",
     "output_type": "stream",
     "text": [
      "Classifying:  85%|█████████████████████████████████████████████████▌        | 40885/47871 [13:58:45<2:09:21,  1.11s/it]"
     ]
    },
    {
     "name": "stdout",
     "output_type": "stream",
     "text": [
      "Warning: Unexpected label at index 40885: 'quantum materials'\n"
     ]
    },
    {
     "name": "stderr",
     "output_type": "stream",
     "text": [
      "Classifying:  85%|█████████████████████████████████████████████████▌        | 40902/47871 [13:59:07<1:51:42,  1.04it/s]"
     ]
    },
    {
     "name": "stdout",
     "output_type": "stream",
     "text": [
      "Warning: Unexpected label at index 40902: 'quantum monitoring'\n"
     ]
    },
    {
     "name": "stderr",
     "output_type": "stream",
     "text": [
      "Classifying:  85%|█████████████████████████████████████████████████▌        | 40905/47871 [13:59:09<1:45:43,  1.10it/s]"
     ]
    },
    {
     "name": "stdout",
     "output_type": "stream",
     "text": [
      "Warning: Unexpected label at index 40905: 'quantum materials'\n"
     ]
    },
    {
     "name": "stderr",
     "output_type": "stream",
     "text": [
      "Classifying:  85%|█████████████████████████████████████████████████▌        | 40906/47871 [13:59:16<5:21:09,  2.77s/it]"
     ]
    },
    {
     "name": "stdout",
     "output_type": "stream",
     "text": [
      "Warning: Unexpected label at index 40906: 'quantum materials'\n"
     ]
    },
    {
     "name": "stderr",
     "output_type": "stream",
     "text": [
      "Classifying:  85%|█████████████████████████████████████████████████▌        | 40926/47871 [13:59:36<2:03:32,  1.07s/it]"
     ]
    },
    {
     "name": "stdout",
     "output_type": "stream",
     "text": [
      "Warning: Unexpected label at index 40926: 'quantum imaging'\n"
     ]
    },
    {
     "name": "stderr",
     "output_type": "stream",
     "text": [
      "Classifying:  86%|█████████████████████████████████████████████████▌        | 40943/47871 [13:59:51<1:41:12,  1.14it/s]"
     ]
    },
    {
     "name": "stdout",
     "output_type": "stream",
     "text": [
      "Warning: Unexpected label at index 40943: 'quantum monitoring'\n"
     ]
    },
    {
     "name": "stderr",
     "output_type": "stream",
     "text": [
      "Classifying:  86%|█████████████████████████████████████████████████▋        | 40993/47871 [14:00:51<3:58:44,  2.08s/it]"
     ]
    },
    {
     "name": "stdout",
     "output_type": "stream",
     "text": [
      "Warning: Unexpected label at index 40993: 'quantum materials'\n"
     ]
    },
    {
     "name": "stderr",
     "output_type": "stream",
     "text": [
      "Classifying:  86%|█████████████████████████████████████████████████▋        | 41043/47871 [14:01:36<1:42:07,  1.11it/s]"
     ]
    },
    {
     "name": "stdout",
     "output_type": "stream",
     "text": [
      "Warning: Unexpected label at index 41043: 'quantum display'\n"
     ]
    },
    {
     "name": "stderr",
     "output_type": "stream",
     "text": [
      "Classifying:  86%|█████████████████████████████████████████████████▋        | 41054/47871 [14:01:47<1:58:40,  1.04s/it]"
     ]
    },
    {
     "name": "stdout",
     "output_type": "stream",
     "text": [
      "Warning: Unexpected label at index 41054: 'The given paper does not appear to be related to quantum computing. The abstract discusses a process for synthesizing a manganese-doped phosphor and a lighting apparatus including the phosphor composition. This topic is more closely related to materials science and solid-state lighting, rather than quantum computing. Therefore, the appropriate label for this paper would be:\n",
      "\n",
      "quantum computing'\n"
     ]
    },
    {
     "name": "stderr",
     "output_type": "stream",
     "text": [
      "Classifying:  86%|█████████████████████████████████████████████████▊        | 41065/47871 [14:01:57<1:40:16,  1.13it/s]"
     ]
    },
    {
     "name": "stdout",
     "output_type": "stream",
     "text": [
      "Warning: Unexpected label at index 41065: 'quantum imaging'\n"
     ]
    },
    {
     "name": "stderr",
     "output_type": "stream",
     "text": [
      "Classifying:  86%|█████████████████████████████████████████████████▊        | 41066/47871 [14:01:58<1:39:38,  1.14it/s]"
     ]
    },
    {
     "name": "stdout",
     "output_type": "stream",
     "text": [
      "Warning: Unexpected label at index 41066: 'quantum materials'\n"
     ]
    },
    {
     "name": "stderr",
     "output_type": "stream",
     "text": [
      "Classifying:  86%|█████████████████████████████████████████████████▊        | 41067/47871 [14:01:59<1:36:00,  1.18it/s]"
     ]
    },
    {
     "name": "stdout",
     "output_type": "stream",
     "text": [
      "Warning: Unexpected label at index 41067: 'This paper is not related to quantum computing. The given title and abstract do not mention anything about quantum computing or related topics. Therefore, this paper cannot be classified under any of the available labels.'\n"
     ]
    },
    {
     "name": "stderr",
     "output_type": "stream",
     "text": [
      "Classifying:  86%|█████████████████████████████████████████████████▊        | 41080/47871 [14:02:11<1:37:16,  1.16it/s]"
     ]
    },
    {
     "name": "stdout",
     "output_type": "stream",
     "text": [
      "Warning: Unexpected label at index 41079: 'quantum imaging'\n"
     ]
    },
    {
     "name": "stderr",
     "output_type": "stream",
     "text": [
      "Classifying:  86%|█████████████████████████████████████████████████▊        | 41090/47871 [14:02:26<5:18:30,  2.82s/it]"
     ]
    },
    {
     "name": "stdout",
     "output_type": "stream",
     "text": [
      "Warning: Unexpected label at index 41090: 'quantum color'\n"
     ]
    },
    {
     "name": "stderr",
     "output_type": "stream",
     "text": [
      "Classifying:  86%|█████████████████████████████████████████████████▊        | 41121/47871 [14:03:02<2:00:01,  1.07s/it]"
     ]
    },
    {
     "name": "stdout",
     "output_type": "stream",
     "text": [
      "Warning: Unexpected label at index 41121: 'quantum display'\n"
     ]
    },
    {
     "name": "stderr",
     "output_type": "stream",
     "text": [
      "Classifying:  86%|█████████████████████████████████████████████████▊        | 41137/47871 [14:03:23<3:03:02,  1.63s/it]"
     ]
    },
    {
     "name": "stdout",
     "output_type": "stream",
     "text": [
      "Warning: Unexpected label at index 41137: 'quantum materials'\n"
     ]
    },
    {
     "name": "stderr",
     "output_type": "stream",
     "text": [
      "Classifying:  86%|█████████████████████████████████████████████████▊        | 41142/47871 [14:03:29<2:12:28,  1.18s/it]"
     ]
    },
    {
     "name": "stdout",
     "output_type": "stream",
     "text": [
      "Warning: Unexpected label at index 41142: 'quantum optics'\n"
     ]
    },
    {
     "name": "stderr",
     "output_type": "stream",
     "text": [
      "Classifying:  86%|█████████████████████████████████████████████████▊        | 41144/47871 [14:03:31<1:59:26,  1.07s/it]"
     ]
    },
    {
     "name": "stdout",
     "output_type": "stream",
     "text": [
      "Warning: Unexpected label at index 41144: 'quantum optics'\n"
     ]
    },
    {
     "name": "stderr",
     "output_type": "stream",
     "text": [
      "Classifying:  86%|█████████████████████████████████████████████████▊        | 41153/47871 [14:03:41<2:05:58,  1.13s/it]"
     ]
    },
    {
     "name": "stdout",
     "output_type": "stream",
     "text": [
      "Warning: Unexpected label at index 41153: 'This paper is not related to quantum computing. The title and abstract describe a motorcycle theft prevention device, which is not a topic in quantum computing.\n",
      "\n",
      "quantum computing'\n"
     ]
    },
    {
     "name": "stderr",
     "output_type": "stream",
     "text": [
      "Classifying:  86%|█████████████████████████████████████████████████▉        | 41213/47871 [14:04:57<1:43:39,  1.07it/s]"
     ]
    },
    {
     "name": "stdout",
     "output_type": "stream",
     "text": [
      "Warning: Unexpected label at index 41213: 'quantum optics'\n"
     ]
    },
    {
     "name": "stderr",
     "output_type": "stream",
     "text": [
      "Classifying:  86%|█████████████████████████████████████████████████▉        | 41225/47871 [14:05:08<1:42:37,  1.08it/s]"
     ]
    },
    {
     "name": "stdout",
     "output_type": "stream",
     "text": [
      "Warning: Unexpected label at index 41225: 'quantum materials'\n"
     ]
    },
    {
     "name": "stderr",
     "output_type": "stream",
     "text": [
      "Classifying:  86%|█████████████████████████████████████████████████▉        | 41243/47871 [14:05:25<1:44:07,  1.06it/s]"
     ]
    },
    {
     "name": "stdout",
     "output_type": "stream",
     "text": [
      "Warning: Unexpected label at index 41243: 'quantum compression'\n"
     ]
    },
    {
     "name": "stderr",
     "output_type": "stream",
     "text": [
      "Classifying:  86%|█████████████████████████████████████████████████▉        | 41261/47871 [14:05:42<2:00:00,  1.09s/it]"
     ]
    },
    {
     "name": "stdout",
     "output_type": "stream",
     "text": [
      "Warning: Unexpected label at index 41261: 'quantum materials'\n"
     ]
    },
    {
     "name": "stderr",
     "output_type": "stream",
     "text": [
      "Classifying:  86%|██████████████████████████████████████████████████        | 41340/47871 [14:07:04<1:33:02,  1.17it/s]"
     ]
    },
    {
     "name": "stdout",
     "output_type": "stream",
     "text": [
      "Warning: Unexpected label at index 41340: 'quantum optics'\n"
     ]
    },
    {
     "name": "stderr",
     "output_type": "stream",
     "text": [
      "Classifying:  86%|██████████████████████████████████████████████████        | 41341/47871 [14:07:05<1:33:43,  1.16it/s]"
     ]
    },
    {
     "name": "stdout",
     "output_type": "stream",
     "text": [
      "Warning: Unexpected label at index 41341: 'quantum materials'\n"
     ]
    },
    {
     "name": "stderr",
     "output_type": "stream",
     "text": [
      "Classifying:  86%|██████████████████████████████████████████████████        | 41358/47871 [14:07:21<1:34:18,  1.15it/s]"
     ]
    },
    {
     "name": "stdout",
     "output_type": "stream",
     "text": [
      "Warning: Unexpected label at index 41358: 'quantum imaging'\n"
     ]
    },
    {
     "name": "stderr",
     "output_type": "stream",
     "text": [
      "Classifying:  87%|██████████████████████████████████████████████████▏       | 41423/47871 [14:08:47<5:15:17,  2.93s/it]"
     ]
    },
    {
     "name": "stdout",
     "output_type": "stream",
     "text": [
      "Warning: Unexpected label at index 41423: 'quantum imaging'\n"
     ]
    },
    {
     "name": "stderr",
     "output_type": "stream",
     "text": [
      "Classifying:  87%|██████████████████████████████████████████████████▏       | 41455/47871 [14:09:36<1:36:25,  1.11it/s]"
     ]
    },
    {
     "name": "stdout",
     "output_type": "stream",
     "text": [
      "Warning: Unexpected label at index 41455: 'quantum optics'\n"
     ]
    },
    {
     "name": "stderr",
     "output_type": "stream",
     "text": [
      "Classifying:  87%|██████████████████████████████████████████████████▏       | 41458/47871 [14:09:38<1:31:54,  1.16it/s]"
     ]
    },
    {
     "name": "stdout",
     "output_type": "stream",
     "text": [
      "Warning: Unexpected label at index 41458: 'quantum compression'\n"
     ]
    },
    {
     "name": "stderr",
     "output_type": "stream",
     "text": [
      "Classifying:  87%|██████████████████████████████████████████████████▏       | 41474/47871 [14:09:52<1:37:14,  1.10it/s]"
     ]
    },
    {
     "name": "stdout",
     "output_type": "stream",
     "text": [
      "Warning: Unexpected label at index 41474: 'quantum applications'\n"
     ]
    },
    {
     "name": "stderr",
     "output_type": "stream",
     "text": [
      "Classifying:  87%|██████████████████████████████████████████████████▎       | 41568/47871 [14:11:24<1:46:50,  1.02s/it]"
     ]
    },
    {
     "name": "stdout",
     "output_type": "stream",
     "text": [
      "Warning: Unexpected label at index 41568: 'quantum optics'\n"
     ]
    },
    {
     "name": "stderr",
     "output_type": "stream",
     "text": [
      "Classifying:  87%|██████████████████████████████████████████████████▍       | 41592/47871 [14:11:46<1:37:43,  1.07it/s]"
     ]
    },
    {
     "name": "stdout",
     "output_type": "stream",
     "text": [
      "Warning: Unexpected label at index 41592: 'quantum imaging'\n"
     ]
    },
    {
     "name": "stderr",
     "output_type": "stream",
     "text": [
      "Classifying:  87%|██████████████████████████████████████████████████▍       | 41599/47871 [14:11:55<2:09:18,  1.24s/it]"
     ]
    },
    {
     "name": "stdout",
     "output_type": "stream",
     "text": [
      "Warning: Unexpected label at index 41599: 'The paper does not seem to be related to quantum computing. It appears to be about display image quality optimization. Therefore, the appropriate label is:\n",
      "\n",
      "quantum computing'\n"
     ]
    },
    {
     "name": "stderr",
     "output_type": "stream",
     "text": [
      "Classifying:  87%|██████████████████████████████████████████████████▍       | 41600/47871 [14:11:56<2:05:32,  1.20s/it]"
     ]
    },
    {
     "name": "stdout",
     "output_type": "stream",
     "text": [
      "Warning: Unexpected label at index 41600: 'quantum display'\n"
     ]
    },
    {
     "name": "stderr",
     "output_type": "stream",
     "text": [
      "Classifying:  87%|██████████████████████████████████████████████████▍       | 41633/47871 [14:12:28<1:35:09,  1.09it/s]"
     ]
    },
    {
     "name": "stdout",
     "output_type": "stream",
     "text": [
      "Warning: Unexpected label at index 41633: 'quantum optics'\n"
     ]
    },
    {
     "name": "stderr",
     "output_type": "stream",
     "text": [
      "Classifying:  87%|██████████████████████████████████████████████████▍       | 41659/47871 [14:13:00<2:02:18,  1.18s/it]"
     ]
    },
    {
     "name": "stdout",
     "output_type": "stream",
     "text": [
      "Warning: Unexpected label at index 41659: 'quantum optics'\n"
     ]
    },
    {
     "name": "stderr",
     "output_type": "stream",
     "text": [
      "Classifying:  87%|██████████████████████████████████████████████████▍       | 41664/47871 [14:13:05<1:40:26,  1.03it/s]"
     ]
    },
    {
     "name": "stdout",
     "output_type": "stream",
     "text": [
      "Warning: Unexpected label at index 41664: 'quantum optics'\n"
     ]
    },
    {
     "name": "stderr",
     "output_type": "stream",
     "text": [
      "Classifying:  87%|██████████████████████████████████████████████████▌       | 41687/47871 [14:13:32<1:29:05,  1.16it/s]"
     ]
    },
    {
     "name": "stdout",
     "output_type": "stream",
     "text": [
      "Warning: Unexpected label at index 41687: 'quantum optics'\n"
     ]
    },
    {
     "name": "stderr",
     "output_type": "stream",
     "text": [
      "Classifying:  87%|██████████████████████████████████████████████████▌       | 41702/47871 [14:13:48<1:39:46,  1.03it/s]"
     ]
    },
    {
     "name": "stdout",
     "output_type": "stream",
     "text": [
      "Warning: Unexpected label at index 41702: 'quantum optics'\n"
     ]
    },
    {
     "name": "stderr",
     "output_type": "stream",
     "text": [
      "Classifying:  87%|██████████████████████████████████████████████████▋       | 41793/47871 [14:15:23<1:24:59,  1.19it/s]"
     ]
    },
    {
     "name": "stdout",
     "output_type": "stream",
     "text": [
      "Warning: Unexpected label at index 41793: 'quantum applications'\n"
     ]
    },
    {
     "name": "stderr",
     "output_type": "stream",
     "text": [
      "Classifying:  87%|██████████████████████████████████████████████████▋       | 41820/47871 [14:15:51<1:46:23,  1.05s/it]"
     ]
    },
    {
     "name": "stdout",
     "output_type": "stream",
     "text": [
      "Warning: Unexpected label at index 41820: 'quantum optoelectronics'\n"
     ]
    },
    {
     "name": "stderr",
     "output_type": "stream",
     "text": [
      "Classifying:  88%|██████████████████████████████████████████████████▉       | 42045/47871 [14:19:40<4:24:17,  2.72s/it]"
     ]
    },
    {
     "name": "stdout",
     "output_type": "stream",
     "text": [
      "Warning: Unexpected label at index 42045: 'quantum synchronization'\n"
     ]
    },
    {
     "name": "stderr",
     "output_type": "stream",
     "text": [
      "Classifying:  88%|██████████████████████████████████████████████████▉       | 42065/47871 [14:19:59<1:20:06,  1.21it/s]"
     ]
    },
    {
     "name": "stdout",
     "output_type": "stream",
     "text": [
      "Warning: Unexpected label at index 42065: 'quantum optics'\n"
     ]
    },
    {
     "name": "stderr",
     "output_type": "stream",
     "text": [
      "Classifying:  88%|███████████████████████████████████████████████████       | 42096/47871 [14:20:28<1:32:54,  1.04it/s]"
     ]
    },
    {
     "name": "stdout",
     "output_type": "stream",
     "text": [
      "Warning: Unexpected label at index 42096: 'quantum biometrics'\n"
     ]
    },
    {
     "name": "stderr",
     "output_type": "stream",
     "text": [
      "Classifying:  88%|███████████████████████████████████████████████████       | 42105/47871 [14:20:35<1:21:40,  1.18it/s]"
     ]
    },
    {
     "name": "stdout",
     "output_type": "stream",
     "text": [
      "Warning: Unexpected label at index 42105: 'quantum applications'\n"
     ]
    },
    {
     "name": "stderr",
     "output_type": "stream",
     "text": [
      "Classifying:  88%|███████████████████████████████████████████████████       | 42117/47871 [14:20:46<1:33:21,  1.03it/s]"
     ]
    },
    {
     "name": "stdout",
     "output_type": "stream",
     "text": [
      "Warning: Unexpected label at index 42117: 'quantum display'\n"
     ]
    },
    {
     "name": "stderr",
     "output_type": "stream",
     "text": [
      "Classifying:  88%|███████████████████████████████████████████████████       | 42172/47871 [14:21:45<1:16:40,  1.24it/s]"
     ]
    },
    {
     "name": "stdout",
     "output_type": "stream",
     "text": [
      "Warning: Unexpected label at index 42172: 'quantum applications'\n"
     ]
    },
    {
     "name": "stderr",
     "output_type": "stream",
     "text": [
      "Classifying:  88%|███████████████████████████████████████████████████▏      | 42223/47871 [14:22:34<1:32:34,  1.02it/s]"
     ]
    },
    {
     "name": "stdout",
     "output_type": "stream",
     "text": [
      "Warning: Unexpected label at index 42223: 'quantum imaging'\n"
     ]
    },
    {
     "name": "stderr",
     "output_type": "stream",
     "text": [
      "Classifying:  88%|███████████████████████████████████████████████████▏      | 42225/47871 [14:22:35<1:29:02,  1.06it/s]"
     ]
    },
    {
     "name": "stdout",
     "output_type": "stream",
     "text": [
      "Warning: Unexpected label at index 42225: 'quantum materials'\n"
     ]
    },
    {
     "name": "stderr",
     "output_type": "stream",
     "text": [
      "Classifying:  88%|███████████████████████████████████████████████████▏      | 42258/47871 [14:23:06<1:20:33,  1.16it/s]"
     ]
    },
    {
     "name": "stdout",
     "output_type": "stream",
     "text": [
      "Warning: Unexpected label at index 42258: 'quantum random number generation'\n"
     ]
    },
    {
     "name": "stderr",
     "output_type": "stream",
     "text": [
      "Classifying:  88%|███████████████████████████████████████████████████▏      | 42284/47871 [14:23:36<2:03:20,  1.32s/it]"
     ]
    },
    {
     "name": "stdout",
     "output_type": "stream",
     "text": [
      "Warning: Unexpected label at index 42284: 'quantum materials'\n"
     ]
    },
    {
     "name": "stderr",
     "output_type": "stream",
     "text": [
      "Classifying:  88%|███████████████████████████████████████████████████▎      | 42302/47871 [14:23:58<1:52:43,  1.21s/it]"
     ]
    },
    {
     "name": "stdout",
     "output_type": "stream",
     "text": [
      "Warning: Unexpected label at index 42302: 'quantum applications'\n"
     ]
    },
    {
     "name": "stderr",
     "output_type": "stream",
     "text": [
      "Classifying:  88%|███████████████████████████████████████████████████▎      | 42325/47871 [14:24:19<1:19:02,  1.17it/s]"
     ]
    },
    {
     "name": "stdout",
     "output_type": "stream",
     "text": [
      "Warning: Unexpected label at index 42325: 'quantum random generation'\n"
     ]
    },
    {
     "name": "stderr",
     "output_type": "stream",
     "text": [
      "Classifying:  88%|███████████████████████████████████████████████████▎      | 42358/47871 [14:25:02<1:58:06,  1.29s/it]"
     ]
    },
    {
     "name": "stdout",
     "output_type": "stream",
     "text": [
      "Warning: Unexpected label at index 42358: 'quantum optics'\n"
     ]
    },
    {
     "name": "stderr",
     "output_type": "stream",
     "text": [
      "Classifying:  89%|███████████████████████████████████████████████████▍      | 42431/47871 [14:26:26<1:18:23,  1.16it/s]"
     ]
    },
    {
     "name": "stdout",
     "output_type": "stream",
     "text": [
      "Warning: Unexpected label at index 42431: 'quantum materials'\n"
     ]
    },
    {
     "name": "stderr",
     "output_type": "stream",
     "text": [
      "Classifying:  89%|███████████████████████████████████████████████████▍      | 42441/47871 [14:26:36<1:22:25,  1.10it/s]"
     ]
    },
    {
     "name": "stdout",
     "output_type": "stream",
     "text": [
      "Warning: Unexpected label at index 42441: 'This paper does not appear to be related to quantum computing. The abstract describes a liquid composite emulsion, which is a materials science topic, not a quantum computing topic. Therefore, I cannot classify this paper using the provided labels.'\n"
     ]
    },
    {
     "name": "stderr",
     "output_type": "stream",
     "text": [
      "Classifying:  89%|███████████████████████████████████████████████████▍      | 42494/47871 [14:27:33<1:32:19,  1.03s/it]"
     ]
    },
    {
     "name": "stdout",
     "output_type": "stream",
     "text": [
      "Warning: Unexpected label at index 42494: 'quantum materials'\n"
     ]
    },
    {
     "name": "stderr",
     "output_type": "stream",
     "text": [
      "Classifying:  89%|███████████████████████████████████████████████████▌      | 42523/47871 [14:28:02<1:48:11,  1.21s/it]"
     ]
    },
    {
     "name": "stdout",
     "output_type": "stream",
     "text": [
      "Warning: Unexpected label at index 42523: 'quantum optics'\n"
     ]
    },
    {
     "name": "stderr",
     "output_type": "stream",
     "text": [
      "Classifying:  89%|███████████████████████████████████████████████████▌      | 42556/47871 [14:28:42<1:36:54,  1.09s/it]"
     ]
    },
    {
     "name": "stdout",
     "output_type": "stream",
     "text": [
      "Warning: Unexpected label at index 42556: 'quantum optics'\n"
     ]
    },
    {
     "name": "stderr",
     "output_type": "stream",
     "text": [
      "Classifying:  89%|███████████████████████████████████████████████████▌      | 42581/47871 [14:29:04<1:20:37,  1.09it/s]"
     ]
    },
    {
     "name": "stdout",
     "output_type": "stream",
     "text": [
      "Warning: Unexpected label at index 42581: 'quantum fluid dynamics'\n"
     ]
    },
    {
     "name": "stderr",
     "output_type": "stream",
     "text": [
      "Classifying:  89%|███████████████████████████████████████████████████▌      | 42587/47871 [14:29:09<1:16:07,  1.16it/s]"
     ]
    },
    {
     "name": "stdout",
     "output_type": "stream",
     "text": [
      "Warning: Unexpected label at index 42587: 'quantum anomaly detection'\n"
     ]
    },
    {
     "name": "stderr",
     "output_type": "stream",
     "text": [
      "Classifying:  89%|███████████████████████████████████████████████████▌      | 42608/47871 [14:29:37<1:19:15,  1.11it/s]"
     ]
    },
    {
     "name": "stdout",
     "output_type": "stream",
     "text": [
      "Warning: Unexpected label at index 42608: 'quantum display'\n"
     ]
    },
    {
     "name": "stderr",
     "output_type": "stream",
     "text": [
      "Classifying:  89%|███████████████████████████████████████████████████▋      | 42616/47871 [14:29:43<1:12:55,  1.20it/s]"
     ]
    },
    {
     "name": "stdout",
     "output_type": "stream",
     "text": [
      "Warning: Unexpected label at index 42616: 'quantum imaging'\n"
     ]
    },
    {
     "name": "stderr",
     "output_type": "stream",
     "text": [
      "Classifying:  89%|███████████████████████████████████████████████████▋      | 42661/47871 [14:30:24<1:18:46,  1.10it/s]"
     ]
    },
    {
     "name": "stdout",
     "output_type": "stream",
     "text": [
      "Warning: Unexpected label at index 42661: 'quantum compression'\n"
     ]
    },
    {
     "name": "stderr",
     "output_type": "stream",
     "text": [
      "Classifying:  89%|███████████████████████████████████████████████████▋      | 42663/47871 [14:30:26<1:19:58,  1.09it/s]"
     ]
    },
    {
     "name": "stdout",
     "output_type": "stream",
     "text": [
      "Warning: Unexpected label at index 42663: 'quantum compression'\n"
     ]
    },
    {
     "name": "stderr",
     "output_type": "stream",
     "text": [
      "Classifying:  89%|███████████████████████████████████████████████████▋      | 42694/47871 [14:30:56<1:32:40,  1.07s/it]"
     ]
    },
    {
     "name": "stdout",
     "output_type": "stream",
     "text": [
      "Warning: Unexpected label at index 42694: 'quantum materials'\n"
     ]
    },
    {
     "name": "stderr",
     "output_type": "stream",
     "text": [
      "Classifying:  89%|███████████████████████████████████████████████████▊      | 42772/47871 [14:32:07<1:13:49,  1.15it/s]"
     ]
    },
    {
     "name": "stdout",
     "output_type": "stream",
     "text": [
      "Warning: Unexpected label at index 42772: 'quantum materials'\n"
     ]
    },
    {
     "name": "stderr",
     "output_type": "stream",
     "text": [
      "Classifying:  89%|███████████████████████████████████████████████████▊      | 42773/47871 [14:32:09<1:25:09,  1.00s/it]"
     ]
    },
    {
     "name": "stdout",
     "output_type": "stream",
     "text": [
      "Warning: Unexpected label at index 42773: 'quantum optics'\n"
     ]
    },
    {
     "name": "stderr",
     "output_type": "stream",
     "text": [
      "Classifying:  90%|███████████████████████████████████████████████████▉      | 42874/47871 [14:34:01<1:24:26,  1.01s/it]"
     ]
    },
    {
     "name": "stdout",
     "output_type": "stream",
     "text": [
      "Warning: Unexpected label at index 42874: 'quantum calibration'\n"
     ]
    },
    {
     "name": "stderr",
     "output_type": "stream",
     "text": [
      "Classifying:  90%|███████████████████████████████████████████████████▉      | 42893/47871 [14:34:25<1:33:32,  1.13s/it]"
     ]
    },
    {
     "name": "stdout",
     "output_type": "stream",
     "text": [
      "Warning: Unexpected label at index 42893: 'quantum calibration'\n"
     ]
    },
    {
     "name": "stderr",
     "output_type": "stream",
     "text": [
      "Classifying:  90%|███████████████████████████████████████████████████▉      | 42894/47871 [14:34:26<1:29:47,  1.08s/it]"
     ]
    },
    {
     "name": "stdout",
     "output_type": "stream",
     "text": [
      "Warning: Unexpected label at index 42894: 'quantum calibration'\n"
     ]
    },
    {
     "name": "stderr",
     "output_type": "stream",
     "text": [
      "Classifying:  90%|████████████████████████████████████████████████████      | 42930/47871 [14:35:13<1:19:48,  1.03it/s]"
     ]
    },
    {
     "name": "stdout",
     "output_type": "stream",
     "text": [
      "Warning: Unexpected label at index 42930: 'quantum materials'\n"
     ]
    },
    {
     "name": "stderr",
     "output_type": "stream",
     "text": [
      "Classifying:  90%|████████████████████████████████████████████████████      | 42976/47871 [14:36:03<1:09:36,  1.17it/s]"
     ]
    },
    {
     "name": "stdout",
     "output_type": "stream",
     "text": [
      "Warning: Unexpected label at index 42976: 'The given paper does not appear to be related to quantum computing. The abstract describes a haptic feedback system for head-worn computers, which is not a topic typically associated with quantum computing. Therefore, the appropriate label for this paper would be:\n",
      "\n",
      "quantum computing'\n"
     ]
    },
    {
     "name": "stderr",
     "output_type": "stream",
     "text": [
      "Classifying:  90%|████████████████████████████████████████████████████      | 42992/47871 [14:36:17<1:23:24,  1.03s/it]"
     ]
    },
    {
     "name": "stdout",
     "output_type": "stream",
     "text": [
      "Warning: Unexpected label at index 42992: 'quantum optics'\n"
     ]
    },
    {
     "name": "stderr",
     "output_type": "stream",
     "text": [
      "Classifying:  90%|████████████████████████████████████████████████████      | 42996/47871 [14:36:21<1:12:34,  1.12it/s]"
     ]
    },
    {
     "name": "stdout",
     "output_type": "stream",
     "text": [
      "Warning: Unexpected label at index 42996: 'quantum imaging'\n"
     ]
    },
    {
     "name": "stderr",
     "output_type": "stream",
     "text": [
      "Classifying:  90%|████████████████████████████████████████████████████▏     | 43049/47871 [14:37:26<1:35:46,  1.19s/it]"
     ]
    },
    {
     "name": "stdout",
     "output_type": "stream",
     "text": [
      "Warning: Unexpected label at index 43049: 'quantum applications'\n"
     ]
    },
    {
     "name": "stderr",
     "output_type": "stream",
     "text": [
      "Classifying:  90%|████████████████████████████████████████████████████▏     | 43059/47871 [14:37:35<1:18:16,  1.02it/s]"
     ]
    },
    {
     "name": "stdout",
     "output_type": "stream",
     "text": [
      "Warning: Unexpected label at index 43059: 'quantum imaging'\n"
     ]
    },
    {
     "name": "stderr",
     "output_type": "stream",
     "text": [
      "Classifying:  90%|████████████████████████████████████████████████████▏     | 43065/47871 [14:37:47<2:05:24,  1.57s/it]"
     ]
    },
    {
     "name": "stdout",
     "output_type": "stream",
     "text": [
      "Warning: Unexpected label at index 43065: 'quantum applications'\n"
     ]
    },
    {
     "name": "stderr",
     "output_type": "stream",
     "text": [
      "Classifying:  90%|████████████████████████████████████████████████████▏     | 43086/47871 [14:38:18<1:11:27,  1.12it/s]"
     ]
    },
    {
     "name": "stdout",
     "output_type": "stream",
     "text": [
      "Warning: Unexpected label at index 43086: 'quantum optics'\n"
     ]
    },
    {
     "name": "stderr",
     "output_type": "stream",
     "text": [
      "Classifying:  90%|████████████████████████████████████████████████████▎     | 43172/47871 [14:40:13<1:14:57,  1.04it/s]"
     ]
    },
    {
     "name": "stdout",
     "output_type": "stream",
     "text": [
      "Warning: Unexpected label at index 43172: 'quantum imaging'\n"
     ]
    },
    {
     "name": "stderr",
     "output_type": "stream",
     "text": [
      "Classifying:  90%|████████████████████████████████████████████████████▎     | 43178/47871 [14:40:18<1:10:18,  1.11it/s]"
     ]
    },
    {
     "name": "stdout",
     "output_type": "stream",
     "text": [
      "Warning: Unexpected label at index 43178: 'quantum applications'\n"
     ]
    },
    {
     "name": "stderr",
     "output_type": "stream",
     "text": [
      "Classifying:  90%|████████████████████████████████████████████████████▎     | 43188/47871 [14:40:28<1:23:18,  1.07s/it]"
     ]
    },
    {
     "name": "stdout",
     "output_type": "stream",
     "text": [
      "Warning: Unexpected label at index 43188: 'quantum optics'\n"
     ]
    },
    {
     "name": "stderr",
     "output_type": "stream",
     "text": [
      "Classifying:  90%|████████████████████████████████████████████████████▎     | 43189/47871 [14:40:29<1:20:18,  1.03s/it]"
     ]
    },
    {
     "name": "stdout",
     "output_type": "stream",
     "text": [
      "Warning: Unexpected label at index 43189: 'quantum clustering'\n"
     ]
    },
    {
     "name": "stderr",
     "output_type": "stream",
     "text": [
      "Classifying:  90%|████████████████████████████████████████████████████▎     | 43198/47871 [14:40:37<1:08:43,  1.13it/s]"
     ]
    },
    {
     "name": "stdout",
     "output_type": "stream",
     "text": [
      "Warning: Unexpected label at index 43198: 'quantum energy harvesting'\n"
     ]
    },
    {
     "name": "stderr",
     "output_type": "stream",
     "text": [
      "Classifying:  90%|████████████████████████████████████████████████████▎     | 43200/47871 [14:40:39<1:13:52,  1.05it/s]"
     ]
    },
    {
     "name": "stdout",
     "output_type": "stream",
     "text": [
      "Warning: Unexpected label at index 43200: 'quantum energy harvesting'\n"
     ]
    },
    {
     "name": "stderr",
     "output_type": "stream",
     "text": [
      "Classifying:  90%|████████████████████████████████████████████████████▎     | 43223/47871 [14:41:07<1:08:00,  1.14it/s]"
     ]
    },
    {
     "name": "stdout",
     "output_type": "stream",
     "text": [
      "Warning: Unexpected label at index 43223: 'quantum optics'\n"
     ]
    },
    {
     "name": "stderr",
     "output_type": "stream",
     "text": [
      "Classifying:  90%|████████████████████████████████████████████████████▍     | 43241/47871 [14:41:23<1:14:29,  1.04it/s]"
     ]
    },
    {
     "name": "stdout",
     "output_type": "stream",
     "text": [
      "Warning: Unexpected label at index 43241: 'quantum sieving'\n"
     ]
    },
    {
     "name": "stderr",
     "output_type": "stream",
     "text": [
      "Classifying:  90%|████████████████████████████████████████████████████▍     | 43242/47871 [14:41:24<1:11:10,  1.08it/s]"
     ]
    },
    {
     "name": "stdout",
     "output_type": "stream",
     "text": [
      "Warning: Unexpected label at index 43242: 'quantum sieving'\n"
     ]
    },
    {
     "name": "stderr",
     "output_type": "stream",
     "text": [
      "Classifying:  90%|████████████████████████████████████████████████████▍     | 43246/47871 [14:41:28<1:17:11,  1.00s/it]"
     ]
    },
    {
     "name": "stdout",
     "output_type": "stream",
     "text": [
      "Warning: Unexpected label at index 43246: 'This paper is not related to quantum computing. It describes a mount for a patient monitoring device and does not discuss any quantum computing concepts.'\n"
     ]
    },
    {
     "name": "stderr",
     "output_type": "stream",
     "text": [
      "Classifying:  90%|████████████████████████████████████████████████████▍     | 43250/47871 [14:41:32<1:13:22,  1.05it/s]"
     ]
    },
    {
     "name": "stdout",
     "output_type": "stream",
     "text": [
      "Warning: Unexpected label at index 43250: 'quantum clustering'\n"
     ]
    },
    {
     "name": "stderr",
     "output_type": "stream",
     "text": [
      "Classifying:  90%|████████████████████████████████████████████████████▍     | 43262/47871 [14:41:43<1:11:26,  1.08it/s]"
     ]
    },
    {
     "name": "stdout",
     "output_type": "stream",
     "text": [
      "Warning: Unexpected label at index 43262: 'quantum imaging'\n"
     ]
    },
    {
     "name": "stderr",
     "output_type": "stream",
     "text": [
      "Classifying:  90%|████████████████████████████████████████████████████▍     | 43282/47871 [14:42:08<1:15:39,  1.01it/s]"
     ]
    },
    {
     "name": "stdout",
     "output_type": "stream",
     "text": [
      "Warning: Unexpected label at index 43282: 'quantum separation'\n"
     ]
    },
    {
     "name": "stderr",
     "output_type": "stream",
     "text": [
      "Classifying:  90%|████████████████████████████████████████████████████▍     | 43283/47871 [14:42:09<1:10:53,  1.08it/s]"
     ]
    },
    {
     "name": "stdout",
     "output_type": "stream",
     "text": [
      "Warning: Unexpected label at index 43283: 'quantum imaging'\n"
     ]
    },
    {
     "name": "stderr",
     "output_type": "stream",
     "text": [
      "Classifying:  90%|████████████████████████████████████████████████████▍     | 43307/47871 [14:42:32<1:09:28,  1.09it/s]"
     ]
    },
    {
     "name": "stdout",
     "output_type": "stream",
     "text": [
      "Warning: Unexpected label at index 43307: 'quantum compression'\n"
     ]
    },
    {
     "name": "stderr",
     "output_type": "stream",
     "text": [
      "Classifying:  91%|████████████████████████████████████████████████████▌     | 43349/47871 [14:43:17<1:06:16,  1.14it/s]"
     ]
    },
    {
     "name": "stdout",
     "output_type": "stream",
     "text": [
      "Warning: Unexpected label at index 43349: 'quantum materials'\n"
     ]
    },
    {
     "name": "stderr",
     "output_type": "stream",
     "text": [
      "Classifying:  91%|████████████████████████████████████████████████████▌     | 43361/47871 [14:43:28<1:20:19,  1.07s/it]"
     ]
    },
    {
     "name": "stdout",
     "output_type": "stream",
     "text": [
      "Warning: Unexpected label at index 43361: 'quantum applications'\n"
     ]
    },
    {
     "name": "stderr",
     "output_type": "stream",
     "text": [
      "Classifying:  91%|████████████████████████████████████████████████████▌     | 43389/47871 [14:43:55<1:06:13,  1.13it/s]"
     ]
    },
    {
     "name": "stdout",
     "output_type": "stream",
     "text": [
      "Warning: Unexpected label at index 43389: 'quantum imaging'\n"
     ]
    },
    {
     "name": "stderr",
     "output_type": "stream",
     "text": [
      "Classifying:  91%|████████████████████████████████████████████████████▌     | 43433/47871 [14:44:36<1:16:50,  1.04s/it]"
     ]
    },
    {
     "name": "stdout",
     "output_type": "stream",
     "text": [
      "Warning: Unexpected label at index 43433: 'quantum optics'\n"
     ]
    },
    {
     "name": "stderr",
     "output_type": "stream",
     "text": [
      "Classifying:  91%|████████████████████████████████████████████████████▋     | 43443/47871 [14:44:46<1:05:11,  1.13it/s]"
     ]
    },
    {
     "name": "stdout",
     "output_type": "stream",
     "text": [
      "Warning: Unexpected label at index 43443: 'quantum synchronization'\n"
     ]
    },
    {
     "name": "stderr",
     "output_type": "stream",
     "text": [
      "Classifying:  91%|████████████████████████████████████████████████████▋     | 43469/47871 [14:45:17<2:26:55,  2.00s/it]"
     ]
    },
    {
     "name": "stdout",
     "output_type": "stream",
     "text": [
      "Warning: Unexpected label at index 43469: 'quantum compression'\n"
     ]
    },
    {
     "name": "stderr",
     "output_type": "stream",
     "text": [
      "Classifying:  91%|████████████████████████████████████████████████████▋     | 43471/47871 [14:45:19<1:44:41,  1.43s/it]"
     ]
    },
    {
     "name": "stdout",
     "output_type": "stream",
     "text": [
      "Warning: Unexpected label at index 43471: 'quantum optics'\n"
     ]
    },
    {
     "name": "stderr",
     "output_type": "stream",
     "text": [
      "Classifying:  91%|████████████████████████████████████████████████████▋     | 43483/47871 [14:45:30<1:20:59,  1.11s/it]"
     ]
    },
    {
     "name": "stdout",
     "output_type": "stream",
     "text": [
      "Warning: Unexpected label at index 43483: 'quantum luminescence'\n"
     ]
    },
    {
     "name": "stderr",
     "output_type": "stream",
     "text": [
      "Classifying:  91%|████████████████████████████████████████████████████▋     | 43489/47871 [14:45:35<1:05:23,  1.12it/s]"
     ]
    },
    {
     "name": "stdout",
     "output_type": "stream",
     "text": [
      "Warning: Unexpected label at index 43489: 'This paper does not appear to be related to quantum computing. The topic of the paper is a mount for a patient monitoring device, which is focused on medical technology and devices rather than quantum computing. Therefore, the appropriate label for this paper would be:\n",
      "\n",
      "quantum computing'\n"
     ]
    },
    {
     "name": "stderr",
     "output_type": "stream",
     "text": [
      "Classifying:  91%|████████████████████████████████████████████████████▊     | 43593/47871 [14:47:36<1:22:14,  1.15s/it]"
     ]
    },
    {
     "name": "stdout",
     "output_type": "stream",
     "text": [
      "Warning: Unexpected label at index 43593: 'quantum optics'\n"
     ]
    },
    {
     "name": "stderr",
     "output_type": "stream",
     "text": [
      "Classifying:  91%|████████████████████████████████████████████████████▊     | 43618/47871 [14:48:07<1:03:49,  1.11it/s]"
     ]
    },
    {
     "name": "stdout",
     "output_type": "stream",
     "text": [
      "Warning: Unexpected label at index 43618: 'quantum materials'\n"
     ]
    },
    {
     "name": "stderr",
     "output_type": "stream",
     "text": [
      "Classifying:  91%|████████████████████████████████████████████████████▉     | 43646/47871 [14:48:48<1:10:08,  1.00it/s]"
     ]
    },
    {
     "name": "stdout",
     "output_type": "stream",
     "text": [
      "Warning: Unexpected label at index 43646: 'quantum biometrics'\n"
     ]
    },
    {
     "name": "stderr",
     "output_type": "stream",
     "text": [
      "Classifying:  91%|████████████████████████████████████████████████████▉     | 43665/47871 [14:49:12<1:11:47,  1.02s/it]"
     ]
    },
    {
     "name": "stdout",
     "output_type": "stream",
     "text": [
      "Warning: Unexpected label at index 43665: 'quantum sensor data'\n"
     ]
    },
    {
     "name": "stderr",
     "output_type": "stream",
     "text": [
      "Classifying:  91%|████████████████████████████████████████████████████▉     | 43736/47871 [14:50:24<1:06:17,  1.04it/s]"
     ]
    },
    {
     "name": "stdout",
     "output_type": "stream",
     "text": [
      "Warning: Unexpected label at index 43736: 'quantum chemistry'\n"
     ]
    },
    {
     "name": "stderr",
     "output_type": "stream",
     "text": [
      "Classifying:  92%|█████████████████████████████████████████████████████     | 43804/47871 [14:51:29<1:05:57,  1.03it/s]"
     ]
    },
    {
     "name": "stdout",
     "output_type": "stream",
     "text": [
      "Warning: Unexpected label at index 43804: 'quantum materials'\n"
     ]
    },
    {
     "name": "stderr",
     "output_type": "stream",
     "text": [
      "Classifying:  92%|█████████████████████████████████████████████████████     | 43839/47871 [14:52:08<1:13:06,  1.09s/it]"
     ]
    },
    {
     "name": "stdout",
     "output_type": "stream",
     "text": [
      "Warning: Unexpected label at index 43839: 'This paper is not related to quantum computing. The described device is for making and dispensing pasta, which is a classical mechanical application. Therefore, the most appropriate label for this paper is quantum computing applications.'\n"
     ]
    },
    {
     "name": "stderr",
     "output_type": "stream",
     "text": [
      "Classifying:  92%|█████████████████████████████████████████████████████▏    | 43891/47871 [14:53:11<1:18:32,  1.18s/it]"
     ]
    },
    {
     "name": "stdout",
     "output_type": "stream",
     "text": [
      "Warning: Unexpected label at index 43891: 'quantum energy harvesting'\n"
     ]
    },
    {
     "name": "stderr",
     "output_type": "stream",
     "text": [
      "Classifying:  92%|█████████████████████████████████████████████████████▎    | 43960/47871 [14:54:41<1:02:27,  1.04it/s]"
     ]
    },
    {
     "name": "stdout",
     "output_type": "stream",
     "text": [
      "Warning: Unexpected label at index 43960: 'quantum optics'\n"
     ]
    },
    {
     "name": "stderr",
     "output_type": "stream",
     "text": [
      "Classifying:  92%|█████████████████████████████████████████████████████▎    | 43999/47871 [14:55:25<2:28:01,  2.29s/it]"
     ]
    },
    {
     "name": "stdout",
     "output_type": "stream",
     "text": [
      "→ Saved checkpoint for rows 0–44000\n"
     ]
    },
    {
     "name": "stderr",
     "output_type": "stream",
     "text": [
      "Classifying:  92%|█████████████████████████████████████████████████████▎    | 44016/47871 [14:55:49<1:07:42,  1.05s/it]"
     ]
    },
    {
     "name": "stdout",
     "output_type": "stream",
     "text": [
      "Warning: Unexpected label at index 44016: 'quantum video compression'\n"
     ]
    },
    {
     "name": "stderr",
     "output_type": "stream",
     "text": [
      "Classifying:  92%|███████████████████████████████████████████████████████▏    | 44044/47871 [14:56:16<54:47,  1.16it/s]"
     ]
    },
    {
     "name": "stdout",
     "output_type": "stream",
     "text": [
      "Warning: Unexpected label at index 44044: 'quantum light emitting devices'\n"
     ]
    },
    {
     "name": "stderr",
     "output_type": "stream",
     "text": [
      "Classifying:  92%|█████████████████████████████████████████████████████▍    | 44065/47871 [14:56:48<2:15:24,  2.13s/it]"
     ]
    },
    {
     "name": "stdout",
     "output_type": "stream",
     "text": [
      "Warning: Unexpected label at index 44065: 'quantum optics'\n"
     ]
    },
    {
     "name": "stderr",
     "output_type": "stream",
     "text": [
      "Classifying:  92%|█████████████████████████████████████████████████████▍    | 44118/47871 [14:57:47<2:18:55,  2.22s/it]"
     ]
    },
    {
     "name": "stdout",
     "output_type": "stream",
     "text": [
      "Warning: Unexpected label at index 44118: 'quantum quality control'\n"
     ]
    },
    {
     "name": "stderr",
     "output_type": "stream",
     "text": [
      "Classifying:  92%|███████████████████████████████████████████████████████▎    | 44138/47871 [14:58:06<56:51,  1.09it/s]"
     ]
    },
    {
     "name": "stdout",
     "output_type": "stream",
     "text": [
      "Warning: Unexpected label at index 44138: 'This paper does not appear to be related to quantum computing. The title and abstract describe a cartridge assembly for modifying keratinous surfaces, which is not a topic in quantum computing. Therefore, I would not classify this paper under any of the provided labels.'\n"
     ]
    },
    {
     "name": "stderr",
     "output_type": "stream",
     "text": [
      "Classifying:  92%|█████████████████████████████████████████████████████▌    | 44165/47871 [14:58:34<1:05:12,  1.06s/it]"
     ]
    },
    {
     "name": "stdout",
     "output_type": "stream",
     "text": [
      "Warning: Unexpected label at index 44165: 'quantum search'\n"
     ]
    },
    {
     "name": "stderr",
     "output_type": "stream",
     "text": [
      "Classifying:  92%|███████████████████████████████████████████████████████▍    | 44193/47871 [14:59:07<52:47,  1.16it/s]"
     ]
    },
    {
     "name": "stdout",
     "output_type": "stream",
     "text": [
      "Warning: Unexpected label at index 44193: 'quantum optics'\n"
     ]
    },
    {
     "name": "stderr",
     "output_type": "stream",
     "text": [
      "Classifying:  92%|█████████████████████████████████████████████████████▌    | 44251/47871 [15:00:14<1:04:58,  1.08s/it]"
     ]
    },
    {
     "name": "stdout",
     "output_type": "stream",
     "text": [
      "Warning: Unexpected label at index 44251: 'This paper is not related to quantum computing. It is about the diagnosis of coronary heart disease using carbon dioxide administration and monitoring vascular reactivity. Therefore, the appropriate label is quantum computing.'\n"
     ]
    },
    {
     "name": "stderr",
     "output_type": "stream",
     "text": [
      "Classifying:  93%|███████████████████████████████████████████████████████▌    | 44373/47871 [15:02:28<55:15,  1.06it/s]"
     ]
    },
    {
     "name": "stdout",
     "output_type": "stream",
     "text": [
      "Warning: Unexpected label at index 44373: 'quantum photonics'\n"
     ]
    },
    {
     "name": "stderr",
     "output_type": "stream",
     "text": [
      "Classifying:  93%|███████████████████████████████████████████████████████▋    | 44399/47871 [15:02:54<54:34,  1.06it/s]"
     ]
    },
    {
     "name": "stdout",
     "output_type": "stream",
     "text": [
      "Warning: Unexpected label at index 44399: 'quantum tomography'\n"
     ]
    },
    {
     "name": "stderr",
     "output_type": "stream",
     "text": [
      "Classifying:  93%|███████████████████████████████████████████████████████▋    | 44403/47871 [15:02:58<54:49,  1.05it/s]"
     ]
    },
    {
     "name": "stdout",
     "output_type": "stream",
     "text": [
      "Warning: Unexpected label at index 44403: 'quantum materials'\n"
     ]
    },
    {
     "name": "stderr",
     "output_type": "stream",
     "text": [
      "Classifying:  93%|███████████████████████████████████████████████████████▋    | 44415/47871 [15:03:11<50:56,  1.13it/s]"
     ]
    },
    {
     "name": "stdout",
     "output_type": "stream",
     "text": [
      "Warning: Unexpected label at index 44415: 'quantum optics'\n"
     ]
    },
    {
     "name": "stderr",
     "output_type": "stream",
     "text": [
      "Classifying:  93%|█████████████████████████████████████████████████████▊    | 44441/47871 [15:03:45<1:05:23,  1.14s/it]"
     ]
    },
    {
     "name": "stdout",
     "output_type": "stream",
     "text": [
      "Warning: Unexpected label at index 44441: 'This paper does not appear to be related to quantum computing. The title and abstract describe chemical compounds and do not mention any quantum computing concepts. Therefore, this paper cannot be classified under any of the available labels for quantum computing.'\n"
     ]
    },
    {
     "name": "stderr",
     "output_type": "stream",
     "text": [
      "Classifying:  93%|█████████████████████████████████████████████████████▊    | 44460/47871 [15:04:11<1:01:48,  1.09s/it]"
     ]
    },
    {
     "name": "stdout",
     "output_type": "stream",
     "text": [
      "Warning: Unexpected label at index 44460: 'quantum crystallography'\n"
     ]
    },
    {
     "name": "stderr",
     "output_type": "stream",
     "text": [
      "Classifying:  93%|███████████████████████████████████████████████████████▊    | 44494/47871 [15:04:52<49:11,  1.14it/s]"
     ]
    },
    {
     "name": "stdout",
     "output_type": "stream",
     "text": [
      "Warning: Unexpected label at index 44494: 'quantum dynamics'\n"
     ]
    },
    {
     "name": "stderr",
     "output_type": "stream",
     "text": [
      "Classifying:  93%|███████████████████████████████████████████████████████▊    | 44507/47871 [15:05:04<48:25,  1.16it/s]"
     ]
    },
    {
     "name": "stdout",
     "output_type": "stream",
     "text": [
      "Warning: Unexpected label at index 44507: 'quantum materials'\n"
     ]
    },
    {
     "name": "stderr",
     "output_type": "stream",
     "text": [
      "Classifying:  93%|███████████████████████████████████████████████████████▊    | 44526/47871 [15:05:21<55:59,  1.00s/it]"
     ]
    },
    {
     "name": "stdout",
     "output_type": "stream",
     "text": [
      "Warning: Unexpected label at index 44526: 'quantum sensor'\n"
     ]
    },
    {
     "name": "stderr",
     "output_type": "stream",
     "text": [
      "Classifying:  93%|███████████████████████████████████████████████████████▊    | 44528/47871 [15:05:23<50:15,  1.11it/s]"
     ]
    },
    {
     "name": "stdout",
     "output_type": "stream",
     "text": [
      "Warning: Unexpected label at index 44528: 'quantum synchronization'\n"
     ]
    },
    {
     "name": "stderr",
     "output_type": "stream",
     "text": [
      "Classifying:  93%|█████████████████████████████████████████████████████▉    | 44535/47871 [15:05:35<1:44:00,  1.87s/it]"
     ]
    },
    {
     "name": "stdout",
     "output_type": "stream",
     "text": [
      "Warning: Unexpected label at index 44535: 'quantum applications'\n"
     ]
    },
    {
     "name": "stderr",
     "output_type": "stream",
     "text": [
      "Classifying:  93%|███████████████████████████████████████████████████████▊    | 44566/47871 [15:06:04<53:29,  1.03it/s]"
     ]
    },
    {
     "name": "stdout",
     "output_type": "stream",
     "text": [
      "Warning: Unexpected label at index 44566: 'quantum applications'\n"
     ]
    },
    {
     "name": "stderr",
     "output_type": "stream",
     "text": [
      "Classifying:  93%|███████████████████████████████████████████████████████▊    | 44579/47871 [15:06:19<54:18,  1.01it/s]"
     ]
    },
    {
     "name": "stdout",
     "output_type": "stream",
     "text": [
      "Warning: Unexpected label at index 44579: 'quantum imaging'\n"
     ]
    },
    {
     "name": "stderr",
     "output_type": "stream",
     "text": [
      "Classifying:  93%|███████████████████████████████████████████████████████▉    | 44585/47871 [15:06:24<51:56,  1.05it/s]"
     ]
    },
    {
     "name": "stdout",
     "output_type": "stream",
     "text": [
      "Warning: Unexpected label at index 44585: 'quantum photovoltaic'\n"
     ]
    },
    {
     "name": "stderr",
     "output_type": "stream",
     "text": [
      "Classifying:  93%|███████████████████████████████████████████████████████▉    | 44619/47871 [15:07:02<49:42,  1.09it/s]"
     ]
    },
    {
     "name": "stdout",
     "output_type": "stream",
     "text": [
      "Warning: Unexpected label at index 44619: 'quantum sensor'\n"
     ]
    },
    {
     "name": "stderr",
     "output_type": "stream",
     "text": [
      "Classifying:  93%|███████████████████████████████████████████████████████▉    | 44622/47871 [15:07:05<58:02,  1.07s/it]"
     ]
    },
    {
     "name": "stdout",
     "output_type": "stream",
     "text": [
      "Warning: Unexpected label at index 44622: 'quantum display'\n"
     ]
    },
    {
     "name": "stderr",
     "output_type": "stream",
     "text": [
      "Classifying:  93%|███████████████████████████████████████████████████████▉    | 44635/47871 [15:07:17<47:56,  1.12it/s]"
     ]
    },
    {
     "name": "stdout",
     "output_type": "stream",
     "text": [
      "Warning: Unexpected label at index 44635: 'quantum sensor'\n"
     ]
    },
    {
     "name": "stderr",
     "output_type": "stream",
     "text": [
      "Classifying:  93%|███████████████████████████████████████████████████████▉    | 44640/47871 [15:07:22<48:02,  1.12it/s]"
     ]
    },
    {
     "name": "stdout",
     "output_type": "stream",
     "text": [
      "Warning: Unexpected label at index 44640: 'quantum applications'\n"
     ]
    },
    {
     "name": "stderr",
     "output_type": "stream",
     "text": [
      "Classifying:  93%|███████████████████████████████████████████████████████▉    | 44641/47871 [15:07:23<49:16,  1.09it/s]"
     ]
    },
    {
     "name": "stdout",
     "output_type": "stream",
     "text": [
      "Warning: Unexpected label at index 44641: 'quantum estimation'\n"
     ]
    },
    {
     "name": "stderr",
     "output_type": "stream",
     "text": [
      "Classifying:  93%|███████████████████████████████████████████████████████▉    | 44674/47871 [15:07:54<53:05,  1.00it/s]"
     ]
    },
    {
     "name": "stdout",
     "output_type": "stream",
     "text": [
      "Warning: Unexpected label at index 44674: 'quantum compression'\n"
     ]
    },
    {
     "name": "stderr",
     "output_type": "stream",
     "text": [
      "Classifying:  93%|███████████████████████████████████████████████████████▉    | 44677/47871 [15:07:56<50:22,  1.06it/s]"
     ]
    },
    {
     "name": "stdout",
     "output_type": "stream",
     "text": [
      "Warning: Unexpected label at index 44677: 'quantum imaging'\n"
     ]
    },
    {
     "name": "stderr",
     "output_type": "stream",
     "text": [
      "Classifying:  93%|████████████████████████████████████████████████████████    | 44723/47871 [15:08:46<46:47,  1.12it/s]"
     ]
    },
    {
     "name": "stdout",
     "output_type": "stream",
     "text": [
      "Warning: Unexpected label at index 44723: 'quantum applications'\n"
     ]
    },
    {
     "name": "stderr",
     "output_type": "stream",
     "text": [
      "Classifying:  94%|████████████████████████████████████████████████████████▏   | 44798/47871 [15:10:13<50:42,  1.01it/s]"
     ]
    },
    {
     "name": "stdout",
     "output_type": "stream",
     "text": [
      "Warning: Unexpected label at index 44798: 'quantum crystallography'\n"
     ]
    },
    {
     "name": "stderr",
     "output_type": "stream",
     "text": [
      "Classifying:  94%|████████████████████████████████████████████████████████▏   | 44808/47871 [15:10:23<55:17,  1.08s/it]"
     ]
    },
    {
     "name": "stdout",
     "output_type": "stream",
     "text": [
      "Warning: Unexpected label at index 44808: 'quantum applications'\n"
     ]
    },
    {
     "name": "stderr",
     "output_type": "stream",
     "text": [
      "Classifying:  94%|████████████████████████████████████████████████████████▏   | 44828/47871 [15:10:44<56:58,  1.12s/it]"
     ]
    },
    {
     "name": "stdout",
     "output_type": "stream",
     "text": [
      "Warning: Unexpected label at index 44828: 'quantum color conversion'\n"
     ]
    },
    {
     "name": "stderr",
     "output_type": "stream",
     "text": [
      "Classifying:  94%|████████████████████████████████████████████████████████▏   | 44863/47871 [15:11:18<47:31,  1.05it/s]"
     ]
    },
    {
     "name": "stdout",
     "output_type": "stream",
     "text": [
      "Warning: Unexpected label at index 44863: 'quantum applications'\n"
     ]
    },
    {
     "name": "stderr",
     "output_type": "stream",
     "text": [
      "Classifying:  94%|████████████████████████████████████████████████████████▍   | 44985/47871 [15:13:20<45:20,  1.06it/s]"
     ]
    },
    {
     "name": "stdout",
     "output_type": "stream",
     "text": [
      "Warning: Unexpected label at index 44985: 'quantum optics'\n"
     ]
    },
    {
     "name": "stderr",
     "output_type": "stream",
     "text": [
      "Classifying:  94%|████████████████████████████████████████████████████████▍   | 44997/47871 [15:13:32<52:33,  1.10s/it]"
     ]
    },
    {
     "name": "stdout",
     "output_type": "stream",
     "text": [
      "Warning: Unexpected label at index 44997: 'quantum photonics'\n"
     ]
    },
    {
     "name": "stderr",
     "output_type": "stream",
     "text": [
      "Classifying:  94%|████████████████████████████████████████████████████████▍   | 45025/47871 [15:13:58<46:28,  1.02it/s]"
     ]
    },
    {
     "name": "stdout",
     "output_type": "stream",
     "text": [
      "Warning: Unexpected label at index 45025: 'quantum remote sensing'\n"
     ]
    },
    {
     "name": "stderr",
     "output_type": "stream",
     "text": [
      "Classifying:  94%|██████████████████████████████████████████████████████▌   | 45081/47871 [15:14:56<1:46:43,  2.30s/it]"
     ]
    },
    {
     "name": "stdout",
     "output_type": "stream",
     "text": [
      "Warning: Unexpected label at index 45081: 'quantum compression'\n"
     ]
    },
    {
     "name": "stderr",
     "output_type": "stream",
     "text": [
      "Classifying:  94%|████████████████████████████████████████████████████████▌   | 45093/47871 [15:15:08<45:25,  1.02it/s]"
     ]
    },
    {
     "name": "stdout",
     "output_type": "stream",
     "text": [
      "Warning: Unexpected label at index 45093: 'quantum optics'\n"
     ]
    },
    {
     "name": "stderr",
     "output_type": "stream",
     "text": [
      "Classifying:  94%|████████████████████████████████████████████████████████▌   | 45112/47871 [15:15:37<49:43,  1.08s/it]"
     ]
    },
    {
     "name": "stdout",
     "output_type": "stream",
     "text": [
      "Warning: Unexpected label at index 45112: 'quantum materials'\n"
     ]
    },
    {
     "name": "stderr",
     "output_type": "stream",
     "text": [
      "Classifying:  94%|████████████████████████████████████████████████████████▋   | 45180/47871 [15:16:40<53:45,  1.20s/it]"
     ]
    },
    {
     "name": "stdout",
     "output_type": "stream",
     "text": [
      "Warning: Unexpected label at index 45180: 'quantum optics'\n"
     ]
    },
    {
     "name": "stderr",
     "output_type": "stream",
     "text": [
      "Classifying:  94%|████████████████████████████████████████████████████████▋   | 45231/47871 [15:17:35<42:28,  1.04it/s]"
     ]
    },
    {
     "name": "stdout",
     "output_type": "stream",
     "text": [
      "Warning: Unexpected label at index 45231: 'quantum optics'\n"
     ]
    },
    {
     "name": "stderr",
     "output_type": "stream",
     "text": [
      "Classifying:  95%|████████████████████████████████████████████████████████▋   | 45242/47871 [15:17:47<49:07,  1.12s/it]"
     ]
    },
    {
     "name": "stdout",
     "output_type": "stream",
     "text": [
      "Warning: Unexpected label at index 45242: 'quantum materials'\n"
     ]
    },
    {
     "name": "stderr",
     "output_type": "stream",
     "text": [
      "Classifying:  95%|████████████████████████████████████████████████████████▋   | 45266/47871 [15:18:10<37:11,  1.17it/s]"
     ]
    },
    {
     "name": "stdout",
     "output_type": "stream",
     "text": [
      "Warning: Unexpected label at index 45266: 'quantum optics'\n"
     ]
    },
    {
     "name": "stderr",
     "output_type": "stream",
     "text": [
      "Classifying:  95%|████████████████████████████████████████████████████████▊   | 45284/47871 [15:18:32<49:25,  1.15s/it]"
     ]
    },
    {
     "name": "stdout",
     "output_type": "stream",
     "text": [
      "Warning: Unexpected label at index 45284: 'quantum applications'\n"
     ]
    },
    {
     "name": "stderr",
     "output_type": "stream",
     "text": [
      "Classifying:  95%|████████████████████████████████████████████████████████▊   | 45306/47871 [15:18:55<40:48,  1.05it/s]"
     ]
    },
    {
     "name": "stdout",
     "output_type": "stream",
     "text": [
      "Warning: Unexpected label at index 45306: 'quantum imaging'\n"
     ]
    },
    {
     "name": "stderr",
     "output_type": "stream",
     "text": [
      "Classifying:  95%|████████████████████████████████████████████████████████▊   | 45313/47871 [15:19:01<36:20,  1.17it/s]"
     ]
    },
    {
     "name": "stdout",
     "output_type": "stream",
     "text": [
      "Warning: Unexpected label at index 45313: 'quantum therapy'\n"
     ]
    },
    {
     "name": "stderr",
     "output_type": "stream",
     "text": [
      "Classifying:  95%|████████████████████████████████████████████████████████▊   | 45371/47871 [15:20:09<50:33,  1.21s/it]"
     ]
    },
    {
     "name": "stdout",
     "output_type": "stream",
     "text": [
      "Warning: Unexpected label at index 45371: 'quantum random number generation'\n"
     ]
    },
    {
     "name": "stderr",
     "output_type": "stream",
     "text": [
      "Classifying:  95%|███████████████████████████████████████████████████████   | 45416/47871 [15:20:59<1:37:04,  2.37s/it]"
     ]
    },
    {
     "name": "stdout",
     "output_type": "stream",
     "text": [
      "Warning: Unexpected label at index 45416: 'quantum therapy'\n"
     ]
    },
    {
     "name": "stderr",
     "output_type": "stream",
     "text": [
      "Classifying:  95%|████████████████████████████████████████████████████████▉   | 45426/47871 [15:21:09<37:47,  1.08it/s]"
     ]
    },
    {
     "name": "stdout",
     "output_type": "stream",
     "text": [
      "Warning: Unexpected label at index 45426: 'quantum compression'\n"
     ]
    },
    {
     "name": "stderr",
     "output_type": "stream",
     "text": [
      "Classifying:  95%|████████████████████████████████████████████████████████▉   | 45428/47871 [15:21:11<38:50,  1.05it/s]"
     ]
    },
    {
     "name": "stdout",
     "output_type": "stream",
     "text": [
      "Warning: Unexpected label at index 45428: 'quantum applications'\n"
     ]
    },
    {
     "name": "stderr",
     "output_type": "stream",
     "text": [
      "Classifying:  95%|█████████████████████████████████████████████████████████   | 45528/47871 [15:23:03<35:45,  1.09it/s]"
     ]
    },
    {
     "name": "stdout",
     "output_type": "stream",
     "text": [
      "Warning: Unexpected label at index 45528: 'quantum display'\n"
     ]
    },
    {
     "name": "stderr",
     "output_type": "stream",
     "text": [
      "Classifying:  95%|█████████████████████████████████████████████████████████   | 45538/47871 [15:23:13<34:57,  1.11it/s]"
     ]
    },
    {
     "name": "stdout",
     "output_type": "stream",
     "text": [
      "Warning: Unexpected label at index 45538: 'quantum optics'\n"
     ]
    },
    {
     "name": "stderr",
     "output_type": "stream",
     "text": [
      "Classifying:  95%|███████████████████████████████████████████████████████▏  | 45568/47871 [15:23:48<1:10:49,  1.85s/it]"
     ]
    },
    {
     "name": "stdout",
     "output_type": "stream",
     "text": [
      "Warning: Unexpected label at index 45568: 'quantum imaging'\n"
     ]
    },
    {
     "name": "stderr",
     "output_type": "stream",
     "text": [
      "Classifying:  95%|█████████████████████████████████████████████████████████   | 45577/47871 [15:23:56<37:12,  1.03it/s]"
     ]
    },
    {
     "name": "stdout",
     "output_type": "stream",
     "text": [
      "Warning: Unexpected label at index 45577: 'quantum imaging'\n"
     ]
    },
    {
     "name": "stderr",
     "output_type": "stream",
     "text": [
      "Classifying:  95%|█████████████████████████████████████████████████████████▏  | 45626/47871 [15:24:43<33:46,  1.11it/s]"
     ]
    },
    {
     "name": "stdout",
     "output_type": "stream",
     "text": [
      "Warning: Unexpected label at index 45626: 'quantum estimation'\n"
     ]
    },
    {
     "name": "stderr",
     "output_type": "stream",
     "text": [
      "Classifying:  96%|█████████████████████████████████████████████████████████▎  | 45775/47871 [15:27:27<32:53,  1.06it/s]"
     ]
    },
    {
     "name": "stdout",
     "output_type": "stream",
     "text": [
      "Warning: Unexpected label at index 45775: 'quantum routing'\n"
     ]
    },
    {
     "name": "stderr",
     "output_type": "stream",
     "text": [
      "Classifying:  96%|█████████████████████████████████████████████████████████▍  | 45813/47871 [15:28:03<28:17,  1.21it/s]"
     ]
    },
    {
     "name": "stdout",
     "output_type": "stream",
     "text": [
      "Warning: Unexpected label at index 45813: 'quantum separation'\n"
     ]
    },
    {
     "name": "stderr",
     "output_type": "stream",
     "text": [
      "Classifying:  96%|█████████████████████████████████████████████████████████▌  | 45877/47871 [15:29:13<32:04,  1.04it/s]"
     ]
    },
    {
     "name": "stdout",
     "output_type": "stream",
     "text": [
      "Warning: Unexpected label at index 45877: 'quantum display'\n"
     ]
    },
    {
     "name": "stderr",
     "output_type": "stream",
     "text": [
      "Classifying:  96%|█████████████████████████████████████████████████████████▌  | 45918/47871 [15:30:00<34:32,  1.06s/it]"
     ]
    },
    {
     "name": "stdout",
     "output_type": "stream",
     "text": [
      "Warning: Unexpected label at index 45918: 'quantum materials'\n"
     ]
    },
    {
     "name": "stderr",
     "output_type": "stream",
     "text": [
      "Classifying:  96%|█████████████████████████████████████████████████████████▌  | 45929/47871 [15:30:10<29:03,  1.11it/s]"
     ]
    },
    {
     "name": "stdout",
     "output_type": "stream",
     "text": [
      "Warning: Unexpected label at index 45929: 'quantum applications'\n"
     ]
    },
    {
     "name": "stderr",
     "output_type": "stream",
     "text": [
      "Classifying:  96%|█████████████████████████████████████████████████████████▋  | 45984/47871 [15:31:02<28:19,  1.11it/s]"
     ]
    },
    {
     "name": "stdout",
     "output_type": "stream",
     "text": [
      "Warning: Unexpected label at index 45984: 'quantum optics'\n"
     ]
    },
    {
     "name": "stderr",
     "output_type": "stream",
     "text": [
      "Classifying:  96%|█████████████████████████████████████████████████████████▋  | 46016/47871 [15:31:39<32:25,  1.05s/it]"
     ]
    },
    {
     "name": "stdout",
     "output_type": "stream",
     "text": [
      "Warning: Unexpected label at index 46016: 'quantum imaging'\n"
     ]
    },
    {
     "name": "stderr",
     "output_type": "stream",
     "text": [
      "Classifying:  96%|█████████████████████████████████████████████████████████▋  | 46043/47871 [15:32:04<28:29,  1.07it/s]"
     ]
    },
    {
     "name": "stdout",
     "output_type": "stream",
     "text": [
      "Warning: Unexpected label at index 46043: 'quantum materials'\n"
     ]
    },
    {
     "name": "stderr",
     "output_type": "stream",
     "text": [
      "Classifying:  96%|█████████████████████████████████████████████████████████▊  | 46127/47871 [15:33:40<33:07,  1.14s/it]"
     ]
    },
    {
     "name": "stdout",
     "output_type": "stream",
     "text": [
      "Warning: Unexpected label at index 46127: 'quantum materials'\n"
     ]
    },
    {
     "name": "stderr",
     "output_type": "stream",
     "text": [
      "Classifying:  96%|█████████████████████████████████████████████████████████▊  | 46150/47871 [15:34:07<25:51,  1.11it/s]"
     ]
    },
    {
     "name": "stdout",
     "output_type": "stream",
     "text": [
      "Warning: Unexpected label at index 46150: 'quantum spectroscopy'\n"
     ]
    },
    {
     "name": "stderr",
     "output_type": "stream",
     "text": [
      "Classifying:  96%|█████████████████████████████████████████████████████████▊  | 46168/47871 [15:34:25<30:49,  1.09s/it]"
     ]
    },
    {
     "name": "stdout",
     "output_type": "stream",
     "text": [
      "Warning: Unexpected label at index 46168: 'quantum sequencing'\n"
     ]
    },
    {
     "name": "stderr",
     "output_type": "stream",
     "text": [
      "Classifying:  96%|█████████████████████████████████████████████████████████▊  | 46173/47871 [15:34:30<28:42,  1.01s/it]"
     ]
    },
    {
     "name": "stdout",
     "output_type": "stream",
     "text": [
      "Warning: Unexpected label at index 46173: 'quantum applications'\n"
     ]
    },
    {
     "name": "stderr",
     "output_type": "stream",
     "text": [
      "Classifying:  96%|█████████████████████████████████████████████████████████▉  | 46176/47871 [15:34:33<30:11,  1.07s/it]"
     ]
    },
    {
     "name": "stdout",
     "output_type": "stream",
     "text": [
      "Warning: Unexpected label at index 46176: 'quantum applications'\n"
     ]
    },
    {
     "name": "stderr",
     "output_type": "stream",
     "text": [
      "Classifying:  97%|█████████████████████████████████████████████████████████▉  | 46205/47871 [15:35:02<34:30,  1.24s/it]"
     ]
    },
    {
     "name": "stdout",
     "output_type": "stream",
     "text": [
      "Warning: Unexpected label at index 46205: 'quantum materials'\n"
     ]
    },
    {
     "name": "stderr",
     "output_type": "stream",
     "text": [
      "Classifying:  97%|█████████████████████████████████████████████████████████▉  | 46238/47871 [15:35:35<25:16,  1.08it/s]"
     ]
    },
    {
     "name": "stdout",
     "output_type": "stream",
     "text": [
      "Warning: Unexpected label at index 46238: 'quantum imaging'\n"
     ]
    },
    {
     "name": "stderr",
     "output_type": "stream",
     "text": [
      "Classifying:  97%|██████████████████████████████████████████████████████████  | 46298/47871 [15:36:51<32:48,  1.25s/it]"
     ]
    },
    {
     "name": "stdout",
     "output_type": "stream",
     "text": [
      "Warning: Unexpected label at index 46298: 'quantum imaging'\n"
     ]
    },
    {
     "name": "stderr",
     "output_type": "stream",
     "text": [
      "Classifying:  97%|██████████████████████████████████████████████████████████  | 46323/47871 [15:37:15<24:39,  1.05it/s]"
     ]
    },
    {
     "name": "stdout",
     "output_type": "stream",
     "text": [
      "Warning: Unexpected label at index 46323: 'quantum imaging'\n"
     ]
    },
    {
     "name": "stderr",
     "output_type": "stream",
     "text": [
      "Classifying:  97%|██████████████████████████████████████████████████████████  | 46353/47871 [15:37:43<22:00,  1.15it/s]"
     ]
    },
    {
     "name": "stdout",
     "output_type": "stream",
     "text": [
      "Warning: Unexpected label at index 46353: 'quantum optics'\n"
     ]
    },
    {
     "name": "stderr",
     "output_type": "stream",
     "text": [
      "Classifying:  97%|██████████████████████████████████████████████████████████▏ | 46376/47871 [15:38:05<27:25,  1.10s/it]"
     ]
    },
    {
     "name": "stdout",
     "output_type": "stream",
     "text": [
      "Warning: Unexpected label at index 46376: 'quantum sequencing'\n"
     ]
    },
    {
     "name": "stderr",
     "output_type": "stream",
     "text": [
      "Classifying:  97%|██████████████████████████████████████████████████████████▏ | 46384/47871 [15:38:13<23:51,  1.04it/s]"
     ]
    },
    {
     "name": "stdout",
     "output_type": "stream",
     "text": [
      "Warning: Unexpected label at index 46384: 'quantum spectroscopy'\n"
     ]
    },
    {
     "name": "stderr",
     "output_type": "stream",
     "text": [
      "Classifying:  97%|██████████████████████████████████████████████████████████▏ | 46420/47871 [15:38:53<22:42,  1.06it/s]"
     ]
    },
    {
     "name": "stdout",
     "output_type": "stream",
     "text": [
      "Warning: Unexpected label at index 46420: 'quantum materials'\n"
     ]
    },
    {
     "name": "stderr",
     "output_type": "stream",
     "text": [
      "Classifying:  97%|██████████████████████████████████████████████████████████▎ | 46494/47871 [15:40:19<25:37,  1.12s/it]"
     ]
    },
    {
     "name": "stdout",
     "output_type": "stream",
     "text": [
      "Warning: Unexpected label at index 46494: 'quantum coding'\n"
     ]
    },
    {
     "name": "stderr",
     "output_type": "stream",
     "text": [
      "Classifying:  97%|██████████████████████████████████████████████████████████▎ | 46496/47871 [15:40:21<22:33,  1.02it/s]"
     ]
    },
    {
     "name": "stdout",
     "output_type": "stream",
     "text": [
      "Warning: Unexpected label at index 46496: 'quantum materials'\n"
     ]
    },
    {
     "name": "stderr",
     "output_type": "stream",
     "text": [
      "Classifying:  97%|██████████████████████████████████████████████████████████▎ | 46508/47871 [15:40:36<21:09,  1.07it/s]"
     ]
    },
    {
     "name": "stdout",
     "output_type": "stream",
     "text": [
      "Warning: Unexpected label at index 46508: 'quantum applications'\n"
     ]
    },
    {
     "name": "stderr",
     "output_type": "stream",
     "text": [
      "Classifying:  97%|██████████████████████████████████████████████████████████▎ | 46528/47871 [15:40:56<26:58,  1.20s/it]"
     ]
    },
    {
     "name": "stdout",
     "output_type": "stream",
     "text": [
      "Warning: Unexpected label at index 46528: 'quantum imaging'\n"
     ]
    },
    {
     "name": "stderr",
     "output_type": "stream",
     "text": [
      "Classifying:  97%|██████████████████████████████████████████████████████████▎ | 46529/47871 [15:40:57<24:25,  1.09s/it]"
     ]
    },
    {
     "name": "stdout",
     "output_type": "stream",
     "text": [
      "Warning: Unexpected label at index 46529: 'quantum applications'\n"
     ]
    },
    {
     "name": "stderr",
     "output_type": "stream",
     "text": [
      "Classifying:  97%|██████████████████████████████████████████████████████████▎ | 46544/47871 [15:41:11<18:39,  1.19it/s]"
     ]
    },
    {
     "name": "stdout",
     "output_type": "stream",
     "text": [
      "Warning: Unexpected label at index 46544: 'quantum materials'\n"
     ]
    },
    {
     "name": "stderr",
     "output_type": "stream",
     "text": [
      "Classifying:  97%|██████████████████████████████████████████████████████████▎ | 46554/47871 [15:41:20<21:05,  1.04it/s]"
     ]
    },
    {
     "name": "stdout",
     "output_type": "stream",
     "text": [
      "Warning: Unexpected label at index 46554: 'quantum applications'\n"
     ]
    },
    {
     "name": "stderr",
     "output_type": "stream",
     "text": [
      "Classifying:  97%|██████████████████████████████████████████████████████████▍ | 46634/47871 [15:42:51<23:07,  1.12s/it]"
     ]
    },
    {
     "name": "stdout",
     "output_type": "stream",
     "text": [
      "Warning: Unexpected label at index 46634: 'quantum applications'\n"
     ]
    },
    {
     "name": "stderr",
     "output_type": "stream",
     "text": [
      "Classifying:  97%|██████████████████████████████████████████████████████████▍ | 46658/47871 [15:43:15<19:57,  1.01it/s]"
     ]
    },
    {
     "name": "stdout",
     "output_type": "stream",
     "text": [
      "Warning: Unexpected label at index 46658: 'quantum analysis'\n"
     ]
    },
    {
     "name": "stderr",
     "output_type": "stream",
     "text": [
      "Classifying:  97%|██████████████████████████████████████████████████████████▍ | 46662/47871 [15:43:18<18:58,  1.06it/s]"
     ]
    },
    {
     "name": "stdout",
     "output_type": "stream",
     "text": [
      "Warning: Unexpected label at index 46662: 'quantum imaging'\n"
     ]
    },
    {
     "name": "stderr",
     "output_type": "stream",
     "text": [
      "Classifying:  97%|██████████████████████████████████████████████████████████▍ | 46663/47871 [15:43:19<18:13,  1.10it/s]"
     ]
    },
    {
     "name": "stdout",
     "output_type": "stream",
     "text": [
      "Warning: Unexpected label at index 46663: 'cloud computing'\n"
     ]
    },
    {
     "name": "stderr",
     "output_type": "stream",
     "text": [
      "Classifying:  97%|██████████████████████████████████████████████████████████▍ | 46673/47871 [15:43:29<20:59,  1.05s/it]"
     ]
    },
    {
     "name": "stdout",
     "output_type": "stream",
     "text": [
      "Warning: Unexpected label at index 46673: 'quantum positioning'\n"
     ]
    },
    {
     "name": "stderr",
     "output_type": "stream",
     "text": [
      "Classifying:  98%|██████████████████████████████████████████████████████████▌ | 46693/47871 [15:43:53<20:26,  1.04s/it]"
     ]
    },
    {
     "name": "stdout",
     "output_type": "stream",
     "text": [
      "Warning: Unexpected label at index 46693: 'quantum positioning'\n"
     ]
    },
    {
     "name": "stderr",
     "output_type": "stream",
     "text": [
      "Classifying:  98%|██████████████████████████████████████████████████████████▌ | 46759/47871 [15:45:27<30:31,  1.65s/it]"
     ]
    },
    {
     "name": "stdout",
     "output_type": "stream",
     "text": [
      "Warning: Unexpected label at index 46759: 'quantum energy efficiency'\n"
     ]
    },
    {
     "name": "stderr",
     "output_type": "stream",
     "text": [
      "Classifying:  98%|██████████████████████████████████████████████████████████▋ | 46813/47871 [15:46:22<18:33,  1.05s/it]"
     ]
    },
    {
     "name": "stdout",
     "output_type": "stream",
     "text": [
      "Warning: Unexpected label at index 46813: 'quantum applications'\n"
     ]
    },
    {
     "name": "stderr",
     "output_type": "stream",
     "text": [
      "Classifying:  98%|██████████████████████████████████████████████████████████▋ | 46818/47871 [15:46:26<16:13,  1.08it/s]"
     ]
    },
    {
     "name": "stdout",
     "output_type": "stream",
     "text": [
      "Warning: Unexpected label at index 46818: 'quantum positioning'\n"
     ]
    },
    {
     "name": "stderr",
     "output_type": "stream",
     "text": [
      "Classifying:  98%|██████████████████████████████████████████████████████████▊ | 46904/47871 [15:47:50<15:34,  1.03it/s]"
     ]
    },
    {
     "name": "stdout",
     "output_type": "stream",
     "text": [
      "Warning: Unexpected label at index 46904: 'quantum imaging'\n"
     ]
    },
    {
     "name": "stderr",
     "output_type": "stream",
     "text": [
      "Classifying:  98%|██████████████████████████████████████████████████████████▊ | 46921/47871 [15:48:13<18:13,  1.15s/it]"
     ]
    },
    {
     "name": "stdout",
     "output_type": "stream",
     "text": [
      "Warning: Unexpected label at index 46921: 'quantum energy efficiency'\n"
     ]
    },
    {
     "name": "stderr",
     "output_type": "stream",
     "text": [
      "Classifying:  98%|██████████████████████████████████████████████████████████▊ | 46948/47871 [15:48:40<14:37,  1.05it/s]"
     ]
    },
    {
     "name": "stdout",
     "output_type": "stream",
     "text": [
      "Warning: Unexpected label at index 46948: 'quantum estimation'\n"
     ]
    },
    {
     "name": "stderr",
     "output_type": "stream",
     "text": [
      "Classifying:  98%|██████████████████████████████████████████████████████████▊ | 46967/47871 [15:48:58<15:07,  1.00s/it]"
     ]
    },
    {
     "name": "stdout",
     "output_type": "stream",
     "text": [
      "Warning: Unexpected label at index 46967: 'quantum imaging'\n"
     ]
    },
    {
     "name": "stderr",
     "output_type": "stream",
     "text": [
      "Classifying:  98%|██████████████████████████████████████████████████████████▊ | 46972/47871 [15:49:03<14:00,  1.07it/s]"
     ]
    },
    {
     "name": "stdout",
     "output_type": "stream",
     "text": [
      "Warning: Unexpected label at index 46972: 'quantum materials'\n"
     ]
    },
    {
     "name": "stderr",
     "output_type": "stream",
     "text": [
      "Classifying:  98%|██████████████████████████████████████████████████████████▉ | 46977/47871 [15:49:07<13:44,  1.08it/s]"
     ]
    },
    {
     "name": "stdout",
     "output_type": "stream",
     "text": [
      "Warning: Unexpected label at index 46977: 'quantum applications'\n"
     ]
    },
    {
     "name": "stderr",
     "output_type": "stream",
     "text": [
      "Classifying:  98%|██████████████████████████████████████████████████████████▉ | 46991/47871 [15:49:33<18:12,  1.24s/it]"
     ]
    },
    {
     "name": "stdout",
     "output_type": "stream",
     "text": [
      "Warning: Unexpected label at index 46991: 'quantum display'\n"
     ]
    },
    {
     "name": "stderr",
     "output_type": "stream",
     "text": [
      "Classifying:  98%|██████████████████████████████████████████████████████████▉ | 47001/47871 [15:49:42<13:30,  1.07it/s]"
     ]
    },
    {
     "name": "stdout",
     "output_type": "stream",
     "text": [
      "Warning: Unexpected label at index 47001: 'quantum optics'\n"
     ]
    },
    {
     "name": "stderr",
     "output_type": "stream",
     "text": [
      "Classifying:  98%|██████████████████████████████████████████████████████████▉ | 47036/47871 [15:50:22<13:15,  1.05it/s]"
     ]
    },
    {
     "name": "stdout",
     "output_type": "stream",
     "text": [
      "Warning: Unexpected label at index 47036: 'quantum compression'\n"
     ]
    },
    {
     "name": "stderr",
     "output_type": "stream",
     "text": [
      "Classifying:  98%|██████████████████████████████████████████████████████████▉ | 47067/47871 [15:51:05<32:29,  2.42s/it]"
     ]
    },
    {
     "name": "stdout",
     "output_type": "stream",
     "text": [
      "Warning: Unexpected label at index 47067: 'quantum materials'\n"
     ]
    },
    {
     "name": "stderr",
     "output_type": "stream",
     "text": [
      "Classifying:  98%|███████████████████████████████████████████████████████████ | 47142/47871 [15:52:19<11:54,  1.02it/s]"
     ]
    },
    {
     "name": "stdout",
     "output_type": "stream",
     "text": [
      "Warning: Unexpected label at index 47142: 'This paper is not related to quantum computing. It describes a method for generating a passenger-based driving profile based on vehicle sensor data and user reaction data. Therefore, the most appropriate label from the list is:\n",
      "\n",
      "quantum computing'\n"
     ]
    },
    {
     "name": "stderr",
     "output_type": "stream",
     "text": [
      "Classifying:  99%|███████████████████████████████████████████████████████████▏| 47199/47871 [15:53:19<13:06,  1.17s/it]"
     ]
    },
    {
     "name": "stdout",
     "output_type": "stream",
     "text": [
      "Warning: Unexpected label at index 47199: 'quantum imaging'\n"
     ]
    },
    {
     "name": "stderr",
     "output_type": "stream",
     "text": [
      "Classifying:  99%|███████████████████████████████████████████████████████████▏| 47206/47871 [15:53:26<10:31,  1.05it/s]"
     ]
    },
    {
     "name": "stdout",
     "output_type": "stream",
     "text": [
      "Warning: Unexpected label at index 47206: 'quantum applications'\n"
     ]
    },
    {
     "name": "stderr",
     "output_type": "stream",
     "text": [
      "Classifying:  99%|███████████████████████████████████████████████████████████▏| 47210/47871 [15:53:29<09:32,  1.16it/s]"
     ]
    },
    {
     "name": "stdout",
     "output_type": "stream",
     "text": [
      "Warning: Unexpected label at index 47210: 'quantum comparator'\n"
     ]
    },
    {
     "name": "stderr",
     "output_type": "stream",
     "text": [
      "Classifying:  99%|███████████████████████████████████████████████████████████▏| 47212/47871 [15:53:32<12:35,  1.15s/it]"
     ]
    },
    {
     "name": "stdout",
     "output_type": "stream",
     "text": [
      "Warning: Unexpected label at index 47212: 'quantum optics'\n"
     ]
    },
    {
     "name": "stderr",
     "output_type": "stream",
     "text": [
      "Classifying:  99%|███████████████████████████████████████████████████████████▏| 47223/47871 [15:53:50<13:11,  1.22s/it]"
     ]
    },
    {
     "name": "stdout",
     "output_type": "stream",
     "text": [
      "Warning: Unexpected label at index 47223: 'quantum materials'\n"
     ]
    },
    {
     "name": "stderr",
     "output_type": "stream",
     "text": [
      "Classifying:  99%|███████████████████████████████████████████████████████████▎| 47372/47871 [15:56:36<07:38,  1.09it/s]"
     ]
    },
    {
     "name": "stdout",
     "output_type": "stream",
     "text": [
      "Warning: Unexpected label at index 47372: 'quantum optics'\n"
     ]
    },
    {
     "name": "stderr",
     "output_type": "stream",
     "text": [
      "Classifying:  99%|███████████████████████████████████████████████████████████▍| 47448/47871 [15:57:51<07:42,  1.09s/it]"
     ]
    },
    {
     "name": "stdout",
     "output_type": "stream",
     "text": [
      "Warning: Unexpected label at index 47448: 'quantum random number generation'\n"
     ]
    },
    {
     "name": "stderr",
     "output_type": "stream",
     "text": [
      "Classifying:  99%|███████████████████████████████████████████████████████████▍| 47451/47871 [15:57:54<07:25,  1.06s/it]"
     ]
    },
    {
     "name": "stdout",
     "output_type": "stream",
     "text": [
      "Warning: Unexpected label at index 47451: 'quantum random number generation'\n"
     ]
    },
    {
     "name": "stderr",
     "output_type": "stream",
     "text": [
      "Classifying:  99%|███████████████████████████████████████████████████████████▌| 47513/47871 [15:59:16<05:50,  1.02it/s]"
     ]
    },
    {
     "name": "stdout",
     "output_type": "stream",
     "text": [
      "Warning: Unexpected label at index 47513: 'quantum applications'\n"
     ]
    },
    {
     "name": "stderr",
     "output_type": "stream",
     "text": [
      "Classifying:  99%|███████████████████████████████████████████████████████████▌| 47519/47871 [15:59:23<07:04,  1.21s/it]"
     ]
    },
    {
     "name": "stdout",
     "output_type": "stream",
     "text": [
      "Warning: Unexpected label at index 47519: 'This paper is not related to quantum computing. The title and abstract describe a system for providing interactive projections of sound and light for skin treatment, which is not a topic in quantum computing. Therefore, there is no appropriate label from the given list.'\n"
     ]
    },
    {
     "name": "stderr",
     "output_type": "stream",
     "text": [
      "Classifying: 100%|███████████████████████████████████████████████████████████▋| 47633/47871 [16:01:28<03:26,  1.15it/s]"
     ]
    },
    {
     "name": "stdout",
     "output_type": "stream",
     "text": [
      "Warning: Unexpected label at index 47633: 'quantum sequencing'\n"
     ]
    },
    {
     "name": "stderr",
     "output_type": "stream",
     "text": [
      "Classifying: 100%|███████████████████████████████████████████████████████████▊| 47748/47871 [16:03:43<02:15,  1.10s/it]"
     ]
    },
    {
     "name": "stdout",
     "output_type": "stream",
     "text": [
      "Warning: Unexpected label at index 47748: 'quantum compression'\n"
     ]
    },
    {
     "name": "stderr",
     "output_type": "stream",
     "text": [
      "Classifying: 100%|███████████████████████████████████████████████████████████▉| 47778/47871 [16:04:13<01:24,  1.10it/s]"
     ]
    },
    {
     "name": "stdout",
     "output_type": "stream",
     "text": [
      "Warning: Unexpected label at index 47778: 'quantum anomaly detection'\n"
     ]
    },
    {
     "name": "stderr",
     "output_type": "stream",
     "text": [
      "Classifying: 100%|███████████████████████████████████████████████████████████▉| 47864/47871 [16:05:38<00:07,  1.09s/it]"
     ]
    },
    {
     "name": "stdout",
     "output_type": "stream",
     "text": [
      "Warning: Unexpected label at index 47864: 'quantum compression'\n"
     ]
    },
    {
     "name": "stderr",
     "output_type": "stream",
     "text": [
      "Classifying: 100%|███████████████████████████████████████████████████████████▉| 47868/47871 [16:05:42<00:02,  1.04it/s]"
     ]
    },
    {
     "name": "stdout",
     "output_type": "stream",
     "text": [
      "Warning: Unexpected label at index 47868: 'quantum color processing'\n"
     ]
    },
    {
     "name": "stderr",
     "output_type": "stream",
     "text": [
      "Classifying: 100%|████████████████████████████████████████████████████████████| 47871/47871 [16:05:45<00:00,  1.21s/it]\n"
     ]
    },
    {
     "name": "stdout",
     "output_type": "stream",
     "text": [
      "✅ Completed classification of all rows and saved final CSV.\n"
     ]
    }
   ],
   "source": [
    "for i, row in tqdm(data.iterrows(), total=len(data), desc=\"Classifying\"):\n",
    "    title = str(row[\"Title\"])\n",
    "    abstract = str(row[\"Abstract\"])\n",
    "\n",
    "    prompt = prompt_template.format(\"\\n\".join(labels), title.strip(), abstract.strip())\n",
    "\n",
    "    payload = {\n",
    "        \"model\": MODEL,\n",
    "        \"messages\": [{\"role\": \"user\", \"content\": prompt}]\n",
    "    }\n",
    "\n",
    "    try:\n",
    "        response = requests.post(\n",
    "            \"https://openrouter.ai/api/v1/chat/completions\",\n",
    "            headers=headers,\n",
    "            data=json.dumps(payload),\n",
    "            timeout=30  \n",
    "        )\n",
    "        result = response.json()\n",
    "        label = result[\"choices\"][0][\"message\"][\"content\"].strip()\n",
    "\n",
    "        # Optional: ensure the label is one of the allowed ones\n",
    "        if label not in labels:\n",
    "            print(f\"Warning: Unexpected label at index {i}: '{label}'\")\n",
    "            label = \"invalid_label\"\n",
    "\n",
    "    except Exception as e:\n",
    "        print(f\"Error at index {i}: {e}\")\n",
    "        label = \"error\"\n",
    "\n",
    "    predicted_labels.append(label)\n",
    "\n",
    "    # Save checkpoint\n",
    "    if (i + 1) % checkpoint_interval == 0:\n",
    "        temp = data.iloc[:i + 1].copy()\n",
    "        temp[\"Label\"] = predicted_labels\n",
    "        temp.to_csv(f\"checkpoint_up_to_{i + 1}.csv\", index=False)\n",
    "        print(f\"→ Saved checkpoint for rows 0–{i + 1}\")\n",
    "\n",
    "    time.sleep(0.2)\n",
    "\n",
    "# Final save\n",
    "data[\"Label\"] = predicted_labels\n",
    "data.to_csv(\"abstracts_with_labels_full.csv\", index=False)\n",
    "print(\"✅ Completed classification of all rows and saved final CSV.\")"
   ]
  },
  {
   "cell_type": "code",
   "execution_count": 15,
   "id": "b06af951-5966-46bf-85d5-c1aec54d5bf1",
   "metadata": {},
   "outputs": [],
   "source": [
    "df = pd.read_csv(r\"C:\\Users\\alext\\Desktop\\quantum_research\\abstracts_with_labels_full.csv\",\n",
    "                   on_bad_lines='skip')"
   ]
  },
  {
   "cell_type": "code",
   "execution_count": 16,
   "id": "783bd750-818b-401c-939c-2ece2d6b7a0f",
   "metadata": {},
   "outputs": [
    {
     "data": {
      "text/html": [
       "<div>\n",
       "<style scoped>\n",
       "    .dataframe tbody tr th:only-of-type {\n",
       "        vertical-align: middle;\n",
       "    }\n",
       "\n",
       "    .dataframe tbody tr th {\n",
       "        vertical-align: top;\n",
       "    }\n",
       "\n",
       "    .dataframe thead th {\n",
       "        text-align: right;\n",
       "    }\n",
       "</style>\n",
       "<table border=\"1\" class=\"dataframe\">\n",
       "  <thead>\n",
       "    <tr style=\"text-align: right;\">\n",
       "      <th></th>\n",
       "      <th>#</th>\n",
       "      <th>Publication Year</th>\n",
       "      <th>Title</th>\n",
       "      <th>Abstract</th>\n",
       "      <th>Applicants</th>\n",
       "      <th>Inventors</th>\n",
       "      <th>Country</th>\n",
       "      <th>Label</th>\n",
       "    </tr>\n",
       "  </thead>\n",
       "  <tbody>\n",
       "    <tr>\n",
       "      <th>0</th>\n",
       "      <td>1</td>\n",
       "      <td>2023</td>\n",
       "      <td>QUANTUM COMPUTING PROGRAM, QUANTUM COMPUTING A...</td>\n",
       "      <td>to obtain a solution even when the coefficient...</td>\n",
       "      <td>['NAT UNIV YOKOHAMA']</td>\n",
       "      <td>['ISHIKAWA NAOKI', 'NORIMOTO MASAYA']</td>\n",
       "      <td>Japan</td>\n",
       "      <td>quantum optimization</td>\n",
       "    </tr>\n",
       "    <tr>\n",
       "      <th>1</th>\n",
       "      <td>2</td>\n",
       "      <td>2023</td>\n",
       "      <td>QUANTUM CIRCUIT, QUANTUM COMPUTING ELEMENT, QU...</td>\n",
       "      <td>provided are a quantum circuit a quantum compu...</td>\n",
       "      <td>['AIST']</td>\n",
       "      <td>['SAIDA DAISUKE']</td>\n",
       "      <td>Wipo (International - Pct)</td>\n",
       "      <td>quantum computing</td>\n",
       "    </tr>\n",
       "    <tr>\n",
       "      <th>2</th>\n",
       "      <td>3</td>\n",
       "      <td>2024</td>\n",
       "      <td>QUANTUM CIRCUIT, QUANTUM COMPUTING ELEMENT, QU...</td>\n",
       "      <td>provided is a quantum circuit a quantum comput...</td>\n",
       "      <td>['AIST']</td>\n",
       "      <td>['SAIDA DAISUKE']</td>\n",
       "      <td>United States</td>\n",
       "      <td>quantum computing</td>\n",
       "    </tr>\n",
       "    <tr>\n",
       "      <th>3</th>\n",
       "      <td>4</td>\n",
       "      <td>2023</td>\n",
       "      <td>QUANTUM COMPUTING DEVICE, QUANTUM COMPUTING SY...</td>\n",
       "      <td>this quantum computing device in a quantum com...</td>\n",
       "      <td>['NIPPON TELEGRAPH &amp; TELEPHONE']</td>\n",
       "      <td>['MISHCHENKO PETR', 'KUSAGAWA KEITA']</td>\n",
       "      <td>Wipo (International - Pct)</td>\n",
       "      <td>quantum error correction</td>\n",
       "    </tr>\n",
       "    <tr>\n",
       "      <th>4</th>\n",
       "      <td>5</td>\n",
       "      <td>2024</td>\n",
       "      <td>QUANTUM COMPUTING SYSTEM, QUANTUM COMPUTING DE...</td>\n",
       "      <td>a quantum computing system according to one as...</td>\n",
       "      <td>['NIPPON TELEGRAPH &amp; TELEPHONE']</td>\n",
       "      <td>['YAMAMOTO KAORU', 'ENDO SUGURU', 'SUZUKI YASU...</td>\n",
       "      <td>Wipo (International - Pct)</td>\n",
       "      <td>quantum computing</td>\n",
       "    </tr>\n",
       "  </tbody>\n",
       "</table>\n",
       "</div>"
      ],
      "text/plain": [
       "   #  Publication Year                                              Title  \\\n",
       "0  1              2023  QUANTUM COMPUTING PROGRAM, QUANTUM COMPUTING A...   \n",
       "1  2              2023  QUANTUM CIRCUIT, QUANTUM COMPUTING ELEMENT, QU...   \n",
       "2  3              2024  QUANTUM CIRCUIT, QUANTUM COMPUTING ELEMENT, QU...   \n",
       "3  4              2023  QUANTUM COMPUTING DEVICE, QUANTUM COMPUTING SY...   \n",
       "4  5              2024  QUANTUM COMPUTING SYSTEM, QUANTUM COMPUTING DE...   \n",
       "\n",
       "                                            Abstract  \\\n",
       "0  to obtain a solution even when the coefficient...   \n",
       "1  provided are a quantum circuit a quantum compu...   \n",
       "2  provided is a quantum circuit a quantum comput...   \n",
       "3  this quantum computing device in a quantum com...   \n",
       "4  a quantum computing system according to one as...   \n",
       "\n",
       "                         Applicants  \\\n",
       "0             ['NAT UNIV YOKOHAMA']   \n",
       "1                          ['AIST']   \n",
       "2                          ['AIST']   \n",
       "3  ['NIPPON TELEGRAPH & TELEPHONE']   \n",
       "4  ['NIPPON TELEGRAPH & TELEPHONE']   \n",
       "\n",
       "                                           Inventors  \\\n",
       "0              ['ISHIKAWA NAOKI', 'NORIMOTO MASAYA']   \n",
       "1                                  ['SAIDA DAISUKE']   \n",
       "2                                  ['SAIDA DAISUKE']   \n",
       "3              ['MISHCHENKO PETR', 'KUSAGAWA KEITA']   \n",
       "4  ['YAMAMOTO KAORU', 'ENDO SUGURU', 'SUZUKI YASU...   \n",
       "\n",
       "                      Country                     Label  \n",
       "0                       Japan      quantum optimization  \n",
       "1  Wipo (International - Pct)         quantum computing  \n",
       "2               United States         quantum computing  \n",
       "3  Wipo (International - Pct)  quantum error correction  \n",
       "4  Wipo (International - Pct)         quantum computing  "
      ]
     },
     "execution_count": 16,
     "metadata": {},
     "output_type": "execute_result"
    }
   ],
   "source": [
    "df.head()"
   ]
  },
  {
   "cell_type": "code",
   "execution_count": 21,
   "id": "4ea4a798-e31d-4b88-b67e-456b46a9f0e9",
   "metadata": {},
   "outputs": [],
   "source": [
    "df[\"Title\"] = df[\"Title\"].str.lower()"
   ]
  },
  {
   "cell_type": "code",
   "execution_count": 22,
   "id": "454df04b-6b0c-478f-a7e9-aed019ea90a7",
   "metadata": {},
   "outputs": [],
   "source": [
    "import ast\n",
    "\n",
    "df[\"Applicants\"] = data[\"Applicants\"].apply(lambda x: ast.literal_eval(x) if isinstance(x, str) else x)\n",
    "df[\"Inventors\"] = data[\"Inventors\"].apply(lambda x: ast.literal_eval(x) if isinstance(x, str) else x)\n"
   ]
  },
  {
   "cell_type": "code",
   "execution_count": 23,
   "id": "a07a1249-5dad-46e7-982f-20c130e706d7",
   "metadata": {},
   "outputs": [],
   "source": [
    "def clean_names(name_list):\n",
    "    return [name.strip().title() for name in name_list if isinstance(name, str)]\n",
    "\n",
    "df[\"Applicants\"] = df[\"Applicants\"].apply(clean_names)\n",
    "df[\"Inventors\"] = df[\"Inventors\"].apply(clean_names)\n"
   ]
  },
  {
   "cell_type": "code",
   "execution_count": 24,
   "id": "5a1f636b-3ec1-43f2-9968-a312d1ef28f9",
   "metadata": {},
   "outputs": [
    {
     "data": {
      "text/html": [
       "<div>\n",
       "<style scoped>\n",
       "    .dataframe tbody tr th:only-of-type {\n",
       "        vertical-align: middle;\n",
       "    }\n",
       "\n",
       "    .dataframe tbody tr th {\n",
       "        vertical-align: top;\n",
       "    }\n",
       "\n",
       "    .dataframe thead th {\n",
       "        text-align: right;\n",
       "    }\n",
       "</style>\n",
       "<table border=\"1\" class=\"dataframe\">\n",
       "  <thead>\n",
       "    <tr style=\"text-align: right;\">\n",
       "      <th></th>\n",
       "      <th>#</th>\n",
       "      <th>Publication Year</th>\n",
       "      <th>Title</th>\n",
       "      <th>Abstract</th>\n",
       "      <th>Applicants</th>\n",
       "      <th>Inventors</th>\n",
       "      <th>Country</th>\n",
       "      <th>Label</th>\n",
       "    </tr>\n",
       "  </thead>\n",
       "  <tbody>\n",
       "    <tr>\n",
       "      <th>0</th>\n",
       "      <td>1</td>\n",
       "      <td>2023</td>\n",
       "      <td>quantum computing program, quantum computing a...</td>\n",
       "      <td>to obtain a solution even when the coefficient...</td>\n",
       "      <td>[Nat Univ Yokohama]</td>\n",
       "      <td>[Ishikawa Naoki, Norimoto Masaya]</td>\n",
       "      <td>Japan</td>\n",
       "      <td>quantum optimization</td>\n",
       "    </tr>\n",
       "    <tr>\n",
       "      <th>1</th>\n",
       "      <td>2</td>\n",
       "      <td>2023</td>\n",
       "      <td>quantum circuit, quantum computing element, qu...</td>\n",
       "      <td>provided are a quantum circuit a quantum compu...</td>\n",
       "      <td>[Aist]</td>\n",
       "      <td>[Saida Daisuke]</td>\n",
       "      <td>Wipo (International - Pct)</td>\n",
       "      <td>quantum computing</td>\n",
       "    </tr>\n",
       "    <tr>\n",
       "      <th>2</th>\n",
       "      <td>3</td>\n",
       "      <td>2024</td>\n",
       "      <td>quantum circuit, quantum computing element, qu...</td>\n",
       "      <td>provided is a quantum circuit a quantum comput...</td>\n",
       "      <td>[Aist]</td>\n",
       "      <td>[Saida Daisuke]</td>\n",
       "      <td>United States</td>\n",
       "      <td>quantum computing</td>\n",
       "    </tr>\n",
       "    <tr>\n",
       "      <th>3</th>\n",
       "      <td>4</td>\n",
       "      <td>2023</td>\n",
       "      <td>quantum computing device, quantum computing sy...</td>\n",
       "      <td>this quantum computing device in a quantum com...</td>\n",
       "      <td>[Nippon Telegraph &amp; Telephone]</td>\n",
       "      <td>[Mishchenko Petr, Kusagawa Keita]</td>\n",
       "      <td>Wipo (International - Pct)</td>\n",
       "      <td>quantum error correction</td>\n",
       "    </tr>\n",
       "    <tr>\n",
       "      <th>4</th>\n",
       "      <td>5</td>\n",
       "      <td>2024</td>\n",
       "      <td>quantum computing system, quantum computing de...</td>\n",
       "      <td>a quantum computing system according to one as...</td>\n",
       "      <td>[Nippon Telegraph &amp; Telephone]</td>\n",
       "      <td>[Yamamoto Kaoru, Endo Suguru, Suzuki Yasunari,...</td>\n",
       "      <td>Wipo (International - Pct)</td>\n",
       "      <td>quantum computing</td>\n",
       "    </tr>\n",
       "  </tbody>\n",
       "</table>\n",
       "</div>"
      ],
      "text/plain": [
       "   #  Publication Year                                              Title  \\\n",
       "0  1              2023  quantum computing program, quantum computing a...   \n",
       "1  2              2023  quantum circuit, quantum computing element, qu...   \n",
       "2  3              2024  quantum circuit, quantum computing element, qu...   \n",
       "3  4              2023  quantum computing device, quantum computing sy...   \n",
       "4  5              2024  quantum computing system, quantum computing de...   \n",
       "\n",
       "                                            Abstract  \\\n",
       "0  to obtain a solution even when the coefficient...   \n",
       "1  provided are a quantum circuit a quantum compu...   \n",
       "2  provided is a quantum circuit a quantum comput...   \n",
       "3  this quantum computing device in a quantum com...   \n",
       "4  a quantum computing system according to one as...   \n",
       "\n",
       "                       Applicants  \\\n",
       "0             [Nat Univ Yokohama]   \n",
       "1                          [Aist]   \n",
       "2                          [Aist]   \n",
       "3  [Nippon Telegraph & Telephone]   \n",
       "4  [Nippon Telegraph & Telephone]   \n",
       "\n",
       "                                           Inventors  \\\n",
       "0                  [Ishikawa Naoki, Norimoto Masaya]   \n",
       "1                                    [Saida Daisuke]   \n",
       "2                                    [Saida Daisuke]   \n",
       "3                  [Mishchenko Petr, Kusagawa Keita]   \n",
       "4  [Yamamoto Kaoru, Endo Suguru, Suzuki Yasunari,...   \n",
       "\n",
       "                      Country                     Label  \n",
       "0                       Japan      quantum optimization  \n",
       "1  Wipo (International - Pct)         quantum computing  \n",
       "2               United States         quantum computing  \n",
       "3  Wipo (International - Pct)  quantum error correction  \n",
       "4  Wipo (International - Pct)         quantum computing  "
      ]
     },
     "execution_count": 24,
     "metadata": {},
     "output_type": "execute_result"
    }
   ],
   "source": [
    "df.head()"
   ]
  },
  {
   "cell_type": "code",
   "execution_count": 26,
   "id": "ea861ad0-4993-4530-b8a9-1d5878e9c64f",
   "metadata": {},
   "outputs": [],
   "source": [
    "df = df[~df[\"Label\"].isin([\"invalid_label\", \"error\"])]"
   ]
  },
  {
   "cell_type": "code",
   "execution_count": 27,
   "id": "a7ea59c3-c1ce-42e0-a16e-0ebf3a6ebc06",
   "metadata": {},
   "outputs": [
    {
     "name": "stdout",
     "output_type": "stream",
     "text": [
      "Label\n",
      "quantum computing                      6216\n",
      "quantum computing applications         5256\n",
      "quantum hardware                       4636\n",
      "quantum optimization                   4495\n",
      "quantum sensing                        3685\n",
      "quantum computing hardware (hybrid)    3531\n",
      "quantum cryptography                   2948\n",
      "quantum security tools                 2721\n",
      "quantum control                        2135\n",
      "quantum machine learning               1399\n",
      "quantum communication                  1329\n",
      "quantum algorithms                     1056\n",
      "quantum image processing                968\n",
      "quantum error correction                810\n",
      "quantum signal processing               797\n",
      "quantum distributed computing           648\n",
      "quantum data structures                 523\n",
      "quantum conversion                      475\n",
      "quantum simulation                      415\n",
      "quantum error mitigation                354\n",
      "quantum state tomography                352\n",
      "quantum compilation                     309\n",
      "quantum coherence                       267\n",
      "quantum logic gates                     125\n",
      "quantum computing theory                115\n",
      "quantum software tools                  114\n",
      "quantum visualization tools              83\n",
      "quantum reinforcement learning           60\n",
      "quantum metrology                        58\n",
      "quantum resource theory                  43\n",
      "quantum surface codes                    41\n",
      "quantum noise spectroscopy               39\n",
      "quantum fidelity estimation              31\n",
      "quantum computing in ai                  27\n",
      "quantum thermodynamics                   26\n",
      "quantum information theory               16\n",
      "quantum workforce development             2\n",
      "quantum computational complexity          1\n",
      "Name: count, dtype: int64\n"
     ]
    }
   ],
   "source": [
    "print(df[\"Label\"].value_counts())"
   ]
  },
  {
   "cell_type": "code",
   "execution_count": 28,
   "id": "37639b78-e27d-432d-a6f4-6c51989d697d",
   "metadata": {},
   "outputs": [],
   "source": [
    "data.to_csv(\"patents_labeled.csv\", index=False)"
   ]
  },
  {
   "cell_type": "code",
   "execution_count": null,
   "id": "1e76be5f-658f-4c54-ba1c-a732e53edcf2",
   "metadata": {},
   "outputs": [],
   "source": []
  }
 ],
 "metadata": {
  "kernelspec": {
   "display_name": "Python (CUDA)",
   "language": "python",
   "name": "cuda_env"
  },
  "language_info": {
   "codemirror_mode": {
    "name": "ipython",
    "version": 3
   },
   "file_extension": ".py",
   "mimetype": "text/x-python",
   "name": "python",
   "nbconvert_exporter": "python",
   "pygments_lexer": "ipython3",
   "version": "3.10.18"
  }
 },
 "nbformat": 4,
 "nbformat_minor": 5
}
